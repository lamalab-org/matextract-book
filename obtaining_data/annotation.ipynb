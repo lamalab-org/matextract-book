{
 "cells": [
  {
   "cell_type": "raw",
   "source": [
    "{#sec-annotation}"
   ],
   "metadata": {
    "collapsed": false
   },
   "id": "e0f7e54991d35e04"
  },
  {
   "cell_type": "markdown",
   "source": [
    "### Data annotation\n",
    "\n",
    "For the manual data annotation one should use an automatically processable file format like JSON format, which provides the data in key-value pairs. "
   ],
   "metadata": {
    "collapsed": false
   },
   "id": "93e1ab4b3d759339"
  },
  {
   "cell_type": "code",
   "execution_count": null,
   "outputs": [],
   "source": [
    "{\n",
    "    \"key\": \"value\",\n",
    "    \"key2\": \"value 2\"\n",
    "}"
   ],
   "metadata": {
    "collapsed": false
   },
   "id": "3181e1ba445d5c5e"
  },
  {
   "cell_type": "markdown",
   "source": [
    "Therefore one could store the desired annotated data in an structured form. For example a JSON file of a Buchwald-Hartwig reaction could look like this:"
   ],
   "metadata": {
    "collapsed": false
   },
   "id": "34a0440831ddebf0"
  },
  {
   "cell_type": "code",
   "execution_count": null,
   "outputs": [],
   "source": [
    "{\n",
    "    \"reaction_name\": \"Buchwald-Hartwig reaction\",\n",
    "    \"reactants\": [\n",
    "        \"5-Bromo-m-xylene\",\n",
    "        \"Benzylmethylamine\"\n",
    "    ],\n",
    "    \"catalyst\": [\n",
    "        \"Bis(dibenzylideneacetone)palladium(0)\",\n",
    "        \"Tri(o-tolyl)phosphine\"\n",
    "    ],\n",
    "    \"base\": \"Sodium tert-butoxide\",\n",
    "    \"solvent\": \"Toluene\",\n",
    "    \"temperature\": 65,\n",
    "    \"temperature_unit\": \"°C\",\n",
    "    \"product\": \"N-Benzyl-N-methyl(3,5-xylyl)amine\",\n",
    "    \"yield\": 88\n",
    "}"
   ],
   "metadata": {
    "collapsed": false
   },
   "id": "fb1718446ad10c60"
  },
  {
   "cell_type": "markdown",
   "source": [
    "::: {.callout-tip}\n",
    "## Annotating data\n",
    "\n",
    "The creation of a test and validation set is crucial and can be time-consuming. Therefore, using an automation tool is recommended.\n",
    ":::"
   ],
   "metadata": {
    "collapsed": false
   },
   "id": "f80607f7e41c0f75"
  },
  {
   "cell_type": "markdown",
   "source": [
    "To make the process faster and error-free one could use an annotation tool like [doccano](https://github.com/doccano/doccano#). "
   ],
   "metadata": {
    "collapsed": false
   },
   "id": "5c7f815b76258e42"
  }
 ],
 "metadata": {
  "kernelspec": {
   "display_name": "Python 3",
   "language": "python",
   "name": "python3"
  },
  "language_info": {
   "codemirror_mode": {
    "name": "ipython",
    "version": 2
   },
   "file_extension": ".py",
   "mimetype": "text/x-python",
   "name": "python",
   "nbconvert_exporter": "python",
   "pygments_lexer": "ipython2",
   "version": "2.7.6"
  }
 },
 "nbformat": 4,
 "nbformat_minor": 5
}
