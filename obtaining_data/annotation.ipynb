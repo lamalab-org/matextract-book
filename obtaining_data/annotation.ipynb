{
 "cells": [
  {
   "cell_type": "raw",
   "source": [
    "{#sec-annotation}"
   ],
   "metadata": {
    "collapsed": false
   },
   "id": "e0f7e54991d35e04"
  },
  {
   "cell_type": "markdown",
   "source": [
    "### Data annotation\n",
    "\n",
    "To annotate data tools like doccano can help to speed up the process. To use the doccano tool at first a database and account has to be created."
   ],
   "metadata": {
    "collapsed": false
   },
   "id": "93e1ab4b3d759339"
  },
  {
   "cell_type": "code",
   "execution_count": null,
   "outputs": [],
   "source": [
    "#initialize the database \n",
    "$ doccano init\n",
    "$ doccano createuser --username admin --password pass\n",
    "$ doccano webserver --port 8000\n",
    "\n",
    "#start the annotation task\n",
    "$ doccano task"
   ],
   "metadata": {
    "collapsed": false
   },
   "id": "3181e1ba445d5c5e"
  },
  {
   "cell_type": "markdown",
   "source": [
    "Afterwards one can access the created [database]( http://0.0.0.0:8000), login with the created account and upload the unannotated articles there. After that one can start annotating the dataset with adding relevant labels to the text of the articles."
   ],
   "metadata": {
    "collapsed": false
   },
   "id": "5c7f815b76258e42"
  }
 ],
 "metadata": {
  "kernelspec": {
   "display_name": "Python 3",
   "language": "python",
   "name": "python3"
  },
  "language_info": {
   "codemirror_mode": {
    "name": "ipython",
    "version": 2
   },
   "file_extension": ".py",
   "mimetype": "text/x-python",
   "name": "python",
   "nbconvert_exporter": "python",
   "pygments_lexer": "ipython2",
   "version": "2.7.6"
  }
 },
 "nbformat": 4,
 "nbformat_minor": 5
}
