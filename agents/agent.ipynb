{
 "cells": [
  {
   "cell_type": "markdown",
   "metadata": {},
   "source": [
    "---\n",
    "author: Martiño Ríos García\n",
    "date: 2024-05-17\n",
    "title: 9 | Agents\n",
    "keep-ipynb: True\n",
    "---"
   ]
  },
  {
   "cell_type": "markdown",
   "metadata": {},
   "source": [
    "This notebook has the objective to show how to build LLM agents and how they work. For this practical application we will focus on trying to extract chemical reactions from an image."
   ]
  },
  {
   "cell_type": "markdown",
   "metadata": {},
   "source": [
    "::: {.callout-caution title=\"Installing the packages needed\"}\n",
    "\n",
    "All the dependencies needed to run the Notebooks of the book can be installed by installing the package. This Notebook it is an exception to that because we are going to use a package that need specific dependencies versions. Thus, to install the dependencies that are used in this Notebook, we recommend to execute the next commands in your console: \n",
    "\n",
    "```\n",
    "conda create --name agent_notebook\n",
    "conda activate agent_notebook\n",
    "conda install python=3.8\n",
    "git clone https://github.com/thomas0809/RxnScribe.git\n",
    "cd RxnScribe\n",
    "pip install -e .\n",
    "cd -\n",
    "pip install torch PubChemPy rdkit-pypi matplotlib huggingface-hub python-dotenv langchain langchain-community openai\n",
    "```\n",
    "\n",
    "With this you will be able to run the Notebook.\n",
    ":::"
   ]
  },
  {
   "cell_type": "code",
   "execution_count": 1,
   "metadata": {
    "tags": [
     "hide-cell"
    ]
   },
   "outputs": [],
   "source": [
    "import warnings\n",
    "warnings.filterwarnings('ignore')"
   ]
  },
  {
   "cell_type": "code",
   "execution_count": 2,
   "metadata": {},
   "outputs": [],
   "source": [
    "import os\n",
    "import time\n",
    "import requests\n",
    "import base64\n",
    "\n",
    "import torch\n",
    "import pubchempy as pcp\n",
    "from rxnscribe import RxnScribe\n",
    "from rdkit import Chem  \n",
    "\n",
    "import matplotlib.pyplot as plt \n",
    "from huggingface_hub import hf_hub_download\n",
    "from dotenv import load_dotenv\n",
    "\n",
    "from langchain import hub\n",
    "from langchain.pydantic_v1 import BaseModel, Field\n",
    "from langchain.agents import AgentExecutor\n",
    "from langchain.tools import StructuredTool\n",
    "from langchain.agents.react.agent import create_react_agent\n",
    "from langchain_openai import ChatOpenAI\n",
    "\n",
    "from openai import OpenAI"
   ]
  },
  {
   "cell_type": "code",
   "execution_count": 3,
   "metadata": {
    "tags": [
     "hide-output"
    ]
   },
   "outputs": [
    {
     "data": {
      "text/plain": [
       "True"
      ]
     },
     "execution_count": 3,
     "metadata": {},
     "output_type": "execute_result"
    }
   ],
   "source": [
    "load_dotenv(\".env\", override=True)"
   ]
  },
  {
   "cell_type": "markdown",
   "metadata": {},
   "source": [
    "::: {.column-margin}\n",
    "The *.env* needs to contain your personal OpenAI key. We insist that using the environment variables is the safest way of keeping personal API keys secret.\n",
    ":::"
   ]
  },
  {
   "cell_type": "markdown",
   "metadata": {},
   "source": [
    "For this small demonstration we will use *OpenAI* newest model: *GPT-4o*."
   ]
  },
  {
   "cell_type": "code",
   "execution_count": 4,
   "metadata": {},
   "outputs": [],
   "source": [
    "client = OpenAI()"
   ]
  },
  {
   "cell_type": "code",
   "execution_count": 5,
   "metadata": {},
   "outputs": [],
   "source": [
    "model = \"gpt-4o\""
   ]
  },
  {
   "cell_type": "markdown",
   "metadata": {},
   "source": [
    "The *GPT-4o* model by *OpenAI* as its predecessor, *GPT-4.5 Turbo*, are multimodal models meaning that they can work with multimodal inputs such as text and images. Despite this models work quite well for some tasks, they can not perform that well when the data is very field-specific. To demonstrate this, we are going to provide an image describing a chemical reaction asking the model to extract the information describing the reaction."
   ]
  },
  {
   "cell_type": "markdown",
   "metadata": {},
   "source": [
    "@article{Gibbons2015,\n",
    "  title = {Synthesis of Naamidine A and Selective Access to N2-Acyl-2-aminoimidazole Analogues},\n",
    "  volume = {80},\n",
    "  ISSN = {1520-6904},\n",
    "  url = {http://dx.doi.org/10.1021/acs.joc.5b01703},\n",
    "  DOI = {10.1021/acs.joc.5b01703},\n",
    "  number = {20},\n",
    "  journal = {The Journal of Organic Chemistry},\n",
    "  publisher = {American Chemical Society (ACS)},\n",
    "  author = {Gibbons,  Joseph B. and Salvant,  Justin M. and Vaden,  Rachel M. and Kwon,  Ki-Hyeok and Welm,  Bryan E. and Looper,  Ryan E.},\n",
    "  year = {2015},\n",
    "  month = sep,\n",
    "  pages = {10076–10085}\n",
    "}"
   ]
  },
  {
   "cell_type": "markdown",
   "metadata": {},
   "source": [
    "To do the test we are going to work with an image extracted from a work by Gibbons et al.[@Gibbons2015]."
   ]
  },
  {
   "cell_type": "code",
   "execution_count": 6,
   "metadata": {},
   "outputs": [],
   "source": [
    "image_file = \"acs.joc.5b01703-Scheme-c1.png\""
   ]
  },
  {
   "cell_type": "markdown",
   "metadata": {},
   "source": [
    "![Figure taken from a published article by Gibbons et al.[@Gibbons2015] illustrating the synthesis of Naamine A(8) via an addition−hydroamination−isomerization sequenceutilizing the propargylcyanamide 7.](acs.joc.5b01703-Scheme-c1.png)"
   ]
  },
  {
   "cell_type": "markdown",
   "metadata": {},
   "source": [
    "To pass the image to the model through the prompt, the image needs to be encoded. To do that we use the function that [*OpenAI* propose in their vision guidelines](https://platform.openai.com/docs/guides/vision)."
   ]
  },
  {
   "cell_type": "code",
   "execution_count": 7,
   "metadata": {},
   "outputs": [],
   "source": [
    "# Function to encode the image\n",
    "def encode_image(image_path):\n",
    "  with open(image_path, \"rb\") as image_file:\n",
    "    return base64.b64encode(image_file.read()).decode(\"utf-8\")\n",
    "      \n",
    "# Getting the base64 string\n",
    "base64_image = encode_image(image_file)"
   ]
  },
  {
   "cell_type": "markdown",
   "metadata": {},
   "source": [
    "After that, we generate the prompt using the function just defined to encode the image."
   ]
  },
  {
   "cell_type": "code",
   "execution_count": 8,
   "metadata": {},
   "outputs": [],
   "source": [
    "messages = [\n",
    "    {\n",
    "        \"role\": \"system\",\n",
    "        \"content\": \"You are a chemistry expert assistant and your task is to extract information about chemical reactions from images.\"\n",
    "    },\n",
    "    {\n",
    "        \"role\": \"user\",\n",
    "        \"content\": [\n",
    "            {\"type\": \"text\", \"text\": \"Please extract all the information from the next image containing a chemical reaction.\"},\n",
    "            {\n",
    "              \"type\": \"image_url\",\n",
    "              \"image_url\": {\n",
    "                \"url\": f\"data:image/jpeg;base64,{base64_image}\",\n",
    "                },\n",
    "            },\n",
    "        ],\n",
    "    },\n",
    "]"
   ]
  },
  {
   "cell_type": "markdown",
   "metadata": {},
   "source": [
    "And we do the completion using the *OpenAI* API."
   ]
  },
  {
   "cell_type": "code",
   "execution_count": 9,
   "metadata": {},
   "outputs": [],
   "source": [
    "response = client.chat.completions.create(\n",
    "  model=model,\n",
    "  messages=messages,\n",
    ")"
   ]
  },
  {
   "cell_type": "code",
   "execution_count": 10,
   "metadata": {},
   "outputs": [
    {
     "data": {
      "text/plain": [
       "Choice(finish_reason='stop', index=0, logprobs=None, message=ChatCompletionMessage(content='The image contains a stepwise chemical reaction sequence involving a series of transformations leading to the synthesis of several compounds, including naamidine A. Here are the details:\\n\\nStarting Compound:\\n\\\\[ \\\\text{Compound } 7 \\\\]\\n- Structure: \\n  - Contains a benzyl-protected phenol group.\\n  - An alkyne with a methoxy phenyl group.\\n  - An imine group with a methyl substituent.\\n\\n#### Reactions:\\n\\n1. **First Step:**\\n   - Reagent: La(OTf)\\\\(_3\\\\) \\n   - Yield: 76%\\n   - Product: Intermediate structure (not explicitly shown).\\n\\n2. **Second Step:**\\n   - Reagents: \\n     - HCl \\n     - JandaJel-NH2, EtOH\\n   - Yield: 70%\\n   - Product: Intermediate compound \\n     - [Not explicitly named]\\n\\n3. **Third Step:**\\n   - Reagent: Pd/C, H\\\\(_2\\\\)\\n   - Yield: 63%\\n   - Products:\\n     - **Compound 8:**\\n       - Structure: \\n         - A phenyl group with an OH substitution (R1 = OH).\\n         - Methoxy phenyl group (R2 = OMe).\\n         - Imidazole derivative.\\n     - Also identified as naamine A.\\n     - **Compound 9:**\\n       - Structure:\\n         - A phenyl group (R1 = H).\\n         - Hydrogen (R2).\\n         - Imidazole derivative.\\n         - Labelled as compound 5 in another work.\\n\\n4. **Problematic Acylation:**\\n   - Reagents:\\n     - Acyl chloride with a fluorine substituent.\\n     - Et\\\\(_3\\\\)N (triethylamine).\\n     - Solvent: CH\\\\(_2\\\\)Cl\\\\(_2\\\\) (dichloromethane).\\n   - Products:\\n     - **Compound 10:**\\n       - Structure: \\n         - Contains an acylated imidazole core.\\n         - Benzyl substituents on imidazole.\\n         - A fluorobenzoyl group.\\n     - **Compound 11:**\\n       - Structure: \\n         - Dimer formation.\\n         - Two fluorobenzoyl groups.\\n     - Ratio: 1:2 mono to di acylation.\\n\\n5. **Final Step:**\\n   - Reagents:\\n     - TMS (Trimethylsilyl).\\n     - Heating to 110°C.\\n   - Solvent: PhMe (Toluene).\\n   - Yield: 82%\\n   - Reference: Ohta, Watson, Lovely.\\n   - Product:\\n     - **Compound 6:**\\n       - Structure:\\n         - Methoxy-substituted phenyl group.\\n         - Hydroxy-substituted phenyl group.\\n         - Imidazole derivative.\\n       - Also identified as naamidine A.\\n\\nOverall, the sequence begins with compound 7, undergoes multiple transformations, including acylation and hydrogenation, to form various products, some identified as known naamine derivatives and naamidine A (compound 6).', role='assistant', function_call=None, tool_calls=None))"
      ]
     },
     "execution_count": 10,
     "metadata": {},
     "output_type": "execute_result"
    }
   ],
   "source": [
    "response.choices[0]"
   ]
  },
  {
   "cell_type": "markdown",
   "metadata": {},
   "source": [
    "It is possible to see that even such a recent and powerful multimodal model has not much clue about what is going on. Specially extracting the molecules characterized as chemical representations.\n",
    "\n",
    "But luckily, some tools were developed to extract this information from the images."
   ]
  },
  {
   "cell_type": "markdown",
   "metadata": {},
   "source": [
    "One of these tools is *RxnScribe* developed by Qian et al.[@RxnScribe]. This tool can extract chemical reactions from images. So, we will use it as a tool given to an agent that we create bellow. With this and other tools, we will try that the model can extract information such as the IUPAC name and the InChI representation for the reactants involved in the reaction."
   ]
  },
  {
   "cell_type": "markdown",
   "metadata": {},
   "source": [
    "@article{RxnScribe,\n",
    "    author = {Qian, Yujie and Guo, Jiang and Tu, Zhengkai and Coley, Connor W. and Barzilay, Regina},\n",
    "    title = {RxnScribe: A Sequence Generation Model for Reaction Diagram Parsing},\n",
    "    journal = {Journal of Chemical Information and Modeling},\n",
    "    doi = {10.1021/acs.jcim.3c00439}\n",
    "}"
   ]
  },
  {
   "cell_type": "code",
   "execution_count": 11,
   "metadata": {},
   "outputs": [],
   "source": [
    "# Define a class to describe the input to the tool\n",
    "class ExtractionInput(BaseModel):\n",
    "    image_path: str = Field(description=\"Path to the image-file that contain the reaction\")\n",
    "\n",
    "# Define the function that will do the reaction extraction.\n",
    "def extractor(image_path:str) -> list:\n",
    "    ckpt_path = hf_hub_download(\"yujieq/RxnScribe\", \"pix2seq_reaction_full.ckpt\")\n",
    "    model = RxnScribe(ckpt_path, device=torch.device(\"cuda\"))\n",
    "    results = model.predict_image_file(image_file, molscribe=True, ocr=True)\n",
    "\n",
    "    # Clean the output to reduce the number of tokens\n",
    "    for result in results:\n",
    "        for key, value in result.items():\n",
    "            for v in value:\n",
    "                if 'molfile' in v:\n",
    "                    v.pop('molfile')\n",
    "    return results\n",
    "                \n",
    "# Describe the tool for the model\n",
    "image_extractor = StructuredTool.from_function(\n",
    "    func=extractor,\n",
    "    name=\"Reaction extractor\",\n",
    "    description=\"Extract chemical reactions information such as reactants, products and catalysts from images\",\n",
    "    args_schema=ExtractionInput,\n",
    ")"
   ]
  },
  {
   "cell_type": "markdown",
   "metadata": {},
   "source": [
    "::: {.column-margin}\n",
    "To create the model we use the *LangChain* package that allows to create an agent in a few lines of code. However, this is done because it better fits in the purpose of this Notebook. But we point as in the article, that building an agent without these frameworks such as LangChain and LlamaIndex is feasible and will offer more clarity and flexibility to the process.\n",
    ":::\n",
    "::: {.column-margin}\n",
    "Note that before returning the output from the RxnScribe tool, we \"pop\" some elements from it. This is simply because those elements are quite big, and since we are not going to need them, we will save some tokens.\n",
    ":::"
   ]
  },
  {
   "cell_type": "markdown",
   "metadata": {},
   "source": [
    "If we print the variable containing the tool, we will be able to see what is going to be passed to the agent."
   ]
  },
  {
   "cell_type": "code",
   "execution_count": 12,
   "metadata": {},
   "outputs": [
    {
     "name": "stdout",
     "output_type": "stream",
     "text": [
      "Reaction extractor\n",
      "Extract chemical reactions information such as reactants, products and catalysts from images\n",
      "{'image_path': {'title': 'Image Path', 'description': 'Path to the image-file that contain the reaction', 'type': 'string'}}\n",
      "False\n"
     ]
    }
   ],
   "source": [
    "print(image_extractor.name)\n",
    "print(image_extractor.description)\n",
    "print(image_extractor.args)\n",
    "print(image_extractor.return_direct)"
   ]
  },
  {
   "cell_type": "markdown",
   "metadata": {},
   "source": [
    "Similarly we can define another tools for helping the agent to go from SMILES to InChI and to IUPAC name."
   ]
  },
  {
   "cell_type": "code",
   "execution_count": 13,
   "metadata": {},
   "outputs": [],
   "source": [
    "class ChemicalTools(BaseModel):\n",
    "    smiles: str = Field(description=\"SMILES representation for the molecule\")\n",
    "\n",
    "def smiles_to_inchi(smiles:str) -> str:\n",
    "    molecule = Chem.MolFromSmiles(smiles)\n",
    "    return Chem.MolToInchi(molecule)\n",
    "\n",
    "CACTUS = \"https://cactus.nci.nih.gov/chemical/structure/{0}/{1}\"\n",
    "\n",
    "def smiles_to_iupac(smiles:str) -> str:\n",
    "    \"\"\"\n",
    "    Use the chemical name resolver https://cactus.nci.nih.gov/chemical/structure. \n",
    "    If this does not work, use pubchem.\n",
    "    \"\"\"\n",
    "    try:\n",
    "        time.sleep(0.001)\n",
    "        rep = \"iupac_name\"\n",
    "        url = CACTUS.format(smiles, rep)\n",
    "        response = requests.get(url, allow_redirects=True, timeout=10)\n",
    "        response.raise_for_status()\n",
    "        name = response.text\n",
    "        if \"html\" in name:\n",
    "            return None\n",
    "        return name\n",
    "    except Exception:\n",
    "        try:\n",
    "            compound = pcp.get_compounds(smiles, \"smiles\")\n",
    "            return compound[0].iupac_name\n",
    "        except Exception:\n",
    "            return None\n",
    "\n",
    "smiles_to_inchi_converter = StructuredTool.from_function(\n",
    "    func=smiles_to_inchi,\n",
    "    name=\"Smiles to InChI\",\n",
    "    description=\"Return the inchi representation of the given smiles representation\",\n",
    "    args_schema=ChemicalTools,\n",
    ")\n",
    "\n",
    "smiles_to_iupac_converter = StructuredTool.from_function(\n",
    "    func=smiles_to_iupac,\n",
    "    name=\"Smiles to IUPAC\",\n",
    "    description=\"Return the iupac name of the given smiles representation\",\n",
    "    args_schema=ChemicalTools,\n",
    ")"
   ]
  },
  {
   "cell_type": "markdown",
   "metadata": {},
   "source": [
    "Once we defined all the tools, we create a list that is going to be passed to the agent indicating which tools it has available."
   ]
  },
  {
   "cell_type": "code",
   "execution_count": 14,
   "metadata": {},
   "outputs": [],
   "source": [
    "tools = [image_extractor, smiles_to_inchi_converter, smiles_to_iupac_converter]"
   ]
  },
  {
   "cell_type": "markdown",
   "metadata": {},
   "source": [
    "After creating and defining the tools, we can start to construct the agent itself starting by defining the model to use. For the agent we will use the *GPT-4o* model as well."
   ]
  },
  {
   "cell_type": "code",
   "execution_count": 15,
   "metadata": {},
   "outputs": [],
   "source": [
    "llm = ChatOpenAI(\n",
    "    temperature=0,\n",
    "    model_name=\"gpt-4o\",\n",
    "    request_timeout=1000,\n",
    "    streaming='False',\n",
    ")"
   ]
  },
  {
   "cell_type": "markdown",
   "metadata": {},
   "source": [
    "Then we define the prompt, the agent and what it is called by *LangChain* as the \"*chain*\"."
   ]
  },
  {
   "cell_type": "markdown",
   "metadata": {},
   "source": [
    "::: {.callout-tip title=\"ReAct prompt used\" collapse=\"true\"}\n",
    "Answer the following questions as best you can. You have access to the following tools:\n",
    "\n",
    "{tools}\n",
    "\n",
    "Use the following format:\n",
    "\n",
    "Question: the input question you must answer\n",
    "Thought: you should always think about what to do\n",
    "Action: the action to take, should be one of [{tool_names}]\n",
    "Action Input: the input to the action\n",
    "Observation: the result of the action\n",
    "... (this Thought/Action/Action Input/Observation can repeat N times)\n",
    "Thought: I now know the final answer\n",
    "Final Answer: the final answer to the original input question\n",
    "\n",
    "Begin!\n",
    "\n",
    "Question: {input}\n",
    "Thought:{agent_scratchpad}\n",
    ":::"
   ]
  },
  {
   "cell_type": "code",
   "execution_count": 16,
   "metadata": {},
   "outputs": [],
   "source": [
    "# Import the ReAct prompt from the hub.\n",
    "prompt = hub.pull(\"hwchase17/react\")\n",
    "# Construct the ReAct agent\n",
    "agent = create_react_agent(llm, tools, prompt)\n",
    "# Define the chain for the agent.\n",
    "agent_executor = AgentExecutor(\n",
    "    agent=agent, \n",
    "    tools=tools,\n",
    "    verbose=True,\n",
    ")"
   ]
  },
  {
   "cell_type": "markdown",
   "metadata": {},
   "source": [
    "The last step before calling the agent is to define the query that we want the agent to solve."
   ]
  },
  {
   "cell_type": "code",
   "execution_count": 17,
   "metadata": {},
   "outputs": [],
   "source": [
    "query = f\"I want the iupac name, the smiles and the inchi representations for all the reactants of the reaction contained in the image: {image_file}\""
   ]
  },
  {
   "cell_type": "markdown",
   "metadata": {},
   "source": [
    "And finally we run the agent."
   ]
  },
  {
   "cell_type": "code",
   "execution_count": 19,
   "metadata": {},
   "outputs": [
    {
     "name": "stdout",
     "output_type": "stream",
     "text": [
      "\n",
      "\n",
      "\u001b[1m> Entering new AgentExecutor chain...\u001b[0m\n",
      "\u001b[32;1m\u001b[1;3mTo answer this question, I need to extract the chemical reactions information from the provided image, and then convert the SMILES representations of the reactants to their IUPAC names and InChI representations.\n",
      "\n",
      "Action: Reaction extractor\n",
      "Action Input: \"RxnScribe/assets/acs.joc.5b01703-Scheme-c1.png\"\u001b[0m\u001b[36;1m\u001b[1;3m[{'reactants': [{'category': '[Mol]', 'bbox': (0.0050025012506253125, 0.0168063706650073, 0.3171585792896448, 0.2835397373483489), 'category_id': 1, 'smiles': 'COc1ccc(C#CC(Cc2ccc(OCc3ccccc3)cc2)N(C)C#N)cc1'}], 'conditions': [{'category': '[Txt]', 'bbox': (0.3536768384192096, 0.02385420352452649, 0.37868934467233617, 0.05421409891937838), 'category_id': 2, 'text': []}, {'category': '[Mol]', 'bbox': (0.3646823411705853, 0.0016264229675813516, 0.5147573786893447, 0.11222318476311326), 'category_id': 1, 'smiles': 'C1CC2(CCN1)OCCO2'}, {'category': '[Txt]', 'bbox': (0.36368184092046024, 0.11276532575230705, 0.536768384192096, 0.14963091301748435), 'category_id': 2, 'text': ['La(OTf)a (76%)']}, {'category': '[Txt]', 'bbox': (0.35917958979489745, 0.16535300170410408, 0.5292646323161581, 0.3388381182461149), 'category_id': 2, 'text': ['2', 'HCI then', \"JandaJel-NHz'\", 'EtOH, (70%)', '3_', '10% PdIC ', 'Hz (63%)']}], 'products': [{'category': '[Mol]', 'bbox': (0.6118059029514757, 0.0065056918703254064, 0.8839419709854928, 0.26727550767253544), 'category_id': 1, 'smiles': '[1*]c1ccc(Cc2c(Cc3ccc([2*])cc3)nc(N)n2C)cc1'}]}, {'reactants': [{'category': '[Mol]', 'bbox': (0.6118059029514757, 0.0065056918703254064, 0.8839419709854928, 0.26727550767253544), 'category_id': 1, 'smiles': '[1*]c1ccc(Cc2c(Cc3ccc([2*])cc3)nc(N)n2C)cc1'}], 'conditions': [{'category': '[Txt]', 'bbox': (0.0, 0.3681137316625792, 0.2706353176588294, 0.40606360090614413), 'category_id': 2, 'text': ['Problematic acylation']}, {'category': '[Mol]', 'bbox': (0.12006003001500751, 0.4055214599169503, 0.2691345672836418, 0.5481045400749155), 'category_id': 1, 'smiles': 'O=C(Cl)c1ccccc1F'}, {'category': '[Idt]', 'bbox': (0.11505752876438219, 0.5540680909560471, 0.2691345672836418, 0.5941865241563871), 'category_id': 3, 'text': ['EtzN, CHzClz']}], 'products': [{'category': '[Mol]', 'bbox': (0.010505252626313157, 0.6288835474647892, 0.29364682341170584, 0.9064597339320065), 'category_id': 1, 'smiles': 'Cn1c(Cc2ccccc2)c(Cc2ccccc2)[nH]/c1=N\\\\C(=O)c1ccccc1F'}, {'category': '[Mol]', 'bbox': (0.2991495747873937, 0.6212935736160763, 0.6283141570785392, 0.888026940299418), 'category_id': 1, 'smiles': 'Cn1c(N(C(=O)c2ccccc2F)C(=O)c2ccccc2F)nc(Cc2ccccc2)c1Cc1ccccc1'}]}, {'reactants': [{'category': '[Mol]', 'bbox': (0.6118059029514757, 0.0065056918703254064, 0.8839419709854928, 0.26727550767253544), 'category_id': 1, 'smiles': '[1*]c1ccc(Cc2c(Cc3ccc([2*])cc3)nc(N)n2C)cc1'}], 'conditions': [{'category': '[Mol]', 'bbox': (0.8074037018509255, 0.31769461966755735, 1.0, 0.4787104934581112), 'category_id': 1, 'smiles': 'CN1C(=O)C(=O)N([Si](C)(C)C)C1=O'}, {'category': '[Txt]', 'bbox': (0.8339169584792396, 0.48575832631763033, 1.0, 0.5508152450208844), 'category_id': 2, 'text': ['PhMe, 110 *€', '(82%)']}, {'category': '[Txt]', 'bbox': (0.8339169584792396, 0.5611159238155663, 1.0, 0.6240042785620452), 'category_id': 2, 'text': ['Ohta, Watson,', 'Lovely']}], 'products': [{'category': '[Mol]', 'bbox': (0.6533266633316658, 0.6158721637241384, 0.9789894947473737, 0.9059175929428128), 'category_id': 1, 'smiles': 'COc1ccc(Cc2[nH]/c(=N\\\\C3=NC(=O)N(C)C3=O)n(C)c2Cc2ccc(O)cc2)cc1'}]}]\u001b[0m\u001b[32;1m\u001b[1;3mThe extracted information contains several reactions. I will focus on the first reaction to provide the IUPAC name, SMILES, and InChI representations for all the reactants.\n",
      "\n",
      "The first reaction has the following reactants:\n",
      "1. SMILES: `COc1ccc(C#CC(Cc2ccc(OCc3ccccc3)cc2)N(C)C#N)cc1`\n",
      "2. SMILES: `C1CC2(CCN1)OCCO2`\n",
      "\n",
      "I will now convert these SMILES representations to their IUPAC names and InChI representations.\n",
      "\n",
      "### Reactant 1\n",
      "Action: Smiles to IUPAC\n",
      "Action Input: \"COc1ccc(C#CC(Cc2ccc(OCc3ccccc3)cc2)N(C)C#N)cc1\"\u001b[0m\u001b[38;5;200m\u001b[1;3m[4-(4-methoxyphenyl)-1-(4-phenylmethoxyphenyl)but-3-yn-2-yl]-methylcyanamide\u001b[0m\u001b[32;1m\u001b[1;3m### Reactant 1\n",
      "Action: Smiles to InChI\n",
      "Action Input: \"COc1ccc(C#CC(Cc2ccc(OCc3ccccc3)cc2)N(C)C#N)cc1\"\u001b[0m\u001b[33;1m\u001b[1;3mInChI=1S/C26H24N2O2/c1-28(20-27)24(13-8-21-9-14-25(29-2)15-10-21)18-22-11-16-26(17-12-22)30-19-23-6-4-3-5-7-23/h3-7,9-12,14-17,24H,18-19H2,1-2H3\u001b[0m\u001b[32;1m\u001b[1;3m### Reactant 2\n",
      "Action: Smiles to IUPAC\n",
      "Action Input: \"C1CC2(CCN1)OCCO2\"\u001b[0m\u001b[38;5;200m\u001b[1;3m1,4-dioxa-8-azaspiro[4.5]decane\u001b[0m\u001b[32;1m\u001b[1;3m### Reactant 2\n",
      "Action: Smiles to InChI\n",
      "Action Input: \"C1CC2(CCN1)OCCO2\"\u001b[0m\u001b[33;1m\u001b[1;3mInChI=1S/C7H13NO2/c1-3-8-4-2-7(1)9-5-6-10-7/h8H,1-6H2\u001b[0m\u001b[32;1m\u001b[1;3mI now have the IUPAC names, SMILES, and InChI representations for all the reactants of the first reaction in the provided image.\n",
      "\n",
      "### Reactant 1\n",
      "- **SMILES**: `COc1ccc(C#CC(Cc2ccc(OCc3ccccc3)cc2)N(C)C#N)cc1`\n",
      "- **IUPAC Name**: [4-(4-methoxyphenyl)-1-(4-phenylmethoxyphenyl)but-3-yn-2-yl]-methylcyanamide\n",
      "- **InChI**: InChI=1S/C26H24N2O2/c1-28(20-27)24(13-8-21-9-14-25(29-2)15-10-21)18-22-11-16-26(17-12-22)30-19-23-6-4-3-5-7-23/h3-7,9-12,14-17,24H,18-19H2,1-2H3\n",
      "\n",
      "### Reactant 2\n",
      "- **SMILES**: `C1CC2(CCN1)OCCO2`\n",
      "- **IUPAC Name**: 1,4-dioxa-8-azaspiro[4.5]decane\n",
      "- **InChI**: InChI=1S/C7H13NO2/c1-3-8-4-2-7(1)9-5-6-10-7/h8H,1-6H2\n",
      "\n",
      "Final Answer:\n",
      "- **Reactant 1**:\n",
      "  - **SMILES**: `COc1ccc(C#CC(Cc2ccc(OCc3ccccc3)cc2)N(C)C#N)cc1`\n",
      "  - **IUPAC Name**: [4-(4-methoxyphenyl)-1-(4-phenylmethoxyphenyl)but-3-yn-2-yl]-methylcyanamide\n",
      "  - **InChI**: InChI=1S/C26H24N2O2/c1-28(20-27)24(13-8-21-9-14-25(29-2)15-10-21)18-22-11-16-26(17-12-22)30-19-23-6-4-3-5-7-23/h3-7,9-12,14-17,24H,18-19H2,1-2H3\n",
      "\n",
      "- **Reactant 2**:\n",
      "  - **SMILES**: `C1CC2(CCN1)OCCO2`\n",
      "  - **IUPAC Name**: 1,4-dioxa-8-azaspiro[4.5]decane\n",
      "  - **InChI**: InChI=1S/C7H13NO2/c1-3-8-4-2-7(1)9-5-6-10-7/h8H,1-6H2\u001b[0m\n",
      "\n",
      "\u001b[1m> Finished chain.\u001b[0m\n"
     ]
    },
    {
     "data": {
      "text/plain": [
       "{'input': 'I want the iupac name, the smiles and the inchi representations for all the reactants of the reaction contained in the image: RxnScribe/assets/acs.joc.5b01703-Scheme-c1.png',\n",
       " 'output': '- **Reactant 1**:\\n  - **SMILES**: `COc1ccc(C#CC(Cc2ccc(OCc3ccccc3)cc2)N(C)C#N)cc1`\\n  - **IUPAC Name**: [4-(4-methoxyphenyl)-1-(4-phenylmethoxyphenyl)but-3-yn-2-yl]-methylcyanamide\\n  - **InChI**: InChI=1S/C26H24N2O2/c1-28(20-27)24(13-8-21-9-14-25(29-2)15-10-21)18-22-11-16-26(17-12-22)30-19-23-6-4-3-5-7-23/h3-7,9-12,14-17,24H,18-19H2,1-2H3\\n\\n- **Reactant 2**:\\n  - **SMILES**: `C1CC2(CCN1)OCCO2`\\n  - **IUPAC Name**: 1,4-dioxa-8-azaspiro[4.5]decane\\n  - **InChI**: InChI=1S/C7H13NO2/c1-3-8-4-2-7(1)9-5-6-10-7/h8H,1-6H2'}"
      ]
     },
     "execution_count": 19,
     "metadata": {},
     "output_type": "execute_result"
    }
   ],
   "source": [
    "agent_executor.invoke({\"input\": query})"
   ]
  },
  {
   "cell_type": "markdown",
   "metadata": {},
   "source": [
    "It is possible to observe that the agent reason correctly to first use the tool to extract the information from the image, and then it converts the SMILES into InChI representations and IUPAC names."
   ]
  }
 ],
 "metadata": {
  "kernelspec": {
   "display_name": "Python 3 (ipykernel)",
   "language": "python",
   "name": "python3"
  },
  "language_info": {
   "codemirror_mode": {
    "name": "ipython",
    "version": 3
   },
   "file_extension": ".py",
   "mimetype": "text/x-python",
   "name": "python",
   "nbconvert_exporter": "python",
   "pygments_lexer": "ipython3",
   "version": "3.8.0"
  }
 },
 "nbformat": 4,
 "nbformat_minor": 4
}
