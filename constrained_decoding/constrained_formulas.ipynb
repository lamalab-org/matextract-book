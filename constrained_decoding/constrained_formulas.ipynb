{
 "cells": [
  {
   "cell_type": "markdown",
   "metadata": {},
   "source": [
    "# Ensuring correctness of formulas "
   ]
  },
  {
   "cell_type": "markdown",
   "metadata": {},
   "source": [
    "::: {.callout-note title=\"Motivation\"}\n",
    "Here we want to generate an output that will allow us to train a composition-property prediction model.\n",
    "\n",
    "- We want to ensure that the output formulas retrieved can be parsed into a pymatgen `Composition` object. This is important to be able to reuse the extracted data with popular packages for these tasks, such as those leading in [MatBench](https://hackingmaterials.lbl.gov/matbench/).\n",
    "- We want to ensure that the formulas fulfill the criteria of charge balance, so the stoichiometry is correct.\n",
    "- We want to focus on a given class of materials, in this case, chalcogenide perovskite-based semiconductors.\n",
    ":::"
   ]
  },
  {
   "cell_type": "code",
   "execution_count": null,
   "metadata": {},
   "outputs": [],
   "source": [
    "! pip install smact"
   ]
  },
  {
   "cell_type": "markdown",
   "metadata": {},
   "source": [
    "Example of creating a list of all ternary Ba-Zr-S compounds in which their stoichiometry fullfills the charge balance criteria. We will use for this the [SMACT](https://smact.readthedocs.io/en/latest/) package."
   ]
  },
  {
   "cell_type": "code",
   "execution_count": 66,
   "metadata": {},
   "outputs": [
    {
     "name": "stdout",
     "output_type": "stream",
     "text": [
      "Time taken to generate list:  0:00:01.614377\n",
      "Number of compositions: --> 52 <--\n",
      "Each list entry looks like this:\n",
      "  elements, oxidation states, stoichiometries\n",
      "(('Sr', 'Ba', 'S'), (1, 2, -2), (2, 1, 2))\n",
      "(('Sr', 'Ba', 'S'), (1, 2, -2), (2, 2, 3))\n",
      "(('Sr', 'Ba', 'S'), (1, 2, -2), (2, 3, 4))\n",
      "(('Sr', 'Ba', 'S'), (1, 2, -2), (2, 4, 5))\n",
      "(('Sr', 'Ba', 'S'), (1, 2, -2), (2, 5, 6))\n",
      "Each list entry now looks like this: \n",
      "Ba(SrS)2\n",
      "Ba2Sr2S3\n",
      "Ba3(SrS2)2\n",
      "Ba4Sr2S5\n",
      "Ba5(SrS3)2\n",
      "  pretty_formula\n",
      "0       Ba(SrS)2\n",
      "1       Ba2Sr2S3\n",
      "2     Ba3(SrS2)2\n",
      "3       Ba4Sr2S5\n",
      "4     Ba5(SrS3)2\n"
     ]
    }
   ],
   "source": [
    "# Imports\n",
    "import itertools\n",
    "import multiprocessing\n",
    "from datetime import datetime\n",
    "\n",
    "from smact import Element, element_dictionary, ordered_elements\n",
    "from smact.screening import smact_filter\n",
    "\n",
    "# Define the elements we are interested in\n",
    "element_symbols = ['Sr', 'Ba']\n",
    "all_el = element_dictionary()  # A dictionary of all element objects\n",
    "\n",
    "# Retrieve element objects\n",
    "els = [all_el[symbol] for symbol in element_symbols]\n",
    "\n",
    "# Generate all combinations of the elements with S and Se\n",
    "combinations = itertools.combinations(els, 2)\n",
    "sulfides_selenides = [(*pair, all_el['S']) for pair in combinations]\n",
    "\n",
    "# Filter the compositions using smact_filter\n",
    "start = datetime.now()\n",
    "if __name__ == \"__main__\":\n",
    "    with multiprocessing.Pool(processes=4) as p:\n",
    "        result = p.map(smact_filter, sulfides_selenides)\n",
    "print(f\"Time taken to generate list:  {datetime.now() - start}\")\n",
    "\n",
    "# Flatten the list of lists\n",
    "flat_list = [item for sublist in result for item in sublist]\n",
    "\n",
    "# Print the number of compositions and a few examples\n",
    "print(f\"Number of compositions: --> {len(flat_list)} <--\")\n",
    "print(\"Each list entry looks like this:\\n  elements, oxidation states, stoichiometries\")\n",
    "for i in flat_list[:5]:\n",
    "    print(i)\n",
    "\n",
    "# Convert compositions to reduced formulas using pymatgen\n",
    "from pymatgen.core import Composition\n",
    "\n",
    "def comp_maker(comp):\n",
    "    form = []\n",
    "    for el, ammt in zip(comp[0], comp[2]):\n",
    "        form.append(el)\n",
    "        form.append(ammt)\n",
    "    form = \"\".join(str(e) for e in form)\n",
    "    pmg_form = Composition(form).reduced_formula\n",
    "    return pmg_form\n",
    "\n",
    "\n",
    "pretty_formulas = [comp_maker(comp) for comp in flat_list]\n",
    "\n",
    "print(\"Each list entry now looks like this: \")\n",
    "for i in pretty_formulas[:5]:\n",
    "    print(i)\n",
    "\n",
    "# Store the results in a pandas DataFrame\n",
    "import pandas as pd\n",
    "\n",
    "new_data = pd.DataFrame({\"pretty_formula\": pretty_formulas})\n",
    "# Drop any duplicate compositions\n",
    "new_data = new_data.drop_duplicates(subset=\"pretty_formula\")\n",
    "new_data.describe()\n",
    "\n",
    "# Display the dataframe\n",
    "print(new_data.head())\n"
   ]
  },
  {
   "cell_type": "markdown",
   "metadata": {},
   "source": [
    "## Targeting Chalcogenide Perovskites \n",
    "\n",
    "We want to constrain our language model to output formulas that follow certain chemical and structural criteria. In this case, we are looking for chalcogenide perovskite-based semiconductors.\n",
    "\n",
    "The perovskite structure is defined based on the mineral CaTiO3. Perovskite structures must exhibit close structural similarity to this archetype. Bretterniz and Schorr have clarified a [set of criteria](https://doi.org/10.1002/aenm.201802366) to determine whether a material should be called perovskite.\n",
    "\n",
    "Key criteria include:\n",
    "1. **Stoichiometry**: ABX3, or at least an A:B:X ratio of 1:1:3.\n",
    "2. **B-cation Coordination**: Octahedral (or distorted octahedra) coordination.\n",
    "3. **3D Network**: The [BX6] octahedra should form an all-corner-sharing 3D network.\n"
   ]
  },
  {
   "cell_type": "markdown",
   "metadata": {},
   "source": []
  },
  {
   "cell_type": "code",
   "execution_count": 82,
   "metadata": {},
   "outputs": [
    {
     "name": "stdout",
     "output_type": "stream",
     "text": [
      "[]\n",
      "[(('Sr', 'Hf', 'S'), (2, 4, -2), (1, 1, 3))]\n",
      "[(('Sr', 'Zr', 'S'), (2, 4, -2), (1, 1, 3))]\n",
      "[]\n",
      "[(('Sr', 'Ti', 'S'), (2, 4, -2), (1, 1, 3))]\n",
      "[(('Ba', 'Hf', 'S'), (2, 4, -2), (1, 1, 3))]\n",
      "[(('Ba', 'Zr', 'S'), (2, 4, -2), (1, 1, 3))]\n",
      "[]\n",
      "[(('Ba', 'Ti', 'S'), (2, 4, -2), (1, 1, 3))]\n",
      "[(('Hf', 'Zr', 'S'), (4, 2, -2), (1, 1, 3))]\n",
      "[(('Hf', 'Eu', 'S'), (4, 2, -2), (1, 1, 3))]\n",
      "[(('Hf', 'Ti', 'S'), (4, 2, -2), (1, 1, 3))]\n",
      "[(('Zr', 'Eu', 'S'), (3, 3, -2), (1, 1, 3)), (('Zr', 'Eu', 'S'), (4, 2, -2), (1, 1, 3))]\n",
      "[(('Zr', 'Ti', 'S'), (2, 4, -2), (1, 1, 3)), (('Zr', 'Ti', 'S'), (3, 3, -2), (1, 1, 3)), (('Zr', 'Ti', 'S'), (4, 2, -2), (1, 1, 3))]\n",
      "[(('Eu', 'Ti', 'S'), (2, 4, -2), (1, 1, 3)), (('Eu', 'Ti', 'S'), (3, 3, -2), (1, 1, 3))]\n",
      "[(('Sr', 'Hf', 'S'), (2, 4, -2), (1, 1, 3)), (('Sr', 'Zr', 'S'), (2, 4, -2), (1, 1, 3)), (('Sr', 'Ti', 'S'), (2, 4, -2), (1, 1, 3)), (('Ba', 'Hf', 'S'), (2, 4, -2), (1, 1, 3)), (('Ba', 'Zr', 'S'), (2, 4, -2), (1, 1, 3)), (('Ba', 'Ti', 'S'), (2, 4, -2), (1, 1, 3)), (('Hf', 'Zr', 'S'), (4, 2, -2), (1, 1, 3)), (('Hf', 'Eu', 'S'), (4, 2, -2), (1, 1, 3)), (('Hf', 'Ti', 'S'), (4, 2, -2), (1, 1, 3)), (('Zr', 'Eu', 'S'), (3, 3, -2), (1, 1, 3)), (('Zr', 'Eu', 'S'), (4, 2, -2), (1, 1, 3)), (('Zr', 'Ti', 'S'), (2, 4, -2), (1, 1, 3)), (('Zr', 'Ti', 'S'), (3, 3, -2), (1, 1, 3)), (('Zr', 'Ti', 'S'), (4, 2, -2), (1, 1, 3)), (('Eu', 'Ti', 'S'), (2, 4, -2), (1, 1, 3)), (('Eu', 'Ti', 'S'), (3, 3, -2), (1, 1, 3))]\n"
     ]
    }
   ],
   "source": [
    "# Imports\n",
    "from smact.screening import smact_filter\n",
    "from smact import Element, Species, element_dictionary\n",
    "import itertools\n",
    "\n",
    "\n",
    "# Define the elements we are interested in including Sr, Ba, Hf, Zr, Eu, Ti, S and Se\n",
    "element_symbols = ['Sr', 'Ba', 'Hf', 'Zr', 'Eu', 'Ti']\n",
    "\n",
    "# Retrieve the element objects\n",
    "elements = [Element(symbol) for symbol in element_symbols]\n",
    "\n",
    "# make combinations of 2 elements with S\n",
    "combinations = itertools.combinations(elements, 2)\n",
    "# Add O to each pair\n",
    "combinations = [[*m, Element(\"S\")] for m in combinations]\n",
    "\n",
    "# Define the stoichiometry constraint for 1:1:3 compositions\n",
    "stoichiometries = [[1], [1], [3]]\n",
    "\n",
    "# Filter the compositions using smact_filter\n",
    "comps = [smact_filter(comb, stoichs=stoichiometries, oxidation_states_set='pymatgen') for comb in combinations]\n",
    "\n",
    "# Print the filtered compositions\n",
    "for comp in comps:\n",
    "    print(comp)\n",
    "\n",
    "# flatten the list and print the composition\n",
    "\n",
    "flat_list = [item for sublist in comps for item in sublist]\n",
    "\n",
    "print(flat_list)\n"
   ]
  },
  {
   "cell_type": "markdown",
   "metadata": {},
   "source": [
    "! pip install smact"
   ]
  },
  {
   "cell_type": "markdown",
   "metadata": {},
   "source": [
    "We could turn the compositions into reduced formula using pymatgen (we lost the oxidation state information in this example)."
   ]
  },
  {
   "cell_type": "code",
   "execution_count": 83,
   "metadata": {},
   "outputs": [
    {
     "name": "stdout",
     "output_type": "stream",
     "text": [
      "{'SrZrS3', 'HfZrS3', 'SrHfS3', 'BaHfS3', 'BaZrS3', 'HfTiS3', 'BaTiS3', 'EuZrS3', 'ZrTiS3', 'EuTiS3', 'EuHfS3', 'SrTiS3'}\n"
     ]
    }
   ],
   "source": [
    "from pymatgen.core import Composition\n",
    "\n",
    "def comp_maker(comp):\n",
    "    form = []\n",
    "    for el, ammt in zip(comp[0], comp[2]):\n",
    "        form.append(el)\n",
    "        form.append(ammt)\n",
    "    form = \"\".join(str(e) for e in form)\n",
    "    pmg_form = Composition(form).reduced_formula\n",
    "    return pmg_form\n",
    "\n",
    "pretty_formulas = [comp_maker(comp) for comp in flat_list]\n",
    "\n",
    "# print the list of pretty formulas. Make a set to remove duplicates\n",
    "\n",
    "chalcogenide_perovskite_formulas = list(set(pretty_formulas))\n",
    "print(set(pretty_formulas))"
   ]
  },
  {
   "cell_type": "markdown",
   "metadata": {},
   "source": [
    "To enable constrained decoding, we will use one of the most popular packages for this task [`instructor`](https://jxnl.github.io/instructor/).\n",
    "It is built on [`pydantic`]() and can leverage function calling and JSON-mode of the OpenAI API as well as other constrained sampling approaches.\n",
    "This part of the ntoebook is based on the example provided in the [constrained decoding example notebook](index.ipynb).\n",
    "\n",
    "```python"
   ]
  },
  {
   "cell_type": "code",
   "execution_count": 77,
   "metadata": {},
   "outputs": [
    {
     "data": {
      "text/plain": [
       "False"
      ]
     },
     "execution_count": 77,
     "metadata": {},
     "output_type": "execute_result"
    }
   ],
   "source": [
    "from pydantic import BaseModel, Field\n",
    "from typing import List, Optional, Literal\n",
    "# import erdantic as erd\n",
    "import instructor\n",
    "from IPython.display import SVG\n",
    "from openai import OpenAI\n",
    "from dotenv import load_dotenv\n",
    "load_dotenv('../.env', override=True)"
   ]
  },
  {
   "cell_type": "markdown",
   "metadata": {},
   "source": [
    "## Defining a data schema"
   ]
  },
  {
   "cell_type": "markdown",
   "metadata": {},
   "source": [
    "For most constrained generation tasks, we need to define a data schema in a programmatic way.\n",
    "The most common way to do so is to use `pydantic` data classes.\n",
    "Here is an example of a simple data schema for a recipe:\n",
    "\n",
    "```python\n",
    "from pydantic import BaseModel\n",
    "\n",
    "class Recipe(BaseModel):\n",
    "    title: str\n",
    "    ingredients: List[str]\n",
    "    instructions: List[str]\n",
    "```\n",
    "\n",
    "This schema can also be extended to include descriptions of different fields or to only allow certain values for specific fields. For example, we could add a field for the number of servings and only allow positive integers.\n",
    "\n",
    "```python\n",
    "from pydantic import BaseModel, Field\n",
    "from typing import Literal, List\n",
    "\n",
    "class Recipe(BaseModel):\n",
    "    title: str\n",
    "    ingredients: List[str]\n",
    "    instructions: List[str]\n",
    "    servings: int = Field(..., gt=0, description=\"The number of servings for this recipe\")\n",
    "    rating: Literal[\"easy\", \"medium\", \"hard\"] = Field(\"easy\", description=\"The difficulty level of this recipe\")\n",
    "```"
   ]
  },
  {
   "cell_type": "markdown",
   "metadata": {},
   "source": [
    "If we want to extract copolymerization reactions a data schema could look like the following.\n",
    "\n",
    "We can now use `instructor` to \"patch\" the OpenAI API client to ensure that our output fulfils the schema."
   ]
  },
  {
   "cell_type": "code",
   "execution_count": 84,
   "metadata": {},
   "outputs": [
    {
     "name": "stdout",
     "output_type": "stream",
     "text": [
      "name='Example' bandgap=1.5 formula='BaZrS3'\n"
     ]
    }
   ],
   "source": [
    "# client = instructor.patch(OpenAI(), mode=instructor.Mode.MD_JSON)\n",
    "\n",
    "\n",
    "# Create the model\n",
    "class ChalcogenidePerovskite(BaseModel):\n",
    "    name: str = Field(..., title=\"Name\", description=\"Name of the chalcogenide perovskite.\")\n",
    "    bandgap: Optional[float] = Field(\n",
    "        None,\n",
    "        title=\"Bandgap\",\n",
    "        description=\"Bandgap of the chalcogenide perovskite. Must be greater or equal to 0.\",\n",
    "        ge=0,\n",
    "    )\n",
    "    formula: Optional[Literal[tuple(chalcogenide_perovskite_formulas)]] = Field(\n",
    "        None,\n",
    "        title=\"Formula\",\n",
    "        description=\"Chemical formula of the chalcogenide perovskite.\",\n",
    "    )\n",
    "\n",
    "# Example usage\n",
    "example = ChalcogenidePerovskite(name=\"Example\", bandgap=1.5, formula=\"BaZrS3\")\n",
    "print(example)\n"
   ]
  },
  {
   "cell_type": "code",
   "execution_count": 67,
   "metadata": {},
   "outputs": [
    {
     "ename": "ValidationError",
     "evalue": "1 validation error for ChalcogenidePerovskite\nformula\n  Input should be 'SrZrS3', 'HfZrS3', 'SrHfS3', 'BaHfS3', 'BaZrS3', 'HfTiS3', 'BaTiS3', 'EuZrS3', 'ZrTiS3', 'EuTiS3', 'EuHfS3' or 'SrTiS3' [type=literal_error, input_value='BaZrSe3', input_type=str]\n    For further information visit https://errors.pydantic.dev/2.7/v/literal_error",
     "output_type": "error",
     "traceback": [
      "\u001b[1;31m---------------------------------------------------------------------------\u001b[0m",
      "\u001b[1;31mValidationError\u001b[0m                           Traceback (most recent call last)",
      "\u001b[1;32m~\\AppData\\Local\\Temp/ipykernel_4712/4119310782.py\u001b[0m in \u001b[0;36m<module>\u001b[1;34m\u001b[0m\n\u001b[1;32m----> 1\u001b[1;33m \u001b[0mfailing_example\u001b[0m \u001b[1;33m=\u001b[0m \u001b[0mChalcogenidePerovskite\u001b[0m\u001b[1;33m(\u001b[0m\u001b[0mname\u001b[0m\u001b[1;33m=\u001b[0m\u001b[1;34m\"Failing Example\"\u001b[0m\u001b[1;33m,\u001b[0m \u001b[0mbandgap\u001b[0m\u001b[1;33m=\u001b[0m\u001b[1;36m1.9\u001b[0m\u001b[1;33m,\u001b[0m \u001b[0mformula\u001b[0m\u001b[1;33m=\u001b[0m\u001b[1;34m\"BaZrSe3\"\u001b[0m\u001b[1;33m)\u001b[0m\u001b[1;33m\u001b[0m\u001b[1;33m\u001b[0m\u001b[0m\n\u001b[0m\u001b[0;32m      2\u001b[0m \u001b[0mprint\u001b[0m\u001b[1;33m(\u001b[0m\u001b[0mfailing_example\u001b[0m\u001b[1;33m)\u001b[0m\u001b[1;33m\u001b[0m\u001b[1;33m\u001b[0m\u001b[0m\n",
      "\u001b[1;32mc:\\Users\\pepem\\miniconda3\\lib\\site-packages\\pydantic\\main.py\u001b[0m in \u001b[0;36m__init__\u001b[1;34m(self, **data)\u001b[0m\n\u001b[0;32m    174\u001b[0m         \u001b[1;31m# `__tracebackhide__` tells pytest and some other tools to omit this function from tracebacks\u001b[0m\u001b[1;33m\u001b[0m\u001b[1;33m\u001b[0m\u001b[0m\n\u001b[0;32m    175\u001b[0m         \u001b[0m__tracebackhide__\u001b[0m \u001b[1;33m=\u001b[0m \u001b[1;32mTrue\u001b[0m\u001b[1;33m\u001b[0m\u001b[1;33m\u001b[0m\u001b[0m\n\u001b[1;32m--> 176\u001b[1;33m         \u001b[0mself\u001b[0m\u001b[1;33m.\u001b[0m\u001b[0m__pydantic_validator__\u001b[0m\u001b[1;33m.\u001b[0m\u001b[0mvalidate_python\u001b[0m\u001b[1;33m(\u001b[0m\u001b[0mdata\u001b[0m\u001b[1;33m,\u001b[0m \u001b[0mself_instance\u001b[0m\u001b[1;33m=\u001b[0m\u001b[0mself\u001b[0m\u001b[1;33m)\u001b[0m\u001b[1;33m\u001b[0m\u001b[1;33m\u001b[0m\u001b[0m\n\u001b[0m\u001b[0;32m    177\u001b[0m \u001b[1;33m\u001b[0m\u001b[0m\n\u001b[0;32m    178\u001b[0m     \u001b[1;31m# The following line sets a flag that we use to determine when `__init__` gets overridden by the user\u001b[0m\u001b[1;33m\u001b[0m\u001b[1;33m\u001b[0m\u001b[0m\n",
      "\u001b[1;31mValidationError\u001b[0m: 1 validation error for ChalcogenidePerovskite\nformula\n  Input should be 'SrZrS3', 'HfZrS3', 'SrHfS3', 'BaHfS3', 'BaZrS3', 'HfTiS3', 'BaTiS3', 'EuZrS3', 'ZrTiS3', 'EuTiS3', 'EuHfS3' or 'SrTiS3' [type=literal_error, input_value='BaZrSe3', input_type=str]\n    For further information visit https://errors.pydantic.dev/2.7/v/literal_error"
     ]
    }
   ],
   "source": [
    "failing_example = ChalcogenidePerovskite(name=\"Failing Example\", bandgap=1.9, formula=\"BaZrSe3\")\n",
    "print(failing_example)"
   ]
  },
  {
   "cell_type": "code",
   "execution_count": null,
   "metadata": {},
   "outputs": [],
   "source": []
  }
 ],
 "metadata": {
  "kernelspec": {
   "display_name": "base",
   "language": "python",
   "name": "python3"
  },
  "language_info": {
   "codemirror_mode": {
    "name": "ipython",
    "version": 3
   },
   "file_extension": ".py",
   "mimetype": "text/x-python",
   "name": "python",
   "nbconvert_exporter": "python",
   "pygments_lexer": "ipython3",
   "version": "3.9.7"
  }
 },
 "nbformat": 4,
 "nbformat_minor": 2
}
