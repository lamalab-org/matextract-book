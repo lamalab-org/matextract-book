{
 "cells": [
  {
   "cell_type": "markdown",
   "metadata": {},
   "source": [
    "# Ensuring correctness of formulas "
   ]
  },
  {
   "cell_type": "markdown",
   "metadata": {},
   "source": [
    "::: {.callout-note title=\"Motivation\"}\n",
    "Here we want to generate an output that will allow us to train a composition-property prediction model.\n",
    "\n",
    "- We want to ensure that the output formulas retrieved can be parsed into a pymatgen `Composition` object. This is important to be able to reuse the extracted data with popular packages for these tasks, such as those leading in [MatBench](https://hackingmaterials.lbl.gov/matbench/).\n",
    "- We want to ensure that the formulas fulfill the criteria of charge balance, so the stoichiometry is correct.\n",
    "- We want to focus on a given class of materials, in this case, chalcogenide perovskite-based semiconductors.\n",
    ":::"
   ]
  },
  {
   "cell_type": "code",
   "execution_count": null,
   "metadata": {},
   "outputs": [],
   "source": [
    "! pip install smact"
   ]
  },
  {
   "cell_type": "markdown",
   "metadata": {},
   "source": [
    "## First SMACT example\n",
    "Example of creating a list of all ternary Ba-Zr-S compounds in which their stoichiometry fullfills the charge balance criteria. We will use for this the [SMACT](https://smact.readthedocs.io/en/latest/) package."
   ]
  },
  {
   "cell_type": "code",
   "execution_count": 66,
   "metadata": {},
   "outputs": [
    {
     "name": "stdout",
     "output_type": "stream",
     "text": [
      "Time taken to generate list:  0:00:01.614377\n",
      "Number of compositions: --> 52 <--\n",
      "Each list entry looks like this:\n",
      "  elements, oxidation states, stoichiometries\n",
      "(('Sr', 'Ba', 'S'), (1, 2, -2), (2, 1, 2))\n",
      "(('Sr', 'Ba', 'S'), (1, 2, -2), (2, 2, 3))\n",
      "(('Sr', 'Ba', 'S'), (1, 2, -2), (2, 3, 4))\n",
      "(('Sr', 'Ba', 'S'), (1, 2, -2), (2, 4, 5))\n",
      "(('Sr', 'Ba', 'S'), (1, 2, -2), (2, 5, 6))\n",
      "Each list entry now looks like this: \n",
      "Ba(SrS)2\n",
      "Ba2Sr2S3\n",
      "Ba3(SrS2)2\n",
      "Ba4Sr2S5\n",
      "Ba5(SrS3)2\n",
      "  pretty_formula\n",
      "0       Ba(SrS)2\n",
      "1       Ba2Sr2S3\n",
      "2     Ba3(SrS2)2\n",
      "3       Ba4Sr2S5\n",
      "4     Ba5(SrS3)2\n"
     ]
    }
   ],
   "source": [
    "# Imports\n",
    "import itertools\n",
    "import multiprocessing\n",
    "from datetime import datetime\n",
    "\n",
    "from smact import Element, element_dictionary, ordered_elements\n",
    "from smact.screening import smact_filter\n",
    "\n",
    "# Define the elements we are interested in\n",
    "element_symbols = ['Sr', 'Ba']\n",
    "all_el = element_dictionary()  # A dictionary of all element objects\n",
    "\n",
    "# Retrieve element objects\n",
    "els = [all_el[symbol] for symbol in element_symbols]\n",
    "\n",
    "# Generate all combinations of the elements with S and Se\n",
    "combinations = itertools.combinations(els, 2)\n",
    "sulfides_selenides = [(*pair, all_el['S']) for pair in combinations]\n",
    "\n",
    "# Filter the compositions using smact_filter\n",
    "start = datetime.now()\n",
    "if __name__ == \"__main__\":\n",
    "    with multiprocessing.Pool(processes=4) as p:\n",
    "        result = p.map(smact_filter, sulfides_selenides)\n",
    "print(f\"Time taken to generate list:  {datetime.now() - start}\")\n",
    "\n",
    "# Flatten the list of lists\n",
    "flat_list = [item for sublist in result for item in sublist]\n",
    "\n",
    "# Print the number of compositions and a few examples\n",
    "print(f\"Number of compositions: --> {len(flat_list)} <--\")\n",
    "print(\"Each list entry looks like this:\\n  elements, oxidation states, stoichiometries\")\n",
    "for i in flat_list[:5]:\n",
    "    print(i)\n",
    "\n",
    "# Convert compositions to reduced formulas using pymatgen\n",
    "from pymatgen.core import Composition\n",
    "\n",
    "def comp_maker(comp):\n",
    "    form = []\n",
    "    for el, ammt in zip(comp[0], comp[2]):\n",
    "        form.append(el)\n",
    "        form.append(ammt)\n",
    "    form = \"\".join(str(e) for e in form)\n",
    "    pmg_form = Composition(form).reduced_formula\n",
    "    return pmg_form\n",
    "\n",
    "\n",
    "pretty_formulas = [comp_maker(comp) for comp in flat_list]\n",
    "\n",
    "print(\"Each list entry now looks like this: \")\n",
    "for i in pretty_formulas[:5]:\n",
    "    print(i)\n",
    "\n",
    "# Store the results in a pandas DataFrame\n",
    "import pandas as pd\n",
    "\n",
    "new_data = pd.DataFrame({\"pretty_formula\": pretty_formulas})\n",
    "# Drop any duplicate compositions\n",
    "new_data = new_data.drop_duplicates(subset=\"pretty_formula\")\n",
    "new_data.describe()\n",
    "\n",
    "# Display the dataframe\n",
    "print(new_data.head())\n"
   ]
  },
  {
   "cell_type": "markdown",
   "metadata": {},
   "source": [
    "## Targeting Chalcogenide Perovskites \n",
    "\n",
    "We want to constrain our language model to output formulas that follow certain chemical and structural criteria. In this case, we are looking for chalcogenide perovskite-based semiconductors.\n",
    "\n",
    "The perovskite structure is defined based on the mineral CaTiO3. Perovskite structures must exhibit close structural similarity to this archetype. Bretterniz and Schorr have clarified a [set of criteria](https://doi.org/10.1002/aenm.201802366) to determine whether a material should be called perovskite.\n",
    "\n",
    "Key criteria include:\n",
    "1. **Stoichiometry**: ABX3, or at least an A:B:X ratio of 1:1:3.\n",
    "2. **B-cation Coordination**: Octahedral (or distorted octahedra) coordination.\n",
    "3. **3D Network**: The [BX6] octahedra should form an all-corner-sharing 3D network.\n",
    "\n",
    "\n",
    "We will use [SMACT](https://smact.readthedocs.io/en/latest/) to generate a list of ternary chalcogenide perovskites that fullfills at least the firts criterion. On top of that, the `smact_filter` function will ensure that the stoichiometry is correct, and that the compound is charge balanced using common oxidation stated for the elemental combinations tested."
   ]
  },
  {
   "cell_type": "code",
   "execution_count": 28,
   "metadata": {},
   "outputs": [
    {
     "name": "stdout",
     "output_type": "stream",
     "text": [
      "[]\n",
      "[(('Sr', 'Hf', 'S'), (2, 4, -2), (1, 1, 3))]\n",
      "[(('Sr', 'Zr', 'S'), (2, 4, -2), (1, 1, 3))]\n",
      "[]\n",
      "[(('Sr', 'Ti', 'S'), (2, 4, -2), (1, 1, 3))]\n",
      "[(('Ba', 'Hf', 'S'), (2, 4, -2), (1, 1, 3))]\n",
      "[(('Ba', 'Zr', 'S'), (2, 4, -2), (1, 1, 3))]\n",
      "[]\n",
      "[(('Ba', 'Ti', 'S'), (2, 4, -2), (1, 1, 3))]\n",
      "[(('Hf', 'Zr', 'S'), (4, 2, -2), (1, 1, 3))]\n",
      "[(('Hf', 'Eu', 'S'), (4, 2, -2), (1, 1, 3))]\n",
      "[(('Hf', 'Ti', 'S'), (4, 2, -2), (1, 1, 3))]\n",
      "[(('Zr', 'Eu', 'S'), (3, 3, -2), (1, 1, 3)), (('Zr', 'Eu', 'S'), (4, 2, -2), (1, 1, 3))]\n",
      "[(('Zr', 'Ti', 'S'), (2, 4, -2), (1, 1, 3)), (('Zr', 'Ti', 'S'), (3, 3, -2), (1, 1, 3)), (('Zr', 'Ti', 'S'), (4, 2, -2), (1, 1, 3))]\n",
      "[(('Eu', 'Ti', 'S'), (2, 4, -2), (1, 1, 3)), (('Eu', 'Ti', 'S'), (3, 3, -2), (1, 1, 3))]\n",
      "[(('Sr', 'Hf', 'S'), (2, 4, -2), (1, 1, 3)), (('Sr', 'Zr', 'S'), (2, 4, -2), (1, 1, 3)), (('Sr', 'Ti', 'S'), (2, 4, -2), (1, 1, 3)), (('Ba', 'Hf', 'S'), (2, 4, -2), (1, 1, 3)), (('Ba', 'Zr', 'S'), (2, 4, -2), (1, 1, 3)), (('Ba', 'Ti', 'S'), (2, 4, -2), (1, 1, 3)), (('Hf', 'Zr', 'S'), (4, 2, -2), (1, 1, 3)), (('Hf', 'Eu', 'S'), (4, 2, -2), (1, 1, 3)), (('Hf', 'Ti', 'S'), (4, 2, -2), (1, 1, 3)), (('Zr', 'Eu', 'S'), (3, 3, -2), (1, 1, 3)), (('Zr', 'Eu', 'S'), (4, 2, -2), (1, 1, 3)), (('Zr', 'Ti', 'S'), (2, 4, -2), (1, 1, 3)), (('Zr', 'Ti', 'S'), (3, 3, -2), (1, 1, 3)), (('Zr', 'Ti', 'S'), (4, 2, -2), (1, 1, 3)), (('Eu', 'Ti', 'S'), (2, 4, -2), (1, 1, 3)), (('Eu', 'Ti', 'S'), (3, 3, -2), (1, 1, 3))]\n"
     ]
    }
   ],
   "source": [
    "# Imports\n",
    "from smact.screening import smact_filter\n",
    "from smact import Element, Species, element_dictionary\n",
    "import itertools\n",
    "\n",
    "\n",
    "# Define the elements we are interested in including Sr, Ba, Hf, Zr, Eu, Ti, S and Se\n",
    "element_symbols = ['Sr', 'Ba', 'Hf', 'Zr', 'Eu', 'Ti']\n",
    "\n",
    "# Retrieve the element objects\n",
    "elements = [Element(symbol) for symbol in element_symbols]\n",
    "\n",
    "# make combinations of 2 elements with S\n",
    "combinations = itertools.combinations(elements, 2)\n",
    "# Add O to each pair\n",
    "combinations = [[*m, Element(\"S\")] for m in combinations]\n",
    "\n",
    "# Define the stoichiometry constraint for 1:1:3 compositions\n",
    "stoichiometries = [[1], [1], [3]]\n",
    "\n",
    "# Filter the compositions using smact_filter\n",
    "comps = [smact_filter(comb, stoichs=stoichiometries, oxidation_states_set='pymatgen') for comb in combinations]\n",
    "\n",
    "# Print the filtered compositions\n",
    "for comp in comps:\n",
    "    print(comp)\n",
    "\n",
    "# flatten the list and print the composition\n",
    "\n",
    "flat_list = [item for sublist in comps for item in sublist]\n",
    "\n",
    "print(flat_list)\n"
   ]
  },
  {
   "cell_type": "markdown",
   "metadata": {},
   "source": [
    "! pip install smact"
   ]
  },
  {
   "cell_type": "markdown",
   "metadata": {},
   "source": [
    "We could turn the compositions into reduced formula using pymatgen (we lost the oxidation state information in this example)."
   ]
  },
  {
   "cell_type": "code",
   "execution_count": 29,
   "metadata": {},
   "outputs": [
    {
     "name": "stdout",
     "output_type": "stream",
     "text": [
      "{'HfZrS3', 'ZrTiS3', 'BaHfS3', 'SrHfS3', 'SrTiS3', 'SrZrS3', 'HfTiS3', 'BaZrS3', 'EuHfS3', 'EuZrS3', 'EuTiS3', 'BaTiS3'}\n"
     ]
    }
   ],
   "source": [
    "from pymatgen.core import Composition\n",
    "\n",
    "def comp_maker(comp):\n",
    "    form = []\n",
    "    for el, ammt in zip(comp[0], comp[2]):\n",
    "        form.append(el)\n",
    "        form.append(ammt)\n",
    "    form = \"\".join(str(e) for e in form)\n",
    "    pmg_form = Composition(form).reduced_formula\n",
    "    return pmg_form\n",
    "\n",
    "pretty_formulas = [comp_maker(comp) for comp in flat_list]\n",
    "\n",
    "# print the list of pretty formulas. Make a set to remove duplicates\n",
    "\n",
    "chalcogenide_perovskite_formulas = list(set(pretty_formulas))\n",
    "print(set(pretty_formulas))"
   ]
  },
  {
   "cell_type": "markdown",
   "metadata": {},
   "source": [
    "To enable constrained decoding, we will use one of the most popular packages for this task [`instructor`](https://jxnl.github.io/instructor/).\n",
    "It is built on [`pydantic`]() and can leverage function calling and JSON-mode of the OpenAI API as well as other constrained sampling approaches.\n",
    "This part of the ntoebook is based on the example provided in the [constrained decoding example notebook](index.ipynb).\n",
    "\n",
    "```python"
   ]
  },
  {
   "cell_type": "code",
   "execution_count": 30,
   "metadata": {},
   "outputs": [
    {
     "ename": "ModuleNotFoundError",
     "evalue": "No module named 'instructor'",
     "output_type": "error",
     "traceback": [
      "\u001b[1;31m---------------------------------------------------------------------------\u001b[0m",
      "\u001b[1;31mModuleNotFoundError\u001b[0m                       Traceback (most recent call last)",
      "Cell \u001b[1;32mIn[30], line 4\u001b[0m\n\u001b[0;32m      2\u001b[0m \u001b[38;5;28;01mfrom\u001b[39;00m \u001b[38;5;21;01mtyping\u001b[39;00m \u001b[38;5;28;01mimport\u001b[39;00m List, Optional, Literal\n\u001b[0;32m      3\u001b[0m \u001b[38;5;66;03m# import erdantic as erd\u001b[39;00m\n\u001b[1;32m----> 4\u001b[0m \u001b[38;5;28;01mimport\u001b[39;00m \u001b[38;5;21;01minstructor\u001b[39;00m\n\u001b[0;32m      5\u001b[0m \u001b[38;5;28;01mfrom\u001b[39;00m \u001b[38;5;21;01mIPython\u001b[39;00m\u001b[38;5;21;01m.\u001b[39;00m\u001b[38;5;21;01mdisplay\u001b[39;00m \u001b[38;5;28;01mimport\u001b[39;00m SVG\n\u001b[0;32m      6\u001b[0m \u001b[38;5;28;01mfrom\u001b[39;00m \u001b[38;5;21;01mopenai\u001b[39;00m \u001b[38;5;28;01mimport\u001b[39;00m OpenAI\n",
      "\u001b[1;31mModuleNotFoundError\u001b[0m: No module named 'instructor'"
     ]
    }
   ],
   "source": [
    "from pydantic import BaseModel, Field\n",
    "from typing import List, Optional, Literal\n",
    "# import erdantic as erd\n",
    "import instructor\n",
    "from IPython.display import SVG\n",
    "from openai import OpenAI\n",
    "from dotenv import load_dotenv\n",
    "load_dotenv('../.env', override=True)"
   ]
  },
  {
   "cell_type": "markdown",
   "metadata": {},
   "source": [
    "## Defining a data schema"
   ]
  },
  {
   "cell_type": "markdown",
   "metadata": {},
   "source": [
    "For most constrained generation tasks, we need to define a data schema in a programmatic way.\n",
    "The most common way to do so is to use `pydantic` data classes.\n",
    "Here is an example of a simple data schema for a recipe:\n",
    "\n",
    "```python\n",
    "from pydantic import BaseModel\n",
    "\n",
    "class Recipe(BaseModel):\n",
    "    title: str\n",
    "    ingredients: List[str]\n",
    "    instructions: List[str]\n",
    "```\n",
    "\n",
    "This schema can also be extended to include descriptions of different fields or to only allow certain values for specific fields. For example, we could add a field for the number of servings and only allow positive integers.\n",
    "\n",
    "```python\n",
    "from pydantic import BaseModel, Field\n",
    "from typing import Literal, List\n",
    "\n",
    "class Recipe(BaseModel):\n",
    "    title: str\n",
    "    ingredients: List[str]\n",
    "    instructions: List[str]\n",
    "    servings: int = Field(..., gt=0, description=\"The number of servings for this recipe\")\n",
    "    rating: Literal[\"easy\", \"medium\", \"hard\"] = Field(\"easy\", description=\"The difficulty level of this recipe\")\n",
    "```"
   ]
  },
  {
   "cell_type": "markdown",
   "metadata": {},
   "source": [
    "If we want to extract copolymerization reactions a data schema could look like the following.\n",
    "\n",
    "We can now use `instructor` to \"patch\" the OpenAI API client to ensure that our output fulfils the schema."
   ]
  },
  {
   "cell_type": "code",
   "execution_count": 84,
   "metadata": {},
   "outputs": [
    {
     "name": "stdout",
     "output_type": "stream",
     "text": [
      "name='Example' bandgap=1.5 formula='BaZrS3'\n"
     ]
    }
   ],
   "source": [
    "# client = instructor.patch(OpenAI(), mode=instructor.Mode.MD_JSON)\n",
    "\n",
    "\n",
    "# Create the model\n",
    "class ChalcogenidePerovskite(BaseModel):\n",
    "    name: str = Field(..., title=\"Name\", description=\"Name of the chalcogenide perovskite.\")\n",
    "    bandgap: Optional[float] = Field(\n",
    "        None,\n",
    "        title=\"Bandgap\",\n",
    "        description=\"Bandgap of the chalcogenide perovskite. Must be greater or equal to 0.\",\n",
    "        ge=0,\n",
    "    )\n",
    "    formula: Optional[Literal[tuple(chalcogenide_perovskite_formulas)]] = Field(\n",
    "        None,\n",
    "        title=\"Formula\",\n",
    "        description=\"Chemical formula of the chalcogenide perovskite.\",\n",
    "    )\n",
    "\n",
    "# Example usage\n",
    "example = ChalcogenidePerovskite(name=\"Example\", bandgap=1.5, formula=\"BaZrS3\")\n",
    "print(example)\n"
   ]
  },
  {
   "cell_type": "code",
   "execution_count": 67,
   "metadata": {},
   "outputs": [
    {
     "ename": "ValidationError",
     "evalue": "1 validation error for ChalcogenidePerovskite\nformula\n  Input should be 'SrZrS3', 'HfZrS3', 'SrHfS3', 'BaHfS3', 'BaZrS3', 'HfTiS3', 'BaTiS3', 'EuZrS3', 'ZrTiS3', 'EuTiS3', 'EuHfS3' or 'SrTiS3' [type=literal_error, input_value='BaZrSe3', input_type=str]\n    For further information visit https://errors.pydantic.dev/2.7/v/literal_error",
     "output_type": "error",
     "traceback": [
      "\u001b[1;31m---------------------------------------------------------------------------\u001b[0m",
      "\u001b[1;31mValidationError\u001b[0m                           Traceback (most recent call last)",
      "\u001b[1;32m~\\AppData\\Local\\Temp/ipykernel_4712/4119310782.py\u001b[0m in \u001b[0;36m<module>\u001b[1;34m\u001b[0m\n\u001b[1;32m----> 1\u001b[1;33m \u001b[0mfailing_example\u001b[0m \u001b[1;33m=\u001b[0m \u001b[0mChalcogenidePerovskite\u001b[0m\u001b[1;33m(\u001b[0m\u001b[0mname\u001b[0m\u001b[1;33m=\u001b[0m\u001b[1;34m\"Failing Example\"\u001b[0m\u001b[1;33m,\u001b[0m \u001b[0mbandgap\u001b[0m\u001b[1;33m=\u001b[0m\u001b[1;36m1.9\u001b[0m\u001b[1;33m,\u001b[0m \u001b[0mformula\u001b[0m\u001b[1;33m=\u001b[0m\u001b[1;34m\"BaZrSe3\"\u001b[0m\u001b[1;33m)\u001b[0m\u001b[1;33m\u001b[0m\u001b[1;33m\u001b[0m\u001b[0m\n\u001b[0m\u001b[0;32m      2\u001b[0m \u001b[0mprint\u001b[0m\u001b[1;33m(\u001b[0m\u001b[0mfailing_example\u001b[0m\u001b[1;33m)\u001b[0m\u001b[1;33m\u001b[0m\u001b[1;33m\u001b[0m\u001b[0m\n",
      "\u001b[1;32mc:\\Users\\pepem\\miniconda3\\lib\\site-packages\\pydantic\\main.py\u001b[0m in \u001b[0;36m__init__\u001b[1;34m(self, **data)\u001b[0m\n\u001b[0;32m    174\u001b[0m         \u001b[1;31m# `__tracebackhide__` tells pytest and some other tools to omit this function from tracebacks\u001b[0m\u001b[1;33m\u001b[0m\u001b[1;33m\u001b[0m\u001b[0m\n\u001b[0;32m    175\u001b[0m         \u001b[0m__tracebackhide__\u001b[0m \u001b[1;33m=\u001b[0m \u001b[1;32mTrue\u001b[0m\u001b[1;33m\u001b[0m\u001b[1;33m\u001b[0m\u001b[0m\n\u001b[1;32m--> 176\u001b[1;33m         \u001b[0mself\u001b[0m\u001b[1;33m.\u001b[0m\u001b[0m__pydantic_validator__\u001b[0m\u001b[1;33m.\u001b[0m\u001b[0mvalidate_python\u001b[0m\u001b[1;33m(\u001b[0m\u001b[0mdata\u001b[0m\u001b[1;33m,\u001b[0m \u001b[0mself_instance\u001b[0m\u001b[1;33m=\u001b[0m\u001b[0mself\u001b[0m\u001b[1;33m)\u001b[0m\u001b[1;33m\u001b[0m\u001b[1;33m\u001b[0m\u001b[0m\n\u001b[0m\u001b[0;32m    177\u001b[0m \u001b[1;33m\u001b[0m\u001b[0m\n\u001b[0;32m    178\u001b[0m     \u001b[1;31m# The following line sets a flag that we use to determine when `__init__` gets overridden by the user\u001b[0m\u001b[1;33m\u001b[0m\u001b[1;33m\u001b[0m\u001b[0m\n",
      "\u001b[1;31mValidationError\u001b[0m: 1 validation error for ChalcogenidePerovskite\nformula\n  Input should be 'SrZrS3', 'HfZrS3', 'SrHfS3', 'BaHfS3', 'BaZrS3', 'HfTiS3', 'BaTiS3', 'EuZrS3', 'ZrTiS3', 'EuTiS3', 'EuHfS3' or 'SrTiS3' [type=literal_error, input_value='BaZrSe3', input_type=str]\n    For further information visit https://errors.pydantic.dev/2.7/v/literal_error"
     ]
    }
   ],
   "source": [
    "failing_example = ChalcogenidePerovskite(name=\"Failing Example\", bandgap=1.9, formula=\"BaZrSe3\")\n",
    "print(failing_example)"
   ]
  },
  {
   "cell_type": "markdown",
   "metadata": {},
   "source": [
    "## Collecting data from abstracts"
   ]
  },
  {
   "cell_type": "code",
   "execution_count": 26,
   "metadata": {},
   "outputs": [
    {
     "name": "stdout",
     "output_type": "stream",
     "text": [
      "[{'DOI': '10.26434/chemrxiv.14502372.v1', 'abstract': '<jats:p>Mixed halide azetidinium lead perovskites AzPbBr<jats:sub>3-<jats:italic>x</jats:italic></jats:sub>X<jats:italic><jats:sub>x</jats:sub></jats:italic> (X = Cl or I) were obtained by mechanosynthesis. With varying halide composition from Cl- to Br- to I-; the chloride and bromide analogs both form in the hexagonal 6H polytype while the iodide adopts the 9R polytype. An intermediate 4H polytype is observed for mixed Br/I compositions. Overall the structure progresses from 6H to 4H to 9R perovskite polytype with varying halide composition. Rietveld refinement of the powder X-ray diffraction patterns revealed a linear variation in unit cell volume as a function of the average radius of the anion, which is not only observed within the solid solution of each polytype (according to Vegard’s law) but extends uniformly across all three polytypes. This is correlated with a progressive (linear) tuning of the bandgap from 3.41 to 2.00 eV. Regardless of halide, the family of azetidinium halide perovskite polytypes are highly stable, with no discernible change in properties over more than 6 months under ambient conditions</jats:p>', 'author': [{'given': 'Jiyu', 'family': 'Tian', 'sequence': 'first', 'affiliation': []}, {'given': 'David', 'family': 'Cordes', 'sequence': 'additional', 'affiliation': []}, {'given': 'Alexandra', 'family': 'Slawin', 'sequence': 'additional', 'affiliation': []}, {'given': 'Eli', 'family': 'Zysman-Colman', 'sequence': 'additional', 'affiliation': []}, {'ORCID': 'http://orcid.org/0000-0002-2813-3142', 'authenticated-orcid': False, 'given': 'Finlay', 'family': 'Morrison', 'sequence': 'additional', 'affiliation': [{'name': 'University of St Andrews'}]}], 'issued': {'date-parts': [[2021, 4, 29]]}, 'publisher': 'American Chemical Society (ACS)', 'title': ['Progressive Polytypism and Bandgap Tuning in Azetidinium Lead Halide Perovskites'], 'type': 'posted-content'}, {'DOI': '10.1002/adom.202302471', 'abstract': \"<jats:title>Abstract</jats:title><jats:p>In a recent publication, Liu et\\xa0al. investigated the doping strategy of pentavalent antimony (Sb<jats:sup>5+</jats:sup>) in the benchmark material Cs<jats:sub>2</jats:sub>NaInCl<jats:sub>6</jats:sub>, achieving a bright blue emission with a high photoluminescence quantum yield of ≈90% at low doping concentrations and bandgaps as low as 1.24\\xa0eV at high doping concentrations (<jats:italic>Adv. Opt. Mater</jats:italic>. 2024, <jats:italic>12</jats:italic>, 2301576). In this comment, by reanalyzing Liu et al.' data and conducting hybrid density functional theory calculations, the study provides evidence supporting the incorporation of Sb<jats:sup>3+</jats:sup> ions rather than “Sb<jats:sup>5+</jats:sup> ions”, as the cause of the efficient blue emission observed in the lightly‐doped Cs<jats:sub>2</jats:sub>NaInCl<jats:sub>6</jats:sub> samples. Furthermore, it is proposed that the narrowing of the bandgap in the “heavily‐doped Cs<jats:sub>2</jats:sub>NaInCl<jats:sub>6</jats:sub>” samples is a result of the formation of a new phase related to a mixed‐valence salt, Cs<jats:sub>4</jats:sub>Sb<jats:sup>III</jats:sup>Sb<jats:sup>V</jats:sup>Cl<jats:sub>12</jats:sub>.</jats:p>\", 'author': [{'ORCID': 'http://orcid.org/0000-0002-4911-1399', 'authenticated-orcid': False, 'given': 'Zewen', 'family': 'Xiao', 'sequence': 'first', 'affiliation': [{'name': 'Wuhan National Laboratory for Optoelectronics Huazhong University of Science and Technology  Wuhan 710049 China'}]}], 'issued': {'date-parts': [[2024, 3, 14]]}, 'publisher': 'Wiley', 'title': ['Comment on “High‐Efficient Blue Emission and Bandgap Engineering from Jahn‒Teller Distorted Halide Double Perovskites”'], 'type': 'journal-article'}, {'DOI': '10.1002/adom.202101704', 'abstract': '<jats:title>Abstract</jats:title><jats:p>Chalcogenide perovskites have recently emerged into the spotlight as highly robust, earth abundant, and nontoxic candidates for various energy conversion applications, not least photovoltaics (PV). Now, a serious effort is required to determine if they can emulate the PV performance of the better‐known, part‐organic halide perovskites, in applications such as tandem solar cells. This review summarizes the surprisingly large body of literature pertaining to chalcogenide perovskites, which have been investigated for many years despite only recently being considered for applications. The confusing variety of claims coming from computational materials discovery is clarified, and it is specified which chalcogenide perovskites actually exist and should form the focus of experimental work. The highly interesting optoelectronic and transport properties of the known materials at their current stage of development are summarized, which makes a clear case for investigating them further. The existing synthesis literature is collated, which provides some important and possibly unnoticed clues to experimentalists grappling with these somewhat challenging materials. The authors hope that the highlighting of this information will facilitate further exciting studies, better approaches, and new progress for chalcogenide perovskites.</jats:p>', 'author': [{'ORCID': 'http://orcid.org/0000-0001-5317-7940', 'authenticated-orcid': False, 'given': 'Kostiantyn V.', 'family': 'Sopiha', 'sequence': 'first', 'affiliation': [{'name': 'Solar Cell Technology Division Dept. Materials Science and Engineering Uppsala University  Uppsala 75237 Sweden'}]}, {'ORCID': 'http://orcid.org/0000-0002-6020-0771', 'authenticated-orcid': False, 'given': 'Corrado', 'family': 'Comparotto', 'sequence': 'additional', 'affiliation': [{'name': 'Solar Cell Technology Division Dept. Materials Science and Engineering Uppsala University  Uppsala 75237 Sweden'}]}, {'ORCID': 'http://orcid.org/0000-0002-8173-2566', 'authenticated-orcid': False, 'given': 'José A.', 'family': 'Márquez', 'sequence': 'additional', 'affiliation': [{'name': 'Department of Structure and Dynamics of Energy Materials Helmholtz‐Zentrum Berlin für Materialien und Energie (HZB)  14109 Berlin Germany'}]}, {'ORCID': 'http://orcid.org/0000-0001-8686-8721', 'authenticated-orcid': False, 'given': 'Jonathan J. S.', 'family': 'Scragg', 'sequence': 'additional', 'affiliation': [{'name': 'Solar Cell Technology Division Dept. Materials Science and Engineering Uppsala University  Uppsala 75237 Sweden'}]}], 'issued': {'date-parts': [[2021, 12, 13]]}, 'publisher': 'Wiley', 'title': ['Chalcogenide Perovskites: Tantalizing Prospects, Challenging Materials'], 'type': 'journal-article'}, {'DOI': '10.1063/1.5053634', 'abstract': '<jats:p>Ferroelectrics exhibit bulk photovoltaic effect, of which spontaneous electric polarization separates photo-excited carriers and results in above-bandgap open-circuit voltage. Compared with organometal halide perovskites, ferroelectric oxide perovskites are much more stable in a wide range of mechanical, chemical and thermal conditions and able to fabricate using low-cost facilities. The bottlenecks for ferroelectric photovoltaic applications are their poor optical absorption of visible light and high electric resistivity owing to wide bandgap. In this work, bandgap of BiFeO3-based oxide perovskites was judiciously tuned in a range of 1.10-2.06 eV through B-site chemistry, which makes ferroelectric semiconducting oxide perovskites feasible for photovoltaic solar cell applications with wide light absorption and high efficient energy conversion. In particular, La and Mn co-substituted BiFeO3 solid solution exhibits a narrow direct bandgap around 1.20 eV, which extends photon absorptions over ∼80% sunlight spectrum covering ultraviolet-visible-infrared region and increases electrical conductivity (σdc) up to about 10-5 S/m. The electronic subshell configuration, the reduced mass of unit cell, and the tolerant factor/octahedral factor related to ionic size were attempted as descriptors to classify and map out the relationship between compositions and bandgap properties of BiFeO3-based oxide perovskites. This essay paves the road for ferroelectric semiconducting oxide perovskites to make photovoltaic solar cells with power conversion efficiency promising beyond the Shockley-Queisser limit of conventional p-n junction solar cells.</jats:p>', 'author': [{'given': 'Yinglong', 'family': 'Jiang', 'sequence': 'first', 'affiliation': [{'name': 'Department of Physics, Donghua University 1 , Shanghai 201620, China'}, {'name': 'Institute of Functional Materials, Donghua University 2 , Shanghai 201620, China'}]}, {'given': 'Huanpo', 'family': 'Ning', 'sequence': 'additional', 'affiliation': [{'name': 'Department of Physics, Donghua University 1 , Shanghai 201620, China'}, {'name': 'Institute of Functional Materials, Donghua University 2 , Shanghai 201620, China'}]}, {'given': 'Jian', 'family': 'Yu', 'sequence': 'additional', 'affiliation': [{'name': 'Institute of Functional Materials, Donghua University 2 , Shanghai 201620, China'}]}], 'issued': {'date-parts': [[2018, 12, 1]]}, 'publisher': 'AIP Publishing', 'title': ['Optical bandgap tuning of ferroelectric semiconducting BiFeO3-based oxide perovskites via chemical substitution for photovoltaics'], 'type': 'journal-article'}, {'DOI': '10.1063/1.4811243', 'abstract': '<jats:p>The photoconductivity of amorphous As2S8 chalcogenide film under the irradiation of bandgap light is investigated. In the temperature range 300–350 K, the dark conductivity and photoconductivity of the annealed As2S8 film increase with the temperature, and the dependence of the both on temperature shows that the conduction in As2S8 film is an activated process having single activation energy. Under the irradiation of bandgap light, the photocurrents of the annealed and illuminated As2S8 film increase with the irradiation intensity, and their difference indicates the existence of the light-soaked effect. Meanwhile, the photoconductivity degradation during the irradiation and the photocurrent decay after stopping the irradiation are observed. By adding the irradiation of the sub-bandgap light, the enhancement of photoinduced voltage occurs.</jats:p>', 'author': [{'given': 'L. E.', 'family': 'Zou', 'sequence': 'first', 'affiliation': [{'name': 'Nanchang University 1 Department of Physics, , 330031 Nanchang, China'}]}, {'given': 'Y. D.', 'family': 'Ge', 'sequence': 'additional', 'affiliation': [{'name': 'Nanchang University 1 Department of Physics, , 330031 Nanchang, China'}]}, {'given': 'Y.', 'family': 'Shen', 'sequence': 'additional', 'affiliation': [{'name': 'Nanchang University 1 Department of Physics, , 330031 Nanchang, China'}]}, {'given': 'B. X.', 'family': 'Chen', 'sequence': 'additional', 'affiliation': [{'name': 'University of Shanghai for Science and Technology 2 School of Optical-Electrical and Computer Engineering, , Shanghai 200093, China'}]}, {'given': 'M.', 'family': 'Iso', 'sequence': 'additional', 'affiliation': [{'name': 'Tokyo University of Agriculture and Technology 3 Department of Chemical Engineering, , Tokyo 184-8588, Japan'}]}], 'issued': {'date-parts': [[2013, 6, 1]]}, 'publisher': 'AIP Publishing', 'title': ['Photoconductivity of amorphous As2S8 chalcogenide film under bandgap light irradiation'], 'type': 'journal-article'}, {'DOI': '10.12681/eadd/53397', 'abstract': '<jats:p>Οι υβριδικοί περοβσκίτες μετάλλου-αλογόνου θεωρούνται μια απο τις πιο υποσχόμενες αναδυόμενες ηλιακές τεχνολογίες με την ταχύτερη εξέλιξη και πιστοποιημένη απόδοση 25.7% ξεπερνώντας τις υπόλοιπες ηλιακές τεχνολογίες λεπτών υμενίων μέσα σε μόλις μια δεκαετία. Πέρα απο τις εκπλητικές οπτοηλεκτρονίκες τους ιδιοτήτες που συνδέονται με τις εντυπωσιακές υψηλές αποδόσεις, οι περοβσκίτες μετάλλου-αλογόνου έχουν την μοναδική ιδιότητα συντονισμού του ενεργειακού χάσματος μέσω διαφοροποίησης των στοιχείων που απαρτίζουν τη δομή. Ως εκ τούτου, καθίσταται δυνατή η βελτιστοποίηση του ενεργειακού χάσματος όχι μόνο για φωτοβολταϊκά κελιά μιας διόδου, αλλά και tandem (διπλής διόδου), τα οποία υπόσχονται αποδόσεις σημαντικά μεγαλύτερες απο τις αντίστοιχες κελιών μιας διόδου ανοίγωντας ένα λαμπρό μέλλον για την ηλιακή ενέργεια. Τα tandem ηλιακά κελιά απαιτούν τον συνδυασμό ενός υλικού-απορροφητή χαμηλού ενεργειακού χασματος και ενός υψηλού ενεργειακού χάσματος. Ως τώρα, οι υψηλότερες αποδόσεις έχουν επιτευχθεί με τη χρήση μιγμάτων μολύβδου (Pb) και κασσίτερου (Sn) για απορροφητές χαμηλού ενεργειακού χάσματος. Ωστόσο, πέρα απο τις υψηλές αποδόσεις, η μακροχρόνια αντοχή αποτελεί επίσης απαραίτητη προϋπόθεση για την εμπορευματοποίηση μιας φωτοβολταϊκής τεχνολογίας. Σε αυτή τη διδακτορική διατριβή, η ενδογενής σταθερότητα των περοβσκιτών μολύβδου-κασσίτερου μελετάται με σκοπό την ταυτοποίηση των κυριών παραγόντων που επηρεάζουν την αντοχή και σταθερότητα των υλικών, των μηχανισμών αποδόμησης και εν τέλει της πιο σταθερής δομής και σύστασης περοβσκίτη μολύβδου κασσίτερου για tandem ηλιακά κελιά περοβσκίτη. Αρχικά, στο 3ο κεφάλαιο περιγράφεται αναλυτικά το πλαίσιο και τα πλεονεκτήματα των tandem ηλιακών κελιών περοβσκίττη υπο το πρίσμα υλικών, κατασκευής, βιωσιμότητας και επιχειρηματικότητας. Παρόλα τα πλεονεκτήματα της συγκεριμένης τεχνολογίας, η οποία χτίζει προσδοκίες για μια πραγματική επανάσταση στον τομέα της ηλιακής ενέργειας, η σταθερότητα των συγκεκριμένων δομών εγείρει αμφιβολίες, και ειδικότερα στην περίπτωση tandem δομών, όπου ο χρόνος ζωής και των δύο στρωμάτων, χαμηλού και υψηλού ενεργειακού χάσματος, πρέπει να είναι παρόμοιος, καθώς η αποδόμηση ακόμα και ενός απο τα δύο κελιά, επηρεάζει σημαντικά την απόδοση της συνολικής δομής. Παρά το γεγονός οτι σημαντική πρόοδος έχει καταγραφεί για τους περοβσκίτες υψηλού ενεργειακού χάσματος, οι περοβσκίτες χαμηλού ενεργειακού φάσματος υστερούν σημαντικά στο κομμάτι της σταθερότητας, κάτι που πηγάζει από την εκ φύσεως τάση του κασσίτερου να οξειδώνεται. Στο 4ο κεφάλαιο, παρουσιάζονται τα αποτελέσματα μιας συγκριτικής μελέτης της σταθερότητας των καλύτερων υποψήφιων δομών περοβσκίτη μολύβδου-κασσίτερου χαμηλού ενεργειακού χάσματος κάτω απο συνθήκες θερμικής και ατμοσφαιρικής καταπόνησης, εστιάζοντας στην επίδραση των στοιχειών και μοριών που αποτελούν τη δομή στους μηχανισμούς αποδόμησης. Αν και η πολυσθενής φύση του κασσίτερου αποτελεί την αχίλλειο πτέρνα των συγκεκριμένων δομών, δε είναι ακόμα ξεκάθαρο αν το κατιόν που καταλαμβάνει την Α-θέση στη δομή έχει επίδραση στην ενδογενή σταθερότητα αυτών των δομών. Ως εκ τούτου, δόθηκε ιδιαίτερη προσοχή στο ρολου του Α-κατιόντος στους μηχανισμούς αποδόμησης των περοβσκιτών μολύνδου-κασσίτερου. Στο 5ο κεφάλαιο μελετήθηκαν οι θεμελιώδεις αρχές της σύστασης στην αποδόμηση. Υπολογισμοί Density Functional Theory (DFT) πραγματοποιήθηκαν για μελετηθούν οι αλλαγές που προκαλούνται στη δομή λόγω διαφοροποίησεων στη σύσταση του περοβσκίτη σε συνδυασμό με την παρουσία οξυγόνου. Επίσης, μετρήσεις ηλεκτρικής αγωγιμότητας δύο ειδών πραγματοποιήθηκαν ώστε να καταγραφεί η εξέλιξη της οξειδωτικής αντίδρασης του κασσίτερου και να κατανοηθούν σε βάθος οι αλλαγές στις οπτολεκτρονικές ιδιότητες. Μετρήσεις n-XRF, πραγματοποιήθηκαν επιπροσθέτως για την μελέτη ύπαρξης ανομοιογενειών σε νανοκλίμακα, πριν ή μετά την έκθεση των περοβσκιτών στην ατμόσφαιρα που μπορεί να να επηρεάσει μακροπρόθεσμα την σταθερότητα αυτών την υλικών αλλά και την επίδραση της σύστασης. Τέλος, στο 6ο κεφάλαιο εναλλακτικές δομές περοβσκίτη μολύβδου-κασσίτερου χαμηλού ενεργειακού χάσματος μελετήθηκαν. Ειδικότερα, έχοντας ως κανόνα τον παράγοντα δομής, Α-κατιόντα μεγαλύτερης ιοντικής ακτίνας εισήχθησαν στη δομή και η επίδραση τους στις δομικές, οπτοηλεκτρονικές και μορφολογικές ιδιότητες μελετήθηκαν παράλληλα με την απόδοση ηλιακών κελιών και τη σταθερότητα τους μετά απο καταπόνηση. Αυτή η δουλειά δίνει έμφαση στην επίδραση της σύστασης στους μηχανισμούς αποδόμησης περοβσκιτών μολύβδου-κασσίτερου και ανοίγει το δρόμο για την εξερρεύνηση αντίστοιχων εναλλακτικών δομών. Πιο συγεκριμένα, το Α-κατιόν καθορίζει τη θερμική σταθερότητα των περοβσκιτών μολύβδου-κασσίτερου και έχει σημαντική επίδραση στους μηχανισμούς αποδόμησης σε ατμοσφαιρικές συνθήκες. Οι προσομοιώσεις με DFT επίσης επιβεβαίωσαν την επιρροή της σύστασης σε δομικές παραμορφώσεις και την ύπαρξη προτιμητέων σημειών εκκίνησης της αποδόμησης που εξαρτώνται απο τη σύσταση. Όσον αφορά τις οπτοηλεκτρονικές ιδιότητες, οι μετρήσεις αγωγιμότητας αποδείχθηκαν ένα σημαντικό εργαλείο για την καταγραφή της αποδόμησης αλλά και για την αξιολογηγη της αρχικής ποιότητας του υλικού, ενώ το Α-κατιόν αποδείχθηκε οτι όχι μόνο επηρεάζει τις αρχικές οπτοηλεκτρονικές ιδιότητες του υλικού αλλά και τον ρυθμό μεταβολής τους κατά την ατμοσφαιρική έκθεση. Προκαταρκτικά δεδομένα από μετρήσεις n-XRF έδειξαν την ύπαρξη ανομοιογενειών σε νανοκλίμακα, τόσο πριν όσο και έπειτα την έκθεση στον αέρα, ένα φαινόμενα άμαεσα συνδεδεμένο με τη σύσταση του υλικού, που μπορεί να διεγείρει αποδόμηση, διαχωρισμό φάσεων και επιδείνωση της απόδοσης των αντίστοιχων φωτοβολταïκών κελιών. Επιπρόσθετα, εναλλακτικοί περοβσκίτες μολύβδου-κασσίτερου χαμηλού ενεργειακού χάσματος σχεδιάστηκαν με την εισαγωγή Α-κατιόντων μεγαλύτερης ιοντικής ακτίνας στη δομή που οδήγησαν δομές με έντονο προτιμητέο προσανατολισμό και λειτουργικά ηλιακά κελιά. Αυτά τα αποτελέσματα συνεισφέρουν σημαντικά στην κατανόηση των κινητήριων δυνάμεων της αποδόμησης των συγκεκριμένων υλικών και του ρόλου του Α-κατιόντος στην σταθερότητα και την δομική ακεραίοτητα της δομής παρέχοντας σημαντικές πληροφορίες για την επιλογή συστάσεων και στρατηγικών που θα βελτιώσουν την σταθερότητα για την ανάπτυξη εμπορευματοποιήσιμων tandem ηλιακών κελιών περοβσκίτη.</jats:p>', 'author': [{'given': 'Χριστίνα', 'family': 'Καμαράκη', 'sequence': 'first', 'affiliation': []}], 'issued': {'date-parts': [[None]]}, 'publisher': 'National Documentation Centre (EKT)', 'title': ['Stability of low bandgap Pb-Sn perovskites'], 'type': 'dissertation'}, {'DOI': '10.1002/adma.201705901', 'abstract': '<jats:title>Abstract</jats:title><jats:p>Despite the rapid progress in solar power conversion efficiency of archetype organic–inorganic hybrid perovskite CH<jats:sub>3</jats:sub>NH<jats:sub>3</jats:sub>PbI<jats:sub>3</jats:sub>‐based solar cells, the long‐term stability and toxicity of Pb remain the main challenges for the industrial deployment, leading to more uncertainties for global commercialization. The poor stabilities of CH<jats:sub>3</jats:sub>NH<jats:sub>3</jats:sub>PbI<jats:sub>3</jats:sub>‐based solar cells may not only be attributed to the organic molecules but also the halides themself, most of which exhibit intrinsic instability under moisture and light. As an alternative, the possibility of oxide perovskites for photovoltaic applications is explored here. The class of lead‐free stable oxide double perovskites A<jats:sub>2</jats:sub>M(III)M(V)O<jats:sub>6</jats:sub> (A = Ca, Sr, Ba; M(III) = Sb<jats:sup>3+</jats:sup> or Bi<jats:sup>3+</jats:sup>; M(V) = V<jats:sup>5+</jats:sup>, Nb<jats:sup>5+</jats:sup>, or Ta<jats:sup>5+</jats:sup>) is comprehensively explored with regard to their stability and their electronic and optical properties. Apart from the strong stability, this class of double perovskites exhibits direct bandgaps ranging from 0.3 to 3.8 eV. With proper B site alloying, the bandgap can be tuned within the range of 1.0–1.6 eV with optical absorptions as strong as CH<jats:sub>3</jats:sub>NH<jats:sub>3</jats:sub>PbI<jats:sub>3</jats:sub>, making them suitable for efficient single‐junction thin‐film solar cell application.</jats:p>', 'author': [{'given': 'Qingde', 'family': 'Sun', 'sequence': 'first', 'affiliation': [{'name': 'Soochow Institute for Energy and Materials InnovationS (SIEMIS) College of Physics Optoelectronics and Energy &amp; Collaborative Innovation Center of Suzhou Nano Science and Technology Soochow University  Suzhou 215006 China'}, {'name': 'Jiangsu Provincial Key Laboratory for Advanced Carbon Materials and Wearable Energy Technologies Soochow University  Suzhou 215006 China'}]}, {'given': 'Jing', 'family': 'Wang', 'sequence': 'additional', 'affiliation': [{'name': 'Soochow Institute for Energy and Materials InnovationS (SIEMIS) College of Physics Optoelectronics and Energy &amp; Collaborative Innovation Center of Suzhou Nano Science and Technology Soochow University  Suzhou 215006 China'}, {'name': 'Jiangsu Provincial Key Laboratory for Advanced Carbon Materials and Wearable Energy Technologies Soochow University  Suzhou 215006 China'}]}, {'ORCID': 'http://orcid.org/0000-0003-0932-2789', 'authenticated-orcid': False, 'given': 'Wan‐Jian', 'family': 'Yin', 'sequence': 'additional', 'affiliation': [{'name': 'Soochow Institute for Energy and Materials InnovationS (SIEMIS) College of Physics Optoelectronics and Energy &amp; Collaborative Innovation Center of Suzhou Nano Science and Technology Soochow University  Suzhou 215006 China'}, {'name': 'Jiangsu Provincial Key Laboratory for Advanced Carbon Materials and Wearable Energy Technologies Soochow University  Suzhou 215006 China'}]}, {'given': 'Yanfa', 'family': 'Yan', 'sequence': 'additional', 'affiliation': [{'name': 'Department of Physics &amp; Astronomy and Wright Center for Photovoltaics Innovation and Commercialization The University of Toledo  Toledo OH 43606 USA'}]}], 'issued': {'date-parts': [[2018, 3, 6]]}, 'publisher': 'Wiley', 'title': ['Bandgap Engineering of Stable Lead‐Free Oxide Double Perovskites for Photovoltaics'], 'type': 'journal-article'}, {'DOI': '10.26434/chemrxiv.14502372', 'abstract': '<jats:p>&lt;div&gt;&lt;div&gt;&lt;div&gt;&lt;p&gt;Mixed halide azetidinium lead perovskites AzPbBr&lt;sub&gt;3-&lt;i&gt;x&lt;/i&gt;&lt;/sub&gt;X&lt;i&gt;&lt;sub&gt;x&lt;/sub&gt;&lt;/i&gt; (X = Cl or I) were obtained by mechanosynthesis. With varying halide composition from Cl- to Br- to I-; the chloride and bromide analogs both form in the hexagonal 6H polytype while the iodide adopts the 9R polytype. An intermediate 4H polytype is observed for mixed Br/I compositions. Overall the structure progresses from 6H to 4H to 9R perovskite polytype with varying halide composition. Rietveld refinement of the powder X-ray diffraction patterns revealed a linear variation in unit cell volume as a function of the average radius of the anion, which is not only observed within the solid solution of each polytype (according to Vegard’s law) but extends uniformly across all three polytypes. This is correlated with a progressive (linear) tuning of the bandgap from 3.41 to 2.00 eV. Regardless of halide, the family of azetidinium halide perovskite polytypes are highly stable, with no discernible change in properties over more than 6 months under ambient conditions&lt;/p&gt;&lt;/div&gt;&lt;/div&gt;&lt;/div&gt;</jats:p>', 'author': [{'given': 'Jiyu', 'family': 'Tian', 'sequence': 'first', 'affiliation': []}, {'given': 'David', 'family': 'Cordes', 'sequence': 'first', 'affiliation': []}, {'given': 'Alexandra', 'family': 'Slawin', 'sequence': 'first', 'affiliation': []}, {'given': 'Eli', 'family': 'Zysman-Colman', 'sequence': 'first', 'affiliation': []}, {'ORCID': 'http://orcid.org/0000-0002-2813-3142', 'authenticated-orcid': False, 'given': 'Finlay', 'family': 'Morrison', 'sequence': 'first', 'affiliation': []}], 'issued': {'date-parts': [[2021, 4, 29]]}, 'publisher': 'American Chemical Society (ACS)', 'title': ['Progressive Polytypism and Bandgap Tuning in Azetidinium Lead Halide Perovskites'], 'type': 'posted-content'}, {'DOI': '10.1002/solr.201800146', 'abstract': '<jats:sec><jats:label /><jats:p>Solution‐process and low‐temperature perovskites have motivated a broad range of interests and intensive studies for applications in solar cells (SCs) and photodetectors (PDs). Perovskite SCs with the bandgap of ≈1.5\\u2009eV currently exhibit the certified efficiency over 22% comparable with those of established thin film technologies. Meanwhile, perovskite PDs achieve superb performances in the visible region compared with commercial Si PDs. Partial substitution of Sn into Pb‐based perovskites can tune the absorption to near‐infrared (NIR) region, which would achieve an ideal‐bandgap perovskite approaching the Shockley–Queisser‐efficiency limit, low‐bandgap perovskite‐based bottom subcells in tandem devices (≈1.2\\u2009eV), and NIR photodetection. Here, various crystallization methods for growing low‐bandgap Sn–Pb binary perovskites are presented. Their impacts on morphology, crystallinity, preferred orientation, carrier lifetimes, Urbach energy, and stability of the resultant Sn–Pb binary perovskites are highlighted. Then, a description is given of single‐junction, 2‐terminal, and 4‐terminal SCs using these perovskites as absorbers, which achieve up‐to‐date efficiencies of 17.8%, 18.4%, and 21.2%, respectively. The current development of ultraviolet–visible–NIR PDs using these perovskites is also discussed. Furthermore, the challenges in controlling inter‐grain Sn/Pb element distributions and perovskite stability, which will influence performance and stability of Sn–Pb perovskite‐based devices, are presented. Finally, potential prospects are discussed for advancing low‐bandgap Sn–Pb binary perovskite‐based optoelectronic devices.</jats:p></jats:sec>', 'author': [{'ORCID': 'http://orcid.org/0000-0002-5944-0989', 'authenticated-orcid': False, 'given': 'Hugh Lu', 'family': 'Zhu', 'sequence': 'first', 'affiliation': [{'name': 'Department of Electrical and Electronic Engineering The University of Hong Kong Hong Kong 999077 SAR China'}]}, {'ORCID': 'http://orcid.org/0000-0002-9535-4076', 'authenticated-orcid': False, 'given': 'Wallace C. H.', 'family': 'Choy', 'sequence': 'additional', 'affiliation': [{'name': 'Department of Electrical and Electronic Engineering The University of Hong Kong Hong Kong 999077 SAR China'}]}], 'issued': {'date-parts': [[2018, 7, 8]]}, 'publisher': 'Wiley', 'title': ['Crystallization, Properties, and Challenges of Low‐Bandgap Sn–Pb Binary Perovskites'], 'type': 'journal-article'}, {'DOI': '10.1002/adma.202401103', 'abstract': '<jats:title>Abstract</jats:title><jats:p>Wide‐bandgap mixed‐halogen perovskite materials are widely used as top cells in tandem solar cells. However, serious open‐circuit voltage (<jats:italic>V</jats:italic><jats:sub>oc</jats:sub>) loss restricts the power conversion efficiency (PCE) of wide‐bandgap perovskite solar cells (PSCs). Herein, it is shown that the resulting methylammonium vacancies induce lattice distortion in methylammonium chloride‐assisted perovskite film, resulting in an inhomogeneous halogen distribution and low <jats:italic>V</jats:italic><jats:sub>oc</jats:sub>. Thus, a lattice strain regulation strategy is reported to fabricate high‐performance wide‐bandgap PSCs. Rubidium (Rb) cations are introduced to fill the A‐site vacancy caused by the methylammonium volatilization, which alleviates shrinkage strain of the perovskite crystal. The reduced lattice distortion and increased halide ion migration barrier result in a homogeneous mixed‐halide perovskite film. Due to improved carrier transport and suppressed nonradiative recombination, the Rb‐treated wide‐bandgap PSC (1.68\\xa0eV) achieves an excellent PCE of 21.72%, accompanied by a high <jats:italic>V</jats:italic><jats:sub>oc</jats:sub> of 1.22\\xa0V. The resulting device maintains more than 90% of its initial PCE after 1500\\xa0h under 1‐sun illumination conditions.</jats:p>', 'author': [{'given': 'Xinhao', 'family': 'Li', 'sequence': 'first', 'affiliation': [{'name': 'Hebei Key Laboratory of Optic‐electronic Information and Materials College of Physics Science and Technology Hebei University  Baoding 071002 China'}]}, {'given': 'Yifan', 'family': 'Li', 'sequence': 'additional', 'affiliation': [{'name': 'Hebei Key Laboratory of Optic‐electronic Information and Materials College of Physics Science and Technology Hebei University  Baoding 071002 China'}]}, {'given': 'Yanxing', 'family': 'Feng', 'sequence': 'additional', 'affiliation': [{'name': 'Department of Chemistry Nankai University  Tianjin 300071 China'}, {'name': 'School of Materials Science and Engineering School of Chemistry and Chemical Engineering Henan Normal University  Xinxiang 453007 China'}]}, {'given': 'Jiahui', 'family': 'Qi', 'sequence': 'additional', 'affiliation': [{'name': 'Hebei Key Laboratory of Optic‐electronic Information and Materials College of Physics Science and Technology Hebei University  Baoding 071002 China'}]}, {'given': 'Jinliang', 'family': 'Shen', 'sequence': 'additional', 'affiliation': [{'name': 'Hebei Key Laboratory of Optic‐electronic Information and Materials College of Physics Science and Technology Hebei University  Baoding 071002 China'}]}, {'given': 'Guodong', 'family': 'Shi', 'sequence': 'additional', 'affiliation': [{'name': 'College of Science Henan University of Technology  Zhengzhou 450001 China'}]}, {'given': 'Shaopeng', 'family': 'Yang', 'sequence': 'additional', 'affiliation': [{'name': 'Hebei Key Laboratory of Optic‐electronic Information and Materials College of Physics Science and Technology Hebei University  Baoding 071002 China'}, {'name': 'Province‐Ministry Co‐construction Collaborative Innovation Center of Hebei Photovoltaic Technology Hebei University  Baoding 071002 China'}]}, {'given': 'Mingjian', 'family': 'Yuan', 'sequence': 'additional', 'affiliation': [{'name': 'Department of Chemistry Nankai University  Tianjin 300071 China'}]}, {'ORCID': 'http://orcid.org/0000-0002-5728-4847', 'authenticated-orcid': False, 'given': 'Tingwei', 'family': 'He', 'sequence': 'additional', 'affiliation': [{'name': 'Hebei Key Laboratory of Optic‐electronic Information and Materials College of Physics Science and Technology Hebei University  Baoding 071002 China'}, {'name': 'Province‐Ministry Co‐construction Collaborative Innovation Center of Hebei Photovoltaic Technology Hebei University  Baoding 071002 China'}]}], 'issued': {'date-parts': [[2024, 2, 26]]}, 'publisher': 'Wiley', 'title': ['Strain Regulation of Mixed‐Halide Perovskites Enables High‐Performance Wide‐Bandgap Photovoltaics'], 'type': 'journal-article'}]\n"
     ]
    }
   ],
   "source": [
    "from crossref.restful import Works\n",
    "import json\n",
    "\n",
    "# Initialize Works with a timeout\n",
    "works = Works(timeout=90)\n",
    "\n",
    "# Perform the search for sources on the topic of chalcogenide perovskites\n",
    "try:\n",
    "    query_result = works.query(bibliographic='chalcogenide perovskites bandgap').filter(has_abstract='true').sort('relevance').select(\n",
    "        'DOI', 'title', 'author', 'type', 'publisher', 'issued', 'abstract').sample(10)\n",
    "\n",
    "    # Convert the query results to a list\n",
    "    results = [item for item in query_result]\n",
    "\n",
    "    # Save results including their metadata in a JSON file\n",
    "    with open('chalcogenide_perovskites_results.json', 'w') as file:\n",
    "        json.dump(results, file, indent=4)\n",
    "\n",
    "    # Print results\n",
    "    print(results)\n",
    "\n",
    "except Exception as e:\n",
    "    print(f\"An error occurred: {e}\")\n"
   ]
  },
  {
   "cell_type": "markdown",
   "metadata": {},
   "source": [
    "## Parsing papers "
   ]
  },
  {
   "cell_type": "markdown",
   "metadata": {},
   "source": [
    "## Retrieving Structured Data with an LLM"
   ]
  },
  {
   "cell_type": "markdown",
   "metadata": {},
   "source": []
  }
 ],
 "metadata": {
  "kernelspec": {
   "display_name": "base",
   "language": "python",
   "name": "python3"
  },
  "language_info": {
   "codemirror_mode": {
    "name": "ipython",
    "version": 3
   },
   "file_extension": ".py",
   "mimetype": "text/x-python",
   "name": "python",
   "nbconvert_exporter": "python",
   "pygments_lexer": "ipython3",
   "version": "3.9.7"
  }
 },
 "nbformat": 4,
 "nbformat_minor": 2
}
