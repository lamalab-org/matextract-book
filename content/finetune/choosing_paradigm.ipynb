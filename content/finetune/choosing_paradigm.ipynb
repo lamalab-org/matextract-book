{
 "cells": [
  {
   "cell_type": "markdown",
   "id": "f94696b6",
   "metadata": {},
   "source": [
    "# Choosing the learning paradigm"
   ]
  },
  {
   "cell_type": "markdown",
   "id": "0c2256ec-dc16-48dc-a10d-688955aa3148",
   "metadata": {},
   "source": [
    "```{warning}\n",
    "To run this Notebook, you will need access to at least one GPU. The results that are printed were obtained using a single A100 graphic card with 80 GB of memory. Note that even using such a powerful GPU took the notebook more than 10 hours to complete.\n",
    "```"
   ]
  },
  {
   "cell_type": "markdown",
   "id": "9c49bea5",
   "metadata": {},
   "source": [
    "This book aims to illustrate with a practical example how to decide which learning paradigm is better for each application. To demonstrate the process, we will extract some information about chemical reactions from paragraphs of text."
   ]
  },
  {
   "cell_type": "markdown",
   "id": "496df9f4",
   "metadata": {},
   "source": [
    "## First steps"
   ]
  },
  {
   "cell_type": "markdown",
   "id": "e3ebabaf",
   "metadata": {},
   "source": [
    "Choosing the learning paradigm should begin by trying some leading general-purpose LLM. For this practical case, the first model to test is the recent Llama-3 8B model with zero and one-shot prompts."
   ]
  },
  {
   "cell_type": "markdown",
   "id": "391713cc",
   "metadata": {},
   "source": [
    "We will start by importing all the packages needed."
   ]
  },
  {
   "cell_type": "code",
   "execution_count": 2,
   "id": "1777e540",
   "metadata": {},
   "outputs": [],
   "source": [
    "import json\n",
    "from dotenv import load_dotenv\n",
    "\n",
    "import torch\n",
    "from datasets import (\n",
    "    load_dataset,\n",
    "    Dataset,\n",
    ")\n",
    "from transformers import (\n",
    "    AutoModelForCausalLM,\n",
    "    AutoTokenizer,\n",
    "    BitsAndBytesConfig,\n",
    "    TrainingArguments,\n",
    "    pipeline,\n",
    ")\n",
    "from transformers.pipelines.pt_utils import KeyDataset\n",
    "from peft import (\n",
    "    LoraConfig,\n",
    ")\n",
    "from trl import (\n",
    "    SFTTrainer,\n",
    "    DataCollatorForCompletionOnlyLM,\n",
    ")\n",
    "from evaluate import load\n",
    "# import litellm\n",
    "# from litellm import completion\n",
    "# from litellm.caching import Cache\n",
    "from statistics import mean\n",
    "import numpy as np \n",
    "import matplotlib.pyplot as plt \n",
    "import llmstructdata"
   ]
  },
  {
   "cell_type": "markdown",
   "id": "9e0dcf5f",
   "metadata": {},
   "source": [
    "To continue, we will allow `LiteLLM` to cache requests made to LLM-APIs. Additionally, we will import all environment variables.\n",
    "\n",
    "```{margin}\n",
    "Note that using the environment variables is the safest way of keeping personal API keys secret.\n",
    "```"
   ]
  },
  {
   "cell_type": "markdown",
   "id": "a7e82b75",
   "metadata": {},
   "source": [
    "## First model and dataset"
   ]
  },
  {
   "cell_type": "markdown",
   "id": "8ba3fa61",
   "metadata": {},
   "source": [
    "```{margin}\n",
    "Groq provides some of the most popular open-source models, such as Llama or Mixtral models, with a high inference speed. To use the Groq API, the `.env` file must also contain the `GROQ_API_KEY`.\n",
    "```"
   ]
  },
  {
   "cell_type": "markdown",
   "id": "782b1daf",
   "metadata": {},
   "source": [
    "As starting model, we will try the Llama-3 8B model. We will call this model through the Groq API, which allows performing fast inference with several open-source models."
   ]
  },
  {
   "cell_type": "code",
   "execution_count": 5,
   "id": "1b3dae40",
   "metadata": {},
   "outputs": [],
   "source": [
    "base_model = \"groq/llama3-8b-8192\""
   ]
  },
  {
   "cell_type": "markdown",
   "id": "5b977d34",
   "metadata": {},
   "source": [
    "```{margin}\n",
    "**ORD** stands for Open Reaction Database, a comprehensive data structure specially designed to describe all the elements involved in chemical reactions.\n",
    "```"
   ]
  },
  {
   "cell_type": "markdown",
   "id": "c3e61119",
   "metadata": {},
   "source": [
    "The dataset used in this tutorial is the one used in {cite:t}`Ai_2024` recent work, which contains data about chemical reactions extracted by text-mined from United States patents. The dataset, the so-called [USPTO-ORD-100K dataset](https://figshare.com/articles/dataset/Chemical_reactions_from_US_patents_1976-Sep2016_/5104873), contains 100K reaction procedure ORD-JSON pairs. "
   ]
  },
  {
   "cell_type": "markdown",
   "id": "b3f8df5d",
   "metadata": {},
   "source": [
    "```{admonition} Download data\n",
    ":class: tip, dropdown\n",
    "\n",
    "The best way to obtain the data is to install the GitHub repository of the Ai et al. work and take it from there. To do so, run the following commands: \n",
    "\n",
    "        !git clone https://github.com/qai222/LLM_organic_synthesis.git \\\n",
    "        !cp LLM_organic_synthesis/workplace_data/datasets/USPTO-n100k-t2048_exp1.7z .\\\n",
    "        !7za x USPTO-n100k-t2048_exp1.7z\\\n",
    "        !cp USPTO-n100k-t2048_exp1/*.json .\\\n",
    "        !rm -rf USPTO-n100k-t2048_exp1/ USPTO-n100k-t2048_exp1.7z LLM_organic_synthesis\\\n",
    "\n",
    "This will leave four `.json` files in your current directory that contain all the data used here.\n",
    "```"
   ]
  },
  {
   "cell_type": "markdown",
   "id": "2165bcd3-1ba9-4d10-972a-e84dc74ea450",
   "metadata": {},
   "source": [
    "```{margin}\n",
    "Note that we only selected 100 samples from the test set. This will be enough for the demo shown here.\n",
    "```"
   ]
  },
  {
   "cell_type": "code",
   "execution_count": 6,
   "id": "0c5711cd",
   "metadata": {},
   "outputs": [
    {
     "data": {
      "text/plain": [
       "Dataset({\n",
       "    features: ['instruction', 'output'],\n",
       "    num_rows: 100\n",
       "})"
      ]
     },
     "execution_count": 6,
     "metadata": {},
     "output_type": "execute_result"
    }
   ],
   "source": [
    "test_ds_path = \"test.json\"\n",
    "test_dataset = load_dataset(\"json\", data_files=test_ds_path, split=\"train\")\n",
    "test_dataset = test_dataset.shuffle(seed=42).select(range(100))\n",
    "test_dataset"
   ]
  },
  {
   "cell_type": "markdown",
   "id": "b8d1c2be-7681-4087-bc31-8e335d9e9dd9",
   "metadata": {},
   "source": [
    "```{margin}\n",
    "Note that the output comes in JSON format. For this simple example, we will not constrain the output to JSON format. However, to ensure good results, this constraining must be done. The chapter [\"Constrained decoding and enforcing valid outputs\"] (./file-you-link-to.qmd) provides explanations and examples about the options and how to constrain the output.\n",
    "```"
   ]
  },
  {
   "cell_type": "code",
   "execution_count": 7,
   "id": "24431fb3-ef0d-4945-818b-3a051b4e5c61",
   "metadata": {},
   "outputs": [
    {
     "data": {
      "text/plain": [
       "{'instruction': 'Below is a description of an organic reaction. Extract information from it to an ORD JSON record.\\n\\n### Procedure:\\nThe procedure of Example 1a) was repeated, except that 743 mg of 4-nitrobenzyl (1R,3R,5R,6S)-6-((1R)-1-hydroxyethyl)-1-methyl-2-oxo-1-carbapenam-3-carboxylate and 1.06 g 2-(tri-n-butylstannyl)-7-trifluoromethylthioimidazo[5,1-b]thiazole were used as the starting compounds. Thus, 172 mg of 4-nitrobenzyl (1S,5R,6S)-6-((1R)-1-hydroxyethyl)-1-methyl-2-(7-trifluoromethylthioimidazo[5,1-b]thiazol-2-yl)-1-carbapen-2-em-3-carboxylate was prepared.\\n\\n### ORD JSON:\\n',\n",
       " 'output': '{\"inputs\": {\"m1\": {\"components\": [{\"identifiers\": [{\"type\": \"NAME\", \"value\": \"4-nitrobenzyl (1R,3R,5R,6S)-6-((1R)-1-hydroxyethyl)-1-methyl-2-oxo-1-carbapenam-3-carboxylate\"}], \"amount\": {\"mass\": {\"value\": 743.0, \"units\": \"MILLIGRAM\"}}, \"reaction_role\": \"REACTANT\"}]}, \"m2\": {\"components\": [{\"identifiers\": [{\"type\": \"NAME\", \"value\": \"2-(tri-n-butylstannyl)-7-trifluoromethylthioimidazo[5,1-b]thiazole\"}], \"amount\": {\"mass\": {\"value\": 1.06, \"units\": \"GRAM\"}}, \"reaction_role\": \"REACTANT\"}]}}, \"conditions\": {\"conditions_are_dynamic\": true}, \"outcomes\": [{\"products\": [{\"identifiers\": [{\"type\": \"NAME\", \"value\": \"4-nitrobenzyl (1S,5R,6S)-6-((1R)-1-hydroxyethyl)-1-methyl-2-(7-trifluoromethylthioimidazo[5,1-b]thiazol-2-yl)-1-carbapen-2-em-3-carboxylate\"}], \"measurements\": [{\"type\": \"AMOUNT\", \"details\": \"MASS\", \"amount\": {\"mass\": {\"value\": 172.0, \"units\": \"MILLIGRAM\"}}}], \"reaction_role\": \"PRODUCT\"}]}]}'}"
      ]
     },
     "execution_count": 7,
     "metadata": {},
     "output_type": "execute_result"
    }
   ],
   "source": [
    "test_dataset[0]"
   ]
  },
  {
   "cell_type": "markdown",
   "id": "00cf630b",
   "metadata": {},
   "source": [
    "This dataset is very big. Therefore, we will only take 100 samples from the test set used in the article mentioned above for our test set."
   ]
  },
  {
   "cell_type": "markdown",
   "id": "6accdc51",
   "metadata": {},
   "source": [
    "## Prompt and Inference"
   ]
  },
  {
   "cell_type": "markdown",
   "id": "fb6bc953",
   "metadata": {},
   "source": [
    "We define a simple prompt template. The prompt contains a simple system part (named **PREFIX**) where the role and task of the model are defined, as well as the example used only for the one-shot prompt. Additionally, the prompt has a *user* prompt where the reaction instruction will be provided."
   ]
  },
  {
   "cell_type": "markdown",
   "id": "44edaac7-3bd9-4a10-90a0-0a979ea3bf2d",
   "metadata": {},
   "source": [
    "```{margin}\n",
    "**PREFIX** is supposed to be the content of the system prompt.\n",
    "**SUFFIX** is the user prompt.\n",
    "**SHOT** is the 1-shot prompt that will be added to the system prompt when used.\n",
    "```"
   ]
  },
  {
   "cell_type": "code",
   "execution_count": 8,
   "id": "d274b45c",
   "metadata": {},
   "outputs": [],
   "source": [
    "PREFIX = \"\"\"You are a helpful scientific assistant. Your task is to extract information about organic reactions. {shot}\"\"\"\n",
    "SUFFIX = \"\"\"\\n\\n{sample}\\n\\n\"\"\"\n",
    "SHOT = \"\"\"\n",
    "One example is provided to you to show how to perform the task:\n",
    "\n",
    "### Procedure:\\nA suspension of 8 g of the product of Example 7 and 0.4 g of DABCO in 90 ml of xylenes were heated under N2 at 130\\u00b0-135\\u00b0 C. while 1.8 ml of phosgene was added portionwise at a rate to maintain a reflux temperature of about 130\\u00b0-135\\u00b0 C. The mixture was refluxed an additional two hours, cooled under N2 to room temperature, filtered, and the filtrate was concentrated in vacuo to yield 6.9 g of the subject compound as a crude oil.\\n\\n\n",
    "### ORD JSON:\\n{\\\"inputs\\\": {\\\"m1_m2_m4\\\": {\\\"components\\\": [{\\\"identifiers\\\": [{\\\"type\\\": \\\"NAME\\\", \\\"value\\\": \\\"product\\\"}], \\\"amount\\\": {\\\"mass\\\": {\\\"value\\\": 8.0, \\\"units\\\": \\\"GRAM\\\"}}, \\\"reaction_role\\\": \\\"REACTANT\\\"}, {\\\"identifiers\\\": [{\\\"type\\\": \\\"NAME\\\", \\\"value\\\": \\\"DABCO\\\"}], \\\"amount\\\": {\\\"mass\\\": {\\\"value\\\": 0.4, \\\"units\\\": \\\"GRAM\\\"}}, \\\"reaction_role\\\": \\\"REACTANT\\\"}, {\\\"identifiers\\\": [{\\\"type\\\": \\\"NAME\\\", \\\"value\\\": \\\"xylenes\\\"}], \\\"amount\\\": {\\\"volume\\\": {\\\"value\\\": 90.0, \\\"units\\\": \\\"MILLILITER\\\"}}, \\\"reaction_role\\\": \\\"SOLVENT\\\"}]}, \\\"m3\\\": {\\\"components\\\": [{\\\"identifiers\\\": [{\\\"type\\\": \\\"NAME\\\", \\\"value\\\": \\\"phosgene\\\"}], \\\"amount\\\": {\\\"volume\\\": {\\\"value\\\": 1.8, \\\"units\\\": \\\"MILLILITER\\\"}}, \\\"reaction_role\\\": \\\"REACTANT\\\"}]}}, \\\"conditions\\\": {\\\"temperature\\\": {\\\"control\\\": {\\\"type\\\": \\\"AMBIENT\\\"}}, \\\"conditions_are_dynamic\\\": true}, \\\"workups\\\": [{\\\"type\\\": \\\"ADDITION\\\", \\\"details\\\": \\\"was added portionwise at a rate\\\"}, {\\\"type\\\": \\\"TEMPERATURE\\\", \\\"details\\\": \\\"to maintain a reflux temperature of about 130\\\\u00b0-135\\\\u00b0 C\\\"}, {\\\"type\\\": \\\"TEMPERATURE\\\", \\\"details\\\": \\\"The mixture was refluxed an additional two hours\\\", \\\"duration\\\": {\\\"value\\\": 2.0, \\\"units\\\": \\\"HOUR\\\"}}, {\\\"type\\\": \\\"FILTRATION\\\", \\\"details\\\": \\\"filtered\\\"}, {\\\"type\\\": \\\"CONCENTRATION\\\", \\\"details\\\": \\\"the filtrate was concentrated in vacuo\\\"}], \\\"outcomes\\\": [{\\\"products\\\": [{\\\"identifiers\\\": [{\\\"type\\\": \\\"NAME\\\", \\\"value\\\": \\\"subject compound\\\"}], \\\"measurements\\\": [{\\\"type\\\": \\\"AMOUNT\\\", \\\"details\\\": \\\"MASS\\\", \\\"amount\\\": {\\\"mass\\\": {\\\"value\\\": 6.9, \\\"units\\\": \\\"GRAM\\\"}}}], \\\"reaction_role\\\": \\\"PRODUCT\\\"}]}]}\n",
    "\\n\n",
    "\"\"\""
   ]
  },
  {
   "cell_type": "markdown",
   "id": "7ece9187",
   "metadata": {},
   "source": [
    "To continue, we loop all over the dataset two times, one for each type of prompt (zero- and one-shot). For each dataset sample, we format the prompt to include the procedure-output schema pairs using the template defined in the previous cell. In addition, we also predict using the model and store those predictions for future evaluation."
   ]
  },
  {
   "cell_type": "markdown",
   "id": "9198f48f-8267-46b8-9d5f-2177fadcde72",
   "metadata": {},
   "source": [
    "```{margin}\n",
    "The beauty of `LiteLLM` is that it allows obtaining completions from models by different providers using the [OpenAI prompt completions' schema](https://platform.openai.com/docs/api-reference/chat/create) for all providers:\n",
    "\n",
    "`{\"role\": \"system\", \"content\": system_message},\n",
    "{\"role\": \"user\", \"content\": user_message}`\n",
    "```"
   ]
  },
  {
   "cell_type": "markdown",
   "id": "91d8fb04-a5a2-4330-90f4-4e8555cfe991",
   "metadata": {},
   "source": [
    "shots = [\"0-shot\", \"1-shot\"]\n",
    "results_llama = {}\n",
    "\n",
    "# Start by looping over the shots\n",
    "for s in shots:\n",
    "    predictions = []\n",
    "    references = []\n",
    "\n",
    "    # Loop over all the samples of the dataset\n",
    "    for t in test_dataset:\n",
    "        instruction = t[\"instruction\"]\n",
    "        output = t[\"output\"]\n",
    "        # Format the prompt\n",
    "        if s == \"0-shot\":\n",
    "            shot = \"\"\n",
    "        else:\n",
    "            shot = SHOT\n",
    "        system = PREFIX.format(shot=shot)\n",
    "        user = SUFFIX.format(sample=instruction)\n",
    "        prompt = [\n",
    "            {\"role\": \"system\", \"content\": system},\n",
    "            {\"role\": \"user\", \"content\": user},\n",
    "        ]\n",
    "        # Do the completion using Groq API through LiteLLM\n",
    "        pred = (\n",
    "            completion(\n",
    "                model=base_model,\n",
    "                messages=prompt,\n",
    "                caching=True,\n",
    "                temperature=0,\n",
    "            )\n",
    "            .choices[0]\n",
    "            .message.content\n",
    "        )\n",
    "        # Save the predictions and the references for later evaluation\n",
    "        references.append(output)\n",
    "        predictions.append(pred)\n",
    "\n",
    "    results_llama[s] = {\n",
    "        \"predictions\": predictions,\n",
    "        \"references\": references,\n",
    "    }"
   ]
  },
  {
   "cell_type": "markdown",
   "id": "a67caa2b",
   "metadata": {},
   "source": [
    "After generating the predictions, it's essential to evaluate them. We will initially use the BERTScore for a simple evaluation, as it provides precision, recall, and F$_1$ scores based on similarity measures. However, for a complex schema like the one we are predicting, more robust evaluation methods should be utilized. (REF EVALUATION CHAPTER)\n",
    "\n",
    "\n",
    "```{admonition}  Notes about BERTScore\n",
    ":class: tip, dropdown\n",
    "BERTScore {cite}`zhang2020bertscore` is an evaluation method that proceeds by calculating the similarity of the candidate text with the reference. This similarity is calculated as a sum of cosine similarities token by token. To produce the embeddings this similarity calculation, in the original article, they used the BERT model's embeddings. However, for our case we will be using the embeddings from the DistilBERT model {cite}`sanh2020distilbert` which achieves 97% of the original BERT model language understanding while only being 40% the size of BERT original model.\n",
    "```"
   ]
  },
  {
   "cell_type": "markdown",
   "id": "b9e91e17-3ea7-433a-8b05-1947a6d06d52",
   "metadata": {
    "tags": [
     "remove-output"
    ]
   },
   "source": [
    "bertscore = load(\"bertscore\")\n",
    "shots = [\"0-shot\", \"1-shot\"]\n",
    "\n",
    "# Start by looping over the shots\n",
    "for s in shots:\n",
    "    predictions = results_llama[s][\"predictions\"]\n",
    "    references = results_llama[s][\"references\"]\n",
    "\n",
    "    results_ = bertscore.compute(\n",
    "        predictions=predictions,\n",
    "        references=references,\n",
    "        model_type=\"distilbert-base-uncased\",\n",
    "    )\n",
    "\n",
    "    results_llama[s].update(\n",
    "        {\n",
    "            \"precision\": mean(results_[\"precision\"]),\n",
    "            \"recall\": mean(results_[\"recall\"]),\n",
    "            \"f1_scores\": mean(results_[\"f1\"]),\n",
    "        }\n",
    "    )"
   ]
  },
  {
   "cell_type": "code",
   "execution_count": 10,
   "id": "e00ac6d8-37d4-4742-84e3-e96fc6426a5c",
   "metadata": {
    "tags": [
     "remove-input"
    ]
   },
   "outputs": [
    {
     "name": "stdout",
     "output_type": "stream",
     "text": [
      "Results for the 0-shot prompt\n",
      "\tPrecision: 0.865\n",
      "\tRecall: 0.8918\n",
      "\tF1-Score: 0.8781\n",
      "\n",
      "Results for the 1-shot prompt\n",
      "\tPrecision: 0.9392\n",
      "\tRecall: 0.9553\n",
      "\tF1-Score: 0.9471\n",
      "\n"
     ]
    }
   ],
   "source": [
    "# Print the results\n",
    "for s in shots:\n",
    "    print(f\"Results for the {s} prompt\")\n",
    "    print(f\"\\tPrecision: {round(results_llama[s][\"precision\"], 4)}\")\n",
    "    print(f\"\\tRecall: {round(results_llama[s][\"recall\"], 4)}\")\n",
    "    print(f\"\\tF1-Score: {round(results_llama[s][\"f1_scores\"], 4)}\\n\")"
   ]
  },
  {
   "cell_type": "markdown",
   "id": "2b348dea-10c5-41ee-8f4e-c8c8a8cc6985",
   "metadata": {},
   "source": [
    "The results are excellent, especially with the one-shot prompt. However, we are going to try a different model, a closed-source model, to compare."
   ]
  },
  {
   "cell_type": "code",
   "execution_count": 11,
   "id": "5de99d9e-d777-4605-9e8a-6a9ae797b49a",
   "metadata": {
    "tags": [
     "remove-cell"
    ]
   },
   "outputs": [],
   "source": [
    "# Remember to save the results for future evaluation!\n",
    "with open(\"Llama_results.json\", \"w\") as f:\n",
    "    json.dump(results_llama, f, indent=4)"
   ]
  },
  {
   "cell_type": "markdown",
   "id": "c3e6ddbe",
   "metadata": {},
   "source": [
    "## Another model, closed-source this time"
   ]
  },
  {
   "cell_type": "markdown",
   "id": "86603155",
   "metadata": {},
   "source": [
    "The second model we will use is the newer OpenAI, GPT-4o. Doing this allows us to compare open- and closed-source models."
   ]
  },
  {
   "cell_type": "markdown",
   "id": "31cda5ff",
   "metadata": {},
   "source": [
    "The procedure and code are exactly the same as for the previous case; the only difference is to define a different model."
   ]
  },
  {
   "cell_type": "markdown",
   "id": "5bad7850-dc12-4cfd-8c71-338c95895f06",
   "metadata": {},
   "source": [
    "```{margin}\n",
    "OpenAI models are also supported by the `LiteLLM` package.\n",
    "```"
   ]
  },
  {
   "cell_type": "code",
   "execution_count": 12,
   "id": "41f62cbd",
   "metadata": {},
   "outputs": [],
   "source": [
    "base_model = \"gpt-4o\""
   ]
  },
  {
   "cell_type": "markdown",
   "id": "517cc695",
   "metadata": {},
   "source": [
    "And we obtain the completions using both prompts for all the test samples."
   ]
  },
  {
   "cell_type": "markdown",
   "id": "ed422c9a-8ad1-40c8-bcd3-6859639893a7",
   "metadata": {
    "tags": [
     "remove-output"
    ]
   },
   "source": [
    "results_openai = {}\n",
    "shots = [\"0-shot\", \"1-shot\"]\n",
    "\n",
    "# Start by looping over the shots\n",
    "for s in shots:\n",
    "    predictions = []\n",
    "    references = []\n",
    "\n",
    "    # Loop over all the samples of the dataset\n",
    "    for t in test_dataset:\n",
    "        instruction = t[\"instruction\"]\n",
    "        output = t[\"output\"]\n",
    "        # Format the prompt following OpenAI's prompting guidelines\n",
    "        if s == \"0-shot\":\n",
    "            shot = \"\"\n",
    "        else:\n",
    "            shot = SHOT\n",
    "        system = PREFIX.format(shot=shot)\n",
    "        user = SUFFIX.format(sample=instruction)\n",
    "        prompt = [\n",
    "            {\"role\": \"system\", \"content\": system},\n",
    "            {\"role\": \"user\", \"content\": user},\n",
    "        ]\n",
    "        # Do the completion using Groq API through LiteLLM\n",
    "        pred = (\n",
    "            completion(\n",
    "                model=base_model,\n",
    "                messages=prompt,\n",
    "                caching=True,\n",
    "                temperature=0,\n",
    "            )\n",
    "            .choices[0]\n",
    "            .message.content\n",
    "        )\n",
    "        # Remove some residual stuff in the json output by the model.\n",
    "        if \"```json\" in pred:\n",
    "            pred = pred.replace(\"```json\\n\", \"\")\n",
    "            pred = pred.replace(\"```\", \"\")\n",
    "\n",
    "        # Save the predictions and the references for later evaluation\n",
    "        references.append(output)\n",
    "        predictions.append(pred)\n",
    "\n",
    "    results_openai[s] = {\n",
    "        \"predictions\": predictions,\n",
    "        \"references\": references,\n",
    "    }"
   ]
  },
  {
   "cell_type": "markdown",
   "id": "15351952",
   "metadata": {},
   "source": [
    "Finally, we evaluate again using BERTScore. "
   ]
  },
  {
   "cell_type": "markdown",
   "id": "07ff0494-e50a-403d-ac7c-988463d978d1",
   "metadata": {
    "tags": [
     "remove-output"
    ]
   },
   "source": [
    "for s in shots:\n",
    "    predictions = results_openai[s][\"predictions\"]\n",
    "    references = results_openai[s][\"references\"]\n",
    "\n",
    "    results_ = bertscore.compute(\n",
    "        predictions=predictions,\n",
    "        references=references,\n",
    "        model_type=\"distilbert-base-uncased\",\n",
    "    )\n",
    "\n",
    "    results_openai[s].update(\n",
    "        {\n",
    "            \"precision\": mean(results_[\"precision\"]),\n",
    "            \"recall\": mean(results_[\"recall\"]),\n",
    "            \"f1_scores\": mean(results_[\"f1\"]),\n",
    "        }\n",
    "    )"
   ]
  },
  {
   "cell_type": "code",
   "execution_count": 14,
   "id": "2da785b5-f7a0-4fd5-b0ff-ed7057a7308b",
   "metadata": {
    "tags": [
     "remove-input"
    ]
   },
   "outputs": [
    {
     "name": "stdout",
     "output_type": "stream",
     "text": [
      "Results for the 0-shot prompt\n",
      "\tPrecision: 0.8949\n",
      "\tRecall: 0.9093\n",
      "\tF1-Score: 0.9019\n",
      "\n",
      "Results for the 1-shot prompt\n",
      "\tPrecision: 0.9545\n",
      "\tRecall: 0.9619\n",
      "\tF1-Score: 0.9581\n",
      "\n"
     ]
    }
   ],
   "source": [
    "# Print the results\n",
    "for s in shots:\n",
    "    print(f\"Results for the {s} prompt\")\n",
    "    print(f\"\\tPrecision: {round(results_openai[s]['precision'], 4)}\")\n",
    "    print(f\"\\tRecall: {round(results_openai[s]['recall'], 4)}\")\n",
    "    print(f\"\\tF1-Score: {round(results_openai[s]['f1_scores'], 4)}\\n\")"
   ]
  },
  {
   "cell_type": "markdown",
   "id": "8007a3d8-ba1b-4424-a41f-eba3ec1e07e2",
   "metadata": {},
   "source": [
    "The results with this GPT-4o model are excellent, improving slightly on the ones obtained with the Llama-3 8B base model. However, we are going to try to improve these results further by fine-tuning the Llama-3 8B model."
   ]
  },
  {
   "cell_type": "code",
   "execution_count": 15,
   "id": "cc829c78-8c46-4ba0-8d44-7d58e92f986d",
   "metadata": {
    "tags": [
     "remove-cell"
    ]
   },
   "outputs": [],
   "source": [
    "# Remember to safe the results for future evaluation!\n",
    "with open(\"OpenAI_results.json\", \"w\") as f:\n",
    "    json.dump(results_openai, f, indent=4)"
   ]
  },
  {
   "cell_type": "markdown",
   "id": "8407d832",
   "metadata": {},
   "source": [
    "## Fine-tuning"
   ]
  },
  {
   "cell_type": "markdown",
   "id": "eb51e704",
   "metadata": {},
   "source": [
    "As the final step, we will fine-tune the Llama-3 8B using data similar to the one we used above."
   ]
  },
  {
   "cell_type": "markdown",
   "id": "dfd8af77",
   "metadata": {},
   "source": [
    "We will use packages built by [HuggingFace](https://huggingface.co/) to do the fine-tuning."
   ]
  },
  {
   "cell_type": "markdown",
   "id": "af1f4248",
   "metadata": {},
   "source": [
    "First, we define the base model we will use and the path of the dataset. "
   ]
  },
  {
   "cell_type": "code",
   "execution_count": 16,
   "id": "e4470537",
   "metadata": {},
   "outputs": [],
   "source": [
    "# Model\n",
    "base_model = \"meta-llama/Meta-Llama-3-8B-Instruct\""
   ]
  },
  {
   "cell_type": "markdown",
   "id": "31412f42",
   "metadata": {},
   "source": [
    "```{caution}\n",
    "It is important to include the `HF_token` in the `.env` file. When we created this notebook, the model we will fine-tune (Llama3-8B) was only available after an access request. \n",
    "```"
   ]
  },
  {
   "cell_type": "markdown",
   "id": "330aff3c",
   "metadata": {},
   "source": [
    "The next step is to load the dataset for the fine-tuning. For that, similar to the testing of the previous models, we will use the dataset used by Ai et al., but for this case, we will use their train dataset. Since this is a quick demonstration, we will only take 5000 samples."
   ]
  },
  {
   "cell_type": "code",
   "execution_count": 17,
   "id": "37b7756e",
   "metadata": {},
   "outputs": [
    {
     "data": {
      "text/plain": [
       "DatasetDict({\n",
       "    train: Dataset({\n",
       "        features: ['instruction', 'output'],\n",
       "        num_rows: 4500\n",
       "    })\n",
       "    test: Dataset({\n",
       "        features: ['instruction', 'output'],\n",
       "        num_rows: 500\n",
       "    })\n",
       "})"
      ]
     },
     "execution_count": 17,
     "metadata": {},
     "output_type": "execute_result"
    }
   ],
   "source": [
    "dataset = load_dataset(\"json\", data_files=\"train.json\", split=\"train\")\n",
    "dataset = dataset.shuffle(seed=42).select(\n",
    "    range(5000)\n",
    ")  # Only use 5000 samples for quick demo\n",
    "dataset = dataset.train_test_split(\n",
    "    test_size=0.1, seed=42\n",
    ")  # We define 90-10 % training-evaluation splits.\n",
    "dataset"
   ]
  },
  {
   "cell_type": "markdown",
   "id": "1731608d",
   "metadata": {},
   "source": [
    "Then, we define the method to fine-tune the model. For this fine-tuning, we will use the popular QLoRA method. QLoRA {cite}`dettmers2023qlora` is an efficient approach that reduces memory usage during fine-tuning while preserving full fine-tuning task performance."
   ]
  },
  {
   "cell_type": "markdown",
   "id": "1aee542f-6eff-40d2-9c75-e49c6ca49794",
   "metadata": {},
   "source": [
    "```{admonition} Notes about QLoRA configuration\n",
    ":class: tip, dropdown\n",
    "\n",
    "- `load_in_4bit=True`: loads the model using the 4-bit quantization.\n",
    "- `bnb_4bit_quant_type=\"nf4\"`: quantizes following the nf4 method, using a novel datatype `nf4` (4-bit Normal Float) that is optimized for normally distributed data.{cite}`dettmers20228bit`\n",
    "- `bnb_4bit_use_double_quant=True`: activate nested quantization for 4-bit base models.\n",
    "- `bnb_4bit_compute_dtype=torch.bfloat16`: Compute dtype for 4-bit base models.\n",
    "```"
   ]
  },
  {
   "cell_type": "code",
   "execution_count": 18,
   "id": "f3a1cc83",
   "metadata": {},
   "outputs": [],
   "source": [
    "# QLoRA configuration\n",
    "bnb_config = BitsAndBytesConfig(\n",
    "    load_in_4bit=True,\n",
    "    bnb_4bit_quant_type=\"nf4\",  # fp4 or nf4\n",
    "    bnb_4bit_use_double_quant=True,\n",
    "    bnb_4bit_compute_dtype=torch.bfloat16,\n",
    ")"
   ]
  },
  {
   "cell_type": "markdown",
   "id": "12e9d59b-6466-40dd-9a79-4c0fe2ba7da4",
   "metadata": {},
   "source": [
    "````{admonition} Notes about LoRA configuration\n",
    ":class: tip, dropdown\n",
    "\n",
    "- `r`: The rank of the updated matrices, expressed as integer, meaning that the adaptor that is build in top of the model to improved will be made by matrices of rank 32. Lower rank results in smaller update matrices with fewer trainable parameters that can not be enough to capture the diverse data during the training. On the other hand, higher ranks may lead to overfitting. This rank is a hyperparameter that needs to be optimized. \n",
    "\n",
    "    ```{figure} ./lora_rank.jpg\n",
    "\n",
    "    Figure illustrating LoRA rank extracted from [a blog post by Sebastian Raschka](https://magazine.sebastianraschka.com/p/practical-tips-for-finetuning-llms). Note that lower is the rank, lower is the dimension of the AB matrix multiplication, thus reducing the cost.\n",
    "\n",
    "    ```\n",
    "\n",
    "- `lora_alpha`: LoRA scaling factor. It changes how the adaptation layer's weights affect the base model's.\n",
    "- `lora_dropout`: Dropout is a regularization technique where a proportion of neurons (or parameters) are randomly “dropped out” or turned off during training to prevent overfitting.\n",
    "- `bias`: Specifies if the bias parameters should be trained. Can be 'none', 'all' or 'lora_only'.\n",
    "- `task_type`: Task to perform, \"Causal LM\": Causal language modeling.\n",
    "````"
   ]
  },
  {
   "cell_type": "code",
   "execution_count": 19,
   "id": "395f3937-597e-474b-8aeb-39fcffab1e20",
   "metadata": {},
   "outputs": [],
   "source": [
    "peft_config = LoraConfig(\n",
    "    r=32,\n",
    "    lora_alpha=64,\n",
    "    lora_dropout=0.1,\n",
    "    bias=\"none\",\n",
    "    task_type=\"CAUSAL_LM\",\n",
    ")"
   ]
  },
  {
   "cell_type": "markdown",
   "id": "10a2d0e6",
   "metadata": {},
   "source": [
    "Before training, we define the tokenizer and the model for fine-tuning, set the training arguments, and initialize the trainer."
   ]
  },
  {
   "cell_type": "markdown",
   "id": "96452c65-53ab-4fe7-bc63-e68340840e6a",
   "metadata": {},
   "source": [
    "```{margin}\n",
    "The `pad_token` is a special token used to make arrays of tokens the same size for batching purpose. The typical is to use the `eos_token` which is a special token representing the end of a sentence.\n",
    "```"
   ]
  },
  {
   "cell_type": "code",
   "execution_count": 20,
   "id": "c1c24ce1",
   "metadata": {
    "tags": [
     "remove-output"
    ]
   },
   "outputs": [
    {
     "name": "stderr",
     "output_type": "stream",
     "text": [
      "Special tokens have been added in the vocabulary, make sure the associated word embeddings are fine-tuned or trained.\n"
     ]
    },
    {
     "data": {
      "application/vnd.jupyter.widget-view+json": {
       "model_id": "69e93115f83d4bceb694ebddcd28103f",
       "version_major": 2,
       "version_minor": 0
      },
      "text/plain": [
       "Loading checkpoint shards:   0%|          | 0/4 [00:00<?, ?it/s]"
      ]
     },
     "metadata": {},
     "output_type": "display_data"
    }
   ],
   "source": [
    "# Load tokenizer\n",
    "tokenizer = AutoTokenizer.from_pretrained(base_model)  # Define the tokenizer\n",
    "tokenizer.pad_token = tokenizer.eos_token\n",
    "tokenizer.padding_side = \"left\"  # Where the \"pad_token\" is placed\n",
    "\n",
    "# Model config\n",
    "model = AutoModelForCausalLM.from_pretrained(\n",
    "    base_model,  # Model that we are going to fine-tune\n",
    "    quantization_config=bnb_config,  # QLoRA config defined above\n",
    "    device_map=\"auto\",  # Where the model is trained, set device_map=\"auto\" loads a model onto available GPUs first.\n",
    ")"
   ]
  },
  {
   "cell_type": "markdown",
   "id": "e1ef74ad",
   "metadata": {},
   "source": [
    "````{admonition} Caution with the tokenizer\n",
    ":class: warning \n",
    "\n",
    "If strange behavior is observed during the fine-tuning, it can be helpful to decode the inference data just before it is passed to the model. [Maybe some tokens are being tokenized in an unexpected way.](https://hamel.dev/notes/llm/finetuning/05_tokenizer_gotchas.html)\n",
    "````"
   ]
  },
  {
   "cell_type": "markdown",
   "id": "730b5c68-06b8-4282-822a-3522bea24497",
   "metadata": {},
   "source": [
    "````{admonition} Notes about the training arguments\n",
    ":class: tip, dropdown\n",
    "\n",
    "- `learning_rate`: the learning rate is a hyperparameter that sets how the training algorithm updates the values of the weights.\n",
    "- **Batch size**: it is the number of samples used in one forward and backward pass through the network. Ideally, we would like to increase this number so the fine-tuning will be faster. The problem is that for higher batch number, more GPU memory is needed. For example, for training the model used in this demonstration using the exact same configuration but with a default token length (1024 tokens), with 40 GB VRAM GPU, the maximum batch number is 2. Using 80 GB VRAM GPU, the batch size can be increased to 4.\n",
    "    - `per_device_train_batch_size`: batch size for the training.\n",
    "    - `per_device_eval_batch_size`: batch size for the evaluation.\n",
    "- `gradient_accumulation_steps`: number of accumulated gradients over each batch. **Gradient accumulation** is a technique that simulates a larger batch size and it is very related to the **batch size**, since it also allows reducing the computation time. However, contrary to the **batch size**, during the **gradient accumulation** the weights of the model are not updated during each forward and backward pass, but gradients are accumulated from multiple small batches before performing the update. Thus, setting a higher `gradient_accumulation_steps` can help to accelerate the training when increasing the **batch size** is not possible due to VRAM impediments.\n",
    "- `optim`: optimizer used. The main role of the optimizer is to minimize the loss function. The `paged_adamw_32bit` is the well-known **AdamW** optimizer. **AdamW** optimization is a stochastic gradient descent method.[@loshchilov2019decoupled]\n",
    "- `num_train_epochs`: number of times that the model goes through each sample during the training. A larger number might lead to the best training results or to overfitting. A lower number might give a model that does not work as expected at all.\n",
    "- `fp16` and `bf16`: these parameters help to achieve mixed precision training, which is a technique that aims to optimize the computational efficiency of training models by utilizing lower-precision numerical formats for certain variables. However, the choice of both parameters depends on the architecture of the GPUs that are being used during the training.\n",
    "- `logging_steps`: when the logging is done.\n",
    "- `evaluation_strategy`: the evaluation strategy to adopt during training. The most used is 'steps' meaning that the evaluation is done after a certain number of training steps.\n",
    "- `eval_steps`: define in which steps the evaluation is done.\n",
    "- `max_grad_norm`: maximum gradient norm (for gradient clipping). Gradient Clipping is a method where the error derivative is changed or clipped to a threshold during backward propagation through the network, and using the clipped gradients to update the weights.\n",
    "- `warmup_steps`: number of steps used for a linear warm-up from 0 to learning_rate. The warm-up helps to stabilize the optimization process and prevent divergence.\n",
    "- `warmup_ratio`: ratio of total training steps used for the linear warm-up.\n",
    "- `group_by_length`: whether to group together samples of roughly the same length in the training dataset (to minimize padding applied and be more efficient). Only useful if applying dynamic padding.\n",
    "- `lr_scheduler_type`: describes the decay of the learning rate during the training.\n",
    "- `output_dir`: directory to safe the report of the training process.\n",
    "- `save_strategy`: what we want to save during the training. Set it to \"no\" to only safe the final model.\n",
    "\n",
    "    ```{figure} ./cosine.svg\n",
    "\n",
    "    Shape of the \"cosine\" `lr_scheduler_type` option.\n",
    "        \n",
    "    ``` \n",
    "\n",
    "````"
   ]
  },
  {
   "cell_type": "code",
   "execution_count": 21,
   "id": "10da3de2",
   "metadata": {},
   "outputs": [],
   "source": [
    "# Define the different hyperparameters and arguments for the fine-tuning\n",
    "training_arguments = TrainingArguments(\n",
    "    learning_rate=6e-5,\n",
    "    per_device_train_batch_size=2,\n",
    "    per_device_eval_batch_size=2,\n",
    "    gradient_accumulation_steps=8,\n",
    "    optim=\"paged_adamw_32bit\",\n",
    "    num_train_epochs=10,\n",
    "    fp16=False,\n",
    "    bf16=True,  # bf16 to True with an A100, False otherwise\n",
    "    logging_steps=1,  # Logging is done every step.\n",
    "    evaluation_strategy=\"steps\",\n",
    "    eval_steps=0.01,\n",
    "    max_grad_norm=0.3,\n",
    "    warmup_steps=100,\n",
    "    warmup_ratio=0.03,\n",
    "    group_by_length=True,\n",
    "    lr_scheduler_type=\"cosine\", \n",
    "    output_dir=\"./results/\", \n",
    "    save_strategy=\"no\", \n",
    ")"
   ]
  },
  {
   "cell_type": "markdown",
   "id": "36576394-5d0f-4830-80fe-81c6f19342f7",
   "metadata": {},
   "source": [
    "```{caution}\n",
    "We set a very small `eval_steps` variable such that the training has a lot of evals, which will lead to more detailed loss curves. Typically, that many eval steps are not needed and will make the training process slower.\n",
    "```"
   ]
  },
  {
   "cell_type": "markdown",
   "id": "253da04a-c0cb-40bf-8cd1-799d894bfa7d",
   "metadata": {},
   "source": [
    "```{margin}\n",
    "**Data collators** are objects that will form a batch by using a list of dataset elements as input. There is one data collator for each task, here we use the one for completion-only.\n",
    "```"
   ]
  },
  {
   "cell_type": "code",
   "execution_count": 22,
   "id": "f750cdb9",
   "metadata": {},
   "outputs": [],
   "source": [
    "response_template = \" ### Answer:\"\n",
    "collator = DataCollatorForCompletionOnlyLM(response_template, tokenizer=tokenizer)"
   ]
  },
  {
   "cell_type": "markdown",
   "id": "2afd65b2",
   "metadata": {},
   "source": [
    "```{admonition} Notes about the Completion-only training\n",
    ":class: tip\n",
    "\n",
    "The **completion-only training** instead of training the model on the whole input (prompt + answer) make the training more efficient by training only the model on completion. This has been proved to [increase the performance](https://yonigottesman.github.io/2024/05/13/mask-user-tokens.html) {cite}`dettmers2023qlora` (MLNU), especially for situations like ours in which we want to use the model only for completions, and not to generate further instructions. {cite}`shi2024instruction` (several datasets)\n",
    "```"
   ]
  },
  {
   "cell_type": "markdown",
   "id": "bd200ffc-515c-441b-b41c-47187b25f469",
   "metadata": {},
   "source": [
    "```{margin}\n",
    "The **formatting function** is intended for cases where the prompt is constructed from more than one feature of the dataset. Using the formatting functions allows us to join them optimally.\n",
    "```"
   ]
  },
  {
   "cell_type": "code",
   "execution_count": 23,
   "id": "21d42807",
   "metadata": {},
   "outputs": [],
   "source": [
    "def formatting_prompts_func(example):\n",
    "    output_texts = []\n",
    "    for i in range(len(example[\"instruction\"])):\n",
    "        text = f\"### Question: {example[\"instruction\"][i]}\\n ### Answer: {example[\"output\"][i]}\"\n",
    "        output_texts.append(text)\n",
    "    return output_texts"
   ]
  },
  {
   "cell_type": "markdown",
   "id": "77200618-299f-4c62-a447-2d88ff0bc33a",
   "metadata": {},
   "source": [
    "```{margin}\n",
    "Some of the prompts used are bigger than the default value of 1024 tokens, so we must set a `max_seq_length` bigger than that.\n",
    "```\n",
    "\n",
    "```{margin}\n",
    "When packing is set to `True` during training, multiple short examples fill in the input sequence length instead of padding them to increase training efficiency. However, when using a collator, it must be `False`.\n",
    "```"
   ]
  },
  {
   "cell_type": "code",
   "execution_count": 24,
   "id": "49f7e685",
   "metadata": {
    "tags": [
     "remove-output"
    ]
   },
   "outputs": [
    {
     "name": "stderr",
     "output_type": "stream",
     "text": [
      "Detected kernel version 4.18.0, which is below the recommended minimum of 5.5.0; this can cause the process to hang. It is recommended to upgrade the kernel to the minimum version or higher.\n"
     ]
    }
   ],
   "source": [
    "trainer = SFTTrainer(\n",
    "    model=model,  # Model to fine-tune\n",
    "    max_seq_length=2048,  # Max number of tokens of the completion\n",
    "    args=training_arguments,  # Training arguments to use\n",
    "    train_dataset=dataset[\"train\"],  # Set of the dataset used for the training\n",
    "    eval_dataset=dataset[\"test\"],  # Set of the dataset used for the evaluations\n",
    "    peft_config=peft_config,  # Configuration and PEFT method to use\n",
    "    tokenizer=tokenizer,  # Tokenizer used\n",
    "    packing=False,\n",
    "    formatting_func=formatting_prompts_func,  # Prompt formatting function\n",
    "    data_collator=collator,\n",
    ")"
   ]
  },
  {
   "cell_type": "markdown",
   "id": "bf73f08e",
   "metadata": {},
   "source": [
    "And finally when everything is ready we train the model."
   ]
  },
  {
   "cell_type": "code",
   "execution_count": 25,
   "id": "f61c3e34",
   "metadata": {},
   "outputs": [
    {
     "data": {
      "text/html": [
       "\n",
       "    <div>\n",
       "      \n",
       "      <progress value='2810' max='2810' style='width:300px; height:20px; vertical-align: middle;'></progress>\n",
       "      [2810/2810 6:14:03, Epoch 9/10]\n",
       "    </div>\n",
       "    <table border=\"1\" class=\"dataframe\">\n",
       "  <thead>\n",
       " <tr style=\"text-align: left;\">\n",
       "      <th>Step</th>\n",
       "      <th>Training Loss</th>\n",
       "      <th>Validation Loss</th>\n",
       "    </tr>\n",
       "  </thead>\n",
       "  <tbody>\n",
       "    <tr>\n",
       "      <td>29</td>\n",
       "      <td>0.613900</td>\n",
       "      <td>0.576660</td>\n",
       "    </tr>\n",
       "    <tr>\n",
       "      <td>58</td>\n",
       "      <td>0.257200</td>\n",
       "      <td>0.258947</td>\n",
       "    </tr>\n",
       "    <tr>\n",
       "      <td>87</td>\n",
       "      <td>0.093200</td>\n",
       "      <td>0.087167</td>\n",
       "    </tr>\n",
       "    <tr>\n",
       "      <td>116</td>\n",
       "      <td>0.074300</td>\n",
       "      <td>0.071152</td>\n",
       "    </tr>\n",
       "    <tr>\n",
       "      <td>145</td>\n",
       "      <td>0.069000</td>\n",
       "      <td>0.065445</td>\n",
       "    </tr>\n",
       "    <tr>\n",
       "      <td>174</td>\n",
       "      <td>0.052400</td>\n",
       "      <td>0.054982</td>\n",
       "    </tr>\n",
       "    <tr>\n",
       "      <td>203</td>\n",
       "      <td>0.062800</td>\n",
       "      <td>0.054369</td>\n",
       "    </tr>\n",
       "    <tr>\n",
       "      <td>232</td>\n",
       "      <td>0.045100</td>\n",
       "      <td>0.048308</td>\n",
       "    </tr>\n",
       "    <tr>\n",
       "      <td>261</td>\n",
       "      <td>0.045700</td>\n",
       "      <td>0.048467</td>\n",
       "    </tr>\n",
       "    <tr>\n",
       "      <td>290</td>\n",
       "      <td>0.040500</td>\n",
       "      <td>0.048283</td>\n",
       "    </tr>\n",
       "    <tr>\n",
       "      <td>319</td>\n",
       "      <td>0.042300</td>\n",
       "      <td>0.042285</td>\n",
       "    </tr>\n",
       "    <tr>\n",
       "      <td>348</td>\n",
       "      <td>0.039700</td>\n",
       "      <td>0.040929</td>\n",
       "    </tr>\n",
       "    <tr>\n",
       "      <td>377</td>\n",
       "      <td>0.041500</td>\n",
       "      <td>0.042049</td>\n",
       "    </tr>\n",
       "    <tr>\n",
       "      <td>406</td>\n",
       "      <td>0.035700</td>\n",
       "      <td>0.038472</td>\n",
       "    </tr>\n",
       "    <tr>\n",
       "      <td>435</td>\n",
       "      <td>0.042900</td>\n",
       "      <td>0.040496</td>\n",
       "    </tr>\n",
       "    <tr>\n",
       "      <td>464</td>\n",
       "      <td>0.038000</td>\n",
       "      <td>0.036910</td>\n",
       "    </tr>\n",
       "    <tr>\n",
       "      <td>493</td>\n",
       "      <td>0.045300</td>\n",
       "      <td>0.037651</td>\n",
       "    </tr>\n",
       "    <tr>\n",
       "      <td>522</td>\n",
       "      <td>0.034300</td>\n",
       "      <td>0.035222</td>\n",
       "    </tr>\n",
       "    <tr>\n",
       "      <td>551</td>\n",
       "      <td>0.035200</td>\n",
       "      <td>0.034365</td>\n",
       "    </tr>\n",
       "    <tr>\n",
       "      <td>580</td>\n",
       "      <td>0.019200</td>\n",
       "      <td>0.033527</td>\n",
       "    </tr>\n",
       "    <tr>\n",
       "      <td>609</td>\n",
       "      <td>0.024000</td>\n",
       "      <td>0.035203</td>\n",
       "    </tr>\n",
       "    <tr>\n",
       "      <td>638</td>\n",
       "      <td>0.021700</td>\n",
       "      <td>0.032431</td>\n",
       "    </tr>\n",
       "    <tr>\n",
       "      <td>667</td>\n",
       "      <td>0.034100</td>\n",
       "      <td>0.034691</td>\n",
       "    </tr>\n",
       "    <tr>\n",
       "      <td>696</td>\n",
       "      <td>0.029700</td>\n",
       "      <td>0.031238</td>\n",
       "    </tr>\n",
       "    <tr>\n",
       "      <td>725</td>\n",
       "      <td>0.023900</td>\n",
       "      <td>0.032660</td>\n",
       "    </tr>\n",
       "    <tr>\n",
       "      <td>754</td>\n",
       "      <td>0.026400</td>\n",
       "      <td>0.031357</td>\n",
       "    </tr>\n",
       "    <tr>\n",
       "      <td>783</td>\n",
       "      <td>0.034200</td>\n",
       "      <td>0.031545</td>\n",
       "    </tr>\n",
       "    <tr>\n",
       "      <td>812</td>\n",
       "      <td>0.021100</td>\n",
       "      <td>0.031958</td>\n",
       "    </tr>\n",
       "    <tr>\n",
       "      <td>841</td>\n",
       "      <td>0.029400</td>\n",
       "      <td>0.031248</td>\n",
       "    </tr>\n",
       "    <tr>\n",
       "      <td>870</td>\n",
       "      <td>0.022200</td>\n",
       "      <td>0.029931</td>\n",
       "    </tr>\n",
       "    <tr>\n",
       "      <td>899</td>\n",
       "      <td>0.024900</td>\n",
       "      <td>0.030034</td>\n",
       "    </tr>\n",
       "    <tr>\n",
       "      <td>928</td>\n",
       "      <td>0.014900</td>\n",
       "      <td>0.029397</td>\n",
       "    </tr>\n",
       "    <tr>\n",
       "      <td>957</td>\n",
       "      <td>0.021100</td>\n",
       "      <td>0.030200</td>\n",
       "    </tr>\n",
       "    <tr>\n",
       "      <td>986</td>\n",
       "      <td>0.023400</td>\n",
       "      <td>0.028960</td>\n",
       "    </tr>\n",
       "    <tr>\n",
       "      <td>1015</td>\n",
       "      <td>0.016300</td>\n",
       "      <td>0.028752</td>\n",
       "    </tr>\n",
       "    <tr>\n",
       "      <td>1044</td>\n",
       "      <td>0.019600</td>\n",
       "      <td>0.033364</td>\n",
       "    </tr>\n",
       "    <tr>\n",
       "      <td>1073</td>\n",
       "      <td>0.023000</td>\n",
       "      <td>0.027862</td>\n",
       "    </tr>\n",
       "    <tr>\n",
       "      <td>1102</td>\n",
       "      <td>0.022900</td>\n",
       "      <td>0.029268</td>\n",
       "    </tr>\n",
       "    <tr>\n",
       "      <td>1131</td>\n",
       "      <td>0.020100</td>\n",
       "      <td>0.028194</td>\n",
       "    </tr>\n",
       "    <tr>\n",
       "      <td>1160</td>\n",
       "      <td>0.014800</td>\n",
       "      <td>0.027338</td>\n",
       "    </tr>\n",
       "    <tr>\n",
       "      <td>1189</td>\n",
       "      <td>0.022700</td>\n",
       "      <td>0.028320</td>\n",
       "    </tr>\n",
       "    <tr>\n",
       "      <td>1218</td>\n",
       "      <td>0.024300</td>\n",
       "      <td>0.027609</td>\n",
       "    </tr>\n",
       "    <tr>\n",
       "      <td>1247</td>\n",
       "      <td>0.014400</td>\n",
       "      <td>0.026542</td>\n",
       "    </tr>\n",
       "    <tr>\n",
       "      <td>1276</td>\n",
       "      <td>0.031000</td>\n",
       "      <td>0.028503</td>\n",
       "    </tr>\n",
       "    <tr>\n",
       "      <td>1305</td>\n",
       "      <td>0.018200</td>\n",
       "      <td>0.026615</td>\n",
       "    </tr>\n",
       "    <tr>\n",
       "      <td>1334</td>\n",
       "      <td>0.027700</td>\n",
       "      <td>0.027018</td>\n",
       "    </tr>\n",
       "    <tr>\n",
       "      <td>1363</td>\n",
       "      <td>0.018400</td>\n",
       "      <td>0.026256</td>\n",
       "    </tr>\n",
       "    <tr>\n",
       "      <td>1392</td>\n",
       "      <td>0.013600</td>\n",
       "      <td>0.026408</td>\n",
       "    </tr>\n",
       "    <tr>\n",
       "      <td>1421</td>\n",
       "      <td>0.014000</td>\n",
       "      <td>0.027171</td>\n",
       "    </tr>\n",
       "    <tr>\n",
       "      <td>1450</td>\n",
       "      <td>0.011300</td>\n",
       "      <td>0.026970</td>\n",
       "    </tr>\n",
       "    <tr>\n",
       "      <td>1479</td>\n",
       "      <td>0.015900</td>\n",
       "      <td>0.027176</td>\n",
       "    </tr>\n",
       "    <tr>\n",
       "      <td>1508</td>\n",
       "      <td>0.023700</td>\n",
       "      <td>0.027830</td>\n",
       "    </tr>\n",
       "    <tr>\n",
       "      <td>1537</td>\n",
       "      <td>0.012800</td>\n",
       "      <td>0.026238</td>\n",
       "    </tr>\n",
       "    <tr>\n",
       "      <td>1566</td>\n",
       "      <td>0.018600</td>\n",
       "      <td>0.026877</td>\n",
       "    </tr>\n",
       "    <tr>\n",
       "      <td>1595</td>\n",
       "      <td>0.015100</td>\n",
       "      <td>0.025897</td>\n",
       "    </tr>\n",
       "    <tr>\n",
       "      <td>1624</td>\n",
       "      <td>0.020500</td>\n",
       "      <td>0.026923</td>\n",
       "    </tr>\n",
       "    <tr>\n",
       "      <td>1653</td>\n",
       "      <td>0.008500</td>\n",
       "      <td>0.026322</td>\n",
       "    </tr>\n",
       "    <tr>\n",
       "      <td>1682</td>\n",
       "      <td>0.015200</td>\n",
       "      <td>0.025440</td>\n",
       "    </tr>\n",
       "    <tr>\n",
       "      <td>1711</td>\n",
       "      <td>0.017500</td>\n",
       "      <td>0.026258</td>\n",
       "    </tr>\n",
       "    <tr>\n",
       "      <td>1740</td>\n",
       "      <td>0.018400</td>\n",
       "      <td>0.027441</td>\n",
       "    </tr>\n",
       "    <tr>\n",
       "      <td>1769</td>\n",
       "      <td>0.012500</td>\n",
       "      <td>0.025472</td>\n",
       "    </tr>\n",
       "    <tr>\n",
       "      <td>1798</td>\n",
       "      <td>0.017800</td>\n",
       "      <td>0.027335</td>\n",
       "    </tr>\n",
       "    <tr>\n",
       "      <td>1827</td>\n",
       "      <td>0.010700</td>\n",
       "      <td>0.026398</td>\n",
       "    </tr>\n",
       "    <tr>\n",
       "      <td>1856</td>\n",
       "      <td>0.016300</td>\n",
       "      <td>0.025894</td>\n",
       "    </tr>\n",
       "    <tr>\n",
       "      <td>1885</td>\n",
       "      <td>0.012200</td>\n",
       "      <td>0.026894</td>\n",
       "    </tr>\n",
       "    <tr>\n",
       "      <td>1914</td>\n",
       "      <td>0.012500</td>\n",
       "      <td>0.025450</td>\n",
       "    </tr>\n",
       "    <tr>\n",
       "      <td>1943</td>\n",
       "      <td>0.016200</td>\n",
       "      <td>0.026897</td>\n",
       "    </tr>\n",
       "    <tr>\n",
       "      <td>1972</td>\n",
       "      <td>0.012700</td>\n",
       "      <td>0.025808</td>\n",
       "    </tr>\n",
       "    <tr>\n",
       "      <td>2001</td>\n",
       "      <td>0.010200</td>\n",
       "      <td>0.026950</td>\n",
       "    </tr>\n",
       "    <tr>\n",
       "      <td>2030</td>\n",
       "      <td>0.015100</td>\n",
       "      <td>0.027876</td>\n",
       "    </tr>\n",
       "    <tr>\n",
       "      <td>2059</td>\n",
       "      <td>0.012900</td>\n",
       "      <td>0.027523</td>\n",
       "    </tr>\n",
       "    <tr>\n",
       "      <td>2088</td>\n",
       "      <td>0.016500</td>\n",
       "      <td>0.026673</td>\n",
       "    </tr>\n",
       "    <tr>\n",
       "      <td>2117</td>\n",
       "      <td>0.005200</td>\n",
       "      <td>0.027565</td>\n",
       "    </tr>\n",
       "    <tr>\n",
       "      <td>2146</td>\n",
       "      <td>0.012200</td>\n",
       "      <td>0.027196</td>\n",
       "    </tr>\n",
       "    <tr>\n",
       "      <td>2175</td>\n",
       "      <td>0.016800</td>\n",
       "      <td>0.026830</td>\n",
       "    </tr>\n",
       "    <tr>\n",
       "      <td>2204</td>\n",
       "      <td>0.011200</td>\n",
       "      <td>0.026876</td>\n",
       "    </tr>\n",
       "    <tr>\n",
       "      <td>2233</td>\n",
       "      <td>0.014500</td>\n",
       "      <td>0.026611</td>\n",
       "    </tr>\n",
       "    <tr>\n",
       "      <td>2262</td>\n",
       "      <td>0.014600</td>\n",
       "      <td>0.026983</td>\n",
       "    </tr>\n",
       "    <tr>\n",
       "      <td>2291</td>\n",
       "      <td>0.009700</td>\n",
       "      <td>0.027868</td>\n",
       "    </tr>\n",
       "    <tr>\n",
       "      <td>2320</td>\n",
       "      <td>0.011200</td>\n",
       "      <td>0.027703</td>\n",
       "    </tr>\n",
       "    <tr>\n",
       "      <td>2349</td>\n",
       "      <td>0.003000</td>\n",
       "      <td>0.027652</td>\n",
       "    </tr>\n",
       "    <tr>\n",
       "      <td>2378</td>\n",
       "      <td>0.007200</td>\n",
       "      <td>0.027984</td>\n",
       "    </tr>\n",
       "    <tr>\n",
       "      <td>2407</td>\n",
       "      <td>0.019200</td>\n",
       "      <td>0.028454</td>\n",
       "    </tr>\n",
       "    <tr>\n",
       "      <td>2436</td>\n",
       "      <td>0.008800</td>\n",
       "      <td>0.027351</td>\n",
       "    </tr>\n",
       "    <tr>\n",
       "      <td>2465</td>\n",
       "      <td>0.009600</td>\n",
       "      <td>0.027858</td>\n",
       "    </tr>\n",
       "    <tr>\n",
       "      <td>2494</td>\n",
       "      <td>0.005000</td>\n",
       "      <td>0.028215</td>\n",
       "    </tr>\n",
       "    <tr>\n",
       "      <td>2523</td>\n",
       "      <td>0.006900</td>\n",
       "      <td>0.028119</td>\n",
       "    </tr>\n",
       "    <tr>\n",
       "      <td>2552</td>\n",
       "      <td>0.009700</td>\n",
       "      <td>0.028277</td>\n",
       "    </tr>\n",
       "    <tr>\n",
       "      <td>2581</td>\n",
       "      <td>0.002200</td>\n",
       "      <td>0.028349</td>\n",
       "    </tr>\n",
       "    <tr>\n",
       "      <td>2610</td>\n",
       "      <td>0.011400</td>\n",
       "      <td>0.028359</td>\n",
       "    </tr>\n",
       "    <tr>\n",
       "      <td>2639</td>\n",
       "      <td>0.013300</td>\n",
       "      <td>0.028641</td>\n",
       "    </tr>\n",
       "    <tr>\n",
       "      <td>2668</td>\n",
       "      <td>0.011600</td>\n",
       "      <td>0.028560</td>\n",
       "    </tr>\n",
       "    <tr>\n",
       "      <td>2697</td>\n",
       "      <td>0.014800</td>\n",
       "      <td>0.028548</td>\n",
       "    </tr>\n",
       "    <tr>\n",
       "      <td>2726</td>\n",
       "      <td>0.007600</td>\n",
       "      <td>0.028561</td>\n",
       "    </tr>\n",
       "    <tr>\n",
       "      <td>2755</td>\n",
       "      <td>0.012100</td>\n",
       "      <td>0.028545</td>\n",
       "    </tr>\n",
       "    <tr>\n",
       "      <td>2784</td>\n",
       "      <td>0.017800</td>\n",
       "      <td>0.028572</td>\n",
       "    </tr>\n",
       "  </tbody>\n",
       "</table><p>"
      ],
      "text/plain": [
       "<IPython.core.display.HTML object>"
      ]
     },
     "metadata": {},
     "output_type": "display_data"
    },
    {
     "data": {
      "text/plain": [
       "TrainOutput(global_step=2810, training_loss=0.03383642607044347, metrics={'train_runtime': 22456.3022, 'train_samples_per_second': 2.004, 'train_steps_per_second': 0.125, 'total_flos': 1.8010605645245645e+18, 'train_loss': 0.03383642607044347, 'epoch': 9.991111111111111})"
      ]
     },
     "execution_count": 25,
     "metadata": {},
     "output_type": "execute_result"
    }
   ],
   "source": [
    "trainer.train()"
   ]
  },
  {
   "cell_type": "markdown",
   "id": "1c1a4f3e",
   "metadata": {},
   "source": [
    "To better visualize how the fine-tuning went, the best option is to plot the loss curves for the training and for the evaluation. The ideal loss curve depicts the model's loss values over time. At first, the loss is high, but it gradually declines, signifying that the model's performance is improving. \n",
    "\n",
    "```{margin}\n",
    "The loss curves shown here were automatically created by reporting the training to [WandB](https://wandb.ai/site). This is a helpful possibility to easily obtain the loss curves for the fine-tuning.\n",
    "```\n",
    "\n",
    "```{figure} ./train.svg\n",
    "\n",
    "Training loss curve\n",
    "\n",
    "```\n",
    "\n",
    "```{figure} ./eval.svg\n",
    "\n",
    "Evaluation loss curve\n",
    "\n",
    "```\n",
    "\n",
    "The loss curves produced during the fine-tuning of our model are not far from the ideal behavior meaning that the training proceeded correctly."
   ]
  },
  {
   "cell_type": "markdown",
   "id": "7b6c6e16",
   "metadata": {},
   "source": [
    "The easiest way to evaluate the fine-tuned model and perform inference is to use the trained model directly. To do that, we have to define a pipeline for text generation, do the inference using that pipeline, and evaluate similarly as for the previous models."
   ]
  },
  {
   "cell_type": "markdown",
   "id": "47b4064b-e67e-448d-95d5-f5d54f6a742c",
   "metadata": {},
   "source": [
    "```{margin}\n",
    "The temperature defines the degrees of freedom that are allowed to the model when it predicts the next word. For data extraction, the best value is 0 because the model do not need to make up the data, only to extract it from the corresponding text. This is because at temperature equal to 0, the model is going to pick always the most probable token.\n",
    "```"
   ]
  },
  {
   "cell_type": "code",
   "execution_count": 26,
   "id": "1fa71e48",
   "metadata": {
    "tags": [
     "remove-output"
    ]
   },
   "outputs": [
    {
     "name": "stderr",
     "output_type": "stream",
     "text": [
      "The model 'PeftModelForCausalLM' is not supported for text-generation. Supported models are ['BartForCausalLM', 'BertLMHeadModel', 'BertGenerationDecoder', 'BigBirdForCausalLM', 'BigBirdPegasusForCausalLM', 'BioGptForCausalLM', 'BlenderbotForCausalLM', 'BlenderbotSmallForCausalLM', 'BloomForCausalLM', 'CamembertForCausalLM', 'LlamaForCausalLM', 'CodeGenForCausalLM', 'CohereForCausalLM', 'CpmAntForCausalLM', 'CTRLLMHeadModel', 'Data2VecTextForCausalLM', 'DbrxForCausalLM', 'ElectraForCausalLM', 'ErnieForCausalLM', 'FalconForCausalLM', 'FuyuForCausalLM', 'GemmaForCausalLM', 'GitForCausalLM', 'GPT2LMHeadModel', 'GPT2LMHeadModel', 'GPTBigCodeForCausalLM', 'GPTNeoForCausalLM', 'GPTNeoXForCausalLM', 'GPTNeoXJapaneseForCausalLM', 'GPTJForCausalLM', 'JambaForCausalLM', 'JetMoeForCausalLM', 'LlamaForCausalLM', 'MambaForCausalLM', 'MarianForCausalLM', 'MBartForCausalLM', 'MegaForCausalLM', 'MegatronBertForCausalLM', 'MistralForCausalLM', 'MixtralForCausalLM', 'MptForCausalLM', 'MusicgenForCausalLM', 'MusicgenMelodyForCausalLM', 'MvpForCausalLM', 'OlmoForCausalLM', 'OpenLlamaForCausalLM', 'OpenAIGPTLMHeadModel', 'OPTForCausalLM', 'PegasusForCausalLM', 'PersimmonForCausalLM', 'PhiForCausalLM', 'Phi3ForCausalLM', 'PLBartForCausalLM', 'ProphetNetForCausalLM', 'QDQBertLMHeadModel', 'Qwen2ForCausalLM', 'Qwen2MoeForCausalLM', 'RecurrentGemmaForCausalLM', 'ReformerModelWithLMHead', 'RemBertForCausalLM', 'RobertaForCausalLM', 'RobertaPreLayerNormForCausalLM', 'RoCBertForCausalLM', 'RoFormerForCausalLM', 'RwkvForCausalLM', 'Speech2Text2ForCausalLM', 'StableLmForCausalLM', 'Starcoder2ForCausalLM', 'TransfoXLLMHeadModel', 'TrOCRForCausalLM', 'WhisperForCausalLM', 'XGLMForCausalLM', 'XLMWithLMHeadModel', 'XLMProphetNetForCausalLM', 'XLMRobertaForCausalLM', 'XLMRobertaXLForCausalLM', 'XLNetLMHeadModel', 'XmodForCausalLM'].\n"
     ]
    }
   ],
   "source": [
    "# Define the pipeline that will do the inference\n",
    "sft_pipe = pipeline(\n",
    "    \"text-generation\",\n",
    "    do_sample=False,  # This allows to set Temperature to 0 (or None for this case)\n",
    "    temperature=None,\n",
    "    model=trainer.model,  # We do the inference with the trained model.\n",
    "    tokenizer=tokenizer,\n",
    ")"
   ]
  },
  {
   "cell_type": "code",
   "execution_count": 27,
   "id": "3643bd1b",
   "metadata": {},
   "outputs": [],
   "source": [
    "# Create the 0 and 1-shot prompts.\n",
    "results_sft = {}\n",
    "prompts_ = {}\n",
    "shots = [\"0-shot\", \"1-shot\"]\n",
    "\n",
    "# Start by looping over the shots\n",
    "for s in shots:\n",
    "    references = []\n",
    "    prompts = []\n",
    "\n",
    "    # Loop over all the samples of the dataset\n",
    "    for t in test_dataset:\n",
    "        instruction = t[\"instruction\"]\n",
    "        output = t[\"output\"]\n",
    "        references.append(output)\n",
    "        if s == \"0-shot\":\n",
    "            shot = \"\"\n",
    "        else:\n",
    "            shot = SHOT\n",
    "        # Format the prompt\n",
    "        system = PREFIX.format(shot=shot)\n",
    "        user = SUFFIX.format(sample=instruction)\n",
    "        prompt = system + user\n",
    "        prompts.append(prompt)\n",
    "\n",
    "    # Save the prompts and the references.\n",
    "    prompts_[s] = {\n",
    "        \"prompts\": prompts,\n",
    "    }\n",
    "    results_sft[s] = {\n",
    "        \"references\": references,\n",
    "    }"
   ]
  },
  {
   "cell_type": "markdown",
   "id": "4b773ace-9d9b-44bb-8f61-96d908132ef4",
   "metadata": {},
   "source": [
    "```{margin}\n",
    "Note that we do not use `LiteLLM` for this particular case. This is because this package does not yet support completion-only tasks with HuggingFace models. Thus, the prompt is not written according to the OpenAI completions guide.\n",
    "```\n",
    "\n",
    "```{margin}\n",
    "We perform the inference using the `torch.cuda.amp.autocast` function. This allows us to avoid errors related with different data types.  This relevant here because [different parts of our model (e.g. backbone and adapters) are in different datatypes when using QLoRA](https://pytorch.org/torchtune/0.1/tutorials/qlora_finetune.html).\n",
    "```\n",
    "\n",
    "```{margin}\n",
    "Note that after completion, we replace the prompt with an empty string. We do this because the model was always instructed to complete the instructions with the prompt at the beginning. Above, for the case where we used this same Llama model, this was not done because the API already provided the completion without the prompt.\n",
    "```"
   ]
  },
  {
   "cell_type": "code",
   "execution_count": 28,
   "id": "f6059bf1-794c-4ea6-81bd-dd9ece08ece4",
   "metadata": {},
   "outputs": [],
   "source": [
    "# Do the inference using batching.\n",
    "for s in shots:\n",
    "    # Create a tmp dataset to make easier the batching\n",
    "    ds = Dataset.from_dict(prompts_[s])\n",
    "    predictions_sft = []\n",
    "    # Inference time!\n",
    "    with torch.cuda.amp.autocast():\n",
    "        out = sft_pipe(KeyDataset(ds, \"prompts\"), batch_size=16)\n",
    "        # Clean the output.\n",
    "        for i, sample in enumerate(out):\n",
    "            for in_sample in sample:\n",
    "                in_sample[\"generated_text\"] = in_sample[\"generated_text\"].replace(prompts_[s][\"prompts\"][i], \"\")\n",
    "                predictions_sft.append(in_sample[\"generated_text\"])\n",
    "            \n",
    "    # Save the results.\n",
    "    results_sft[s].update(\n",
    "        {\n",
    "            \"predictions\": predictions_sft,\n",
    "        }\n",
    "    )"
   ]
  },
  {
   "cell_type": "markdown",
   "id": "413dd8bb-b93d-401d-bf0b-047968196982",
   "metadata": {},
   "source": [
    "The limiting factor for the inference when batching is the GPU memory. This is because during inference the GPU will contain not only the model but an amount of prompts equals to the batch size."
   ]
  },
  {
   "cell_type": "markdown",
   "id": "c7521d82-6601-4148-8c3c-33d125540ed3",
   "metadata": {},
   "source": [
    "Finally, we calculate the metrics to evaluate this last model's results."
   ]
  },
  {
   "cell_type": "code",
   "execution_count": 30,
   "id": "056c869f",
   "metadata": {},
   "outputs": [],
   "source": [
    "bertscore = load(\"bertscore\")"
   ]
  },
  {
   "cell_type": "code",
   "execution_count": 31,
   "id": "84c5aa04",
   "metadata": {},
   "outputs": [],
   "source": [
    "for s in shots:\n",
    "    predictions_sft = results_sft[s][\"predictions\"]\n",
    "    references = results_sft[s][\"references\"]\n",
    "\n",
    "    results = bertscore.compute(\n",
    "        predictions=predictions_sft,\n",
    "        references=references,\n",
    "        model_type=\"distilbert-base-uncased\",\n",
    "    )\n",
    "\n",
    "    results_sft[s].update(\n",
    "        {\n",
    "            \"precision\": mean(results[\"precision\"]),\n",
    "            \"recall\": mean(results[\"recall\"]),\n",
    "            \"f1_scores\": mean(results[\"f1\"]),\n",
    "        }\n",
    "    )"
   ]
  },
  {
   "cell_type": "code",
   "execution_count": 32,
   "id": "b043e1f1-07fc-4219-bf41-82b17619ee10",
   "metadata": {
    "tags": [
     "remove-input"
    ]
   },
   "outputs": [
    {
     "name": "stdout",
     "output_type": "stream",
     "text": [
      "Results for the 0-shot prompt\n",
      "\tPrecision: 0.9591\n",
      "\tRecall: 0.9722\n",
      "\tF1-Score: 0.9654\n",
      "\n",
      "Results for the 1-shot prompt\n",
      "\tPrecision: 0.9529\n",
      "\tRecall: 0.9687\n",
      "\tF1-Score: 0.9604\n",
      "\n"
     ]
    }
   ],
   "source": [
    "# Print the results\n",
    "for s in shots:\n",
    "    print(f\"Results for the {s} prompt\")\n",
    "    print(f\"\\tPrecision: {round(results_sft[s]['precision'], 4)}\")\n",
    "    print(f\"\\tRecall: {round(results_sft[s]['recall'], 4)}\")\n",
    "    print(f\"\\tF1-Score: {round(results_sft[s]['f1_scores'], 4)}\\n\")"
   ]
  },
  {
   "cell_type": "markdown",
   "id": "6a8f4717-7a96-44d5-ae4f-fb1aec103554",
   "metadata": {},
   "source": [
    "The results using the 0-shot prompt are similar as the other models. \n",
    "\n",
    "On the other hand, for this fine-tuned model, the 1-shot results do not show an improvement as big as for the other models. This is because when fine-tuning is done, the model gets used to a very robust prompt-completion format, that for the case of the 1-shot prompt is broken resulting in worse results than expected."
   ]
  },
  {
   "cell_type": "code",
   "execution_count": 33,
   "id": "4077abfb",
   "metadata": {
    "tags": [
     "remove-cell"
    ]
   },
   "outputs": [],
   "source": [
    "with open(\"sft_results.json\", \"w\") as f:\n",
    "    json.dump(results_sft, f, indent=4)"
   ]
  },
  {
   "cell_type": "markdown",
   "id": "804e9060",
   "metadata": {},
   "source": [
    "## Visualization of the results"
   ]
  },
  {
   "cell_type": "markdown",
   "id": "d51fb551",
   "metadata": {},
   "source": [
    "To study the results more graphically, we can plot all the results in several bar plots."
   ]
  },
  {
   "cell_type": "code",
   "execution_count": 9,
   "id": "adce6cb4",
   "metadata": {},
   "outputs": [],
   "source": [
    "shots = ['0-shot', '1-shot']\n",
    "with open(\"Llama_results.json\") as f:\n",
    "    results_llama = json.load(f)"
   ]
  },
  {
   "cell_type": "code",
   "execution_count": 13,
   "id": "06b06561",
   "metadata": {},
   "outputs": [],
   "source": [
    "shots = ['0-shot', '1-shot']\n",
    "with open(\"OpenAI_results.json\") as f:\n",
    "    results_openai = json.load(f)"
   ]
  },
  {
   "cell_type": "code",
   "execution_count": null,
   "id": "4a3f2fa1",
   "metadata": {},
   "outputs": [],
   "source": [
    "shots = ['0-shot', '1-shot']\n",
    "with open(\"sft_results.json\") as f:\n",
    "    results_sft = json.load(f)"
   ]
  },
  {
   "cell_type": "code",
   "execution_count": 35,
   "id": "2aaeab06",
   "metadata": {
    "tags": [
     "hide-input"
    ]
   },
   "outputs": [
    {
     "name": "stderr",
     "output_type": "stream",
     "text": [
      "findfont: Generic family 'sans-serif' not found because none of the following families were found: IBM Plex Sans, Roboto, Helvetica\n",
      "findfont: Generic family 'sans-serif' not found because none of the following families were found: IBM Plex Sans, Roboto, Helvetica\n",
      "findfont: Generic family 'sans-serif' not found because none of the following families were found: IBM Plex Sans, Roboto, Helvetica\n",
      "findfont: Generic family 'sans-serif' not found because none of the following families were found: IBM Plex Sans, Roboto, Helvetica\n",
      "findfont: Generic family 'sans-serif' not found because none of the following families were found: IBM Plex Sans, Roboto, Helvetica\n",
      "findfont: Generic family 'sans-serif' not found because none of the following families were found: IBM Plex Sans, Roboto, Helvetica\n",
      "findfont: Generic family 'sans-serif' not found because none of the following families were found: IBM Plex Sans, Roboto, Helvetica\n",
      "findfont: Generic family 'sans-serif' not found because none of the following families were found: IBM Plex Sans, Roboto, Helvetica\n",
      "findfont: Generic family 'sans-serif' not found because none of the following families were found: IBM Plex Sans, Roboto, Helvetica\n",
      "findfont: Generic family 'sans-serif' not found because none of the following families were found: IBM Plex Sans, Roboto, Helvetica\n",
      "findfont: Generic family 'sans-serif' not found because none of the following families were found: IBM Plex Sans, Roboto, Helvetica\n",
      "findfont: Generic family 'sans-serif' not found because none of the following families were found: IBM Plex Sans, Roboto, Helvetica\n",
      "findfont: Generic family 'sans-serif' not found because none of the following families were found: IBM Plex Sans, Roboto, Helvetica\n",
      "findfont: Generic family 'sans-serif' not found because none of the following families were found: IBM Plex Sans, Roboto, Helvetica\n",
      "findfont: Generic family 'sans-serif' not found because none of the following families were found: IBM Plex Sans, Roboto, Helvetica\n",
      "findfont: Generic family 'sans-serif' not found because none of the following families were found: IBM Plex Sans, Roboto, Helvetica\n",
      "findfont: Generic family 'sans-serif' not found because none of the following families were found: IBM Plex Sans, Roboto, Helvetica\n",
      "findfont: Generic family 'sans-serif' not found because none of the following families were found: IBM Plex Sans, Roboto, Helvetica\n",
      "findfont: Generic family 'sans-serif' not found because none of the following families were found: IBM Plex Sans, Roboto, Helvetica\n",
      "findfont: Generic family 'sans-serif' not found because none of the following families were found: IBM Plex Sans, Roboto, Helvetica\n",
      "findfont: Generic family 'sans-serif' not found because none of the following families were found: IBM Plex Sans, Roboto, Helvetica\n",
      "findfont: Generic family 'sans-serif' not found because none of the following families were found: IBM Plex Sans, Roboto, Helvetica\n",
      "findfont: Generic family 'sans-serif' not found because none of the following families were found: IBM Plex Sans, Roboto, Helvetica\n",
      "findfont: Generic family 'sans-serif' not found because none of the following families were found: IBM Plex Sans, Roboto, Helvetica\n",
      "findfont: Generic family 'sans-serif' not found because none of the following families were found: IBM Plex Sans, Roboto, Helvetica\n",
      "findfont: Generic family 'sans-serif' not found because none of the following families were found: IBM Plex Sans, Roboto, Helvetica\n",
      "findfont: Generic family 'sans-serif' not found because none of the following families were found: IBM Plex Sans, Roboto, Helvetica\n",
      "findfont: Generic family 'sans-serif' not found because none of the following families were found: IBM Plex Sans, Roboto, Helvetica\n",
      "findfont: Generic family 'sans-serif' not found because none of the following families were found: IBM Plex Sans, Roboto, Helvetica\n",
      "findfont: Generic family 'sans-serif' not found because none of the following families were found: IBM Plex Sans, Roboto, Helvetica\n",
      "findfont: Generic family 'sans-serif' not found because none of the following families were found: IBM Plex Sans, Roboto, Helvetica\n",
      "findfont: Generic family 'sans-serif' not found because none of the following families were found: IBM Plex Sans, Roboto, Helvetica\n",
      "findfont: Generic family 'sans-serif' not found because none of the following families were found: IBM Plex Sans, Roboto, Helvetica\n",
      "findfont: Generic family 'sans-serif' not found because none of the following families were found: IBM Plex Sans, Roboto, Helvetica\n",
      "findfont: Generic family 'sans-serif' not found because none of the following families were found: IBM Plex Sans, Roboto, Helvetica\n",
      "findfont: Generic family 'sans-serif' not found because none of the following families were found: IBM Plex Sans, Roboto, Helvetica\n",
      "findfont: Generic family 'sans-serif' not found because none of the following families were found: IBM Plex Sans, Roboto, Helvetica\n",
      "findfont: Generic family 'sans-serif' not found because none of the following families were found: IBM Plex Sans, Roboto, Helvetica\n",
      "findfont: Generic family 'sans-serif' not found because none of the following families were found: IBM Plex Sans, Roboto, Helvetica\n",
      "findfont: Generic family 'sans-serif' not found because none of the following families were found: IBM Plex Sans, Roboto, Helvetica\n",
      "findfont: Generic family 'sans-serif' not found because none of the following families were found: IBM Plex Sans, Roboto, Helvetica\n",
      "findfont: Generic family 'sans-serif' not found because none of the following families were found: IBM Plex Sans, Roboto, Helvetica\n",
      "findfont: Generic family 'sans-serif' not found because none of the following families were found: IBM Plex Sans, Roboto, Helvetica\n",
      "findfont: Generic family 'sans-serif' not found because none of the following families were found: IBM Plex Sans, Roboto, Helvetica\n",
      "findfont: Generic family 'sans-serif' not found because none of the following families were found: IBM Plex Sans, Roboto, Helvetica\n",
      "findfont: Generic family 'sans-serif' not found because none of the following families were found: IBM Plex Sans, Roboto, Helvetica\n",
      "findfont: Generic family 'sans-serif' not found because none of the following families were found: IBM Plex Sans, Roboto, Helvetica\n",
      "findfont: Generic family 'sans-serif' not found because none of the following families were found: IBM Plex Sans, Roboto, Helvetica\n",
      "findfont: Generic family 'sans-serif' not found because none of the following families were found: IBM Plex Sans, Roboto, Helvetica\n",
      "findfont: Generic family 'sans-serif' not found because none of the following families were found: IBM Plex Sans, Roboto, Helvetica\n",
      "findfont: Generic family 'sans-serif' not found because none of the following families were found: IBM Plex Sans, Roboto, Helvetica\n",
      "findfont: Generic family 'sans-serif' not found because none of the following families were found: IBM Plex Sans, Roboto, Helvetica\n",
      "findfont: Generic family 'sans-serif' not found because none of the following families were found: IBM Plex Sans, Roboto, Helvetica\n",
      "findfont: Generic family 'sans-serif' not found because none of the following families were found: IBM Plex Sans, Roboto, Helvetica\n",
      "findfont: Generic family 'sans-serif' not found because none of the following families were found: IBM Plex Sans, Roboto, Helvetica\n",
      "findfont: Generic family 'sans-serif' not found because none of the following families were found: IBM Plex Sans, Roboto, Helvetica\n",
      "findfont: Generic family 'sans-serif' not found because none of the following families were found: IBM Plex Sans, Roboto, Helvetica\n",
      "findfont: Generic family 'sans-serif' not found because none of the following families were found: IBM Plex Sans, Roboto, Helvetica\n",
      "findfont: Generic family 'sans-serif' not found because none of the following families were found: IBM Plex Sans, Roboto, Helvetica\n",
      "findfont: Generic family 'sans-serif' not found because none of the following families were found: IBM Plex Sans, Roboto, Helvetica\n",
      "findfont: Generic family 'sans-serif' not found because none of the following families were found: IBM Plex Sans, Roboto, Helvetica\n",
      "findfont: Generic family 'sans-serif' not found because none of the following families were found: IBM Plex Sans, Roboto, Helvetica\n",
      "findfont: Generic family 'sans-serif' not found because none of the following families were found: IBM Plex Sans, Roboto, Helvetica\n",
      "findfont: Generic family 'sans-serif' not found because none of the following families were found: IBM Plex Sans, Roboto, Helvetica\n",
      "findfont: Generic family 'sans-serif' not found because none of the following families were found: IBM Plex Sans, Roboto, Helvetica\n",
      "findfont: Generic family 'sans-serif' not found because none of the following families were found: IBM Plex Sans, Roboto, Helvetica\n",
      "findfont: Generic family 'sans-serif' not found because none of the following families were found: IBM Plex Sans, Roboto, Helvetica\n",
      "findfont: Generic family 'sans-serif' not found because none of the following families were found: IBM Plex Sans, Roboto, Helvetica\n",
      "findfont: Generic family 'sans-serif' not found because none of the following families were found: IBM Plex Sans, Roboto, Helvetica\n",
      "findfont: Generic family 'sans-serif' not found because none of the following families were found: IBM Plex Sans, Roboto, Helvetica\n",
      "findfont: Generic family 'sans-serif' not found because none of the following families were found: IBM Plex Sans, Roboto, Helvetica\n",
      "findfont: Generic family 'sans-serif' not found because none of the following families were found: IBM Plex Sans, Roboto, Helvetica\n",
      "findfont: Generic family 'sans-serif' not found because none of the following families were found: IBM Plex Sans, Roboto, Helvetica\n",
      "findfont: Generic family 'sans-serif' not found because none of the following families were found: IBM Plex Sans, Roboto, Helvetica\n",
      "findfont: Generic family 'sans-serif' not found because none of the following families were found: IBM Plex Sans, Roboto, Helvetica\n",
      "findfont: Generic family 'sans-serif' not found because none of the following families were found: IBM Plex Sans, Roboto, Helvetica\n",
      "findfont: Generic family 'sans-serif' not found because none of the following families were found: IBM Plex Sans, Roboto, Helvetica\n",
      "findfont: Generic family 'sans-serif' not found because none of the following families were found: IBM Plex Sans, Roboto, Helvetica\n",
      "findfont: Generic family 'sans-serif' not found because none of the following families were found: IBM Plex Sans, Roboto, Helvetica\n",
      "findfont: Generic family 'sans-serif' not found because none of the following families were found: IBM Plex Sans, Roboto, Helvetica\n",
      "findfont: Generic family 'sans-serif' not found because none of the following families were found: IBM Plex Sans, Roboto, Helvetica\n",
      "findfont: Generic family 'sans-serif' not found because none of the following families were found: IBM Plex Sans, Roboto, Helvetica\n",
      "findfont: Generic family 'sans-serif' not found because none of the following families were found: IBM Plex Sans, Roboto, Helvetica\n",
      "findfont: Generic family 'sans-serif' not found because none of the following families were found: IBM Plex Sans, Roboto, Helvetica\n"
     ]
    },
    {
     "data": {
      "image/png": "[encoded data removed]",
      "text/plain": [
       "<Figure size 330x250 with 1 Axes>"
      ]
     },
     "metadata": {},
     "output_type": "display_data"
    }
   ],
   "source": [
    "# Organize the results for easy plotting\n",
    "\n",
    "models = [\"llama\", \"sft\", \"openai\"]\n",
    "metrics = [\"precision\", \"recall\", \"f1_scores\"]\n",
    "\n",
    "results = {}\n",
    "\n",
    "results[\"llama_results\"] = results_llama\n",
    "results[\"openai_results\"] = results_openai\n",
    "results[\"sft_results\"] = results_sft\n",
    "\n",
    "metrics_0_shot = []\n",
    "metrics_1_shot = []\n",
    "for model in models:\n",
    "    tmp_0 = []\n",
    "    tmp_1 = []\n",
    "    for metric in metrics:\n",
    "        tmp_0.append(results[model + \"_results\"][\"0-shot\"][metric])\n",
    "        tmp_1.append(results[model + \"_results\"][\"1-shot\"][metric])\n",
    "    metrics_0_shot.append(tmp_0)\n",
    "    metrics_1_shot.append(tmp_1)\n",
    "\n",
    "# set width of bar\n",
    "barWidth = 0.2\n",
    "fig = plt.subplots()\n",
    "\n",
    "plt_models = [\"Llama3-8B\", \"Llama3-8B Fine-tuned\", \"GPT-4o\"]\n",
    "plt_metrics = [\"Precision\", \"Recall\", \"F1-Score\"]\n",
    "plt_data = {}\n",
    "for index, model in enumerate(plt_models):\n",
    "    plt_data[model] = metrics_0_shot[index]\n",
    "\n",
    "# Set position of bar on X axis\n",
    "br1 = np.arange(len(metrics_0_shot[0]))\n",
    "br2 = [x + barWidth for x in br1]\n",
    "br3 = [x + barWidth for x in br2]\n",
    "\n",
    "# Make the plot\n",
    "plt.bar(\n",
    "    br1,\n",
    "    metrics_0_shot[0],\n",
    "    color=\"b\",\n",
    "    width=barWidth,\n",
    "    edgecolor=\"black\",\n",
    "    label=plt_models[0],\n",
    ")\n",
    "plt.bar(\n",
    "    br2,\n",
    "    metrics_0_shot[1],\n",
    "    color=\"skyblue\",\n",
    "    width=barWidth,\n",
    "    edgecolor=\"black\",\n",
    "    label=plt_models[1],\n",
    ")\n",
    "plt.bar(\n",
    "    br3,\n",
    "    metrics_0_shot[2],\n",
    "    color=\"mediumseagreen\",\n",
    "    width=barWidth,\n",
    "    edgecolor=\"black\",\n",
    "    label=plt_models[2],\n",
    ")\n",
    "\n",
    "# Adding Xticks\n",
    "plt.xlabel(\"Metric\")\n",
    "plt.ylabel(\n",
    "    \"Results\",\n",
    ")\n",
    "plt.xticks([r + barWidth for r in range(len(metrics_0_shot[0]))], plt_metrics)\n",
    "plt.ylim(0, 1)\n",
    "plt.title(\"Different metrics with 0 shot prompt for the models\")\n",
    "\n",
    "plt.legend(bbox_to_anchor=(1, 0.8))\n",
    "# plt.savefig(\"bars0.png\")\n",
    "plt.show()"
   ]
  },
  {
   "cell_type": "markdown",
   "id": "5339557d",
   "metadata": {},
   "source": [
    "For the 0-shot prompt is possible to see that the best results for all the metrics are the ones obtained when using the closed-source model that is presumably the bigger one of the three. The results to both Llama3-8B models are very similar. The fact that all the results are that similar between them is probably because of the evaluation used."
   ]
  },
  {
   "cell_type": "code",
   "execution_count": 36,
   "id": "6fa3cc0c",
   "metadata": {
    "tags": [
     "hide-input"
    ]
   },
   "outputs": [
    {
     "name": "stderr",
     "output_type": "stream",
     "text": [
      "findfont: Generic family 'sans-serif' not found because none of the following families were found: IBM Plex Sans, Roboto, Helvetica\n",
      "findfont: Generic family 'sans-serif' not found because none of the following families were found: IBM Plex Sans, Roboto, Helvetica\n",
      "findfont: Generic family 'sans-serif' not found because none of the following families were found: IBM Plex Sans, Roboto, Helvetica\n",
      "findfont: Generic family 'sans-serif' not found because none of the following families were found: IBM Plex Sans, Roboto, Helvetica\n",
      "findfont: Generic family 'sans-serif' not found because none of the following families were found: IBM Plex Sans, Roboto, Helvetica\n",
      "findfont: Generic family 'sans-serif' not found because none of the following families were found: IBM Plex Sans, Roboto, Helvetica\n",
      "findfont: Generic family 'sans-serif' not found because none of the following families were found: IBM Plex Sans, Roboto, Helvetica\n",
      "findfont: Generic family 'sans-serif' not found because none of the following families were found: IBM Plex Sans, Roboto, Helvetica\n",
      "findfont: Generic family 'sans-serif' not found because none of the following families were found: IBM Plex Sans, Roboto, Helvetica\n",
      "findfont: Generic family 'sans-serif' not found because none of the following families were found: IBM Plex Sans, Roboto, Helvetica\n",
      "findfont: Generic family 'sans-serif' not found because none of the following families were found: IBM Plex Sans, Roboto, Helvetica\n",
      "findfont: Generic family 'sans-serif' not found because none of the following families were found: IBM Plex Sans, Roboto, Helvetica\n",
      "findfont: Generic family 'sans-serif' not found because none of the following families were found: IBM Plex Sans, Roboto, Helvetica\n",
      "findfont: Generic family 'sans-serif' not found because none of the following families were found: IBM Plex Sans, Roboto, Helvetica\n",
      "findfont: Generic family 'sans-serif' not found because none of the following families were found: IBM Plex Sans, Roboto, Helvetica\n",
      "findfont: Generic family 'sans-serif' not found because none of the following families were found: IBM Plex Sans, Roboto, Helvetica\n",
      "findfont: Generic family 'sans-serif' not found because none of the following families were found: IBM Plex Sans, Roboto, Helvetica\n",
      "findfont: Generic family 'sans-serif' not found because none of the following families were found: IBM Plex Sans, Roboto, Helvetica\n",
      "findfont: Generic family 'sans-serif' not found because none of the following families were found: IBM Plex Sans, Roboto, Helvetica\n",
      "findfont: Generic family 'sans-serif' not found because none of the following families were found: IBM Plex Sans, Roboto, Helvetica\n",
      "findfont: Generic family 'sans-serif' not found because none of the following families were found: IBM Plex Sans, Roboto, Helvetica\n",
      "findfont: Generic family 'sans-serif' not found because none of the following families were found: IBM Plex Sans, Roboto, Helvetica\n",
      "findfont: Generic family 'sans-serif' not found because none of the following families were found: IBM Plex Sans, Roboto, Helvetica\n",
      "findfont: Generic family 'sans-serif' not found because none of the following families were found: IBM Plex Sans, Roboto, Helvetica\n",
      "findfont: Generic family 'sans-serif' not found because none of the following families were found: IBM Plex Sans, Roboto, Helvetica\n",
      "findfont: Generic family 'sans-serif' not found because none of the following families were found: IBM Plex Sans, Roboto, Helvetica\n",
      "findfont: Generic family 'sans-serif' not found because none of the following families were found: IBM Plex Sans, Roboto, Helvetica\n",
      "findfont: Generic family 'sans-serif' not found because none of the following families were found: IBM Plex Sans, Roboto, Helvetica\n",
      "findfont: Generic family 'sans-serif' not found because none of the following families were found: IBM Plex Sans, Roboto, Helvetica\n",
      "findfont: Generic family 'sans-serif' not found because none of the following families were found: IBM Plex Sans, Roboto, Helvetica\n",
      "findfont: Generic family 'sans-serif' not found because none of the following families were found: IBM Plex Sans, Roboto, Helvetica\n",
      "findfont: Generic family 'sans-serif' not found because none of the following families were found: IBM Plex Sans, Roboto, Helvetica\n",
      "findfont: Generic family 'sans-serif' not found because none of the following families were found: IBM Plex Sans, Roboto, Helvetica\n",
      "findfont: Generic family 'sans-serif' not found because none of the following families were found: IBM Plex Sans, Roboto, Helvetica\n",
      "findfont: Generic family 'sans-serif' not found because none of the following families were found: IBM Plex Sans, Roboto, Helvetica\n",
      "findfont: Generic family 'sans-serif' not found because none of the following families were found: IBM Plex Sans, Roboto, Helvetica\n",
      "findfont: Generic family 'sans-serif' not found because none of the following families were found: IBM Plex Sans, Roboto, Helvetica\n",
      "findfont: Generic family 'sans-serif' not found because none of the following families were found: IBM Plex Sans, Roboto, Helvetica\n",
      "findfont: Generic family 'sans-serif' not found because none of the following families were found: IBM Plex Sans, Roboto, Helvetica\n",
      "findfont: Generic family 'sans-serif' not found because none of the following families were found: IBM Plex Sans, Roboto, Helvetica\n",
      "findfont: Generic family 'sans-serif' not found because none of the following families were found: IBM Plex Sans, Roboto, Helvetica\n",
      "findfont: Generic family 'sans-serif' not found because none of the following families were found: IBM Plex Sans, Roboto, Helvetica\n",
      "findfont: Generic family 'sans-serif' not found because none of the following families were found: IBM Plex Sans, Roboto, Helvetica\n",
      "findfont: Generic family 'sans-serif' not found because none of the following families were found: IBM Plex Sans, Roboto, Helvetica\n",
      "findfont: Generic family 'sans-serif' not found because none of the following families were found: IBM Plex Sans, Roboto, Helvetica\n",
      "findfont: Generic family 'sans-serif' not found because none of the following families were found: IBM Plex Sans, Roboto, Helvetica\n",
      "findfont: Generic family 'sans-serif' not found because none of the following families were found: IBM Plex Sans, Roboto, Helvetica\n",
      "findfont: Generic family 'sans-serif' not found because none of the following families were found: IBM Plex Sans, Roboto, Helvetica\n",
      "findfont: Generic family 'sans-serif' not found because none of the following families were found: IBM Plex Sans, Roboto, Helvetica\n",
      "findfont: Generic family 'sans-serif' not found because none of the following families were found: IBM Plex Sans, Roboto, Helvetica\n",
      "findfont: Generic family 'sans-serif' not found because none of the following families were found: IBM Plex Sans, Roboto, Helvetica\n",
      "findfont: Generic family 'sans-serif' not found because none of the following families were found: IBM Plex Sans, Roboto, Helvetica\n",
      "findfont: Generic family 'sans-serif' not found because none of the following families were found: IBM Plex Sans, Roboto, Helvetica\n",
      "findfont: Generic family 'sans-serif' not found because none of the following families were found: IBM Plex Sans, Roboto, Helvetica\n",
      "findfont: Generic family 'sans-serif' not found because none of the following families were found: IBM Plex Sans, Roboto, Helvetica\n",
      "findfont: Generic family 'sans-serif' not found because none of the following families were found: IBM Plex Sans, Roboto, Helvetica\n",
      "findfont: Generic family 'sans-serif' not found because none of the following families were found: IBM Plex Sans, Roboto, Helvetica\n",
      "findfont: Generic family 'sans-serif' not found because none of the following families were found: IBM Plex Sans, Roboto, Helvetica\n",
      "findfont: Generic family 'sans-serif' not found because none of the following families were found: IBM Plex Sans, Roboto, Helvetica\n",
      "findfont: Generic family 'sans-serif' not found because none of the following families were found: IBM Plex Sans, Roboto, Helvetica\n",
      "findfont: Generic family 'sans-serif' not found because none of the following families were found: IBM Plex Sans, Roboto, Helvetica\n",
      "findfont: Generic family 'sans-serif' not found because none of the following families were found: IBM Plex Sans, Roboto, Helvetica\n",
      "findfont: Generic family 'sans-serif' not found because none of the following families were found: IBM Plex Sans, Roboto, Helvetica\n",
      "findfont: Generic family 'sans-serif' not found because none of the following families were found: IBM Plex Sans, Roboto, Helvetica\n",
      "findfont: Generic family 'sans-serif' not found because none of the following families were found: IBM Plex Sans, Roboto, Helvetica\n",
      "findfont: Generic family 'sans-serif' not found because none of the following families were found: IBM Plex Sans, Roboto, Helvetica\n",
      "findfont: Generic family 'sans-serif' not found because none of the following families were found: IBM Plex Sans, Roboto, Helvetica\n",
      "findfont: Generic family 'sans-serif' not found because none of the following families were found: IBM Plex Sans, Roboto, Helvetica\n",
      "findfont: Generic family 'sans-serif' not found because none of the following families were found: IBM Plex Sans, Roboto, Helvetica\n",
      "findfont: Generic family 'sans-serif' not found because none of the following families were found: IBM Plex Sans, Roboto, Helvetica\n",
      "findfont: Generic family 'sans-serif' not found because none of the following families were found: IBM Plex Sans, Roboto, Helvetica\n",
      "findfont: Generic family 'sans-serif' not found because none of the following families were found: IBM Plex Sans, Roboto, Helvetica\n",
      "findfont: Generic family 'sans-serif' not found because none of the following families were found: IBM Plex Sans, Roboto, Helvetica\n",
      "findfont: Generic family 'sans-serif' not found because none of the following families were found: IBM Plex Sans, Roboto, Helvetica\n",
      "findfont: Generic family 'sans-serif' not found because none of the following families were found: IBM Plex Sans, Roboto, Helvetica\n",
      "findfont: Generic family 'sans-serif' not found because none of the following families were found: IBM Plex Sans, Roboto, Helvetica\n",
      "findfont: Generic family 'sans-serif' not found because none of the following families were found: IBM Plex Sans, Roboto, Helvetica\n",
      "findfont: Generic family 'sans-serif' not found because none of the following families were found: IBM Plex Sans, Roboto, Helvetica\n",
      "findfont: Generic family 'sans-serif' not found because none of the following families were found: IBM Plex Sans, Roboto, Helvetica\n",
      "findfont: Generic family 'sans-serif' not found because none of the following families were found: IBM Plex Sans, Roboto, Helvetica\n",
      "findfont: Generic family 'sans-serif' not found because none of the following families were found: IBM Plex Sans, Roboto, Helvetica\n",
      "findfont: Generic family 'sans-serif' not found because none of the following families were found: IBM Plex Sans, Roboto, Helvetica\n",
      "findfont: Generic family 'sans-serif' not found because none of the following families were found: IBM Plex Sans, Roboto, Helvetica\n",
      "findfont: Generic family 'sans-serif' not found because none of the following families were found: IBM Plex Sans, Roboto, Helvetica\n"
     ]
    },
    {
     "data": {
      "image/png": "[encoded data removed]",
      "text/plain": [
       "<Figure size 330x250 with 1 Axes>"
      ]
     },
     "metadata": {},
     "output_type": "display_data"
    }
   ],
   "source": [
    "# set width of bar\n",
    "barWidth = 0.2\n",
    "fig = plt.subplots()\n",
    "\n",
    "plt_data = {}\n",
    "for index, model in enumerate(plt_models):\n",
    "    plt_data[model] = metrics_1_shot[index]\n",
    "\n",
    "# Set position of bar on X axis\n",
    "br1 = np.arange(len(metrics_1_shot[0]))\n",
    "br2 = [x + barWidth for x in br1]\n",
    "br3 = [x + barWidth for x in br2]\n",
    "\n",
    "# Make the plot\n",
    "plt.bar(\n",
    "    br1,\n",
    "    metrics_1_shot[0],\n",
    "    color=\"b\",\n",
    "    width=barWidth,\n",
    "    edgecolor=\"black\",\n",
    "    label=plt_models[0],\n",
    ")\n",
    "plt.bar(\n",
    "    br2,\n",
    "    metrics_1_shot[1],\n",
    "    color=\"skyblue\",\n",
    "    width=barWidth,\n",
    "    edgecolor=\"black\",\n",
    "    label=plt_models[1],\n",
    ")\n",
    "plt.bar(\n",
    "    br3,\n",
    "    metrics_1_shot[2],\n",
    "    color=\"mediumseagreen\",\n",
    "    width=barWidth,\n",
    "    edgecolor=\"black\",\n",
    "    label=plt_models[2],\n",
    ")\n",
    "\n",
    "# Adding Xticks\n",
    "plt.xlabel(\"Metric\")\n",
    "plt.ylabel(\"Results\")\n",
    "plt.xticks([r + barWidth for r in range(len(metrics_1_shot[0]))], plt_metrics)\n",
    "plt.ylim(0, 1)\n",
    "plt.title(\"Different metrics with 1-shot prompt for the models\")\n",
    "\n",
    "plt.legend(bbox_to_anchor=(1, 0.8))\n",
    "# plt.savefig(\"bars1.png\")\n",
    "plt.show()"
   ]
  },
  {
   "cell_type": "markdown",
   "id": "bd6dc4d0",
   "metadata": {},
   "source": [
    "When using the 1-shot prompt it is possible to see that the results are slightly better for the closed-source model.\n",
    "\n",
    "Additionally, is possible to see that the fine-tuned model perform worse than the vanilla Llama3-8B model. As pointed above, this is because the fine-tuned model is seeing a format that is not the one that saw during training. Because of that, and having these results to prove it, we recommend avoiding the use of few-shot prompts with fine-tuned models."
   ]
  },
  {
   "cell_type": "code",
   "execution_count": 37,
   "id": "b8c3f010-485f-4dd4-8ebc-e815ed0b2d87",
   "metadata": {
    "tags": [
     "hide-input"
    ]
   },
   "outputs": [
    {
     "name": "stderr",
     "output_type": "stream",
     "text": [
      "findfont: Generic family 'sans-serif' not found because none of the following families were found: IBM Plex Sans, Roboto, Helvetica\n",
      "findfont: Generic family 'sans-serif' not found because none of the following families were found: IBM Plex Sans, Roboto, Helvetica\n",
      "findfont: Generic family 'sans-serif' not found because none of the following families were found: IBM Plex Sans, Roboto, Helvetica\n",
      "findfont: Generic family 'sans-serif' not found because none of the following families were found: IBM Plex Sans, Roboto, Helvetica\n",
      "findfont: Generic family 'sans-serif' not found because none of the following families were found: IBM Plex Sans, Roboto, Helvetica\n",
      "findfont: Generic family 'sans-serif' not found because none of the following families were found: IBM Plex Sans, Roboto, Helvetica\n",
      "findfont: Generic family 'sans-serif' not found because none of the following families were found: IBM Plex Sans, Roboto, Helvetica\n",
      "findfont: Generic family 'sans-serif' not found because none of the following families were found: IBM Plex Sans, Roboto, Helvetica\n",
      "findfont: Generic family 'sans-serif' not found because none of the following families were found: IBM Plex Sans, Roboto, Helvetica\n",
      "findfont: Generic family 'sans-serif' not found because none of the following families were found: IBM Plex Sans, Roboto, Helvetica\n",
      "findfont: Generic family 'sans-serif' not found because none of the following families were found: IBM Plex Sans, Roboto, Helvetica\n",
      "findfont: Generic family 'sans-serif' not found because none of the following families were found: IBM Plex Sans, Roboto, Helvetica\n",
      "findfont: Generic family 'sans-serif' not found because none of the following families were found: IBM Plex Sans, Roboto, Helvetica\n",
      "findfont: Generic family 'sans-serif' not found because none of the following families were found: IBM Plex Sans, Roboto, Helvetica\n",
      "findfont: Generic family 'sans-serif' not found because none of the following families were found: IBM Plex Sans, Roboto, Helvetica\n",
      "findfont: Generic family 'sans-serif' not found because none of the following families were found: IBM Plex Sans, Roboto, Helvetica\n",
      "findfont: Generic family 'sans-serif' not found because none of the following families were found: IBM Plex Sans, Roboto, Helvetica\n",
      "findfont: Generic family 'sans-serif' not found because none of the following families were found: IBM Plex Sans, Roboto, Helvetica\n",
      "findfont: Generic family 'sans-serif' not found because none of the following families were found: IBM Plex Sans, Roboto, Helvetica\n",
      "findfont: Generic family 'sans-serif' not found because none of the following families were found: IBM Plex Sans, Roboto, Helvetica\n",
      "findfont: Generic family 'sans-serif' not found because none of the following families were found: IBM Plex Sans, Roboto, Helvetica\n",
      "findfont: Generic family 'sans-serif' not found because none of the following families were found: IBM Plex Sans, Roboto, Helvetica\n",
      "findfont: Generic family 'sans-serif' not found because none of the following families were found: IBM Plex Sans, Roboto, Helvetica\n",
      "findfont: Generic family 'sans-serif' not found because none of the following families were found: IBM Plex Sans, Roboto, Helvetica\n",
      "findfont: Generic family 'sans-serif' not found because none of the following families were found: IBM Plex Sans, Roboto, Helvetica\n",
      "findfont: Generic family 'sans-serif' not found because none of the following families were found: IBM Plex Sans, Roboto, Helvetica\n",
      "findfont: Generic family 'sans-serif' not found because none of the following families were found: IBM Plex Sans, Roboto, Helvetica\n",
      "findfont: Generic family 'sans-serif' not found because none of the following families were found: IBM Plex Sans, Roboto, Helvetica\n",
      "findfont: Generic family 'sans-serif' not found because none of the following families were found: IBM Plex Sans, Roboto, Helvetica\n",
      "findfont: Generic family 'sans-serif' not found because none of the following families were found: IBM Plex Sans, Roboto, Helvetica\n",
      "findfont: Generic family 'sans-serif' not found because none of the following families were found: IBM Plex Sans, Roboto, Helvetica\n",
      "findfont: Generic family 'sans-serif' not found because none of the following families were found: IBM Plex Sans, Roboto, Helvetica\n",
      "findfont: Generic family 'sans-serif' not found because none of the following families were found: IBM Plex Sans, Roboto, Helvetica\n",
      "findfont: Generic family 'sans-serif' not found because none of the following families were found: IBM Plex Sans, Roboto, Helvetica\n",
      "findfont: Generic family 'sans-serif' not found because none of the following families were found: IBM Plex Sans, Roboto, Helvetica\n",
      "findfont: Generic family 'sans-serif' not found because none of the following families were found: IBM Plex Sans, Roboto, Helvetica\n",
      "findfont: Generic family 'sans-serif' not found because none of the following families were found: IBM Plex Sans, Roboto, Helvetica\n",
      "findfont: Generic family 'sans-serif' not found because none of the following families were found: IBM Plex Sans, Roboto, Helvetica\n",
      "findfont: Generic family 'sans-serif' not found because none of the following families were found: IBM Plex Sans, Roboto, Helvetica\n",
      "findfont: Generic family 'sans-serif' not found because none of the following families were found: IBM Plex Sans, Roboto, Helvetica\n",
      "findfont: Generic family 'sans-serif' not found because none of the following families were found: IBM Plex Sans, Roboto, Helvetica\n",
      "findfont: Generic family 'sans-serif' not found because none of the following families were found: IBM Plex Sans, Roboto, Helvetica\n",
      "findfont: Generic family 'sans-serif' not found because none of the following families were found: IBM Plex Sans, Roboto, Helvetica\n",
      "findfont: Generic family 'sans-serif' not found because none of the following families were found: IBM Plex Sans, Roboto, Helvetica\n",
      "findfont: Generic family 'sans-serif' not found because none of the following families were found: IBM Plex Sans, Roboto, Helvetica\n",
      "findfont: Generic family 'sans-serif' not found because none of the following families were found: IBM Plex Sans, Roboto, Helvetica\n",
      "findfont: Generic family 'sans-serif' not found because none of the following families were found: IBM Plex Sans, Roboto, Helvetica\n",
      "findfont: Generic family 'sans-serif' not found because none of the following families were found: IBM Plex Sans, Roboto, Helvetica\n",
      "findfont: Generic family 'sans-serif' not found because none of the following families were found: IBM Plex Sans, Roboto, Helvetica\n",
      "findfont: Generic family 'sans-serif' not found because none of the following families were found: IBM Plex Sans, Roboto, Helvetica\n",
      "findfont: Generic family 'sans-serif' not found because none of the following families were found: IBM Plex Sans, Roboto, Helvetica\n",
      "findfont: Generic family 'sans-serif' not found because none of the following families were found: IBM Plex Sans, Roboto, Helvetica\n",
      "findfont: Generic family 'sans-serif' not found because none of the following families were found: IBM Plex Sans, Roboto, Helvetica\n",
      "findfont: Generic family 'sans-serif' not found because none of the following families were found: IBM Plex Sans, Roboto, Helvetica\n",
      "findfont: Generic family 'sans-serif' not found because none of the following families were found: IBM Plex Sans, Roboto, Helvetica\n",
      "findfont: Generic family 'sans-serif' not found because none of the following families were found: IBM Plex Sans, Roboto, Helvetica\n",
      "findfont: Generic family 'sans-serif' not found because none of the following families were found: IBM Plex Sans, Roboto, Helvetica\n",
      "findfont: Generic family 'sans-serif' not found because none of the following families were found: IBM Plex Sans, Roboto, Helvetica\n",
      "findfont: Generic family 'sans-serif' not found because none of the following families were found: IBM Plex Sans, Roboto, Helvetica\n",
      "findfont: Generic family 'sans-serif' not found because none of the following families were found: IBM Plex Sans, Roboto, Helvetica\n",
      "findfont: Generic family 'sans-serif' not found because none of the following families were found: IBM Plex Sans, Roboto, Helvetica\n",
      "findfont: Generic family 'sans-serif' not found because none of the following families were found: IBM Plex Sans, Roboto, Helvetica\n",
      "findfont: Generic family 'sans-serif' not found because none of the following families were found: IBM Plex Sans, Roboto, Helvetica\n",
      "findfont: Generic family 'sans-serif' not found because none of the following families were found: IBM Plex Sans, Roboto, Helvetica\n",
      "findfont: Generic family 'sans-serif' not found because none of the following families were found: IBM Plex Sans, Roboto, Helvetica\n",
      "findfont: Generic family 'sans-serif' not found because none of the following families were found: IBM Plex Sans, Roboto, Helvetica\n",
      "findfont: Generic family 'sans-serif' not found because none of the following families were found: IBM Plex Sans, Roboto, Helvetica\n",
      "findfont: Generic family 'sans-serif' not found because none of the following families were found: IBM Plex Sans, Roboto, Helvetica\n",
      "findfont: Generic family 'sans-serif' not found because none of the following families were found: IBM Plex Sans, Roboto, Helvetica\n",
      "findfont: Generic family 'sans-serif' not found because none of the following families were found: IBM Plex Sans, Roboto, Helvetica\n",
      "findfont: Generic family 'sans-serif' not found because none of the following families were found: IBM Plex Sans, Roboto, Helvetica\n",
      "findfont: Generic family 'sans-serif' not found because none of the following families were found: IBM Plex Sans, Roboto, Helvetica\n",
      "findfont: Generic family 'sans-serif' not found because none of the following families were found: IBM Plex Sans, Roboto, Helvetica\n",
      "findfont: Generic family 'sans-serif' not found because none of the following families were found: IBM Plex Sans, Roboto, Helvetica\n",
      "findfont: Generic family 'sans-serif' not found because none of the following families were found: IBM Plex Sans, Roboto, Helvetica\n",
      "findfont: Generic family 'sans-serif' not found because none of the following families were found: IBM Plex Sans, Roboto, Helvetica\n",
      "findfont: Generic family 'sans-serif' not found because none of the following families were found: IBM Plex Sans, Roboto, Helvetica\n",
      "findfont: Generic family 'sans-serif' not found because none of the following families were found: IBM Plex Sans, Roboto, Helvetica\n",
      "findfont: Generic family 'sans-serif' not found because none of the following families were found: IBM Plex Sans, Roboto, Helvetica\n",
      "findfont: Generic family 'sans-serif' not found because none of the following families were found: IBM Plex Sans, Roboto, Helvetica\n",
      "findfont: Generic family 'sans-serif' not found because none of the following families were found: IBM Plex Sans, Roboto, Helvetica\n",
      "findfont: Generic family 'sans-serif' not found because none of the following families were found: IBM Plex Sans, Roboto, Helvetica\n",
      "findfont: Generic family 'sans-serif' not found because none of the following families were found: IBM Plex Sans, Roboto, Helvetica\n",
      "findfont: Generic family 'sans-serif' not found because none of the following families were found: IBM Plex Sans, Roboto, Helvetica\n",
      "findfont: Generic family 'sans-serif' not found because none of the following families were found: IBM Plex Sans, Roboto, Helvetica\n",
      "findfont: Generic family 'sans-serif' not found because none of the following families were found: IBM Plex Sans, Roboto, Helvetica\n",
      "findfont: Generic family 'sans-serif' not found because none of the following families were found: IBM Plex Sans, Roboto, Helvetica\n",
      "findfont: Generic family 'sans-serif' not found because none of the following families were found: IBM Plex Sans, Roboto, Helvetica\n",
      "findfont: Generic family 'sans-serif' not found because none of the following families were found: IBM Plex Sans, Roboto, Helvetica\n",
      "findfont: Generic family 'sans-serif' not found because none of the following families were found: IBM Plex Sans, Roboto, Helvetica\n",
      "findfont: Generic family 'sans-serif' not found because none of the following families were found: IBM Plex Sans, Roboto, Helvetica\n",
      "findfont: Generic family 'sans-serif' not found because none of the following families were found: IBM Plex Sans, Roboto, Helvetica\n",
      "findfont: Generic family 'sans-serif' not found because none of the following families were found: IBM Plex Sans, Roboto, Helvetica\n",
      "findfont: Generic family 'sans-serif' not found because none of the following families were found: IBM Plex Sans, Roboto, Helvetica\n",
      "findfont: Generic family 'sans-serif' not found because none of the following families were found: IBM Plex Sans, Roboto, Helvetica\n",
      "findfont: Generic family 'sans-serif' not found because none of the following families were found: IBM Plex Sans, Roboto, Helvetica\n",
      "findfont: Generic family 'sans-serif' not found because none of the following families were found: IBM Plex Sans, Roboto, Helvetica\n",
      "findfont: Generic family 'sans-serif' not found because none of the following families were found: IBM Plex Sans, Roboto, Helvetica\n",
      "findfont: Generic family 'sans-serif' not found because none of the following families were found: IBM Plex Sans, Roboto, Helvetica\n",
      "findfont: Generic family 'sans-serif' not found because none of the following families were found: IBM Plex Sans, Roboto, Helvetica\n",
      "findfont: Generic family 'sans-serif' not found because none of the following families were found: IBM Plex Sans, Roboto, Helvetica\n",
      "findfont: Generic family 'sans-serif' not found because none of the following families were found: IBM Plex Sans, Roboto, Helvetica\n",
      "findfont: Generic family 'sans-serif' not found because none of the following families were found: IBM Plex Sans, Roboto, Helvetica\n",
      "findfont: Generic family 'sans-serif' not found because none of the following families were found: IBM Plex Sans, Roboto, Helvetica\n",
      "findfont: Generic family 'sans-serif' not found because none of the following families were found: IBM Plex Sans, Roboto, Helvetica\n",
      "findfont: Generic family 'sans-serif' not found because none of the following families were found: IBM Plex Sans, Roboto, Helvetica\n",
      "findfont: Generic family 'sans-serif' not found because none of the following families were found: IBM Plex Sans, Roboto, Helvetica\n",
      "findfont: Generic family 'sans-serif' not found because none of the following families were found: IBM Plex Sans, Roboto, Helvetica\n",
      "findfont: Generic family 'sans-serif' not found because none of the following families were found: IBM Plex Sans, Roboto, Helvetica\n",
      "findfont: Generic family 'sans-serif' not found because none of the following families were found: IBM Plex Sans, Roboto, Helvetica\n",
      "findfont: Generic family 'sans-serif' not found because none of the following families were found: IBM Plex Sans, Roboto, Helvetica\n",
      "findfont: Generic family 'sans-serif' not found because none of the following families were found: IBM Plex Sans, Roboto, Helvetica\n",
      "findfont: Generic family 'sans-serif' not found because none of the following families were found: IBM Plex Sans, Roboto, Helvetica\n",
      "findfont: Generic family 'sans-serif' not found because none of the following families were found: IBM Plex Sans, Roboto, Helvetica\n",
      "findfont: Generic family 'sans-serif' not found because none of the following families were found: IBM Plex Sans, Roboto, Helvetica\n",
      "findfont: Generic family 'sans-serif' not found because none of the following families were found: IBM Plex Sans, Roboto, Helvetica\n",
      "findfont: Generic family 'sans-serif' not found because none of the following families were found: IBM Plex Sans, Roboto, Helvetica\n",
      "findfont: Generic family 'sans-serif' not found because none of the following families were found: IBM Plex Sans, Roboto, Helvetica\n",
      "findfont: Generic family 'sans-serif' not found because none of the following families were found: IBM Plex Sans, Roboto, Helvetica\n",
      "findfont: Generic family 'sans-serif' not found because none of the following families were found: IBM Plex Sans, Roboto, Helvetica\n",
      "findfont: Generic family 'sans-serif' not found because none of the following families were found: IBM Plex Sans, Roboto, Helvetica\n",
      "findfont: Generic family 'sans-serif' not found because none of the following families were found: IBM Plex Sans, Roboto, Helvetica\n",
      "findfont: Generic family 'sans-serif' not found because none of the following families were found: IBM Plex Sans, Roboto, Helvetica\n",
      "findfont: Generic family 'sans-serif' not found because none of the following families were found: IBM Plex Sans, Roboto, Helvetica\n",
      "findfont: Generic family 'sans-serif' not found because none of the following families were found: IBM Plex Sans, Roboto, Helvetica\n",
      "findfont: Generic family 'sans-serif' not found because none of the following families were found: IBM Plex Sans, Roboto, Helvetica\n"
     ]
    },
    {
     "data": {
      "image/png": "[encoded data removed]",
      "text/plain": [
       "<Figure size 330x250 with 1 Axes>"
      ]
     },
     "metadata": {},
     "output_type": "display_data"
    }
   ],
   "source": [
    "# Organize the results for easy plotting\n",
    "results = {}\n",
    "\n",
    "results[\"llama_results\"] = results_llama\n",
    "results[\"openai_results\"] = results_openai\n",
    "results[\"sft_results\"] = results_sft\n",
    "\n",
    "metrics_ = []\n",
    "\n",
    "for model in models:\n",
    "    tmp_0 = []\n",
    "    tmp_1 = []\n",
    "    for metric in metrics:\n",
    "        tmp_0.append(results[model + \"_results\"][\"0-shot\"][metric])\n",
    "        tmp_1.append(results[model + \"_results\"][\"1-shot\"][metric])\n",
    "    metrics_.append(tmp_0)\n",
    "    metrics_.append(tmp_1)\n",
    "\n",
    "# set width of bar\n",
    "barWidth = 0.15\n",
    "fig = plt.subplots()\n",
    "\n",
    "plt_models = [\n",
    "    \"Llama3-8B 0-shot\",\n",
    "    \"Llama3-8B 1-shot\",\n",
    "    \"Llama3-8B Fine-tuned 0-shot\",\n",
    "    \"Llama3-8B Fine-tuned 1-shot\",\n",
    "    \"GPT-4o 0-shot\",\n",
    "    \"GPT-4o 1-shot\",\n",
    "]\n",
    "plt_metrics = [\"Precision\", \"Recall\", \"F1-Score\"]\n",
    "plt_data = {}\n",
    "for index, model in enumerate(plt_models):\n",
    "    plt_data[model] = metrics_[index]\n",
    "\n",
    "# Set position of bar on X axis\n",
    "br1 = np.arange(len(metrics_[0]))\n",
    "br2 = [x + barWidth for x in br1]\n",
    "br3 = [x + barWidth for x in br2]\n",
    "br4 = [x + barWidth for x in br3]\n",
    "br5 = [x + barWidth for x in br4]\n",
    "br6 = [x + barWidth for x in br5]\n",
    "\n",
    "# Make the plot\n",
    "plt.bar(\n",
    "    br1,\n",
    "    metrics_[0],\n",
    "    color=\"blue\",\n",
    "    width=barWidth,\n",
    "    edgecolor=\"black\",\n",
    "    label=plt_models[0],\n",
    ")\n",
    "plt.bar(\n",
    "    br2,\n",
    "    metrics_[1],\n",
    "    color=\"darkblue\",\n",
    "    width=barWidth,\n",
    "    edgecolor=\"black\",\n",
    "    label=plt_models[1],\n",
    ")\n",
    "plt.bar(\n",
    "    br3,\n",
    "    metrics_[2],\n",
    "    color=\"lightskyblue\",\n",
    "    width=barWidth,\n",
    "    edgecolor=\"black\",\n",
    "    label=plt_models[2],\n",
    ")\n",
    "plt.bar(\n",
    "    br4,\n",
    "    metrics_[3],\n",
    "    color=\"deepskyblue\",\n",
    "    width=barWidth,\n",
    "    edgecolor=\"black\",\n",
    "    label=plt_models[3],\n",
    ")\n",
    "plt.bar(\n",
    "    br5,\n",
    "    metrics_[4],\n",
    "    color=\"springgreen\",\n",
    "    width=barWidth,\n",
    "    edgecolor=\"black\",\n",
    "    label=plt_models[4],\n",
    ")\n",
    "plt.bar(\n",
    "    br6,\n",
    "    metrics_[5],\n",
    "    color=\"seagreen\",\n",
    "    width=barWidth,\n",
    "    edgecolor=\"black\",\n",
    "    label=plt_models[5],\n",
    ")\n",
    "\n",
    "# Adding Xticks\n",
    "plt.xlabel(\"Metric\")\n",
    "plt.ylabel(\"Results\")\n",
    "plt.xticks([r + 2.5 * barWidth for r in range(len(metrics_[0]))], plt_metrics)\n",
    "plt.ylim(0, 1)\n",
    "plt.title(\"Different metrics using both prompts for the models\")\n",
    "plt.legend(bbox_to_anchor=(1, 0.8))\n",
    "\n",
    "# plt.savefig(\"another.png\")\n",
    "plt.show()"
   ]
  },
  {
   "cell_type": "markdown",
   "id": "df0d30d7",
   "metadata": {},
   "source": [
    "When comparing all the results, it is evident that the 1-shot prompt yields better results for the three models compared to the 0-shot prompt.\n",
    "\n",
    "Furthermore, it is worth noting that the closed-source model with the 1-shot prompt achieves the best overall result, with an F$_1$-score exceeding 0.95.\n",
    "\n",
    "It is also important to highlight the underwhelming results of the fine-tuned model when using the 1-shot prompt. This is due to the fact that during the fine-tuning process, the model becomes highly adapted to a specific format, which is disrupted when using the 1-shot prompt. Typically, few-shot prompts are not used with the fine-tuned model for this reason.\n",
    "\n",
    "Lastly, it is crucial to acknowledge that the small differences observed may be attributed to the evaluation method. The BERTScore method measures token-by-token similarity, which may not be very reliable when applied to a JSON schema containing numerous curly brackets and other schema-related tokens. For more reliable evaluations, please refer to the evaluations notebook[REF]."
   ]
  },
  {
   "cell_type": "markdown",
   "id": "b73ac978",
   "metadata": {},
   "source": [
    "## References"
   ]
  },
  {
   "cell_type": "markdown",
   "id": "7634ec61",
   "metadata": {},
   "source": [
    "```{bibliography}\n",
    ":filter: docname in docnames\n",
    "```"
   ]
  }
 ],
 "metadata": {
  "kernelspec": {
   "display_name": "Python 3 (ipykernel)",
   "language": "python",
   "name": "python3"
  },
  "language_info": {
   "codemirror_mode": {
    "name": "ipython",
    "version": 3
   },
   "file_extension": ".py",
   "mimetype": "text/x-python",
   "name": "python",
   "nbconvert_exporter": "python",
   "pygments_lexer": "ipython3",
   "version": "3.12.4"
  }
 },
 "nbformat": 4,
 "nbformat_minor": 5
}
