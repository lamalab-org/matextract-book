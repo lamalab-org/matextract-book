{
 "cells": [
  {
   "cell_type": "markdown",
   "metadata": {
    "vscode": {
     "languageId": "raw"
    }
   },
   "source": [
    "# Strategies to tackle context window limitations"
   ]
  },
  {
   "cell_type": "markdown",
   "metadata": {
    "id": "J35hKZIjRgUv"
   },
   "source": [
    "Models always have a context window, which is the number of tokens they can process at a given time. This is an issue when we want to process any text that doesn't fit in this context window. We can break the text into chunks that fit. In this notebook, we demonstrate a number of techniques to tackle this issue."
   ]
  },
  {
   "cell_type": "markdown",
   "metadata": {},
   "source": [
    "```{admonition} Text from data mining\n",
    ":class: tip\n",
    "\n",
    "The text here is the same one used in the data mining section.\n",
    "```"
   ]
  },
  {
   "cell_type": "code",
   "execution_count": 2,
   "metadata": {
    "id": "oX9O0gIl0sQI",
    "trusted": true
   },
   "outputs": [],
   "source": [
    "import llmstructdata  # noqa: F401\n",
    "\n",
    "text = \"As a fundamental problem in organic chemistry, synthesis planning aims at designing energy and cost-efficient reaction pathways for target compounds. In synthesis planning, it is crucial to understand regioselectivity, or the preference of a reaction over competing reaction sites. Precisely predicting regioselectivity enables early exclusion of unproductive reactions and paves the way to designing high-yielding synthetic routes with minimal separation and material costs. However, it is still at emerging state to combine chemical knowledge and data-driven methods to make practical predictions for regioselectivity. At the same time, metal-catalyzed cross-coupling reactions have profoundly transformed medicinal chemistry, and thus become one of the most frequently encountered types of reactions in synthesis planning. In this work, we for the first time introduce a chemical knowledge informed message passing neural network(MPNN) framework that directly identifies the intrinsic major products for metal-catalyzed cross-coupling reactions with regioselective ambiguity. Integrating both first principle methods and data-driven methods, our model achieves an overall accuracy of 95.24\\\\% on the test set of eight typical metal-catalyzed cross-coupling reaction types, including Suzuki-Miyaura, Stille, Sonogashira, Buchwald-Hartwig, Hiyama, Kumada, Negishi, and Heck reactions, outperforming other commonly used model types. To integrate electronic effects with steric effects in regioselectivity prediction, we propose a quantitative method to measure the steric hindrance effect. Our steric hindrance checker can successfully identify regioselectivity induced solely by steric hindrance. Notably under practical scenarios, our model outperforms 6 experimental organic chemists with an average working experience of over 10 years in the organic synthesis industry in terms of predicting major products in regioselective cases. We have also exemplified the practical usage of our model by fixing routes designed by open-access synthesis planning software and improving reactions by identifying low-cost starting materials. To assist general chemists in making prompt decisions about regioselectivity, we have developed a free web-based AI-empowered tool.\""
   ]
  },
  {
   "cell_type": "markdown",
   "metadata": {
    "id": "6SHJvzVP0y6m"
   },
   "source": [
    "### Fixed size chunking\n",
    "\n",
    "The simplest approach is to make chunks that fit in your context window without worrying about where it cuts the text. This, as you can see in the example below, is not ideal. Some words get chopped, and when the LLM sees these chunks separately, it likely will struggle to infer information correctly."
   ]
  },
  {
   "cell_type": "markdown",
   "metadata": {},
   "source": [
    "```{admonition} Choosing a chunk size\n",
    ":class: tip\n",
    "\n",
    "The context window (🪟) needs to fit the chunk (🍕), query (❓), and output (🧰). \\\n",
    "\n",
    "Example: 🪟 (512) = 🍕 (100) + ❓(50) +  🧰 (388)\n",
    "```"
   ]
  },
  {
   "cell_type": "code",
   "execution_count": 7,
   "metadata": {
    "colab": {
     "base_uri": "https://localhost:8080/"
    },
    "id": "rUKdalek0xeI",
    "outputId": "f7e403e1-2947-44c9-c0af-0162da968bde",
    "trusted": true
   },
   "outputs": [
    {
     "data": {
      "text/plain": [
       "['As a fundamental problem in organic chemistry, synthesis planning aims at designing energy and cost-',\n",
       " 'efficient reaction pathways for target compounds. In synthesis planning, it is crucial to understand',\n",
       " ' regioselectivity, or the preference of a reaction over competing reaction sites. Precisely predicti',\n",
       " 'ng regioselectivity enables early exclusion of unproductive reactions and paves the way to designing',\n",
       " ' high-yielding synthetic routes with minimal separation and material costs. However, it is still at ',\n",
       " 'emerging state to combine chemical knowledge and data-driven methods to make practical predictions f',\n",
       " 'or regioselectivity. At the same time, metal-catalyzed cross-coupling reactions have profoundly tran',\n",
       " 'sformed medicinal chemistry, and thus become one of the most frequently encountered types of reactio',\n",
       " 'ns in synthesis planning. In this work, we for the first time introduce a chemical knowledge informe',\n",
       " 'd message passing neural network(MPNN) framework that directly identifies the intrinsic major produc',\n",
       " 'ts for metal-catalyzed cross-coupling reactions with regioselective ambiguity. Integrating both firs',\n",
       " 't principle methods and data-driven methods, our model achieves an overall accuracy of 95.24\\\\% on th',\n",
       " 'e test set of eight typical metal-catalyzed cross-coupling reaction types, including Suzuki-Miyaura,',\n",
       " ' Stille, Sonogashira, Buchwald-Hartwig, Hiyama, Kumada, Negishi, and Heck reactions, outperforming o',\n",
       " 'ther commonly used model types. To integrate electronic effects with steric effects in regioselectiv',\n",
       " 'ity prediction, we propose a quantitative method to measure the steric hindrance effect. Our steric ',\n",
       " 'hindrance checker can successfully identify regioselectivity induced solely by steric hindrance. Not',\n",
       " 'ably under practical scenarios, our model outperforms 6 experimental organic chemists with an averag',\n",
       " 'e working experience of over 10 years in the organic synthesis industry in terms of predicting major',\n",
       " ' products in regioselective cases. We have also exemplified the practical usage of our model by fixi',\n",
       " 'ng routes designed by open-access synthesis planning software and improving reactions by identifying',\n",
       " ' low-cost starting materials. To assist general chemists in making prompt decisions about regioselec',\n",
       " 'tivity, we have developed a free web-based AI-empowered tool.']"
      ]
     },
     "execution_count": 7,
     "metadata": {},
     "output_type": "execute_result"
    }
   ],
   "source": [
    "chunk_size = 100\n",
    "[text[i : i + chunk_size] for i in range(0, len(text), chunk_size)]"
   ]
  },
  {
   "cell_type": "markdown",
   "metadata": {
    "id": "jfehDVe606pl"
   },
   "source": [
    "### Splitting based on special characters\n",
    "\n",
    "We can improve on this and start splitting by special characters such as `.` or `\\n`. This keeps most semantic information in the same chunk. But of course, there can be cases where some information is lost in a previous chunk, sentence when we split by \".\"."
   ]
  },
  {
   "cell_type": "code",
   "execution_count": 4,
   "metadata": {
    "colab": {
     "base_uri": "https://localhost:8080/"
    },
    "id": "HVoP1JK308M9",
    "outputId": "0558d6ed-b9ba-46a1-e218-1f6cd2932b63"
   },
   "outputs": [
    {
     "data": {
      "text/plain": [
       "['As a fundamental problem in organic chemistry, synthesis planning aims at designing energy and cost-efficient reaction pathways for target compounds',\n",
       " ' In synthesis planning, it is crucial to understand regioselectivity, or the preference of a reaction over competing reaction sites',\n",
       " ' Precisely predicting regioselectivity enables early exclusion of unproductive reactions and paves the way to designing high-yielding synthetic routes with minimal separation and material costs',\n",
       " ' However, it is still at emerging state to combine chemical knowledge and data-driven methods to make practical predictions for regioselectivity',\n",
       " ' At the same time, metal-catalyzed cross-coupling reactions have profoundly transformed medicinal chemistry, and thus become one of the most frequently encountered types of reactions in synthesis planning',\n",
       " ' In this work, we for the first time introduce a chemical knowledge informed message passing neural network(MPNN) framework that directly identifies the intrinsic major products for metal-catalyzed cross-coupling reactions with regioselective ambiguity',\n",
       " ' Integrating both first principle methods and data-driven methods, our model achieves an overall accuracy of 95',\n",
       " '24\\\\% on the test set of eight typical metal-catalyzed cross-coupling reaction types, including Suzuki-Miyaura, Stille, Sonogashira, Buchwald-Hartwig, Hiyama, Kumada, Negishi, and Heck reactions, outperforming other commonly used model types',\n",
       " ' To integrate electronic effects with steric effects in regioselectivity prediction, we propose a quantitative method to measure the steric hindrance effect',\n",
       " ' Our steric hindrance checker can successfully identify regioselectivity induced solely by steric hindrance',\n",
       " ' Notably under practical scenarios, our model outperforms 6 experimental organic chemists with an average working experience of over 10 years in the organic synthesis industry in terms of predicting major products in regioselective cases',\n",
       " ' We have also exemplified the practical usage of our model by fixing routes designed by open-access synthesis planning software and improving reactions by identifying low-cost starting materials',\n",
       " ' To assist general chemists in making prompt decisions about regioselectivity, we have developed a free web-based AI-empowered tool',\n",
       " '']"
      ]
     },
     "execution_count": 4,
     "metadata": {},
     "output_type": "execute_result"
    }
   ],
   "source": [
    "text.split(\".\")"
   ]
  },
  {
   "cell_type": "markdown",
   "metadata": {
    "id": "usn4EwjU0-37"
   },
   "source": [
    "### Overlap between chunks\n",
    "\n",
    "To try to not lose this semantic information too much, we can add some overlap between chunks. This way some information is trickled in from the previous chunk and some from the next. Imagine this as reading the last two lines of the last paragraph and the first two of the next alongside the current paragraph you are reading."
   ]
  },
  {
   "cell_type": "code",
   "execution_count": 5,
   "metadata": {
    "colab": {
     "base_uri": "https://localhost:8080/"
    },
    "id": "2ehupwNZ0_rB",
    "outputId": "4c39d3b9-f9c9-4a61-fe66-5ab6d89c3160"
   },
   "outputs": [
    {
     "data": {
      "text/plain": [
       "['As a fundamental problem in organic chemistry, synthesis planning aims at designing energy and cost-efficient reaction pathways for target compounds In s',\n",
       " 'arget compounds In synthesis planning, it is crucial to understand regioselectivity, or the preference of a reaction over competing reaction sites Prec',\n",
       " ' reaction sites Precisely predicting regioselectivity enables early exclusion of unproductive reactions and paves the way to designing high-yielding synthetic routes with minimal separation and material costs Howe',\n",
       " ' material costs However, it is still at emerging state to combine chemical knowledge and data-driven methods to make practical predictions for regioselectivity At t',\n",
       " 'egioselectivity At the same time, metal-catalyzed cross-coupling reactions have profoundly transformed medicinal chemistry, and thus become one of the most frequently encountered types of reactions in synthesis planning In t',\n",
       " 'thesis planning In this work, we for the first time introduce a chemical knowledge informed message passing neural network(MPNN) framework that directly identifies the intrinsic major products for metal-catalyzed cross-coupling reactions with regioselective ambiguity Inte',\n",
       " 'ctive ambiguity Integrating both first principle methods and data-driven methods, our model achieves an overall accuracy of 9524\\\\% ',\n",
       " ' accuracy of 9524\\\\% on the test set of eight typical metal-catalyzed cross-coupling reaction types, including Suzuki-Miyaura, Stille, Sonogashira, Buchwald-Hartwig, Hiyama, Kumada, Negishi, and Heck reactions, outperforming other commonly used model types To i',\n",
       " 'sed model types To integrate electronic effects with steric effects in regioselectivity prediction, we propose a quantitative method to measure the steric hindrance effect Our ',\n",
       " 'indrance effect Our steric hindrance checker can successfully identify regioselectivity induced solely by steric hindrance Nota',\n",
       " 'teric hindrance Notably under practical scenarios, our model outperforms 6 experimental organic chemists with an average working experience of over 10 years in the organic synthesis industry in terms of predicting major products in regioselective cases We h',\n",
       " 'selective cases We have also exemplified the practical usage of our model by fixing routes designed by open-access synthesis planning software and improving reactions by identifying low-cost starting materials To a',\n",
       " 'rting materials To assist general chemists in making prompt decisions about regioselectivity, we have developed a free web-based AI-empowered tool']"
      ]
     },
     "execution_count": 5,
     "metadata": {},
     "output_type": "execute_result"
    }
   ],
   "source": [
    "chunked_sentences = text.split(\".\")\n",
    "overlap = 15\n",
    "[\n",
    "    chunked_sentences[i - 1][-overlap:]\n",
    "    + chunked_sentences[i]\n",
    "    + chunked_sentences[i + 1][:5]\n",
    "    for i in range(0, len(chunked_sentences) - 1)\n",
    "]"
   ]
  },
  {
   "cell_type": "markdown",
   "metadata": {
    "id": "34-D1WID1E4o"
   },
   "source": [
    "### Embeddings, Vectors, RAG\n",
    "\n",
    "If there are too many chunks to process all of them every time a query is made, a RAG, Retrieval Augmented Generation, approach can be used. This is usually used with a vector database to do a similarity search to find relevant chunks before querying the LLM."
   ]
  },
  {
   "cell_type": "markdown",
   "metadata": {},
   "source": [
    "```{margin}\n",
    "Embedding models are designed to store semantic information from a given text as vectors. The distance between two such vectors represents the semantic closeness between two original texts.  \n",
    "```"
   ]
  },
  {
   "cell_type": "markdown",
   "metadata": {
    "id": "8MQ1mgVp3DDC"
   },
   "source": [
    "We can use an embedding model to find suitable vectors to represent our vocabulary whether it is words or sentences. These vectors are then stored in a vector database for retrieval later."
   ]
  },
  {
   "cell_type": "code",
   "execution_count": null,
   "metadata": {
    "id": "KG9jzPrJ1N-8"
   },
   "outputs": [],
   "source": [
    "from sentence_transformers import SentenceTransformer\n",
    "\n",
    "model = SentenceTransformer(\"all-MiniLM-L6-v2\")\n",
    "sentences = text.split(\".\")\n",
    "\n",
    "text_embeddings = model.encode(chunked_sentences)\n",
    "print(text_embeddings.shape)"
   ]
  },
  {
   "cell_type": "markdown",
   "metadata": {
    "id": "ou2osWA9-8FS"
   },
   "source": [
    "ChromaDB is an Open Source Vector Database that we can use for our RAG application to query before the request is sent to the LLM. ChromaDB as default uses the same Sentence Embedding model we used above, \"all-MiniLM-L6-v2\"."
   ]
  },
  {
   "cell_type": "markdown",
   "metadata": {},
   "source": [
    "```{margin}\n",
    "Vector Databases are useful when you have many texts/chunks that you would like to use in your workflow. If the number of texts can be fit into a simpler look-up `np.array` and can be filtered by looping over a `np.array`, it's better to skip using a vectorDB. If there are many semantically different texts, a vectorDB will help with looking up similar ones.   \n",
    "```"
   ]
  },
  {
   "cell_type": "code",
   "execution_count": null,
   "metadata": {
    "id": "Hg9ApDhO2BZj"
   },
   "outputs": [],
   "source": [
    "import chromadb\n",
    "\n",
    "client = chromadb.Client()\n",
    "collection = client.create_collection(name=\"MySentenceStore\")\n",
    "collection.add(\n",
    "    documents=chunked_sentences,\n",
    "    ids=[str(id) for id in range(0, len(chunked_sentences))],\n",
    ")"
   ]
  },
  {
   "cell_type": "markdown",
   "metadata": {
    "id": "im0r4ltVgR1T"
   },
   "source": [
    "Before we send our query to the LLM, we find a relevant chunk from our vector database. In this example, it will give us the sentence most relevant to our question."
   ]
  },
  {
   "cell_type": "code",
   "execution_count": 11,
   "metadata": {
    "colab": {
     "base_uri": "https://localhost:8080/"
    },
    "id": "-9fISosS7RdL",
    "outputId": "a0b267b7-c5f8-4661-c402-b81421e1db4d"
   },
   "outputs": [
    {
     "name": "stdout",
     "output_type": "stream",
     "text": [
      "[[' At the same time, metal-catalyzed cross-coupling reactions have profoundly transformed medicinal chemistry, and thus become one of the most frequently encountered types of reactions in synthesis planning']]\n"
     ]
    }
   ],
   "source": [
    "query_results = collection.query(\n",
    "    query_texts=[\"What has transformed medicinal chemistry?\"], n_results=1\n",
    ")\n",
    "print(query_results[\"documents\"])"
   ]
  }
 ],
 "metadata": {
  "colab": {
   "provenance": []
  },
  "kernelspec": {
   "display_name": "Python (Pyodide)",
   "language": "python",
   "name": "python"
  },
  "language_info": {
   "codemirror_mode": {
    "name": "python",
    "version": 3
   },
   "file_extension": ".py",
   "mimetype": "text/x-python",
   "name": "python",
   "nbconvert_exporter": "python",
   "pygments_lexer": "ipython3",
   "version": "3.8"
  }
 },
 "nbformat": 4,
 "nbformat_minor": 4
}
