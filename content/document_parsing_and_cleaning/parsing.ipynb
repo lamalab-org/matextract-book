{
 "cells": [
  {
   "cell_type": "markdown",
   "id": "3455f2dea7eac2c3",
   "metadata": {
    "collapsed": false
   },
   "source": [
    "##  Document parsing with OCR tools\n",
    "\n",
    "There are multiple OCR-tools specially developed for the conversion of scientific articles like [Nougat](https://github.com/facebookresearch/nougat) or [Marker](https://github.com/VikParuchuri/marker) available. As an example we will demonstrate the conversion of a PDF to a markdown file using the [Nougat](https://github.com/facebookresearch/nougat) tool."
   ]
  },
  {
   "cell_type": "code",
   "execution_count": 4,
   "id": "2d632bebfb2f9e24",
   "metadata": {
    "ExecuteTime": {
     "end_time": "2024-05-28T06:53:57.394638Z",
     "start_time": "2024-05-28T06:53:57.392397Z"
    },
    "collapsed": false
   },
   "outputs": [],
   "source": [
    "import os\n",
    "\n",
    "\n",
    "def convert_pdf_with_nougat(\n",
    "    pdf_path, output_dir, model=\"0.1.0-small\", batch_size=1, no_skipping=False\n",
    "):\n",
    "    \"\"\"\n",
    "    Converts a PDF to Markdown using NOUGAT.\n",
    "\n",
    "    :param pdf_path: Path to the PDF to be converted.\n",
    "    :param output_dir: Output directory for the converted files.\n",
    "    :param model: Model tag to use (default: 0.1.0-small).\n",
    "    :param batch_size: Batch size for processing (default: 1).\n",
    "    :param no_skipping: Flag to disable the failure detection heuristic.\n",
    "    \"\"\"\n",
    "    cmd = f\"nougat {pdf_path} -o {output_dir} -m {model} -b {batch_size}\"\n",
    "    if no_skipping:\n",
    "        cmd += \" --no-skipping\"\n",
    "    os.system(cmd)"
   ]
  },
  {
   "cell_type": "markdown",
   "id": "4647c99dd0de626b",
   "metadata": {
    "collapsed": false
   },
   "source": [
    "As an example the 1 PDF downloaded in the [data mining chapter](../obtaining_data/data_mining.ipynb) was converted into markdown files. "
   ]
  },
  {
   "cell_type": "markdown",
   "id": "6e76c95bfd3ac156",
   "metadata": {
    "collapsed": false
   },
   "source": [
    "```{warning}\n",
    "\n",
    "Using these tools needs a lot of computational power. One should run these preferable on a computing cluster. \n",
    "```"
   ]
  },
  {
   "cell_type": "code",
   "execution_count": 5,
   "id": "2ab27d8415791db6",
   "metadata": {
    "ExecuteTime": {
     "end_time": "2024-05-28T06:54:03.790006Z",
     "start_time": "2024-05-28T06:53:57.396468Z"
    },
    "collapsed": false
   },
   "outputs": [
    {
     "name": "stderr",
     "output_type": "stream",
     "text": [
      "/Users/maraw/anaconda3/lib/python3.11/site-packages/pandas/core/arrays/masked.py:60: UserWarning: Pandas requires version '1.3.6' or newer of 'bottleneck' (version '1.3.5' currently installed).\n",
      "  from pandas.core import (\n",
      "/Users/maraw/anaconda3/lib/python3.11/site-packages/torch/functional.py:512: UserWarning: torch.meshgrid: in an upcoming release, it will be required to pass the indexing argument. (Triggered internally at /Users/runner/work/pytorch/pytorch/pytorch/aten/src/ATen/native/TensorShape.cpp:3588.)\n",
      "  return _VF.meshgrid(tensors, **kwargs)  # type: ignore[attr-defined]\n",
      "INFO:root:Skipping 10.26434_chemrxiv-2024-1l0sn.pdf, already computed. Run with --recompute to convert again.\n"
     ]
    },
    {
     "name": "stdout",
     "output_type": "stream",
     "text": [
      "pushing model to MSP\n",
      "Converted 10.26434_chemrxiv-2024-1l0sn.pdf successfully.\n",
      "Converted file: ./markdown_files/10.26434_chemrxiv-2024-1l0sn.mmd\n"
     ]
    }
   ],
   "source": [
    "pdf_dir = \"../obtaining_data/PDFs\"\n",
    "output_dir = \"./markdown_files\"\n",
    "specific_pdf_file = \"10.26434_chemrxiv-2024-1l0sn.pdf\"\n",
    "\n",
    "os.makedirs(output_dir, exist_ok=True)\n",
    "\n",
    "# Check if the specific file exists in the directory\n",
    "pdf_path = os.path.join(pdf_dir, specific_pdf_file)\n",
    "convert_pdf_with_nougat(pdf_path, output_dir)\n",
    "print(f\"Converted {specific_pdf_file} successfully.\")\n",
    "\n",
    "output_file_name = os.path.basename(pdf_path).replace(\".pdf\", \".mmd\")\n",
    "output_file_path = os.path.join(output_dir, output_file_name)\n",
    "\n",
    "print(f\"Converted file: {output_file_path}\")"
   ]
  },
  {
   "cell_type": "code",
   "execution_count": 6,
   "id": "ecdca6a7986947bc",
   "metadata": {
    "ExecuteTime": {
     "end_time": "2024-05-28T06:54:03.791127Z",
     "start_time": "2024-05-28T06:54:03.787519Z"
    },
    "collapsed": false
   },
   "outputs": [
    {
     "name": "stdout",
     "output_type": "stream",
     "text": [
      "[MISSING_PAGE_FAIL:1]\n",
      "\n",
      "These types of connectivity have also been converted to extended \\(\\pi\\)-systems by oxidative follow-up reactions, allowing a higher level of conjugation and hence strong bathochromic shifts.[8] The installation of heteroatoms has however been a challenge for some time. In 2014, Shinokubo et al. presented linearly connect monomers through an azo-bridge at the \\(\\beta\\)-position (Figure 1A (d)).[10] Linear connectivity at the \\(\\alpha\\)-position using heteroatoms such as sulfur has been achieved through a similarly iterative process by the groups of Hao and Jiao (Figure 1A (e)).[7] Furthermore, cyclic amine-linked oligo-BODIPYs have already been synthesized in a one-pot reaction in 2022 by Song et al., utilizing Buchwald-Hartwig conditions (Figure 1A (f)).[10]\n",
      "\n",
      "We present a novel type of BODIPY oligomers, connected via _N_-bridges in a linear fashion (Figure 1B). Utilizing both symmetric and unsymmetric BODIPY monomers as building blocks has paved the way to selectively synthesize oligomers with various chain lengths. Both symmetric and unsymmetric dimers were synthesized starting from unsymmetric monontunctional monomer units. Additionally, the chain length of these oligopolipYs was extended using the functionalized monomer **Br-Armono-Br** and the dimer **Br-Ar-di** (Scheme 1).\n",
      "\n",
      "## Results and Discussion\n",
      "\n",
      "In contrast to the aforementioned cyclic amine-linked examples,[10] we have focused on selectively synthesizing open-chained oligomers and addressing their specific properties. Variation of the BODIPY core has been shown to have a considerable impact on the respective reaction times and yields. To dimerize selectively when forming the nitrogen bridge, monontunctionalized \\(\\alpha\\)-chlorinated BODIPY monomers were used. The key step in obtaining such unsymmetric BODIPYs (in contrast to the usual mirror plane through the _mes_ position and boron center) was a Bischler-Napierals type reaction of the respective chlorinated acylpyrrole and alkylpyrrole, following an established procedure developed by Dehaen and coworkers.[10] Converting the \\(\\alpha\\)-chloropolipPY into the respective amine and performing a Buchwald-Hartwig coupling of both led to _N_-bridged BODIPY dimers, in which alkyl/pyrroles such as 2,4-dimethyl/pyrrole (**5**) and cryptopyrrole (**6**) serve as capping units on the BODIPY core. Terminal \\(\\alpha\\)-brominated examples provide an option for further versatile functionalization. During the investigation of _mes_ substitution patterns, the _4-iso_-butylphenyl moiety has been shown to overcome solubility issues, while maintaining crystallizability (albeit sometimes with disorder problems), whereas dimer syntheses are made easier by an increasing level of alkyl-substitution on the pyrrole motif. For a simplified overview of the BODIPY scope, compounds are labeled according to the systematic nomenclature shown in Scheme 1A.\n",
      "\n",
      "The synthetic strategy began with pyrrole (1) for both kinds of monomers. To obtain monochlorinated BODIPYs, it was first converted into the respective 2-benzoylpyrrole **2** for the _mes_ and examples.[10] TBS protection of the benzyl alcohol by-product in the crude simplified the purification later on.[11] This species and 2-acetylpyrrole were then chlorinated using NCS in THF at room temperature to obtain \\(\\alpha\\)-chlorinated 2-acyl/pyrroles **3** and **4**.[12]We preferred chlorination over the analogous bromination since the by-products were easier to separate from the desired products. To arrive finally at the monfoundenticalized BODIPY monomers, acy/pyrroles **3** and **4** were then converted with the respective alkyl/pyrroles **5** and **6** in the presence of POCl\\({}_{3}\\) in CH\\({}_{4}\\)Cl/n-hexane (2:1), followed by the established procedure for BODIPY syntheses from the _in situ_ formed glytrium using triethylamine and BF\\({}_{x}\\)-OEL\\({}_{x}\\), with yields up to 91% over 2 steps. To obtain higher oligomers, bistunctionalized monomers had to be synthesized prior to amination. For symmetrically bistunctionalized monomer **Br-Ar-mono-Br**, an excess of pyrrole (1) was converted into dipryromethane **7** using 4-iso-butylbenzaldehyde with catalytic amounts of TFA in CH\\({}_{4}\\)Cl\\({}_{2}\\) in 68% yield.[13] Stepwise addition of NBS in small portions to a solution of **7** in THF at -78 \\({}^{\\circ}\\)C for selective bromination, followed by oxidation with DDQ, gave the crude glytrium, which was used in the following step after filtration. The actual BODIPY synthesis was subsequently conducted in a similar manner as for the unsymmetric monomers. However, \\(\\text{$\\text{$\\text{$\\text{$\\text{$\\text{$\\text{$\\text{$\\text{$\\text{$ \\text{$\\text{$\\text{$\\text{$\\text{$\\text{$\\text{$\\text{$}}}$}$}$}$}}}}}$}}$}\\)Net was found to give higher yields for less substituted glytrirens. Thus, using this tertiary amine base, in lieu of triethylamine, together with BF\\({}_{x}\\)-OEL\\({}_{x}\\) gave **Br-Ar-mono-Br** in 38% yield over three steps. Bromination was necessary in this case because the corresponding chlorinated derivative of an \\(\\alpha\\)-amino-BODIPY showed no oligomerization beyond the dimer under the same conditions. Additionally, purification was not an obstacle, in contrast to the aforementioned brominated acy/pyrroles. Preparative details of the chlorinated amino-BODIPY are given in the Supporting Information. The respective \\(\\alpha\\)-amino-BODIPYs were then synthesized by stirring halogenated BODIPYs in an ammonia solution in MeOH (7 N) in a sealed tube at 60 \\({}^{\\circ}\\)C to furnish the target compounds in up to 58% yield for chlorinated derivatives and even in quantitative yield for the brominated example (Scheme 1B). For Buchwald-Hartwig coupling of \\(\\alpha\\)-chloro- and \\(\\alpha\\)-amino-BODIPYs, one equivalent of each was converted with Pd(OAC\\({}_{2}\\)), (\\(\\pm\\))-BINAP and Cs\\({}_{2}\\)CO\\({}_{3}\\) in PhMe at 80 \\({}^{\\circ}\\)C.[14] Interestingly, the reaction times and yields showed a trend of improvement with increasing level of substitution of the BODIPY core with up to 68% yields. While these dimer syntheses were straight forward by simply stirring all of the components together, synthesis of **Br-Ar-dil** required slow addition of **Br-Ar-mono-MrIz** to a heated solution of the remaining reagents. Such a procedure ensured selectivity by maintaining an excess of **Br-Ar-mono-Br** to avoid further oligomerization. The reaction yielded 44% of the functionalization dimer, while 45% of the starting material was recovered. As for the dimers synthesized via the chlorides, synthesis of trimers and tetramers was achieved in same manner with the respective bromides (**Br-Ar-dil** for **EDM-tet**), with a remarkable decrease of the reaction time. Throughout the reaction of **Br-Ar-mono-Br** with **EDM-Ar-mono-Br**, formation of the respective intermediate dimer was observed within 30 minutes, while full conversion took an additional 60 minutes.\n",
      "\n",
      "It was possible to obtain crystals from the dimers and from **EDM-tri**. For all dimers, the BODIPY cores are mutually slightly twisted (-12\\({}^{\\circ}\\), see Figure 2B). The small twist angle, however, implies a certain amount of conjugation through the central nitrogen atom. In contrast, **EDM-tri** shows a stronger deviation from planarity, which is probably attributable to steric hindrance, thus causing one of the peripheral cores to be tilted by as much as 29\\({}^{\\circ}\\) with regard to the plane of the residual two units. Moreover, one molecule of CH\\({}_{4}\\)Cl\\({}_{2}\\) is adjacent to the cavity, indicating hydrogen bonding to the BF\\({}_{2}\\) units. Furthermore, the C-N-C bond angles of the _N_-bridges range between 123\\({}^{\\circ}\\) and 127\\({}^{\\circ}\\), showing deviation from the theoretical value of 120\\({}^{\\circ}\\) for sp\\({}^{2}\\)-hybridized nitrogen. Within the resulting cavity, the minimum distance between fluorine and the bridging nitrogen atom amounts to 2.9 A and 3.4 A for the opposing BF\\({}_{2}\\) units for the dimer. The trimer in comparison shows larger distances of the two closest fluorine atoms of two different BF\\({}_{2}\\) groups (3.9 A) and as much as 5.2 A for the two peripheral BODIPY units (Figure 2C). For more details see the Supporting Information.\n",
      "\n",
      "The photophysical behavior of the dimers shows a strong bathochromic shift of the main absorption band compared to the respective monomers (from \\(\\hat{A}^{\\text{max}}\\) = 510 nm to 659 nm for the **EDM** examples) and also significantly increased attenuation coefficients \\(\\varepsilon\\) (Figure 3). An excerpt of the respective data is given below (Table 1). The presence of a second absorption region at approximately 500 nm (S\\({}_{2}\\) state) indicates a Davydov splitting as a result of an excitonic coupling process. The unusual double-peak shape may suggest some conformational instabilities. In this context, the absorption profile is expanded to three absorption events at the trimer, corresponding to three excitonic states excited at 752 nm (S\\({}_{1}\\)), 562 nm (S\\({}_{2}\\)), and 470 nm (S\\({}_{3}\\)), respectively. Notably, the S\\({}_{2}\\) state exhibits the highest oscillator\n",
      "\n",
      "Figure 2: Molecular structures of **DM-Me-di** A) front view, B) top view and **EDM-tri** C) front view and D) top view. Hydrogen atoms were omitted for clarity. Ellipsoids correspond to 50% probability levels.\n",
      "\n",
      "strength, attributed to the significant geometrical deviation from linearity, gradually leading to a helical superstructure for higher homologs (Figure 4). This trend is accentuated for the tetramers, where the absorption signature becomes intricate. However, the intensified coiling in this case, where the terminal BODIPY units start overlapping and thus forming a looped superstructure, results in an exceptionally weak S\\({}_{1}\\)-S\\({}_{0}\\) excitation at 820 nm. The remaining states of the exciton manifold are hardly assignable because of the amount and overlap of absorption bands, yet they are responsible for the absorptions at 633 nm and 521 nm. The oscillator strength distribution of the exciton manifold was simulated through TDDFT computations and accurately mirrors the experimentally observed absorption band intensities for all oligomer species (Figure 4). The emission strength decreases gradually along the oligomeric series. While the monomers exhibit fluorescence quantum yields \\(\\alpha_{\\text{F}}\\) of up to 0.53 in CH\\({}_{2}\\)Cl\\({}_{2}\\), these values decrease to \\(\\alpha_{\\text{F}}<\\) 0.01 for the dimer and trimer. For the tetramers, emission is hardly detectable (\\(\\alpha_{\\text{F}}<\\) 0.01).\n",
      "\n",
      "The frontier orbitals of the oligomeric series integrate the lobe patterns found for the monomeric building blocks. All BODIPY units are characterized by an electron-depleted _meso_ position at the HOMO and also by the cyanine-like relocalization of electron density to this position during excitation (Figure 4).\n",
      "\n",
      "Cyclic voltammograms of amine-linked oligomers and the respective monomers for the EDM-series are shown below (Figure 5). In general, the larger the molecules, the easier the oxidation; however, most of them are oxidized irreversibly. The monomeric primary amine and the trimer show irreversible oxidation, unlike the respective chloride and the dimer. However, the chlorinated monomer has only one reversible reduction potential at -1.28 V, whereas the dimer shows two reduction potentials, at -1.25 V and at -1.64 V.\n",
      "\n",
      "Figure 4: Frontier orbitals and minimum energy structures of oligomeric series. Geometrical optimizations at the DFT level (MO52X-D3De6TZ2VP) in vacuu. Oscillator strengths (\\(r\\) values) obtained from corresponding TDDFT computations (\\(\\alpha\\)B97xDDef2TZVP). The input structures were truncated at the _meso_ phenyl residues (iso-butyl groups).\n",
      "\n",
      "Figure 3: Absorption and emission spectra of **EDM-BODIPY.** Absorption and emission spectra were recorded in solutions of CH\\({}_{2}\\) at room temperature.\n",
      "\n",
      "The trimer shows almost irreversible oxidation potentials at 0.69 V and 1.33 V and also reduction at -1.69 V. **EDM-tet**, however, shows several oxidation and reduction potentials within the range of \\(\\pm\\)2.00 V, which are mostly irreversible (Figure 5). Attempts to oxidize the obtained oligomers did not provide quinodimine analogs as for the cyclic derivates.[11]\n",
      "\n",
      "## Conclusion\n",
      "\n",
      "In summary, we have successfully developed a method to access linearly amino-linked BODIPYs using Buchwald-Harwig conditions. Terminal Br substituents allowed elongation of the chain by two further BODIPY subunits. X-ray structure analyses revealed conjugation of the various subunits via the linking nitrogen atom. Absorption spectra show significantly increased attenuation coefficients for the oligomers in comparison to the respective monomers, and also strong bathochromic shifts. DFT calculations provided an insight into the electronic properties and showed a decreasing HOMO/LUMO gap as well as increasing oscillator strengths (_f_ values) of the excited states with increasing level of oligomerization. The computed orbital energies are also closely consistent with cyclovoltammetric investigations, demonstrating a more facile oxidation and reduction with increasing chain length.\n",
      "\n",
      "## Supporting Information\n",
      "\n",
      "The Supporting Information is available free of charge and contains detailed experimental procedures, analytical, X-ray crystallographic and absorption and emission data, and \\({}^{1}\\)H, \\({}^{10}\\)F and \\({}^{11}\\)B NMR spectra of all new compounds.\n",
      "\n",
      "## Acknowledgements\n",
      "\n",
      "We thank the Deutsche Forschungsgemeinschaft (DFG, German Research Foundation, WE2932/14-1) and _inMatS_ Cluster of Excellence under Germany's Excellence Strategy (EXC-2193/1-390951607) for funding. S.H.R. thanks Adrian Bauschke and Susanne (both TU Braunschweig) for their support and Bounahid Benkml (University of Freiburg) for X-ray diffraction analysis as well as Dr. Ulrich Papke (TU Braunschweig) for the HRMS measurements and discussions thereof.\n",
      "\n",
      "## References\n",
      "\n",
      "* [1] A. Trenbs, F.-H. Kreuzer, J. Natus, Liebigs Am. Chem. **1968**, _718_, 208.\n",
      "* [2] a) Louet, K. Burgess, _Chem. Rev._**2007**, _107_, 4891-4932; b) O. Ulrich, R. Zoneski, and A. Harrimt, _Apke Chem. Int. Ed._**2008**, _47_, 1184-1201; c) V. Lakshut, A. H. Rao, M. Warkath, _Opt. Biom. Chem._**2015**, _13_, 2501-2517; d) N. Beens, S. Pettenlein, M. Oztie, J. Luo, W. Dehnen, _Coord. Chem. Rev._**2019**, _39_, 231024; e) A. Otte, E. Debreo, M. J. Rudas-Ram, E. Garcia-Fernandez, P. Brothon, I. Coveitto, E. M. Talivera, J. M. Alvarez-Pere, I. Deven, B. Verbeelen, L. Cunhua Dua G. Rezende, W. Dehnen, J. Urbas, M. van der Nezner, N. Beens, _RSC Adv._**2016**, \\(6\\), 102899-1(92); h. I. de Qaure, A. Thompson, _Chem. Comm._**2022**, _857_, 1359-1369; j) Z. Liu, J. Wang, M. Yan, _Nano. Front. Chem._**2019**, \\(7\\), 1719-1723; m) A. Gomez, J. Lopez, J. Cruz, J.\n",
      "\n",
      "* [7] Q. Gong, Q. Wu, X. Guo, W. Li, L. Wang, E. Hao, L. Jiao, _Opt. Lett._**2021**, _23_, 720-722-7225.\n",
      "* [8] Y. Rao, L. Xu, M. Zhou, B. Yin, A. Osuka, J. Song, _Apnew. Chem. Int. Ed._**2022**, _134_, 40220206899.\n",
      "* [9] V. Lee, E. Braseau, K. Lukermans, C. Jackers, M. van der Auweraer, N. Boers, W. Pabanen, _Chem. Comm._**2009**, \\(4\\), 615-6517.\n",
      "* [10] Z. Guo, X. Wei, Y. Hu, J. Chao, D. Liu, _Tetrahedron Lett._**2015**, _56_, 3919-3922.\n",
      "* [11] Y.-Z. Ke, R. J., J.-I. C. Wei, S.-L. Lee, S.-L. Huang, M.-J. Huang, C. Chen, T.-Y. Li, _Mazotronics_**2013**, _46_, 6712-6722.\n",
      "* [12] G. Duran-Sampedo, A. R. Agarabetla, I. Garcia-Moreno, A. Costela, J. Bartouche, I. Lopez Androba, J. L. Chihara, M. J. Ortiz, _Eur. J. Opt. Chem._**2012**, _61_, 6238-6350.\n",
      "* [13] B. J. Liller, H. A. Miller, C.-H. Hung, R. W. Wagner, D. F. O'Shea, P. D. Boyle, J. S. Lindsey, _J. Opt. Chem._**1999**, _64_, 1391-1396.\n",
      "* [14] J. Yang, Z. Du, _CN106856762A_, **2017**.\n"
     ]
    }
   ],
   "source": [
    "# Display the content of the converted .mmd file\n",
    "with open(output_file_path, \"r\", encoding=\"utf-8\") as f:\n",
    "    content = f.read()\n",
    "    print(content)"
   ]
  },
  {
   "cell_type": "markdown",
   "id": "fe41097e876250e9",
   "metadata": {
    "collapsed": false
   },
   "source": [
    "```{important}\n",
    "\n",
    "To review the quality and accuracy of the conversion at least partially afterward is crucial. If the OCR-tool is not able to convert the relevant parts correctly one should think about using a different method.\n",
    "```"
   ]
  },
  {
   "cell_type": "markdown",
   "id": "6ec5f1f169430ccc",
   "metadata": {
    "collapsed": false
   },
   "source": [
    "The obtained markdown file contains some errors. These range from errors in converting chemical names up to the complete omission of the conversion of the table. Therefore, one could use a [Vision model](../beyond_text/beyond_images.ipynb) or an [Agentic approach](reference to agent section) to minimize those errors.\n",
    "\n",
    "Afterward the received files should be [cleaned](./cleaning.ipynb)."
   ]
  }
 ],
 "metadata": {
  "kernelspec": {
   "display_name": "Python 3",
   "language": "python",
   "name": "python3"
  },
  "language_info": {
   "codemirror_mode": {
    "name": "ipython",
    "version": 2
   },
   "file_extension": ".py",
   "mimetype": "text/x-python",
   "name": "python",
   "nbconvert_exporter": "python",
   "pygments_lexer": "ipython2",
   "version": "3.9.19"
  }
 },
 "nbformat": 4,
 "nbformat_minor": 5
}
