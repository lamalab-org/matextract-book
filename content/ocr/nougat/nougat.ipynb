{
 "cells": [
  {
   "cell_type": "markdown",
   "metadata": {},
   "source": [
    "# OCR with Nougat"
   ]
  },
  {
   "cell_type": "markdown",
   "metadata": {},
   "source": [
    "To run machine learning models on papers, we need to convert them into plain text. \n",
    "This might require parsing PDFs, and sometimes optical character recognition (OCR).\n",
    "\n",
    "This is a difficult problem as not only the content of the paper needs to be extracted, but also the layout can be important for the interpretation of the paper.\n",
    "In addition, scientific papers often contain mathematical formulas, which are not easy to parse.\n",
    "\n",
    "To address those issues, researchers from Meta have trained the Nougat system, which takes PDF as input and produces Markdown as output."
   ]
  },
  {
   "cell_type": "markdown",
   "metadata": {},
   "source": [
    "## Cleaning the data\n",
    "\n",
    "For certain applications it might be necessary to clean the data before using it for other downstream tasks."
   ]
  }
 ],
 "metadata": {
  "language_info": {
   "name": "python"
  }
 },
 "nbformat": 4,
 "nbformat_minor": 2
}
