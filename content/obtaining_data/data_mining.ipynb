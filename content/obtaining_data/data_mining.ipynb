{
 "cells": [
  {
   "cell_type": "markdown",
   "id": "1a69b55434e43e67",
   "metadata": {
    "collapsed": false
   },
   "source": [
    "## Mining data from ChemRxiv\n",
    "\n",
    "There are multiple datasets available which are open for data mining.  \n",
    "To download full text documents from open access databases the [paperscraper](https://github.com/jannisborn/paperscraper) tool can be used. \n",
    "\n",
    "As an example, we will download full text articles from ChemRxiv on the topic of 'buchwald-hartwig coupling'."
   ]
  },
  {
   "cell_type": "markdown",
   "id": "ee6ed7d3c5271081",
   "metadata": {
    "collapsed": false
   },
   "source": [
    "```{warning}\n",
    "Downloading the whole Chemrxiv paper dump could take some time. \n",
    "```"
   ]
  },
  {
   "cell_type": "code",
   "execution_count": null,
   "id": "250aba7a3f3bb866",
   "metadata": {
    "collapsed": false
   },
   "outputs": [],
   "source": [
    "from paperscraper.get_dumps import chemrxiv\n",
    "import llmstructdata\n",
    "\n",
    "# Download of the ChemRxiv paper dump\n",
    "chemrxiv(save_path='chemrxiv_2020-11-10.jsonl')"
   ]
  },
  {
   "cell_type": "markdown",
   "id": "8cb97b92a31a5ee1",
   "metadata": {
    "collapsed": false
   },
   "source": [
    "```{tip}\n",
    "Depending on the keywords one could find many or even none articles. In order to find some articles one maybe has to redefine those keywords to more general ones. \n",
    "```"
   ]
  },
  {
   "cell_type": "code",
   "execution_count": null,
   "id": "de30d1a7afb79621",
   "metadata": {
    "collapsed": false
   },
   "outputs": [],
   "source": [
    "from paperscraper.xrxiv.xrxiv_query import XRXivQuery\n",
    "from paperscraper.pdf import save_pdf_from_dump\n",
    "import pandas as pd\n",
    "\n",
    "df = pd.read_json('./chemrxiv_2020-11-10.jsonl', lines=True)\n",
    "\n",
    "# define keywords for the paper search\n",
    "synthesis = ['synthesis']\n",
    "reaction = ['buchwald-hartwig']\n",
    "\n",
    "# combine keywords using \"AND\" logic, i.e. search for papers that contain both keywords\n",
    "query = [synthesis, reaction]\n",
    "\n",
    "# start searching for relevant papers in the ChemRxiv dump\n",
    "querier = XRXivQuery('./chemrxiv_2020-11-10.jsonl')\n",
    "querier.search_keywords(query, output_filepath='buchwald-hartwig_coupling_ChemRxiv.jsonl')\n",
    "\n",
    "# Save PDFs in current folder and name the files by their DOI\n",
    "save_pdf_from_dump('./buchwald-hartwig_coupling_ChemRxiv.jsonl', pdf_path='./PDFs', key_to_save='doi')"
   ]
  },
  {
   "cell_type": "markdown",
   "id": "e77ba1ae759ad1f1",
   "metadata": {
    "collapsed": false
   },
   "source": [
    "```{important}\n",
    "Data annotation is inevitable!\n",
    "\n",
    "To evaluate the data extraction and find the best hyperparameters one must have a test and validation set. Annotating at least a small part of the obtained article dataset is crucial. \n",
    "```"
   ]
  },
  {
   "cell_type": "markdown",
   "id": "373a661fa782bceb",
   "metadata": {
    "collapsed": false
   },
   "source": [
    "For further steps in the data extraction process annotated data in needed to evaluate the extraction pipeline. For this, one could use an annotation tool [like doccano which is shown in the following example](./annotation.ipynb)."
   ]
  }
 ],
 "metadata": {
  "kernelspec": {
   "display_name": "Python 3",
   "language": "python",
   "name": "python3"
  },
  "language_info": {
   "codemirror_mode": {
    "name": "ipython",
    "version": 3
   },
   "file_extension": ".py",
   "mimetype": "text/x-python",
   "name": "python",
   "nbconvert_exporter": "python",
   "pygments_lexer": "ipython3",
   "version": "3.11.9"
  }
 },
 "nbformat": 4,
 "nbformat_minor": 5
}
