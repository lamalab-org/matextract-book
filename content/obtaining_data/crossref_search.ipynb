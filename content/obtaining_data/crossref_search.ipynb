{
 "cells": [
  {
   "cell_type": "markdown",
   "id": "626148e6d1522938",
   "metadata": {
    "collapsed": false
   },
   "source": [
    "## Obtaining a set of relevant data sources\n",
    "\n",
    "At the start of the data extraction process you have to collect a set of potentially relevant data sources. Therefore, you could collect a dataset manually or use a tool to help to automate and speed up this process.\n",
    "\n",
    "The Crossref API is a very useful tool to collect the metadata of relevant articles. Besides the API there are multiple Python libraries available that make access to the API easier. One of these libraries is [crossrefapi](https://github.com/fabiobatalha/crossrefapi). As an example, 100 sources including metadata on the topic 'buchwald-hartwig coupling' are extracted and saved into a JSON file. "
   ]
  },
  {
   "cell_type": "markdown",
   "id": "f09cdf97046202f7",
   "metadata": {
    "collapsed": false
   },
   "source": [
    "```{note}\n",
    "\n",
    "Instead of using the Crossref API one could also use a previously compiled data set. Additionally, those data sets could be extended using such APIs.\n",
    "```"
   ]
  },
  {
   "cell_type": "code",
   "execution_count": null,
   "id": "bf4c4bfd1ae1b6e",
   "metadata": {
    "collapsed": false
   },
   "outputs": [],
   "source": [
    "from crossref.restful import Works\n",
    "import json\n",
    "\n",
    "works = Works(timeout=60)\n",
    "\n",
    "# Performing the search for sources on the topic of buchwald-hartwig coupling for 10 papers\n",
    "query_result = (\n",
    "    works.query(bibliographic=\"buchwald-hartwig coupling\")\n",
    "    .select(\"DOI\", \"title\", \"author\", \"type\", \"publisher\", \"issued\")\n",
    "    .sample(10)\n",
    ")\n",
    "\n",
    "results = [item for item in query_result]\n",
    "\n",
    "# Save 100 results including their metadata in a json file\n",
    "with open(\"buchwald-hartwig_coupling_results.json\", \"w\") as file:\n",
    "    json.dump(results, file)\n",
    "\n",
    "print(results)"
   ]
  },
  {
   "cell_type": "markdown",
   "id": "903606d800c9c0df",
   "metadata": {
    "collapsed": false
   },
   "source": [
    "With the obtained metadata one could afterwards try to filter for relevant or available data sources which could be downloaded through an API provided by the publishers or obtain from a data dump.\n",
    "\n",
    "An example for using such an article downloading API is provided in [the chapter about data mining](./data_mining.ipynb)."
   ]
  }
 ],
 "metadata": {
  "kernelspec": {
   "display_name": "Python 3",
   "language": "python",
   "name": "python3"
  },
  "language_info": {
   "codemirror_mode": {
    "name": "ipython",
    "version": 2
   },
   "file_extension": ".py",
   "mimetype": "text/x-python",
   "name": "python",
   "nbconvert_exporter": "python",
   "pygments_lexer": "ipython2",
   "version": "2.7.6"
  }
 },
 "nbformat": 4,
 "nbformat_minor": 5
}
