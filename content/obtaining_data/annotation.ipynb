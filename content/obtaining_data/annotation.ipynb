{
 "cells": [
  {
   "cell_type": "markdown",
   "id": "93e1ab4b3d759339",
   "metadata": {
    "collapsed": false
   },
   "source": [
    "## Data annotation\n",
    "\n",
    "For structured data extraction it is essential to define a structure into which the data is supposed to be stored.\n",
    "\n"
   ]
  },
  {
   "cell_type": "code",
   "execution_count": null,
   "id": "bb7c3eca",
   "metadata": {},
   "outputs": [],
   "source": []
  },
  {
   "cell_type": "code",
   "execution_count": null,
   "id": "3181e1ba445d5c5e",
   "metadata": {
    "collapsed": false
   },
   "outputs": [],
   "source": [
    "{\"key\": \"value\", \"key2\": \"value 2\"}"
   ]
  },
  {
   "cell_type": "markdown",
   "id": "34a0440831ddebf0",
   "metadata": {
    "collapsed": false
   },
   "source": [
    "This allows one could store the desired annotated data in a structured form. For example a JSON file of a Buchwald-Hartwig reaction could look like this:"
   ]
  },
  {
   "cell_type": "code",
   "execution_count": null,
   "id": "fb1718446ad10c60",
   "metadata": {
    "collapsed": false
   },
   "outputs": [],
   "source": [
    "{\n",
    "    \"reaction_name\": \"Buchwald-Hartwig reaction\",\n",
    "    \"reactants\": [\"5-Bromo-m-xylene\", \"Benzylmethylamine\"],\n",
    "    \"catalyst\": [\"Bis(dibenzylideneacetone)palladium(0)\", \"Tri(o-tolyl)phosphine\"],\n",
    "    \"base\": \"Sodium tert-butoxide\",\n",
    "    \"solvent\": \"Toluene\",\n",
    "    \"temperature\": 65,\n",
    "    \"temperature_unit\": \"°C\",\n",
    "    \"product\": \"N-Benzyl-N-methyl(3,5-xylyl)amine\",\n",
    "    \"yield\": 88,\n",
    "}"
   ]
  },
  {
   "cell_type": "markdown",
   "id": "f80607f7e41c0f75",
   "metadata": {
    "collapsed": false
   },
   "source": [
    "```{admonition} Annotating data\n",
    ":class: tip\n",
    "\n",
    "The creation of a test and validation set is crucial and can be time-consuming. Therefore, [using an automation tool is recommended](https://hamel.dev/notes/llm/finetuning/04_data_cleaning.html). For doing so, [TeamTat](https://www.teamtat.org) can be a convenient choice.\n",
    "```"
   ]
  },
  {
   "cell_type": "markdown",
   "id": "b756c6df",
   "metadata": {},
   "source": []
  }
 ],
 "metadata": {
  "kernelspec": {
   "display_name": "Python 3",
   "language": "python",
   "name": "python3"
  },
  "language_info": {
   "codemirror_mode": {
    "name": "ipython",
    "version": 2
   },
   "file_extension": ".py",
   "mimetype": "text/x-python",
   "name": "python",
   "nbconvert_exporter": "python",
   "pygments_lexer": "ipython2",
   "version": "2.7.6"
  }
 },
 "nbformat": 4,
 "nbformat_minor": 5
}
