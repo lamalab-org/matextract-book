{
 "cells": [
  {
   "cell_type": "markdown",
   "id": "93e1ab4b3d759339",
   "metadata": {
    "collapsed": false
   },
   "source": [
    "## Data annotation\n",
    "\n",
    "For structured data extraction it is essential to define a structure into which the data is supposed to be stored.\n",
    "This raises the question of how one would decide on a good data structure (and format).\n",
    "\n",
    "While there is no general answer, there are a few points to consider: \n",
    "\n",
    "\n",
    "### Nested vs. flat\n",
    "Certain data formats are better to express dependencies and nesting and others. For instance, a tabular format like `csv` only allows columns to be specified, a format like `yaml` or `json` would also allow expressing hierarchies. \n",
    "\n",
    "### Verbosity and human readability \n",
    "\n",
    "Certain data format come with more verbose boilerplate than others (e.g. `xml`). \n",
    "This can hamper readability. \n",
    "\n",
    "### Type annotations and documentation \n",
    "\n",
    "In general, it is best practice to annotate data schema with as much information as possible - e.g. including data types (e.g., `float` vs. `int` vs. `str`) or descriptions. \n",
    "\n",
    "### Example \n",
    "\n",
    "For modeling reactions, we can serialize data in a simple data model in different formats. \n",
    "\n",
    "Description of our data model:\n",
    "\n",
    "- A reaction has a name, reactants, products, and conditions.\n",
    "- Each reactant and product has a chemical formula and amount.\n",
    "- Conditions include temperature and pressure.\n",
    "\n",
    "#### CSV example\n",
    "\n",
    "```\n",
    "reaction_name,reactant_formula,reactant_amount,product_formula,product_amount,temperature,pressure\n",
    "Combustion of Methane,CH4,1 mol,CO2,1 mol,298 K,1 atm\n",
    "Combustion of Methane,O2,2 mol,H2O,2 mol,298 K,1 atm\n",
    "Photosynthesis,6 CO2,6 mol,C6H12O6,1 mol,300 K,1 atm\n",
    "Photosynthesis,6 H2O,6 mol,O2,6 mol,300 K,1 atm\n",
    "```\n",
    "\n",
    "#### YAML Example\n",
    "\n",
    "```\n",
    "reactions:\n",
    "  - name: Combustion of Methane\n",
    "    reactants:\n",
    "      - formula: CH4\n",
    "        amount: 1 mol\n",
    "      - formula: O2\n",
    "        amount: 2 mol\n",
    "    products:\n",
    "      - formula: CO2\n",
    "        amount: 1 mol\n",
    "      - formula: H2O\n",
    "        amount: 2 mol\n",
    "    conditions:\n",
    "      temperature: 298 K\n",
    "      pressure: 1 atm\n",
    "  - name: Photosynthesis\n",
    "    reactants:\n",
    "      - formula: 6 CO2\n",
    "        amount: 6 mol\n",
    "      - formula: 6 H2O\n",
    "        amount: 6 mol\n",
    "    products:\n",
    "      - formula: C6H12O6\n",
    "        amount: 1 mol\n",
    "      - formula: O2\n",
    "        amount: 6 mol\n",
    "    conditions:\n",
    "      temperature: 300 K\n",
    "      pressure: 1 atm\n",
    "```\n",
    "\n",
    "#### JSON Example\n",
    "\n",
    "```\n",
    "{\n",
    "  \"reactions\": [\n",
    "    {\n",
    "      \"name\": \"Combustion of Methane\",\n",
    "      \"reactants\": [\n",
    "        { \"formula\": \"CH4\", \"amount\": \"1 mol\" },\n",
    "        { \"formula\": \"O2\", \"amount\": \"2 mol\" }\n",
    "      ],\n",
    "      \"products\": [\n",
    "        { \"formula\": \"CO2\", \"amount\": \"1 mol\" },\n",
    "        { \"formula\": \"H2O\", \"amount\": \"2 mol\" }\n",
    "      ],\n",
    "      \"conditions\": {\n",
    "        \"temperature\": \"298 K\",\n",
    "        \"pressure\": \"1 atm\"\n",
    "      }\n",
    "    },\n",
    "    {\n",
    "      \"name\": \"Photosynthesis\",\n",
    "      \"reactants\": [\n",
    "        { \"formula\": \"6 CO2\", \"amount\": \"6 mol\" },\n",
    "        { \"formula\": \"6 H2O\", \"amount\": \"6 mol\" }\n",
    "      ],\n",
    "      \"products\": [\n",
    "        { \"formula\": \"C6H12O6\", \"amount\": \"1 mol\" },\n",
    "        { \"formula\": \"O2\", \"amount\": \"6 mol\" }\n",
    "      ],\n",
    "      \"conditions\": {\n",
    "        \"temperature\": \"300 K\",\n",
    "        \"pressure\": \"1 atm\"\n",
    "      }\n",
    "    }\n",
    "  ]\n",
    "}\n",
    "```\n",
    "\n",
    "#### XML example \n",
    "\n",
    "```\n",
    "<reactions>\n",
    "  <reaction>\n",
    "    <name>Combustion of Methane</name>\n",
    "    <reactants>\n",
    "      <reactant>\n",
    "        <formula>CH4</formula>\n",
    "        <amount>1 mol</amount>\n",
    "      </reactant>\n",
    "      <reactant>\n",
    "        <formula>O2</formula>\n",
    "        <amount>2 mol</amount>\n",
    "      </reactant>\n",
    "    </reactants>\n",
    "    <products>\n",
    "      <product>\n",
    "        <formula>CO2</formula>\n",
    "        <amount>1 mol</amount>\n",
    "      </product>\n",
    "      <product>\n",
    "        <formula>H2O</formula>\n",
    "        <amount>2 mol</amount>\n",
    "      </product>\n",
    "    </products>\n",
    "    <conditions>\n",
    "      <temperature>298 K</temperature>\n",
    "      <pressure>1 atm</pressure>\n",
    "    </conditions>\n",
    "  </reaction>\n",
    "  <reaction>\n",
    "    <name>Photosynthesis</name>\n",
    "    <reactants>\n",
    "      <reactant>\n",
    "        <formula>6 CO2</formula>\n",
    "        <amount>6 mol</amount>\n",
    "      </reactant>\n",
    "      <reactant>\n",
    "        <formula>6 H2O</formula>\n",
    "        <amount>6 mol</amount>\n",
    "      </reactant>\n",
    "    </reactants>\n",
    "    <products>\n",
    "      <product>\n",
    "        <formula>C6H12O6</formula>\n",
    "        <amount>1 mol</amount>\n",
    "      </product>\n",
    "      <product>\n",
    "        <formula>O2</formula>\n",
    "        <amount>6 mol</amount>\n",
    "      </product>\n",
    "    </products>\n",
    "    <conditions>\n",
    "      <temperature>300 K</temperature>\n",
    "      <pressure>1 atm</pressure>\n",
    "    </conditions>\n",
    "  </reaction>\n",
    "</reactions>\n",
    "```"
   ]
  },
  {
   "cell_type": "markdown",
   "id": "f67d9499",
   "metadata": {},
   "source": [
    "```{admonition} Data model, schema format \n",
    "*Data Model:* Represents the structure and organization of data, defining how data is stored, organized, and manipulated. In this case, it includes reactions, reactants, products, and conditions.\n",
    "\n",
    "*Schema:* Defines the structure of data within a particular format, specifying the data types, constraints, and relationships. For example, an XML Schema (XSD) or JSON Schema can be used to validate the structure of XML or JSON data respectively.\n",
    "\n",
    "*Format:* Refers to the way data is encoded and represented for storage or transmission. CSV, YAML, JSON, and XML are different formats that encode data in different way.\n",
    "```"
   ]
  },
  {
   "cell_type": "markdown",
   "id": "34a0440831ddebf0",
   "metadata": {
    "collapsed": false
   },
   "source": [
    "In practice, it is often most convenient to define a data schema in code. This has multiple advantages: \n",
    "\n",
    "- the data schema can be tracked with all other code using version control \n",
    "- there are existing routines for export in various formats \n",
    "- data can be conveniently accessed in code, e.g., via class attributes"
   ]
  },
  {
   "cell_type": "markdown",
   "id": "59fdaee1",
   "metadata": {},
   "source": [
    "`pydantic` is a library that makes it easy to define and validate data in Python.\n",
    "It can also parse data from various formats and serialize it to various formats."
   ]
  },
  {
   "cell_type": "code",
   "execution_count": 4,
   "id": "eb9f66c2",
   "metadata": {},
   "outputs": [],
   "source": [
    "from pydantic import BaseModel, Field\n",
    "from typing import List"
   ]
  },
  {
   "cell_type": "code",
   "execution_count": 7,
   "id": "b0104cd4",
   "metadata": {},
   "outputs": [],
   "source": [
    "class Reaction(BaseModel):\n",
    "    reaction_name: str = Field(..., description=\"The name of the reaction\")\n",
    "    reactants: List[str] = Field(..., description=\"The reactants of the reaction\")\n",
    "    catalyst: List[str] = Field(..., description=\"The catalysts of the reaction\")\n",
    "    base: str = Field(..., description=\"The base of the reaction\")\n",
    "    solvent: str = Field(..., description=\"The solvent of the reaction\")\n",
    "    temperature: int = Field(..., description=\"The temperature of the reaction\")\n",
    "    temperature_unit: str = Field(..., description=\"The unit of the temperature\")\n",
    "    product: str = Field(..., description=\"The product of the reaction\")\n",
    "    rxn_yield: float = Field(..., description=\"The yield of the reaction\")"
   ]
  },
  {
   "cell_type": "markdown",
   "id": "4dbf3086",
   "metadata": {},
   "source": [
    "We can now use the `Reaction` class to create an instance of the `Reaction` using a dict"
   ]
  },
  {
   "cell_type": "code",
   "execution_count": 9,
   "id": "fb1718446ad10c60",
   "metadata": {
    "collapsed": false
   },
   "outputs": [],
   "source": [
    "rxn_dict = {\n",
    "    \"reaction_name\": \"Buchwald-Hartwig reaction\",\n",
    "    \"reactants\": [\"5-Bromo-m-xylene\", \"Benzylmethylamine\"],\n",
    "    \"catalyst\": [\"Bis(dibenzylideneacetone)palladium(0)\", \"Tri(o-tolyl)phosphine\"],\n",
    "    \"base\": \"Sodium tert-butoxide\",\n",
    "    \"solvent\": \"Toluene\",\n",
    "    \"temperature\": 65,\n",
    "    \"temperature_unit\": \"°C\",\n",
    "    \"product\": \"N-Benzyl-N-methyl(3,5-xylyl)amine\",\n",
    "    \"rxn_yield\": 88,\n",
    "}"
   ]
  },
  {
   "cell_type": "code",
   "execution_count": 11,
   "id": "f1457921",
   "metadata": {},
   "outputs": [],
   "source": [
    "rxn = Reaction(**rxn_dict)"
   ]
  },
  {
   "cell_type": "markdown",
   "id": "4b69de0f",
   "metadata": {},
   "source": [
    "We can also save the data as a json file"
   ]
  },
  {
   "cell_type": "code",
   "execution_count": 15,
   "id": "6c8b0a90",
   "metadata": {},
   "outputs": [
    {
     "data": {
      "text/plain": [
       "'{\"reaction_name\":\"Buchwald-Hartwig reaction\",\"reactants\":[\"5-Bromo-m-xylene\",\"Benzylmethylamine\"],\"catalyst\":[\"Bis(dibenzylideneacetone)palladium(0)\",\"Tri(o-tolyl)phosphine\"],\"base\":\"Sodium tert-butoxide\",\"solvent\":\"Toluene\",\"temperature\":65,\"temperature_unit\":\"°C\",\"product\":\"N-Benzyl-N-methyl(3,5-xylyl)amine\",\"rxn_yield\":88.0}'"
      ]
     },
     "execution_count": 15,
     "metadata": {},
     "output_type": "execute_result"
    }
   ],
   "source": [
    "rxn.model_dump_json()"
   ]
  },
  {
   "cell_type": "markdown",
   "id": "f80607f7e41c0f75",
   "metadata": {
    "collapsed": false
   },
   "source": [
    "```{admonition} Annotating data\n",
    ":class: tip\n",
    "\n",
    "The creation of a test and validation set is crucial and can be time-consuming. Therefore, [using an automation tool is recommended](https://hamel.dev/notes/llm/finetuning/04_data_cleaning.html). For doing so, [TeamTat](https://www.teamtat.org) can be a convenient choice.\n",
    "```"
   ]
  }
 ],
 "metadata": {
  "kernelspec": {
   "display_name": "Python 3",
   "language": "python",
   "name": "python3"
  },
  "language_info": {
   "codemirror_mode": {
    "name": "ipython",
    "version": 3
   },
   "file_extension": ".py",
   "mimetype": "text/x-python",
   "name": "python",
   "nbconvert_exporter": "python",
   "pygments_lexer": "ipython2",
   "version": "3.9.19"
  }
 },
 "nbformat": 4,
 "nbformat_minor": 5
}
