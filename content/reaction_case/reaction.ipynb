{
    "cells": [
        {
            "cell_type": "markdown",
            "metadata": {},
            "source": [
                "# Collecting data for reactions procedures"
            ]
        },
        {
            "cell_type": "markdown",
            "metadata": {},
            "source": [
                "````{warning} \n",
                "This notebook can be run with any computer, no special requirements are needed since the completions are done using API calls.\n",
                "````"
            ]
        },
        {
            "cell_type": "markdown",
            "metadata": {},
            "source": [
                "````{admonition} Motivation \n",
                ":class: note\n",
                "\n",
                "In this notebook, we aim to illustrate a simple demo of extracting the different species involved in an organic reaction. The main aim is to develop a method to check if the data extracted by the model has the correct number of atoms in both sides of the reaction. We have extracted three reactions from the USPTO-ORD-100K dataset to show the process. {cite}Ai_2024 \n",
                "\n",
                "To this end, we developed a simple pydantic class that we use to constrain the model's output by using the package instructor. Then, using the tools of the rdkit package, we will count the atoms from the SMILES and check if the condition is fulfilled. \n",
                "````"
            ]
        },
        {
            "cell_type": "markdown",
            "metadata": {},
            "source": [
                "## First steps"
            ]
        },
        {
            "cell_type": "markdown",
            "metadata": {},
            "source": [
                "We begin by importing all the packages needed"
            ]
        },
        {
            "cell_type": "code",
            "execution_count": 2,
            "metadata": {},
            "outputs": [],
            "source": [
                "import matextract  # noqa: F401\n",
                "\n",
                "import json\n",
                "\n",
                "from collections import defaultdict\n",
                "\n",
                "from pydantic import BaseModel, Field\n",
                "from typing import Optional, List\n",
                "from litellm import OpenAI\n",
                "import instructor\n",
                "\n",
                "from rdkit import Chem\n",
                "from rdkit.Chem.rdmolops import GetFormalCharge\n",
                "import periodictable"
            ]
        },
        {
            "cell_type": "markdown",
            "metadata": {},
            "source": [
                "Now we load the data with the reaction's procedure. \n",
                "\n",
                "```{admonition} Download data\n",
                ":class: tip, dropdown\n",
                "\n",
                "The complete dataset can be easily download by running the following commands: \n",
                "\n",
                "``reactions = load_dataset(\"MrtinoRG/USPTO-ORD-100K\", data_files=\"USPTO-n100k-t2048_exp1-COT.json\", split=\"train\")``\n",
                "\n",
                "```\n",
                "\n",
                "```` {margin}\n",
                "The studied reactions were selected by hand from the dataset. The only requirement followed when choosing the reactions here studied was that the reactions must contain the name of the product. This is because some reactions from the USPTO-ORD-100K dataset describe the main product of the reaction as \"the title compound\", which is not ideal to our case.\n",
                "````"
            ]
        },
        {
            "cell_type": "code",
            "execution_count": null,
            "metadata": {},
            "outputs": [],
            "source": [
                "# Replace 'your_file_path.json' with the path to your JSON file\n",
                "file_path = \"reactions.json\"\n",
                "\n",
                "with open(file_path, \"r\") as file:\n",
                "    data = json.load(file)"
            ]
        },
        {
            "cell_type": "markdown",
            "metadata": {},
            "source": [
                "To constrain the output of the model, we create a simple `pydantic` class in which we define three subclasses: reactants, solvent and products. For reactants and products we also include the amount as mass or volume, and the units for the amount."
            ]
        },
        {
            "cell_type": "code",
            "execution_count": 4,
            "metadata": {},
            "outputs": [],
            "source": [
                "class Reactant(BaseModel):\n",
                "    name: str\n",
                "    amount: Optional[float] = Field(\n",
                "        ..., description=\"Amount as mass or volume of the reactant\"\n",
                "    )\n",
                "    amount_units: Optional[float]\n",
                "\n",
                "\n",
                "class Product(BaseModel):\n",
                "    name: str\n",
                "    amount: Optional[float] = Field(\n",
                "        ..., description=\"Amount as mass or volume of the product\"\n",
                "    )\n",
                "    amount_units: Optional[float]\n",
                "\n",
                "\n",
                "class Solvent(BaseModel):\n",
                "    name: str = Field(\n",
                "        ...,\n",
                "        description=\"Name of the specie. If another is contained in it, definitely it is the solvent\",\n",
                "    )\n",
                "\n",
                "\n",
                "class ReactionSpecies(BaseModel):\n",
                "    reactant: List[Reactant]\n",
                "    product: List[Product]\n",
                "    solvent: Optional[List[Solvent]]"
            ]
        },
        {
            "cell_type": "markdown",
            "metadata": {},
            "source": [
                "We also need a converter from IUPAC names to SMILES. This is needed since the reaction procedures from the dataset use IUPAC, traditional or commercial names to refer to the molecules while `rdkit` works preferable with SMILES.\n",
                "\n",
                "We defined such a utility using the [Chemical Identifier Resolver](https://cactus.nci.nih.gov/chemical/structure) in the package."
            ]
        },
        {
            "cell_type": "code",
            "execution_count": 2,
            "metadata": {},
            "outputs": [],
            "source": [
                "from matextract.utils import name_to_smiles"
            ]
        },
        {
            "cell_type": "markdown",
            "metadata": {},
            "source": [
                "The last function that we need is to count the number atoms of each element in the molecules.\n",
                "\n",
                "````{margin}\n",
                "The function `composition` is a modification from one presented in [`rdkit` GitHub repository discussion](https://github.com/rdkit/rdkit/discussions/5339).\n",
                "````"
            ]
        },
        {
            "cell_type": "code",
            "execution_count": 3,
            "metadata": {},
            "outputs": [],
            "source": [
                "def composition(molecule):\n",
                "    \"\"\"Get the composition of an RDKit molecule:\n",
                "    Atomic counts, including hydrogen atoms, and any charge.\n",
                "    For example, fluoride ion (chemical formula F-, SMILES string [F-])\n",
                "    returns {9: 1, 0: -1}.\n",
                "\n",
                "    Args:\n",
                "        molecule: RDKit molecule\n",
                "\n",
                "    Returns:\n",
                "        dict: Atomic composition\n",
                "    \"\"\"\n",
                "    # Add hydrogen atoms--RDKit excludes them by default\n",
                "    m = Chem.MolFromSmiles(molecule)\n",
                "    molecule_with_Hs = Chem.AddHs(m)\n",
                "    comp = defaultdict(lambda: 0)\n",
                "\n",
                "    # Get atom counts\n",
                "    for atom in molecule_with_Hs.GetAtoms():\n",
                "        comp[atom.GetAtomicNum()] += 1\n",
                "\n",
                "    # If charged, add charge as \"atomic number\" 0\n",
                "    charge = GetFormalCharge(molecule_with_Hs)\n",
                "    if charge != 0:\n",
                "        comp[0] = charge\n",
                "    return comp"
            ]
        },
        {
            "cell_type": "markdown",
            "metadata": {},
            "source": [
                "## Prompting and Extracting"
            ]
        },
        {
            "cell_type": "markdown",
            "metadata": {},
            "source": [
                "To extract the data, we are going to prompt the model with a two-shot prompt. \n",
                "In addition, the prompt will contain the reaction procedure to extract from."
            ]
        },
        {
            "cell_type": "code",
            "execution_count": 7,
            "metadata": {},
            "outputs": [],
            "source": [
                "system_prompt = \"You are an expert in organic chemistry. Your task is to extract information about reactants and products from a given reaction procedure.\""
            ]
        },
        {
            "cell_type": "code",
            "execution_count": 8,
            "metadata": {},
            "outputs": [],
            "source": [
                "user_prompt = \"\"\"Two examples are provided in order to help you:\n",
                "\n",
                "Example 1:\n",
                "\n",
                "Reaction procedure: {reaction1}\n",
                "Answer: {answer1}\n",
                "\n",
                "Example 2:\n",
                "\n",
                "Reaction procedure: {reaction1}\n",
                "Answer: {answer2}\n",
                "\n",
                "The reaction procedure is the following:\n",
                "\n",
                "{reaction_procedure}\n",
                "\n",
                "Now extract the data from it according to the schema.\n",
                "\"\"\""
            ]
        },
        {
            "cell_type": "markdown",
            "metadata": {},
            "source": [
                "```{margin}\n",
                "The two shots used were prepared using two reaction procedures from the USPTO-ORD-100K dataset, and extracting the data by hand to formulate the answers.\n",
                "```"
            ]
        },
        {
            "cell_type": "code",
            "execution_count": 4,
            "metadata": {},
            "outputs": [],
            "source": [
                "reaction1 = \"1-(3,4-dichlorobenzyl)-3-(4-(iodomethyl)thiazol-2-yl)urea (Intermediate 6) was taken up in tetrahydrofuran and an excess of the 2,4-dimethoxy-benzylamine (20 eq.) was added. The reaction was allowed to stir overnight at room temperature. The volatiles were removed in vacuo. Resulting oil triturated with water to give a gooey solid. Water was decanted off and resulting residue was purified by column chromatography using 0-8% gradient of 7 N ammonia/MeOH and DCM to give 1-(3,4-Dichloro-benzyl)-3-{4-[(2,4-dimethoxy-benzylamino)-methyl]-thiazol-2-yl}-urea.\"\n",
                "answer1 = \"reactant=[Reactant(name='1-(3,4-dichlorobenzyl)-3-(4-(iodomethyl)thiazol-2-yl)urea', amount=None, amount_units=None), Reactant(name='2,4-dimethoxy-benzylamine', amount=20.0, amount_units=None)] product=[Product(name='1-(3,4-Dichloro-benzyl)-3-{4-[(2,4-dimethoxy-benzylamino)-methyl]-thiazol-2-yl}-urea', amount=None, amount_units=None)] solvent=[Solvent(name='water'), Solvent(name='tetrahydrofuran')]\"\n",
                "\n",
                "reaction2 = \"To a solution of (+)-trans-3-hydroxymethyl-4-phenylcyclopentan-1-one from Example 8, Step F (3.3 g, 16 mmol) in methylene chloride (100 mL) was added t-butyldimethylsilyl chloride (11 g, 49 mmol) and DIPEA (22 mL, 74 mmol). The reaction was stirred at rt for 16 h, poured into dilute aq. hydrochloric acid and extracted twice with ether. The organic layers were washed with brine, dried over sodium sulfate, a combined and concentrated. The residue was purified by FC (5% ethyl acetate in hexanes) to afford of (+)-trans-1-t-butyldimethylsilyloxymethyl-4-oxo-2-phenylcyclopentane (6.3 g) as a oil.\"\n",
                "answer2 = \"reactant=[Reactant(name='(+)-trans-3-hydroxymethyl-4-phenylcyclopentan-1-one', amount=3.3, amount_units='g'), Reactant(name='t-butyldimethylsilyl chloride', amount=11, amount_units='g'), Reactant(name='DIPEA', amount=22, amount_units='mL')] solvent=[Solvent(name='methylene chloride')] product=[Product(name='(+)-trans-1-t-butyldimethylsilyloxymethyl-4-oxo-2-phenylcyclopentane', amount=6.3, amount_units=g)]\""
            ]
        },
        {
            "cell_type": "markdown",
            "metadata": {},
            "source": [
                "Finally, we perform the extraction for each of the reactions considered."
            ]
        },
        {
            "cell_type": "code",
            "execution_count": 10,
            "metadata": {},
            "outputs": [
                {
                    "name": "stdout",
                    "output_type": "stream",
                    "text": [
                        "Reaction 1\n",
                        "\n",
                        "A solution of 0.55 g (1.6 mmol) (S)-7-amino-5-(4-methoxy-benzyl)-5H,7H-dibenzo[b,d]azepin-6-one, 3.74 ml (50 mmol) trifluoroacetic acid and 1.4 ml (16 mmol) trifluormethane sulfonic acid in 38 ml dichloromethane was stirred at room temperature for 4 hours. The solvent was distilled off and extraction with aqueous sodium bicarbonate solution/ethyl acetate followed by chromatography on silicagel with ethylacetate/methanol (100-95/0-5) yielded 0.35 g (96%) (S)-7-amino-5H,7H-dibenzo[b,d]azepin-6-one as orange solid; MS: m/e: 225.4 (M+H+).\n",
                        "reactant=[Reactant(name='(S)-7-amino-5-(4-methoxy-benzyl)-5H,7H-dibenzo[b,d]azepin-6-one', amount=0.55, amount_units=None), Reactant(name='trifluoroacetic acid', amount=3.74, amount_units=None), Reactant(name='trifluormethane sulfonic acid', amount=1.4, amount_units=None)] product=[Product(name='(S)-7-amino-5H,7H-dibenzo[b,d]azepin-6-one', amount=0.35, amount_units=None)] solvent=[Solvent(name='dichloromethane'), Solvent(name='aqueous sodium bicarbonate solution'), Solvent(name='ethyl acetate'), Solvent(name='ethylacetate/methanol')]\n",
                        "\n",
                        "\n",
                        "Atom counting:\n",
                        "C: Reactant = 25, Product = 14\n",
                        "O: Reactant = 7, Product = 1\n",
                        "N: Reactant = 2, Product = 2\n",
                        "H: Reactant = 22, Product = 12\n",
                        "F not present in Products\n",
                        "S not present in Products\n",
                        "\n",
                        "\n",
                        "\n",
                        "Reaction 2\n",
                        "\n",
                        "A solution of but-3-ynyl 4-methylbenzenesulfonate (2.0 mL) and piperazine (2.0 g) in EtOH (6 mL) was heated to reflux for 30 min. The mixture was concentrated, diluted with NaOH 2 M (8 mL) and extracted with Et2O (50 mL). Evaporation of the organic layer gave a 2:1 mixture of mono and bis-alkylated piperazine (450 mg) which was discarded. The aqueous layer was further extracted with DCM (100 mL) to give of 1-(but-3-ynyl)piperazine (640 mg).\n",
                        "reactant=[Reactant(name='but-3-ynyl 4-methylbenzenesulfonate', amount=2.0, amount_units=None), Reactant(name='piperazine', amount=2.0, amount_units=None)] product=[Product(name='1-(but-3-ynyl)piperazine', amount=640.0, amount_units=None)] solvent=[Solvent(name='EtOH'), Solvent(name='NaOH 2 M'), Solvent(name='Et2O'), Solvent(name='DCM')]\n",
                        "\n",
                        "\n",
                        "Atom counting:\n",
                        "C: Reactant = 15, Product = 8\n",
                        "S not present in Products\n",
                        "O not present in Products\n",
                        "H: Reactant = 22, Product = 14\n",
                        "N: Reactant = 2, Product = 2\n",
                        "\n",
                        "\n",
                        "\n",
                        "Reaction 3\n",
                        "\n",
                        "A mixture of 5.6 g of 1-(6-iodohexyl)-2,3-bis(phenylmethoxy) benzene, 2.1 g of 3-chloro-4-hydroxybenzoic acid methyl ester and 5.0 g of potassium carbonate in 50 mL of acetone was stirred at reflux for 20 hours. Workup as in Example 16, chromatography on 100 g of silica gel using 15% ethyl acetate-hexane and crystallization from ethyl acetate-hexane gave 3.7 g (59% yield), mp 68°-69°, 3-chloro-4-[6-[2,3-bis(phenylmethoxy)phenyl]hexyloxy]benzoic acid methyl ester.\n",
                        "reactant=[Reactant(name='1-(6-iodohexyl)-2,3-bis(phenylmethoxy) benzene', amount=5.6, amount_units=None), Reactant(name='3-chloro-4-hydroxybenzoic acid methyl ester', amount=2.1, amount_units=None), Reactant(name='potassium carbonate', amount=5.0, amount_units=None)] product=[Product(name='3-chloro-4-[6-[2,3-bis(phenylmethoxy)phenyl]hexyloxy]benzoic acid methyl ester', amount=3.7, amount_units=None)] solvent=[Solvent(name='acetone'), Solvent(name='ethyl acetate-hexane')]\n",
                        "\n",
                        "\n",
                        "Atom counting:\n",
                        "I not present in Products\n",
                        "C: Reactant = 35, Product = 34\n",
                        "O: Reactant = 8, Product = 5\n",
                        "H: Reactant = 36, Product = 35\n",
                        "Cl: Reactant = 1, Product = 1\n",
                        "K not present in Products\n",
                        "\n",
                        "\n",
                        "\n"
                    ]
                }
            ],
            "source": [
                "client = instructor.patch(OpenAI(), mode=instructor.Mode.MD_JSON)\n",
                "\n",
                "for i, reaction in enumerate(data):\n",
                "    reaction_procedure = reaction[\"procedure_text\"]\n",
                "    messages = [\n",
                "        {\n",
                "            \"role\": \"system\",\n",
                "            \"content\": system_prompt,\n",
                "        },\n",
                "        {\n",
                "            \"role\": \"user\",\n",
                "            \"content\": user_prompt.format(\n",
                "                reaction1=reaction1,\n",
                "                answer1=answer1,\n",
                "                reaction2=reaction2,\n",
                "                answer2=answer2,\n",
                "                reaction_procedure=reaction_procedure,\n",
                "            ),\n",
                "        },\n",
                "    ]\n",
                "\n",
                "    completion = client.chat.completions.create(\n",
                "        model=\"gpt-4\",\n",
                "        response_model=ReactionSpecies,\n",
                "        max_retries=3,\n",
                "        messages=messages,\n",
                "        temperature=0,\n",
                "    )\n",
                "\n",
                "    reactant_smiles = [\n",
                "        name_to_smiles(reactant.name) for reactant in completion.reactant\n",
                "    ]\n",
                "    product_smiles = [name_to_smiles(product.name) for product in completion.product]\n",
                "\n",
                "    # Extract the atoms number for reactants and products\n",
                "    reactants_atoms = []\n",
                "    for reactant in reactant_smiles:\n",
                "        reactants_atoms.append(composition(reactant))\n",
                "\n",
                "    products_atoms = []\n",
                "    for product in product_smiles:\n",
                "        products_atoms.append(composition(product))\n",
                "\n",
                "    print(f\"Reaction {i+1}\\n\")\n",
                "    print(reaction_procedure)\n",
                "    print(completion)\n",
                "    print(\"\\n\")\n",
                "    print(\"Atom counting:\")\n",
                "\n",
                "    # Summing up values for reactant_smiles\n",
                "    sum_reactant_smiles = defaultdict(int)\n",
                "    for d in reactants_atoms:\n",
                "        for key, value in d.items():\n",
                "            sum_reactant_smiles[key] += value\n",
                "\n",
                "    # Summing up values for product_smiles\n",
                "    sum_product_smiles = defaultdict(int)\n",
                "    for d in products_atoms:\n",
                "        for key, value in d.items():\n",
                "            sum_product_smiles[key] += value\n",
                "\n",
                "    # Comparing the summed values of equal keys\n",
                "    for key in sum_reactant_smiles:\n",
                "        if key in sum_product_smiles:\n",
                "            print(\n",
                "                f\"{periodictable.elements[key]}: Reactant = {sum_reactant_smiles[key]}, Product = {sum_product_smiles[key]}\"\n",
                "            )\n",
                "        else:\n",
                "            print(f\"{periodictable.elements[key]} not present in Products\")\n",
                "    print(\"\\n\\n\")"
            ]
        },
        {
            "cell_type": "markdown",
            "metadata": {},
            "source": [
                "The extraction is effective for identifying species names, but struggles with identifying solvents. The model accurately identifies reactants and products in three reactions, but includes some species used for separation and purification as solvents.\n",
                "It also has difficulty identifying the units of amount, especially for volume measurements. Despite successful extraction, the atom count is not accurate for any of the reactions. This is because the reaction procedure only includes the final desired product and omits other products. To address this issue, one solution could be to incorporate an agent environment that retrieves all species from a reaction database. Alternatively, a simpler approach could be to limit the check to a subset of element types. "
            ]
        },
        {
            "cell_type": "markdown",
            "metadata": {},
            "source": [
                "## Bibliography\n",
                "\n",
                "```{bibliography}\n",
                ":filter: docname in docnames\n",
                "```"
            ]
        },
        {
            "cell_type": "markdown",
            "metadata": {},
            "source": []
        }
    ],
    "metadata": {
        "kernelspec": {
            "display_name": "reaction_case",
            "language": "python",
            "name": "python3"
        },
        "language_info": {
            "codemirror_mode": {
                "name": "ipython",
                "version": 3
            },
            "file_extension": ".py",
            "mimetype": "text/x-python",
            "name": "python",
            "nbconvert_exporter": "python",
            "pygments_lexer": "ipython3",
            "version": "3.12.4"
        }
    },
    "nbformat": 4,
    "nbformat_minor": 2
}
