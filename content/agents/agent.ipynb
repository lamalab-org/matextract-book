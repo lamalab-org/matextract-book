{
 "cells": [
  {
   "cell_type": "markdown",
   "metadata": {},
   "source": [
    "# Agents"
   ]
  },
  {
   "cell_type": "markdown",
   "metadata": {},
   "source": [
    "This notebook aims to demonstrate how to construct LLM agents and explain their functioning. In this practical application, we will focus on extracting chemical reactions from an image.\n"
   ]
  },
  {
   "cell_type": "code",
   "execution_count": 1,
   "metadata": {},
   "outputs": [],
   "source": [
    "import matextract  # noqa: F401\n",
    "\n",
    "import time\n",
    "import requests\n",
    "import base64\n",
    "\n",
    "import torch\n",
    "import pubchempy as pcp\n",
    "from rxnscribe import RxnScribe\n",
    "from rdkit import Chem\n",
    "\n",
    "from huggingface_hub import hf_hub_download\n",
    "\n",
    "from langchain import hub\n",
    "from langchain.pydantic_v1 import BaseModel, Field\n",
    "from langchain.agents import AgentExecutor\n",
    "from langchain.tools import StructuredTool\n",
    "from langchain.agents.react.agent import create_react_agent\n",
    "from langchain_openai import ChatOpenAI\n",
    "\n",
    "from litellm import completion"
   ]
  },
  {
   "cell_type": "markdown",
   "metadata": {},
   "source": [
    "```{margin}\n",
    "The `.env` needs to contain your personal OpenAI key if you want to run the exact same example as ours. We insist that using the environment variables is the safest way of keeping personal API keys secret.\n",
    "```"
   ]
  },
  {
   "cell_type": "markdown",
   "metadata": {},
   "source": [
    "For this small demonstration we will use OpenAI newest model: GPT-4o.\n"
   ]
  },
  {
   "cell_type": "markdown",
   "metadata": {},
   "source": [
    "```{margin}\n",
    "Since we use `LiteLLM`, you just need to change this cell where the model is defined to the one you want to use if you want to use a model from a different provider. For example, if you want to use one of the Anthropic vision models, you only have to substitute the line by:\n",
    "\n",
    "`model = \"claude-3-opus-20240229\"`\n",
    "```"
   ]
  },
  {
   "cell_type": "code",
   "execution_count": 2,
   "metadata": {},
   "outputs": [],
   "source": [
    "model = \"gpt-4o\""
   ]
  },
  {
   "cell_type": "markdown",
   "metadata": {},
   "source": [
    "The GPT-4o model by OpenAI, like its predecessor, GPT-4 Turbo, is a multimodal model, meaning it can work with multimodal inputs such as text and images. Although these models work quite well for some tasks, they can not perform well when the data is field-specific. To demonstrate this, we are going to provide an image describing a chemical reaction and ask the model to extract the information describing the reaction.\n"
   ]
  },
  {
   "cell_type": "markdown",
   "metadata": {},
   "source": [
    "To do the test, we will work with an image extracted from a work by {cite:t}`Deem2022`."
   ]
  },
  {
   "cell_type": "code",
   "execution_count": 3,
   "metadata": {},
   "outputs": [],
   "source": [
    "image_file = \"image.png\""
   ]
  },
  {
   "cell_type": "markdown",
   "metadata": {},
   "source": [
    "```{figure} ./image.png\n",
    "\n",
    "Figure taken and cropped from {cite:t}`Deem2022`. It was cropped to contain only the reaction itself, without all the other information that the original figure contains.\n",
    "\n",
    "```"
   ]
  },
  {
   "cell_type": "markdown",
   "metadata": {},
   "source": [
    "For the record we know:\n",
    "\n",
    "- Reactant 1: 2-bromo-9,9-dimethyl-9H-fluorene with an R-chain bonded to the carbon 7\n",
    "- Reactant 2: 4,4′-Dimethoxydiphenylamine\n",
    "- Catalysts:\n",
    "  - PEPPSI-IPr catalyst: commercial Pd catalyst\n",
    "  - Lithium bis(trimethylsilyl)amide (LiHMDS): is primarily used as a strong non-nucleophilic base and as a ligand\n",
    "  - Byphenyl\n",
    "- Solvent: 2-methyltetrahydrofuran\n",
    "- Product: 2,7-N,N-di(PMP)amino-9,9-dimethylfluoren or 2,7-N,N-dipolymethylpenteneamino-9,9-dimethylfluoren"
   ]
  },
  {
   "cell_type": "markdown",
   "metadata": {},
   "source": [
    "To pass the image to the model through the prompt, the image needs to be encoded. To do that we use the function that [OpenAI propose in their vision guidelines](https://platform.openai.com/docs/guides/vision).\n"
   ]
  },
  {
   "cell_type": "code",
   "execution_count": 4,
   "metadata": {},
   "outputs": [],
   "source": [
    "# Function to encode the image\n",
    "def encode_image(image_path):\n",
    "    with open(image_path, \"rb\") as image_file:\n",
    "        return base64.b64encode(image_file.read()).decode(\"utf-8\")\n",
    "\n",
    "\n",
    "# Getting the base64 string\n",
    "base64_image = encode_image(image_file)"
   ]
  },
  {
   "cell_type": "markdown",
   "metadata": {},
   "source": [
    "After that, we generate the prompt using the function just defined to encode the image.\n"
   ]
  },
  {
   "cell_type": "code",
   "execution_count": 5,
   "metadata": {},
   "outputs": [],
   "source": [
    "messages = [\n",
    "    {\n",
    "        \"role\": \"system\",\n",
    "        \"content\": \"You are a chemistry expert assistant, and your task is to extract information about chemical reactions from images.\",\n",
    "    },\n",
    "    {\n",
    "        \"role\": \"user\",\n",
    "        \"content\": [\n",
    "            {\n",
    "                \"type\": \"text\",\n",
    "                \"text\": \"Please extract all the information from the next image containing a chemical reaction. For the reactants that you find, give the name or some molecular representation, such as SMILES.\",\n",
    "            },\n",
    "            {\n",
    "                \"type\": \"image_url\",\n",
    "                \"image_url\": {\n",
    "                    \"url\": f\"data:image/jpeg;base64,{base64_image}\",\n",
    "                },\n",
    "            },\n",
    "        ],\n",
    "    },\n",
    "]"
   ]
  },
  {
   "cell_type": "markdown",
   "metadata": {},
   "source": [
    "And we do the completion using the OpenAI API.\n"
   ]
  },
  {
   "cell_type": "markdown",
   "metadata": {},
   "source": [
    "```{margin}\n",
    "`LiteLLM` makes it easy to use different models. In this demo, we used OpenAI model because this provider's models together with Claude vision models are the ones that showed the best results overall.\n",
    "```\n"
   ]
  },
  {
   "cell_type": "code",
   "execution_count": 6,
   "metadata": {},
   "outputs": [],
   "source": [
    "response = completion(\n",
    "    model=model,\n",
    "    messages=messages,\n",
    ")"
   ]
  },
  {
   "cell_type": "code",
   "execution_count": 7,
   "metadata": {},
   "outputs": [
    {
     "data": {
      "text/plain": [
       "'The given image illustrates a chemical reaction involving an aryl bromide and another reactant (labeled 2) under specific conditions to produce a product (labeled 9). Here is the detailed information extracted from the image:\\n\\n### Reactants:\\n1. **Aryl Bromide (40 mM)**:\\n   - Structure: Contains two benzene rings fused together with one of the benzene rings bonded to a bromine (Br) atom. There is a methyl (Me) group attached to each benzene ring and an R group (possibly a variable substituent) on one of the benzene rings.\\n  \\n2. **Reactant 2 (90 mM)**:\\n   - Structure: Contains a biphenyl system with each phenyl ring having a methoxy group (MeO) attached. One of the phenyl rings is connected to an NH group.\\n\\n### Catalysts/Reagents:\\n1. **PEPPSI-iPr (2 mM)** - a common ligand for facilitating palladium-catalyzed reactions.\\n2. **LiHMDS (100 mM)** - Lithium hexamethyldisilazide, a strong non-nucleophilic base.\\n\\n### Solvent and Conditions:\\n1. **Solvent**: 2-Methyltetrahydrofuran (2-MeTHF)\\n2. **Temperature**: 60°C\\n3. **Biphenyl (40 mM)**: Used perhaps as an additional reagent or co-catalyst component.\\n\\n### Product:\\n- Labelled as compound 9.\\n- Structure: Contains a biphenyl core similar to the reactant but with additional groups—two (PMP)₂N groups attached to the biphenyl system.\\n\\n### Molecular Representations:\\n1. **Aryl Bromide**:\\n   - (SMILES): [c1cc2cc(c1)c(c(c2)C)Br]\\n2. **Reactant 2**:\\n   - (SMILES): COc1ccc(cc1)Nc2cc(OC)ccc2 \\n3. **Product 9**:\\n   - (SMILES, approximate): Perhaps a complex structure involving: c(biphenyl core with two (PMP)2N groups attached)\\n\\nThe reaction involves the conversion of an aryl bromide with a secondary amine biphenyl derivative in the presence of a palladium catalyst (PEPPSI-iPr) and a strong base (LiHMDS) under specific conditions to produce the target product (compound 9).'"
      ]
     },
     "execution_count": 7,
     "metadata": {},
     "output_type": "execute_result"
    }
   ],
   "source": [
    "response.choices[0].message.content"
   ]
  },
  {
   "cell_type": "markdown",
   "metadata": {},
   "source": [
    "The model can not give the proper name or molecular representation to the molecules. However, it can identify some functional groups and substituents of the molecules. In addition, it can surprisingly identify the solvent and all the catalysts involved in the reaction.\n",
    "\n",
    "But luckily, some tools were developed to extract accurately this information from the images.\n"
   ]
  },
  {
   "cell_type": "markdown",
   "metadata": {},
   "source": [
    "One of these tools is RxnScribe, which {cite:t}`RxnScribe` developed. This tool can extract chemical reactions from images. So, we will use it as a tool given to an agent that we create below. With this and other tools, we will try to use the model to extract information such as the IUPAC name and the InChI representation for the reactants involved in the reaction.\n"
   ]
  },
  {
   "cell_type": "markdown",
   "metadata": {},
   "source": [
    "```{margin}\n",
    "We use the LangChain package to create an agent in a few lines of code. However, as we point out in the article, building an agent without these frameworks, such as LangChain and LlamaIndex, [is feasible and will offer more clarity and flexibility to the process](https://kjablonka.com/blog/posts/building_an_llm_agent/).\n",
    "```\n",
    "\n",
    "```{margin}\n",
    "Note that before returning the output from the RxnScribe tool, we \"pop\" some elements from it. This is simply because those elements are pretty big, and since we will not need them, we will save some tokens.\n",
    "```\n"
   ]
  },
  {
   "cell_type": "code",
   "execution_count": 8,
   "metadata": {},
   "outputs": [],
   "source": [
    "# Define a class to describe the input to the tool\n",
    "class ExtractionInput(BaseModel):\n",
    "    image_path: str = Field(\n",
    "        description=\"Path to the image-file that contain the reaction\"\n",
    "    )\n",
    "\n",
    "\n",
    "# Define the function that will do the reaction extraction.\n",
    "def extractor(image_path: str) -> list:\n",
    "    ckpt_path = hf_hub_download(\"yujieq/RxnScribe\", \"pix2seq_reaction_full.ckpt\")\n",
    "    model = RxnScribe(ckpt_path, device=torch.device(\"cuda\"))\n",
    "    results = model.predict_image_file(image_file, molscribe=True, ocr=True)\n",
    "\n",
    "    # Clean the output to reduce the number of tokens\n",
    "    for result in results:\n",
    "        for key, value in result.items():\n",
    "            for v in value:\n",
    "                if \"molfile\" in v:\n",
    "                    v.pop(\"molfile\")\n",
    "    return results\n",
    "\n",
    "\n",
    "# Describe the tool for the model\n",
    "image_extractor = StructuredTool.from_function(\n",
    "    func=extractor,\n",
    "    name=\"Reaction extractor\",\n",
    "    description=\"Extract chemical reactions information such as reactants, products and catalysts from images\",\n",
    "    args_schema=ExtractionInput,\n",
    ")"
   ]
  },
  {
   "cell_type": "markdown",
   "metadata": {},
   "source": [
    "If we print the variable containing the tool, we will be able to see what is going to be passed to the agent.\n"
   ]
  },
  {
   "cell_type": "code",
   "execution_count": 9,
   "metadata": {},
   "outputs": [
    {
     "name": "stdout",
     "output_type": "stream",
     "text": [
      "Reaction extractor\n",
      "Extract chemical reactions information such as reactants, products and catalysts from images\n",
      "{'image_path': {'title': 'Image Path', 'description': 'Path to the image-file that contain the reaction', 'type': 'string'}}\n",
      "False\n"
     ]
    }
   ],
   "source": [
    "print(image_extractor.name)\n",
    "print(image_extractor.description)\n",
    "print(image_extractor.args)\n",
    "print(image_extractor.return_direct)"
   ]
  },
  {
   "cell_type": "markdown",
   "metadata": {},
   "source": [
    "Similarly, we can define other tools to help the agent convert between SMILES, InChI, and the IUPAC name.\n"
   ]
  },
  {
   "cell_type": "code",
   "execution_count": 10,
   "metadata": {},
   "outputs": [],
   "source": [
    "class ChemicalRepresentation(BaseModel):\n",
    "    smiles: str = Field(description=\"SMILES representation for the molecule\")\n",
    "\n",
    "\n",
    "def smiles_to_inchi(smiles: str) -> str:\n",
    "    molecule = Chem.MolFromSmiles(smiles)\n",
    "    return Chem.MolToInchi(molecule)\n",
    "\n",
    "\n",
    "CACTUS = \"https://cactus.nci.nih.gov/chemical/structure/{0}/{1}\"\n",
    "\n",
    "\n",
    "def smiles_to_iupac(smiles: str) -> str:\n",
    "    \"\"\"\n",
    "    Use the chemical name resolver https://cactus.nci.nih.gov/chemical/structure.\n",
    "    If this does not work, use pubchem.\n",
    "    \"\"\"\n",
    "    try:\n",
    "        time.sleep(0.001)\n",
    "        rep = \"iupac_name\"\n",
    "        url = CACTUS.format(smiles, rep)\n",
    "        response = requests.get(url, allow_redirects=True, timeout=10)\n",
    "        response.raise_for_status()\n",
    "        name = response.text\n",
    "        if \"html\" in name:\n",
    "            return None\n",
    "        return name\n",
    "    except Exception:\n",
    "        try:\n",
    "            compound = pcp.get_compounds(smiles, \"smiles\")\n",
    "            return compound[0].iupac_name\n",
    "        except Exception:\n",
    "            return None\n",
    "\n",
    "\n",
    "smiles_to_inchi_converter = StructuredTool.from_function(\n",
    "    func=smiles_to_inchi,\n",
    "    name=\"Smiles to InChI\",\n",
    "    description=\"Return the InChI representation of the given SMILES representation\",\n",
    "    args_schema=ChemicalRepresentation,\n",
    ")\n",
    "\n",
    "smiles_to_iupac_converter = StructuredTool.from_function(\n",
    "    func=smiles_to_iupac,\n",
    "    name=\"Smiles to IUPAC\",\n",
    "    description=\"Return the IUPAC name of the given SMILES representation\",\n",
    "    args_schema=ChemicalRepresentation,\n",
    ")"
   ]
  },
  {
   "cell_type": "markdown",
   "metadata": {},
   "source": [
    "Once we have defined all the tools, we create a list that will be passed to the agent indicating which tools it has available.\n"
   ]
  },
  {
   "cell_type": "code",
   "execution_count": 11,
   "metadata": {},
   "outputs": [],
   "source": [
    "tools = [image_extractor, smiles_to_inchi_converter, smiles_to_iupac_converter]"
   ]
  },
  {
   "cell_type": "markdown",
   "metadata": {},
   "source": [
    "After creating and defining the tools, we can start constructing the agent itself by specifying the model to use. For the agent, we will use the GPT-4o model.\n"
   ]
  },
  {
   "cell_type": "markdown",
   "metadata": {},
   "source": [
    "```{margin}\n",
    "- `request_timeout` sets the maximum time to wait for the response from the API.\n",
    "- `streaming=\"False\"` sets that the entire completion of the model is going to be returned only once it is completely generated. If this parameter is set to `True`, the completion of the model will be sent to you as it is being generated, token by token.\n",
    "```\n"
   ]
  },
  {
   "cell_type": "code",
   "execution_count": 12,
   "metadata": {},
   "outputs": [],
   "source": [
    "llm = ChatOpenAI(\n",
    "    temperature=0,\n",
    "    model_name=\"gpt-4o\",\n",
    "    request_timeout=1000,\n",
    "    streaming=\"False\",\n",
    ")"
   ]
  },
  {
   "cell_type": "markdown",
   "metadata": {},
   "source": [
    "Then we define the prompt, the agent and what it is called by LangChain as the \"chain\".\n"
   ]
  },
  {
   "cell_type": "code",
   "execution_count": 13,
   "metadata": {},
   "outputs": [],
   "source": [
    "# Import the ReAct prompt from the hub.\n",
    "prompt = hub.pull(\"hwchase17/react\")\n",
    "# Construct the ReAct agent\n",
    "agent = create_react_agent(llm, tools, prompt)\n",
    "# Define the chain for the agent.\n",
    "agent_executor = AgentExecutor(\n",
    "    agent=agent,\n",
    "    tools=tools,\n",
    "    verbose=True,\n",
    ")"
   ]
  },
  {
   "cell_type": "markdown",
   "metadata": {},
   "source": [
    "```{admonition} Notes about ReAct\n",
    ":class: tip, dropdown\n",
    "\n",
    "Answer the following questions as best you can. You have access to the following tools:\n",
    "\n",
    "{tools}\n",
    "\n",
    "Use the following format:\n",
    "\n",
    "Question: the input question you must answer\\\n",
    "Thought: you should always think about what to do\\\n",
    "Action: the action to take, should be one of [{tool_names}]\\\n",
    "Action Input: the input to the action\\\n",
    "Observation: the result of the action...(this Thought/Action/Action Input/Observation can repeat N times)\\\n",
    "Thought: I now know the final answer\\\n",
    "Final Answer: the final answer to the original input question\\\n",
    "\n",
    "Begin!\n",
    "\n",
    "Question: {input}\\\n",
    "Thought:{agent_scratchpad}\n",
    "\n",
    "---\n",
    "\n",
    "What are the variables referred in this prompt?\\\n",
    "\n",
    "- `tools` is a list with all the tools available. The list includes the `func`, `name`, `description` and `args_schema` arguments detailed when the tools were created.\\\n",
    "- `tool_names` is a list with the names of the tools available.\\\n",
    "- `input`is the query from the user.\\\n",
    "- `agent_scratchpad` contains the previous iterations by the agent.\\\n",
    "```"
   ]
  },
  {
   "cell_type": "markdown",
   "metadata": {},
   "source": [
    "The last step before calling the agent is to define the query that we want the agent to solve.\n"
   ]
  },
  {
   "cell_type": "code",
   "execution_count": 14,
   "metadata": {},
   "outputs": [],
   "source": [
    "query = f\"I want the IUPAC name, the SMILES and the InChI representations for the reactants of the reaction contained in the image: {image_file}\""
   ]
  },
  {
   "cell_type": "markdown",
   "metadata": {},
   "source": [
    "And finally we run the agent.\n"
   ]
  },
  {
   "cell_type": "code",
   "execution_count": 15,
   "metadata": {},
   "outputs": [
    {
     "name": "stdout",
     "output_type": "stream",
     "text": [
      "\n",
      "\n",
      "\u001b[1m> Entering new AgentExecutor chain...\u001b[0m\n",
      "\u001b[32;1m\u001b[1;3mTo answer this question, I need to extract the chemical reactions information from the provided image first. This will give me the reactants, products, and catalysts involved in the reaction. Once I have the reactants, I can then convert their SMILES representations to IUPAC names and InChI representations.\n",
      "\n",
      "Action: Reaction extractor\n",
      "Action Input: image.png\u001b[0m\u001b[36;1m\u001b[1;3m[{'reactants': [{'category': '[Mol]', 'bbox': (0.03401700850425213, 0.01468796072044833, 0.24212106053026514, 0.8127338265314743), 'category_id': 1, 'smiles': '*c1ccc2c(c1)C(C)(C)c1cc(Br)ccc1-2'}, {'category': '[Mol]', 'bbox': (0.23311655827913957, 0.011750368576358663, 0.4432216108054027, 0.8225258003451065), 'category_id': 1, 'smiles': '*.*.COc1ccc(Nc2ccc(OC)cc2)cc1'}], 'conditions': [{'category': '[Txt]', 'bbox': (0.4547273636818409, 0.20269385794218694, 0.7748874437218609, 0.3897205577825623), 'category_id': 2, 'text': ['PEPPSI-iPr [2 mM]', 'LiHMDS [100 mM]']}, {'category': '[Txt]', 'bbox': (0.4627313656828414, 0.42986765041845443, 0.76088044022011, 0.6022063895383815), 'category_id': 2, 'text': ['Biphenyl [40 mM]', '60 C, 2-MeTHF']}], 'products': [{'category': '[Mol]', 'bbox': (0.7563781890945472, 0.006854381669542554, 1.0, 0.8176298134382903), 'category_id': 1, 'smiles': 'CC1(C)c2cc(N)ccc2-c2ccc(N)cc21.I.II'}]}]\u001b[0m\u001b[32;1m\u001b[1;3mThe extracted information from the image provides the SMILES representations of the reactants. Here are the reactants:\n",
      "\n",
      "1. `*c1ccc2c(c1)C(C)(C)c1cc(Br)ccc1-2`\n",
      "2. `*.*.COc1ccc(Nc2ccc(OC)cc2)cc1`\n",
      "\n",
      "Next, I will convert these SMILES representations to their IUPAC names and InChI representations.\n",
      "\n",
      "Let's start with the first reactant.\n",
      "\n",
      "Action: Smiles to IUPAC\n",
      "Action Input: *c1ccc2c(c1)C(C)(C)c1cc(Br)ccc1-2\u001b[0m\u001b[38;5;200m\u001b[1;3mNone\u001b[0m\u001b[32;1m\u001b[1;3mIt seems there was an issue with the conversion of the first SMILES representation to its IUPAC name. I will try converting the second reactant's SMILES representation to its IUPAC name.\n",
      "\n",
      "Action: Smiles to IUPAC\n",
      "Action Input: *.*.COc1ccc(Nc2ccc(OC)cc2)cc1\u001b[0m\u001b[38;5;200m\u001b[1;3mNone\u001b[0m\u001b[32;1m\u001b[1;3mIt appears that the SMILES representations extracted from the image might contain some non-standard characters or formatting issues that are causing the conversion tools to fail. I will manually inspect and clean the SMILES strings before attempting the conversion again.\n",
      "\n",
      "The first reactant's SMILES string is `*c1ccc2c(c1)C(C)(C)c1cc(Br)ccc1-2`. The asterisk `*` might be a placeholder or an error. I will remove it and try converting the cleaned SMILES string `c1ccc2c(c1)C(C)(C)c1cc(Br)ccc1-2`.\n",
      "\n",
      "The second reactant's SMILES string is `*.*.COc1ccc(Nc2ccc(OC)cc2)cc1`. The asterisks `*.*.` might be placeholders or errors. I will remove them and try converting the cleaned SMILES string `COc1ccc(Nc2ccc(OC)cc2)cc1`.\n",
      "\n",
      "Let's start with the cleaned SMILES string of the first reactant.\n",
      "\n",
      "Action: Smiles to IUPAC\n",
      "Action Input: c1ccc2c(c1)C(C)(C)c1cc(Br)ccc1-2\u001b[0m\u001b[38;5;200m\u001b[1;3m2-bromo-9,9-dimethylfluorene\u001b[0m\u001b[32;1m\u001b[1;3mThe IUPAC name for the first reactant is \"2-bromo-9,9-dimethylfluorene\". Now, I will convert the cleaned SMILES string of the first reactant to its InChI representation.\n",
      "\n",
      "Action: Smiles to InChI\n",
      "Action Input: c1ccc2c(c1)C(C)(C)c1cc(Br)ccc1-2\u001b[0m\u001b[33;1m\u001b[1;3mInChI=1S/C15H13Br/c1-15(2)13-6-4-3-5-11(13)12-8-7-10(16)9-14(12)15/h3-9H,1-2H3\u001b[0m\u001b[32;1m\u001b[1;3mThe InChI representation for the first reactant is \"InChI=1S/C15H13Br/c1-15(2)13-6-4-3-5-11(13)12-8-7-10(16)9-14(12)15/h3-9H,1-2H3\".\n",
      "\n",
      "Next, I will convert the cleaned SMILES string of the second reactant to its IUPAC name.\n",
      "\n",
      "Action: Smiles to IUPAC\n",
      "Action Input: COc1ccc(Nc2ccc(OC)cc2)cc1\u001b[0m\u001b[38;5;200m\u001b[1;3m4-methoxy-N-(4-methoxyphenyl)aniline\u001b[0m\u001b[32;1m\u001b[1;3mThe IUPAC name for the second reactant is \"4-methoxy-N-(4-methoxyphenyl)aniline\". Now, I will convert the cleaned SMILES string of the second reactant to its InChI representation.\n",
      "\n",
      "Action: Smiles to InChI\n",
      "Action Input: COc1ccc(Nc2ccc(OC)cc2)cc1\u001b[0m\u001b[33;1m\u001b[1;3mInChI=1S/C14H15NO2/c1-16-13-7-3-11(4-8-13)15-12-5-9-14(17-2)10-6-12/h3-10,15H,1-2H3\u001b[0m\u001b[32;1m\u001b[1;3mThe InChI representation for the second reactant is \"InChI=1S/C14H15NO2/c1-16-13-7-3-11(4-8-13)15-12-5-9-14(17-2)10-6-12/h3-10,15H,1-2H3\".\n",
      "\n",
      "I now have all the necessary information for the reactants:\n",
      "\n",
      "1. First Reactant:\n",
      "   - IUPAC Name: 2-bromo-9,9-dimethylfluorene\n",
      "   - SMILES: c1ccc2c(c1)C(C)(C)c1cc(Br)ccc1-2\n",
      "   - InChI: InChI=1S/C15H13Br/c1-15(2)13-6-4-3-5-11(13)12-8-7-10(16)9-14(12)15/h3-9H,1-2H3\n",
      "\n",
      "2. Second Reactant:\n",
      "   - IUPAC Name: 4-methoxy-N-(4-methoxyphenyl)aniline\n",
      "   - SMILES: COc1ccc(Nc2ccc(OC)cc2)cc1\n",
      "   - InChI: InChI=1S/C14H15NO2/c1-16-13-7-3-11(4-8-13)15-12-5-9-14(17-2)10-6-12/h3-10,15H,1-2H3\n",
      "\n",
      "Final Answer:\n",
      "1. First Reactant:\n",
      "   - IUPAC Name: 2-bromo-9,9-dimethylfluorene\n",
      "   - SMILES: c1ccc2c(c1)C(C)(C)c1cc(Br)ccc1-2\n",
      "   - InChI: InChI=1S/C15H13Br/c1-15(2)13-6-4-3-5-11(13)12-8-7-10(16)9-14(12)15/h3-9H,1-2H3\n",
      "\n",
      "2. Second Reactant:\n",
      "   - IUPAC Name: 4-methoxy-N-(4-methoxyphenyl)aniline\n",
      "   - SMILES: COc1ccc(Nc2ccc(OC)cc2)cc1\n",
      "   - InChI: InChI=1S/C14H15NO2/c1-16-13-7-3-11(4-8-13)15-12-5-9-14(17-2)10-6-12/h3-10,15H,1-2H3\u001b[0m\n",
      "\n",
      "\u001b[1m> Finished chain.\u001b[0m\n"
     ]
    },
    {
     "data": {
      "text/plain": [
       "{'input': 'I want the IUPAC name, the SMILES and the InChI representations for the reactants of the reaction contained in the image: image.png',\n",
       " 'output': '1. First Reactant:\\n   - IUPAC Name: 2-bromo-9,9-dimethylfluorene\\n   - SMILES: c1ccc2c(c1)C(C)(C)c1cc(Br)ccc1-2\\n   - InChI: InChI=1S/C15H13Br/c1-15(2)13-6-4-3-5-11(13)12-8-7-10(16)9-14(12)15/h3-9H,1-2H3\\n\\n2. Second Reactant:\\n   - IUPAC Name: 4-methoxy-N-(4-methoxyphenyl)aniline\\n   - SMILES: COc1ccc(Nc2ccc(OC)cc2)cc1\\n   - InChI: InChI=1S/C14H15NO2/c1-16-13-7-3-11(4-8-13)15-12-5-9-14(17-2)10-6-12/h3-10,15H,1-2H3'}"
      ]
     },
     "execution_count": 15,
     "metadata": {},
     "output_type": "execute_result"
    }
   ],
   "source": [
    "agent_executor.invoke({\"input\": query})"
   ]
  },
  {
   "cell_type": "markdown",
   "metadata": {},
   "source": [
    "First, it's worth noting that the model's reasoning about the tool use is accurate.\n",
    "\n",
    "The ReAct prompt's reasoning enables the agent to correctly identify and provide information only about the reactants, contrary to the previous case. \n",
    "\n",
    "For reactant 2, the extracted information is correct, with both representations that we asked for. On the other hand, for reactant 1, the information provided by the model is not correct at all. But this is because it can not identify the R chain as a proper part of the molecule, something that was partially expected. Thus, the name and representations provided by the agent correspond to a molecule where R corresponds to a hydrogen atom. "
   ]
  },
  {
   "cell_type": "markdown",
   "metadata": {},
   "source": [
    "In summary, we implemented a basic agent for extracting chemical reactions from images. The agent proved to improve vanilla models by far, and the results can be even better by making more robust tools."
   ]
  },
  {
   "cell_type": "markdown",
   "metadata": {},
   "source": [
    "## References\n",
    "\n",
    "```{bibliography}\n",
    ":filter: docname in docnames\n",
    "```"
   ]
  }
 ],
 "metadata": {
  "kernelspec": {
   "display_name": "Python 3 (ipykernel)",
   "language": "python",
   "name": "python3"
  },
  "language_info": {
   "codemirror_mode": {
    "name": "ipython",
    "version": 3
   },
   "file_extension": ".py",
   "mimetype": "text/x-python",
   "name": "python",
   "nbconvert_exporter": "python",
   "pygments_lexer": "ipython3",
   "version": "3.11.5"
  }
 },
 "nbformat": 4,
 "nbformat_minor": 4
}
