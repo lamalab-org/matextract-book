{
 "cells": [
  {
   "cell_type": "markdown",
   "metadata": {},
   "source": [
    "# Constrained generation to guarantee syntactic correctness"
   ]
  },
  {
   "cell_type": "markdown",
   "metadata": {},
   "source": [
    "```{note}\n",
    "If we want to generate output that is structured in a specific way, we can use various techniques to \n",
    "\n",
    "- make the extraction more efficient (but automatically adding the \"obvious\" tokens)\n",
    "- make the generation guaranteed to be syntactically correct\n",
    "- make the generation sometimes more semantically correct, too \n",
    "```"
   ]
  },
  {
   "cell_type": "markdown",
   "metadata": {},
   "source": [
    "To enable constrained decoding, we will use one of the most popular packages for this task [`instructor`](https://jxnl.github.io/instructor/).\n",
    "It is built on [`pydantic`]() and can leverage function calling and JSON-mode of the OpenAI API as well as other constrained sampling approaches."
   ]
  },
  {
   "cell_type": "code",
   "execution_count": 2,
   "metadata": {},
   "outputs": [],
   "source": [
    "from pydantic import BaseModel, Field\n",
    "from typing import List, Optional, Literal\n",
    "import erdantic as erd\n",
    "import instructor\n",
    "from IPython.display import SVG\n",
    "from openai import OpenAI\n",
    "\n",
    "import llmstructdata"
   ]
  },
  {
   "cell_type": "markdown",
   "metadata": {},
   "source": [
    "## Defining a data schema"
   ]
  },
  {
   "cell_type": "markdown",
   "metadata": {},
   "source": [
    "For most constrained generation tasks, we need to define a data schema in a programmatic way.\n",
    "The most common way to do so is to use `pydantic` data classes.\n",
    "Here is an example of a simple data schema for a recipe:\n",
    "\n",
    "```python\n",
    "from pydantic import BaseModel\n",
    "\n",
    "class Recipe(BaseModel):\n",
    "    title: str\n",
    "    ingredients: List[str]\n",
    "    instructions: List[str]\n",
    "```\n",
    "\n",
    "This schema can also be extended to include descriptions of different fields or to only allow certain values for specific fields. For example, we could add a field for the number of servings and only allow positive integers.\n",
    "\n",
    "```python\n",
    "from pydantic import BaseModel, Field\n",
    "from typing import Literal, List\n",
    "\n",
    "class Recipe(BaseModel):\n",
    "    title: str\n",
    "    ingredients: List[str]\n",
    "    instructions: List[str]\n",
    "    servings: int = Field(..., gt=0, description=\"The number of servings for this recipe\")\n",
    "    rating: Literal[\"easy\", \"medium\", \"hard\"] = Field(\"easy\", description=\"The difficulty level of this recipe\")\n",
    "```"
   ]
  },
  {
   "cell_type": "markdown",
   "metadata": {},
   "source": [
    "If we want to extract copolymerization reactions a data schema could look like the following.\n",
    "\n",
    "We can now use `instructor` to \"patch\" the OpenAI API client to ensure that our output fulfils the schema."
   ]
  },
  {
   "cell_type": "code",
   "execution_count": 3,
   "metadata": {},
   "outputs": [],
   "source": [
    "client = instructor.patch(OpenAI(), mode=instructor.Mode.MD_JSON)\n",
    "\n",
    "\n",
    "class Monomer(BaseModel):\n",
    "    name: str = Field(..., title=\"Name\", description=\"Name of the monomer.\")\n",
    "    reactivity_constant: Optional[float] = Field(\n",
    "        None,\n",
    "        title=\"Reactivity constant\",\n",
    "        description=\"Reactivity constant of the monomer. r1 for monomer 1 and r2 for monomer 2. Must be greater or equal 0.\",\n",
    "        ge=0,\n",
    "    )\n",
    "    reactivity_constant_error: Optional[float] = Field(\n",
    "        None,\n",
    "        title=\"Reactivity constant error\",\n",
    "        description=\"Error in the reactivity constant. Often indicated with +/-. Must be greater or equal 0\",\n",
    "        ge=0,\n",
    "    )\n",
    "    q_parameter: Optional[float] = Field(\n",
    "        None,\n",
    "        title=\"Q parameter\",\n",
    "        description=\"Q parameter of the monomer. Q1 for monomer 1 and Q2 for monomer 2. Must be greater or equal 0\",\n",
    "        ge=0,\n",
    "    )\n",
    "    e_parameter: Optional[float] = Field(\n",
    "        None,\n",
    "        title=\"e parameter\",\n",
    "        description=\"e parameter of the monomer. e1 for monomer 1 and e2 for monomer 2.\",\n",
    "    )\n",
    "\n",
    "\n",
    "class CopolymerizationReaction(BaseModel):\n",
    "    temperature: Optional[float] = Field(\n",
    "        ...,\n",
    "        title=\"Temperature\",\n",
    "        description=\"Temperature at which the reaction is carried out\",\n",
    "    )\n",
    "    temperature_unit: Optional[Literal[\"C\", \"K\"]] = Field(\n",
    "        ..., title=\"Temperature unit\", description=\"Unit of temperature\"\n",
    "    )\n",
    "    solvent: Optional[str] = Field(\n",
    "        None,\n",
    "        title=\"Solvent\",\n",
    "        description=\"Solvent used in the reaction. If bulk polymerization was performed, this field should be left empty\",\n",
    "    )\n",
    "    initiator: Optional[str] = Field(\n",
    "        None, title=\"Initiator\", description=\"Initiator used in the reaction\"\n",
    "    )\n",
    "    monomers: Optional[List[Monomer]] = Field(\n",
    "        ...,\n",
    "        title=\"Monomers\",\n",
    "        description=\"Monomers used in the reaction. Ensure that the reactivity ratios are not confused with other numbers (such as Q and e). The two monomers MUST be used in the same reaction and mentioned in the same context.\",\n",
    "        min_items=2,\n",
    "        max_items=2,\n",
    "    )\n",
    "    polymerization_type: Optional[str] = Field(\n",
    "        ...,\n",
    "        title=\"Polymerization type\",\n",
    "        description=\"Type of polymerization (e.g., bulk, solution, suspension, emulsion)\",\n",
    "    )\n",
    "    determination_method: Optional[str] = Field(\n",
    "        ...,\n",
    "        title=\"Determination method\",\n",
    "        description=\"Method used to determine the reactivity ratios (e.g. Kelen Tudor, Fineman-Ross, Mayo-Lewis).\",\n",
    "    )"
   ]
  },
  {
   "cell_type": "code",
   "execution_count": 4,
   "metadata": {},
   "outputs": [
    {
     "data": {
      "image/svg+xml": [
       "<svg xmlns=\"http://www.w3.org/2000/svg\" xmlns:xlink=\"http://www.w3.org/1999/xlink\" width=\"624pt\" height=\"258pt\" viewBox=\"0.00 0.00 624.00 258.00\">\n",
       "<g id=\"graph0\" class=\"graph\" transform=\"scale(1 1) rotate(0) translate(4 254)\">\n",
       "<title>Entity Relationship Diagram created by erdantic</title>\n",
       "<polygon fill=\"white\" stroke=\"transparent\" points=\"-4,4 -4,-254 620,-254 620,4 -4,4\"/>\n",
       "<text text-anchor=\"middle\" x=\"308\" y=\"-6.8\" font-family=\"Times New Roman,Times,Liberation Serif,serif\" font-size=\"9.00\" fill=\"#a8a8a8\">Created by erdantic v1.0.2 &lt;https://github.com/drivendataorg/erdantic&gt;</text>\n",
       "<!-- __main__.CopolymerizationReaction -->\n",
       "<g id=\"node1\" class=\"node\">\n",
       "<title>__main__.CopolymerizationReaction</title>\n",
       "<g id=\"a_node1\"><a xlink:title=\"__main__.CopolymerizationReaction\n",
       "\n",
       "Usage docs: https://docs.pydantic.dev/2.5/concepts/models/\n",
       "\n",
       "A base class for creating Pydantic models.\n",
       "\n",
       "Attributes:\n",
       "    __class_vars__: The names of classvars defined on the model.\n",
       "    __private_attributes__: Metadata about the private attributes of the model.\n",
       "    __signature__: The signature for instantiating the model.\n",
       "\n",
       "    __pydantic_complete__: Whether model building is completed, or if there are still undefined fields.\n",
       "    __pydantic_core_schema__: The pydantic-core schema used to build the SchemaValidator and SchemaSerializer.\n",
       "    __pydantic_custom_init__: Whether the model has a custom `__init__` function.\n",
       "    __pydantic_decorators__: Metadata containing the decorators defined on the model.\n",
       "        This replaces `Model.__validators__` and `Model.__root_validators__` from Pydantic V1.\n",
       "    __pydantic_generic_metadata__: Metadata for generic models; contains data used for a similar purpose to\n",
       "        __args__, __origin__, __parameters__ in typing-module generics. May eventually be replaced by these.\n",
       "    __pydantic_parent_namespace__: Parent namespace of the model, used for automatic rebuilding of models.\n",
       "    __pydantic_post_init__: The name of the post-init method for the model, if defined.\n",
       "    __pydantic_root_model__: Whether the model is a `RootModel`.\n",
       "    __pydantic_serializer__: The pydantic-core SchemaSerializer used to dump instances of the model.\n",
       "    __pydantic_validator__: The pydantic-core SchemaValidator used to validate instances of the model.\n",
       "\n",
       "    __pydantic_extra__: An instance attribute with the values of extra fields from validation when\n",
       "        `model_config['extra'] == 'allow'`.\n",
       "    __pydantic_fields_set__: An instance attribute with the names of fields explicitly set.\n",
       "    __pydantic_private__: Instance attribute with the values of private attributes set on the model instance.\n",
       "\">\n",
       "<polygon fill=\"none\" stroke=\"black\" points=\"0,-229 0,-250 278,-250 278,-229 0,-229\"/>\n",
       "<text text-anchor=\"start\" x=\"61\" y=\"-236.8\" font-family=\"Times New Roman,Times,Liberation Serif,serif\" font-weight=\"bold\" font-size=\"14.00\">CopolymerizationReaction</text>\n",
       "<polygon fill=\"none\" stroke=\"black\" points=\"0,-208 0,-229 130,-229 130,-208 0,-208\"/>\n",
       "<text text-anchor=\"start\" x=\"32\" y=\"-214.8\" font-family=\"Times New Roman,Times,Liberation Serif,serif\" font-size=\"14.00\">temperature</text>\n",
       "<polygon fill=\"none\" stroke=\"black\" points=\"130,-208 130,-229 278,-229 278,-208 130,-208\"/>\n",
       "<text text-anchor=\"start\" x=\"163\" y=\"-214.8\" font-family=\"Times New Roman,Times,Liberation Serif,serif\" font-size=\"14.00\">Optional[float]</text>\n",
       "<polygon fill=\"none\" stroke=\"black\" points=\"0,-187 0,-208 130,-208 130,-187 0,-187\"/>\n",
       "<text text-anchor=\"start\" x=\"18\" y=\"-193.8\" font-family=\"Times New Roman,Times,Liberation Serif,serif\" font-size=\"14.00\">temperature_unit</text>\n",
       "<polygon fill=\"none\" stroke=\"black\" points=\"130,-187 130,-208 278,-208 278,-187 130,-187\"/>\n",
       "<text text-anchor=\"start\" x=\"135.5\" y=\"-193.8\" font-family=\"Times New Roman,Times,Liberation Serif,serif\" font-size=\"14.00\">Optional[Literal['C', 'K']]</text>\n",
       "<polygon fill=\"none\" stroke=\"black\" points=\"0,-166 0,-187 130,-187 130,-166 0,-166\"/>\n",
       "<text text-anchor=\"start\" x=\"45\" y=\"-172.8\" font-family=\"Times New Roman,Times,Liberation Serif,serif\" font-size=\"14.00\">solvent</text>\n",
       "<polygon fill=\"none\" stroke=\"black\" points=\"130,-166 130,-187 278,-187 278,-166 130,-166\"/>\n",
       "<text text-anchor=\"start\" x=\"169\" y=\"-172.8\" font-family=\"Times New Roman,Times,Liberation Serif,serif\" font-size=\"14.00\">Optional[str]</text>\n",
       "<polygon fill=\"none\" stroke=\"black\" points=\"0,-145 0,-166 130,-166 130,-145 0,-145\"/>\n",
       "<text text-anchor=\"start\" x=\"43.5\" y=\"-151.8\" font-family=\"Times New Roman,Times,Liberation Serif,serif\" font-size=\"14.00\">initiator</text>\n",
       "<polygon fill=\"none\" stroke=\"black\" points=\"130,-145 130,-166 278,-166 278,-145 130,-145\"/>\n",
       "<text text-anchor=\"start\" x=\"169\" y=\"-151.8\" font-family=\"Times New Roman,Times,Liberation Serif,serif\" font-size=\"14.00\">Optional[str]</text>\n",
       "<polygon fill=\"none\" stroke=\"black\" points=\"0,-124 0,-145 130,-145 130,-124 0,-124\"/>\n",
       "<text text-anchor=\"start\" x=\"35.5\" y=\"-130.8\" font-family=\"Times New Roman,Times,Liberation Serif,serif\" font-size=\"14.00\">monomers</text>\n",
       "<polygon fill=\"none\" stroke=\"black\" points=\"130,-124 130,-145 278,-145 278,-124 130,-124\"/>\n",
       "<text text-anchor=\"start\" x=\"133\" y=\"-130.8\" font-family=\"Times New Roman,Times,Liberation Serif,serif\" font-size=\"14.00\">Optional[List[Monomer]]</text>\n",
       "<polygon fill=\"none\" stroke=\"black\" points=\"0,-103 0,-124 130,-124 130,-103 0,-103\"/>\n",
       "<text text-anchor=\"start\" x=\"8.5\" y=\"-109.8\" font-family=\"Times New Roman,Times,Liberation Serif,serif\" font-size=\"14.00\">polymerization_type</text>\n",
       "<polygon fill=\"none\" stroke=\"black\" points=\"130,-103 130,-124 278,-124 278,-103 130,-103\"/>\n",
       "<text text-anchor=\"start\" x=\"169\" y=\"-109.8\" font-family=\"Times New Roman,Times,Liberation Serif,serif\" font-size=\"14.00\">Optional[str]</text>\n",
       "<polygon fill=\"none\" stroke=\"black\" points=\"0,-82 0,-103 130,-103 130,-82 0,-82\"/>\n",
       "<text text-anchor=\"start\" x=\"3\" y=\"-88.8\" font-family=\"Times New Roman,Times,Liberation Serif,serif\" font-size=\"14.00\">determination_method</text>\n",
       "<polygon fill=\"none\" stroke=\"black\" points=\"130,-82 130,-103 278,-103 278,-82 130,-82\"/>\n",
       "<text text-anchor=\"start\" x=\"169\" y=\"-88.8\" font-family=\"Times New Roman,Times,Liberation Serif,serif\" font-size=\"14.00\">Optional[str]</text>\n",
       "</a>\n",
       "</g>\n",
       "</g>\n",
       "<!-- __main__.Monomer -->\n",
       "<g id=\"node2\" class=\"node\">\n",
       "<title>__main__.Monomer</title>\n",
       "<g id=\"a_node2\"><a xlink:title=\"__main__.Monomer\n",
       "\n",
       "Usage docs: https://docs.pydantic.dev/2.5/concepts/models/\n",
       "\n",
       "A base class for creating Pydantic models.\n",
       "\n",
       "Attributes:\n",
       "    __class_vars__: The names of classvars defined on the model.\n",
       "    __private_attributes__: Metadata about the private attributes of the model.\n",
       "    __signature__: The signature for instantiating the model.\n",
       "\n",
       "    __pydantic_complete__: Whether model building is completed, or if there are still undefined fields.\n",
       "    __pydantic_core_schema__: The pydantic-core schema used to build the SchemaValidator and SchemaSerializer.\n",
       "    __pydantic_custom_init__: Whether the model has a custom `__init__` function.\n",
       "    __pydantic_decorators__: Metadata containing the decorators defined on the model.\n",
       "        This replaces `Model.__validators__` and `Model.__root_validators__` from Pydantic V1.\n",
       "    __pydantic_generic_metadata__: Metadata for generic models; contains data used for a similar purpose to\n",
       "        __args__, __origin__, __parameters__ in typing-module generics. May eventually be replaced by these.\n",
       "    __pydantic_parent_namespace__: Parent namespace of the model, used for automatic rebuilding of models.\n",
       "    __pydantic_post_init__: The name of the post-init method for the model, if defined.\n",
       "    __pydantic_root_model__: Whether the model is a `RootModel`.\n",
       "    __pydantic_serializer__: The pydantic-core SchemaSerializer used to dump instances of the model.\n",
       "    __pydantic_validator__: The pydantic-core SchemaValidator used to validate instances of the model.\n",
       "\n",
       "    __pydantic_extra__: An instance attribute with the values of extra fields from validation when\n",
       "        `model_config['extra'] == 'allow'`.\n",
       "    __pydantic_fields_set__: An instance attribute with the names of fields explicitly set.\n",
       "    __pydantic_private__: Instance attribute with the values of private attributes set on the model instance.\n",
       "\">\n",
       "<polygon fill=\"none\" stroke=\"black\" points=\"386,-123 386,-144 616,-144 616,-123 386,-123\"/>\n",
       "<text text-anchor=\"start\" x=\"471.5\" y=\"-130.8\" font-family=\"Times New Roman,Times,Liberation Serif,serif\" font-weight=\"bold\" font-size=\"14.00\">Monomer</text>\n",
       "<polygon fill=\"none\" stroke=\"black\" points=\"386,-102 386,-123 528,-123 528,-102 386,-102\"/>\n",
       "<text text-anchor=\"start\" x=\"441.5\" y=\"-108.8\" font-family=\"Times New Roman,Times,Liberation Serif,serif\" font-size=\"14.00\">name</text>\n",
       "<polygon fill=\"none\" stroke=\"black\" points=\"528,-102 528,-123 616,-123 616,-102 528,-102\"/>\n",
       "<text text-anchor=\"start\" x=\"565\" y=\"-108.8\" font-family=\"Times New Roman,Times,Liberation Serif,serif\" font-size=\"14.00\">str</text>\n",
       "<polygon fill=\"none\" stroke=\"black\" points=\"386,-81 386,-102 528,-102 528,-81 386,-81\"/>\n",
       "<text text-anchor=\"start\" x=\"405.5\" y=\"-87.8\" font-family=\"Times New Roman,Times,Liberation Serif,serif\" font-size=\"14.00\">reactivity_constant</text>\n",
       "<polygon fill=\"none\" stroke=\"black\" points=\"528,-81 528,-102 616,-102 616,-81 528,-81\"/>\n",
       "<text text-anchor=\"start\" x=\"531\" y=\"-87.8\" font-family=\"Times New Roman,Times,Liberation Serif,serif\" font-size=\"14.00\">Optional[float]</text>\n",
       "<polygon fill=\"none\" stroke=\"black\" points=\"386,-60 386,-81 528,-81 528,-60 386,-60\"/>\n",
       "<text text-anchor=\"start\" x=\"389\" y=\"-66.8\" font-family=\"Times New Roman,Times,Liberation Serif,serif\" font-size=\"14.00\">reactivity_constant_error</text>\n",
       "<polygon fill=\"none\" stroke=\"black\" points=\"528,-60 528,-81 616,-81 616,-60 528,-60\"/>\n",
       "<text text-anchor=\"start\" x=\"531\" y=\"-66.8\" font-family=\"Times New Roman,Times,Liberation Serif,serif\" font-size=\"14.00\">Optional[float]</text>\n",
       "<polygon fill=\"none\" stroke=\"black\" points=\"386,-39 386,-60 528,-60 528,-39 386,-39\"/>\n",
       "<text text-anchor=\"start\" x=\"422.5\" y=\"-45.8\" font-family=\"Times New Roman,Times,Liberation Serif,serif\" font-size=\"14.00\">q_parameter</text>\n",
       "<polygon fill=\"none\" stroke=\"black\" points=\"528,-39 528,-60 616,-60 616,-39 528,-39\"/>\n",
       "<text text-anchor=\"start\" x=\"531\" y=\"-45.8\" font-family=\"Times New Roman,Times,Liberation Serif,serif\" font-size=\"14.00\">Optional[float]</text>\n",
       "<polygon fill=\"none\" stroke=\"black\" points=\"386,-18 386,-39 528,-39 528,-18 386,-18\"/>\n",
       "<text text-anchor=\"start\" x=\"423\" y=\"-24.8\" font-family=\"Times New Roman,Times,Liberation Serif,serif\" font-size=\"14.00\">e_parameter</text>\n",
       "<polygon fill=\"none\" stroke=\"black\" points=\"528,-18 528,-39 616,-39 616,-18 528,-18\"/>\n",
       "<text text-anchor=\"start\" x=\"531\" y=\"-24.8\" font-family=\"Times New Roman,Times,Liberation Serif,serif\" font-size=\"14.00\">Optional[float]</text>\n",
       "</a>\n",
       "</g>\n",
       "</g>\n",
       "<!-- __main__.CopolymerizationReaction&#45;&gt;__main__.Monomer -->\n",
       "<g id=\"edge1\" class=\"edge\">\n",
       "<title>__main__.CopolymerizationReaction:e-&gt;__main__.Monomer:w</title>\n",
       "<path fill=\"none\" stroke=\"black\" d=\"M288.12,-134C321.91,-134 336.81,-134 367.64,-134\"/>\n",
       "<polyline fill=\"none\" stroke=\"black\" points=\"278,-134 283,-134 \"/>\n",
       "<polyline fill=\"none\" stroke=\"black\" points=\"283,-134 288,-134 \"/>\n",
       "<polygon fill=\"black\" stroke=\"black\" points=\"376,-134 386,-138.5 381,-134 386,-134 386,-134 386,-134 381,-134 386,-129.5 376,-134 376,-134\"/>\n",
       "<ellipse fill=\"none\" stroke=\"black\" cx=\"372\" cy=\"-134\" rx=\"4\" ry=\"4\"/>\n",
       "</g>\n",
       "</g>\n",
       "</svg>"
      ],
      "text/plain": [
       "<IPython.core.display.SVG object>"
      ]
     },
     "execution_count": 4,
     "metadata": {},
     "output_type": "execute_result"
    }
   ],
   "source": [
    "diagram = erd.create(CopolymerizationReaction)\n",
    "diagram.draw(\"diagram.svg\")\n",
    "SVG(\"diagram.svg\")"
   ]
  },
  {
   "cell_type": "markdown",
   "metadata": {},
   "source": [
    "In this case, we will use PDF files in the form as images as input for the model. To perform this conversion, we import some utilities."
   ]
  },
  {
   "cell_type": "code",
   "execution_count": 5,
   "metadata": {},
   "outputs": [],
   "source": [
    "from pdf2image import convert_from_path\n",
    "from utils import process_image, get_prompt_vision_model"
   ]
  },
  {
   "cell_type": "markdown",
   "metadata": {},
   "source": [
    "The code below only converts each page of the PDF into an image and then generates dictionary objects in a format that can be used by the OpenAI API."
   ]
  },
  {
   "cell_type": "code",
   "execution_count": 6,
   "metadata": {},
   "outputs": [],
   "source": [
    "filepath = \"paper01.pdf\"\n",
    "pdf_images = convert_from_path(filepath)\n",
    "\n",
    "images_base64 = [\n",
    "    process_image(image, 2048, \"images\", filepath, j)[0]\n",
    "    for j, image in enumerate(pdf_images)\n",
    "]\n",
    "images = get_prompt_vision_model(images_base64=images_base64)"
   ]
  },
  {
   "cell_type": "markdown",
   "metadata": {},
   "source": [
    "Armed with the images, we can now use the OpenAI API to extract the text from the images.\n",
    "For this, we just call the API with our prompts and the images."
   ]
  },
  {
   "cell_type": "code",
   "execution_count": 7,
   "metadata": {},
   "outputs": [],
   "source": [
    "completion = client.chat.completions.create(\n",
    "    model=\"gpt-4-turbo\",\n",
    "    response_model=List[CopolymerizationReaction],\n",
    "    max_retries=2,\n",
    "    messages=[\n",
    "        {\n",
    "            \"role\": \"system\",\n",
    "            \"content\": \"\"\"You are a scientific assistant, extracting accurate information about co-polymerization reactions from scientific papers.\n",
    "Do not use data that was reproduced from other sources.\n",
    "If you confuse the reactivity ratios with other numbers, you will be penalized.\n",
    "Monomer names might be quite similar, if you confuse them, you will be penalized.\n",
    "NEVER combine data from different reactions, otherwise you will be penalized.\n",
    "If you are unsure, return no data. Quality is more important than quantity.\n",
    "\"\"\",\n",
    "        },\n",
    "        {\n",
    "            \"role\": \"user\",\n",
    "            \"content\": \"\"\"Extract the data from the paper into the provided data schema. We want an iterable of reaction objects and each reaction will be its own object. You can find each page of the paper as an image below.\n",
    "The relationship between monomers and parameters is typically indicated by subscripts that can be a number or an abbreviation of the monomer.\n",
    "Never return data that you are not absolutely sure about! You will be penalized for incorrect data.\"\"\",\n",
    "        },\n",
    "        {\"role\": \"user\", \"content\": [*images]},\n",
    "    ],\n",
    "    temperature=0,\n",
    ")"
   ]
  },
  {
   "cell_type": "code",
   "execution_count": 8,
   "metadata": {},
   "outputs": [
    {
     "data": {
      "text/plain": [
       "[CopolymerizationReaction(temperature=60.0, temperature_unit='C', solvent='carbon tetrachloride', initiator='AIBN', monomers=[Monomer(name='methacrylic acid', reactivity_constant=0.54, reactivity_constant_error=0.01, q_parameter=None, e_parameter=None), Monomer(name='styrene', reactivity_constant=0.06, reactivity_constant_error=0.03, q_parameter=None, e_parameter=None)], polymerization_type='solution', determination_method='Kelen-Tudos'),\n",
       " CopolymerizationReaction(temperature=60.0, temperature_unit='C', solvent='chloroform', initiator='AIBN', monomers=[Monomer(name='methacrylic acid', reactivity_constant=0.51, reactivity_constant_error=0.01, q_parameter=None, e_parameter=None), Monomer(name='styrene', reactivity_constant=0.08, reactivity_constant_error=0.03, q_parameter=None, e_parameter=None)], polymerization_type='solution', determination_method='Kelen-Tudos'),\n",
       " CopolymerizationReaction(temperature=60.0, temperature_unit='C', solvent='acetone', initiator='AIBN', monomers=[Monomer(name='methacrylic acid', reactivity_constant=0.43, reactivity_constant_error=0.0, q_parameter=None, e_parameter=None), Monomer(name='styrene', reactivity_constant=0.65, reactivity_constant_error=0.02, q_parameter=None, e_parameter=None)], polymerization_type='solution', determination_method='Kelen-Tudos'),\n",
       " CopolymerizationReaction(temperature=60.0, temperature_unit='C', solvent='1,4-dioxane', initiator='AIBN', monomers=[Monomer(name='methacrylic acid', reactivity_constant=0.41, reactivity_constant_error=0.02, q_parameter=None, e_parameter=None), Monomer(name='styrene', reactivity_constant=0.59, reactivity_constant_error=0.05, q_parameter=None, e_parameter=None)], polymerization_type='solution', determination_method='Kelen-Tudos'),\n",
       " CopolymerizationReaction(temperature=60.0, temperature_unit='C', solvent='acetonitrile', initiator='AIBN', monomers=[Monomer(name='methacrylic acid', reactivity_constant=0.06, reactivity_constant_error=0.02, q_parameter=None, e_parameter=None), Monomer(name='styrene', reactivity_constant=0.29, reactivity_constant_error=0.0, q_parameter=None, e_parameter=None)], polymerization_type='solution', determination_method='Kelen-Tudos')]"
      ]
     },
     "execution_count": 8,
     "metadata": {},
     "output_type": "execute_result"
    }
   ],
   "source": [
    "completion"
   ]
  },
  {
   "cell_type": "code",
   "execution_count": null,
   "metadata": {},
   "outputs": [],
   "source": []
  },
  {
   "cell_type": "code",
   "execution_count": null,
   "metadata": {},
   "outputs": [],
   "source": []
  }
 ],
 "metadata": {
  "kernelspec": {
   "display_name": "structdata",
   "language": "python",
   "name": "python3"
  },
  "language_info": {
   "codemirror_mode": {
    "name": "ipython",
    "version": 3
   },
   "file_extension": ".py",
   "mimetype": "text/x-python",
   "name": "python",
   "nbconvert_exporter": "python",
   "pygments_lexer": "ipython3",
   "version": "3.11.9"
  }
 },
 "nbformat": 4,
 "nbformat_minor": 2
}
