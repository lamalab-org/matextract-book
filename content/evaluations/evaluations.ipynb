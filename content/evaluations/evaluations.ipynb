{
 "cells": [
  {
   "cell_type": "markdown",
   "metadata": {},
   "source": [
    "# Evaluations"
   ]
  },
  {
   "cell_type": "markdown",
   "metadata": {},
   "source": [
    "Every extraction task needs a good way to evaluate whether the extracted data is correct and give it a score of how correct it is. The goal is to quantify the extraction pipeline's (model's) performance. With partial scores giving insight on how correct a data point is, usually between 0 and 1, the pipeline can be improved by fixing any edge cases or errors found by comparing lower scored data points."
   ]
  },
  {
   "cell_type": "markdown",
   "metadata": {},
   "source": [
    "### Imports\n",
    "We import all required libraries at the start here."
   ]
  },
  {
   "cell_type": "code",
   "execution_count": 1,
   "metadata": {},
   "outputs": [],
   "source": [
    "import json\n",
    "from statistics import mean\n",
    "from pint import UnitRegistry"
   ]
  },
  {
   "cell_type": "markdown",
   "metadata": {},
   "source": [
    "### Simple example data\n",
    "\n",
    "To start of with a simple example, we define a set of key-value pairs as our ground truth and a dummy output from the model as prediction."
   ]
  },
  {
   "cell_type": "code",
   "execution_count": 2,
   "metadata": {},
   "outputs": [],
   "source": [
    "truth = {\n",
    "    \"text\": \"result\",\n",
    "    \"correct\": \"correct\",\n",
    "    \"number\": 0.45,\n",
    "    \"wrong\": 1.023,\n",
    "    \"bool\": False,\n",
    "    \"missing\": 0,\n",
    "}\n",
    "prediction = {\n",
    "    \"text\": \"result\",\n",
    "    \"correct\": \"incorrect\",\n",
    "    \"number\": 0.45,\n",
    "    \"wrong\": 1.025,\n",
    "    \"bull\": False,\n",
    "}"
   ]
  },
  {
   "cell_type": "markdown",
   "metadata": {},
   "source": [
    "### Scoring a Key-Value pair\n",
    "\n",
    "To properly evaluate a structured output from a model, we have to walk through the structure of the ground truth and the output simultaneously. We have to check every value we were expecting the model to return and count how many of these are correct.\n",
    "With the count of the correct keys, we can calculate our metrics:\n",
    "\n",
    "\n",
    "$$\n",
    "\\mathrm{precision} = \\frac{|{\\text{relevant entries}} \\cap {\\text{retrieved entries}}| }{|{\\text{retrieved entries}}|}\n",
    "$$\n",
    "\n",
    "$$\n",
    "\\mathrm{recall} = \\frac{|{\\text{relevant entries}} \\cap {\\text{retrieved entries}}| }{|{\\text{relevant entries}}|}\n",
    "$$\n",
    "\n",
    "$$\n",
    "F_1 = \\frac{2}{\\mathrm{recall}^{-1} + \\mathrm{precision}^{-1}}\n",
    "$$"
   ]
  },
  {
   "cell_type": "code",
   "execution_count": 3,
   "metadata": {},
   "outputs": [
    {
     "name": "stdout",
     "output_type": "stream",
     "text": [
      "Recall: 0.33\n",
      "Precision: 0.40\n"
     ]
    }
   ],
   "source": [
    "relevant_entries_intersection_retrieved_entries = []\n",
    "for t_key in truth:\n",
    "    if t_key in prediction:\n",
    "        if truth[t_key] == prediction[t_key]:\n",
    "            relevant_entries_intersection_retrieved_entries.append(t_key)\n",
    "recall = len(relevant_entries_intersection_retrieved_entries) / len(truth.keys())\n",
    "precision = len(relevant_entries_intersection_retrieved_entries) / len(\n",
    "    prediction.keys()\n",
    ")\n",
    "print(f\"Recall: {recall:.2f}\\nPrecision: {precision:.2f}\")"
   ]
  },
  {
   "cell_type": "markdown",
   "metadata": {},
   "source": [
    "## Evaluation of results from the choosing a learning paradigm chapter"
   ]
  },
  {
   "cell_type": "markdown",
   "metadata": {},
   "source": [
    "Using those scores, we can now revisit the results from our previous experiments in the [Choosing a learning paradigm chapter](choosing-paradigm-openai-results)."
   ]
  },
  {
   "cell_type": "markdown",
   "metadata": {},
   "source": [
    "### Loading the results\n",
    "We will use the responses from GPT-4o. We will read the JSON file that has both the predicted structured output and the expected reference ground truth."
   ]
  },
  {
   "cell_type": "code",
   "execution_count": 4,
   "metadata": {},
   "outputs": [],
   "source": [
    "with open(\"../finetune/OpenAI_results.json\", \"r\") as f:\n",
    "    open_ai_results = json.load(f)\n",
    "    truths = open_ai_results[\"1-shot\"][\"references\"]\n",
    "    predictions = open_ai_results[\"1-shot\"][\"predictions\"]\n",
    "    # We convert the output from a JSON str to a dict object\n",
    "    truths = [json.loads(truth) for truth in truths]\n",
    "    predictions = [\n",
    "        json.loads(prediction[prediction.index(\"{\") : prediction.rindex(\"}\") + 1])\n",
    "        for prediction in predictions\n",
    "    ]"
   ]
  },
  {
   "cell_type": "markdown",
   "metadata": {},
   "source": [
    "### Defining common functions for later use"
   ]
  },
  {
   "cell_type": "code",
   "execution_count": 5,
   "metadata": {},
   "outputs": [],
   "source": [
    "def common_items(dict1, dict2):\n",
    "    \"\"\"Finds common keys between two dicts and yields if the values are equal.\"\"\"\n",
    "    for key in dict1:\n",
    "        if key in dict2:\n",
    "            if isinstance(dict1[key], dict) and isinstance(dict2[key], dict):\n",
    "                for subkey, subvalue in common_items(dict1[key], dict2[key]):\n",
    "                    yield f\"{key}.{subkey}\", subvalue\n",
    "            elif isinstance(dict1[key], list) and isinstance(dict2[key], list):\n",
    "                for item1 in dict1[key]:\n",
    "                    for item2 in dict2[key]:\n",
    "                        if isinstance(item1, dict) and isinstance(item2, dict):\n",
    "                            for subkey, subvalue in common_items(item1, item2):\n",
    "                                yield f\"{key}.[].{subkey}\", subvalue\n",
    "            elif dict1[key] == dict2[key]:\n",
    "                yield key, dict1[key]\n",
    "\n",
    "\n",
    "def count_correct_items(dict1, dict2):\n",
    "    \"\"\"Counts the common keys between two dicts and returns the count.\"\"\"\n",
    "    return len([correct for correct in common_items(dict1, dict2)])\n",
    "\n",
    "\n",
    "def count_leaf_keys(d):\n",
    "    \"\"\"Counts the number of keys at the deepest levels (leaf) of an arbitrarily nested dict\"\"\"\n",
    "    if isinstance(d, dict):\n",
    "        count = 0\n",
    "        for value in d.values():\n",
    "            count += count_leaf_keys(value)\n",
    "        return count\n",
    "    elif isinstance(d, list):\n",
    "        count = 0\n",
    "        for item in d:\n",
    "            count += count_leaf_keys(item)\n",
    "        return count\n",
    "    else:\n",
    "        return 1"
   ]
  },
  {
   "cell_type": "markdown",
   "metadata": {},
   "source": [
    "### Evaluation of the results"
   ]
  },
  {
   "cell_type": "markdown",
   "metadata": {},
   "source": [
    "```{warning}\n",
    "\n",
    "The code below assumes that the `truths` and `predictions` are already matched. \n",
    "If you run extraction using a model, this is not the case in general. \n",
    "\n",
    "In this case, you will need to match the ground truth with the prediction.\n",
    "This is explained in a section below.\n",
    "```"
   ]
  },
  {
   "cell_type": "code",
   "execution_count": 6,
   "metadata": {},
   "outputs": [
    {
     "name": "stdout",
     "output_type": "stream",
     "text": [
      "Recall: 0.30\n",
      "Precision: 0.30\n"
     ]
    }
   ],
   "source": [
    "recalls = []\n",
    "precisions = []\n",
    "for i, truth in enumerate(truths):\n",
    "    prediction = predictions[i]\n",
    "    num_correct_items = count_correct_items(truth, prediction)\n",
    "    recalls.append(num_correct_items / count_leaf_keys(truth))\n",
    "    precisions.append(num_correct_items / count_leaf_keys(prediction))\n",
    "\n",
    "recall = mean(recalls)\n",
    "precision = mean(precisions)\n",
    "print(f\"Recall: {recall:.2f}\\nPrecision: {precision:.2f}\")"
   ]
  },
  {
   "cell_type": "markdown",
   "metadata": {
    "vscode": {
     "languageId": "plaintext"
    }
   },
   "source": [
    "```{note}\n",
    "The variable `truth` is the manually curated reference extraction and `prediction` is what the LLM returns through the pipeline.\n",
    "```"
   ]
  },
  {
   "cell_type": "markdown",
   "metadata": {},
   "source": [
    "#### F1 score"
   ]
  },
  {
   "cell_type": "code",
   "execution_count": 7,
   "metadata": {},
   "outputs": [
    {
     "name": "stdout",
     "output_type": "stream",
     "text": [
      "F1 score: 0.30\n"
     ]
    }
   ],
   "source": [
    "f1_score = 2 / ((1 / recall) + (1 / precision))\n",
    "print(f\"F1 score: {f1_score:.2f}\")"
   ]
  },
  {
   "cell_type": "markdown",
   "metadata": {},
   "source": [
    "`````{admonition} LLM-as-Judge\n",
    ":class: tip\n",
    "For certain applications, it is possible to use an LLM as the evaluator, which is probably one of the easiest ways to implement some evaluations. However, as {cite:t}`shankar2024validatesvalidatorsaligningllmassisted` states, the evaluator model have all the problems of the LLM used for extraction, so it is not always the best approach, and to have a good evaluation, it is necessary to [align the LLM-as-Judge with the preferences of a human evaluator](https://hamel.dev/blog/posts/llm-judge/#step-5-build-your-llm-as-a-judge-iteratively).\n",
    "`````"
   ]
  },
  {
   "cell_type": "markdown",
   "metadata": {},
   "source": [
    "### Matching to ground truth"
   ]
  },
  {
   "cell_type": "markdown",
   "metadata": {},
   "source": [
    "If we look at the inputs section of our data, we realize that the evaluation of the extraction can be more complex than one might expect: \n",
    "\n",
    "- First, we have to deal with the fact that some values are chemicals. This is problematic as there are typically many equivalent ways of naming the same chemical. In naive socring this will lead to problems. \n",
    "For instance, our ground truth might contain \"aspirin\" but we extracted \"2-acetoxybenzoic acid\" (the IUPAC name). A string matching would not identify those two names to be the same -- even though they refer to the same chemical.\n",
    "\n",
    "- If we extract data, there might be multiple entries that are almost the same. In addition, the model might miss extracting some entries or hallucinate some. For our evaluations, we must decide what to compare (i.e., which extracted entry to compare with which entry from the ground truth). \n",
    "This requires us to *match* the extracted entry with the ground truth entry."
   ]
  },
  {
   "cell_type": "markdown",
   "metadata": {},
   "source": [
    "The code above assumed that `truths` and `predictions` are the same length and already such that each item `i` in `truths` matches to item `i` in `predictions`. \n",
    "As we just described, this is not the case in general, and we have to find the closet extraction for a given element of `truths` to perform a meaningful evaluation. \n",
    "\n",
    "In the following, we will do this based on the `inputs` section of the data. As a first approximation, we will say that a ground truth \"matches\" an extraction result if it is the most similar from all extraction results. To solve this for all the elements of the extraction, we use the `deepdiff` library to measure how similar two dictionaries are, and then use the [Kuhn-Munkres algorithm](https://en.wikipedia.org/wiki/Hungarian_algorithm) to find the optimal assignments between ground truth and extraction.\n",
    "\n",
    "Note that in practice it is often better to not perform the matching on the entire extracted output but only on what one can define as an \"identifier\" of an entry. \n",
    "For materials, this can be properties that might be a canonicalized representation of the material. For reactions, this might be the canonicalized reaction SMILES with condition information."
   ]
  },
  {
   "cell_type": "markdown",
   "metadata": {},
   "source": [
    "```{admonition} The DeepDiff algorithm\n",
    ":class: note dropdown\n",
    "The [Deep Distance concept in DeepDiff](https://zepworks.com/deepdiff/current/deep_distance.html) is inspired by [Levenshtein Edit Distance](https://en.wikipedia.org/wiki/Levenshtein_distance), but it's not the same. \n",
    "\n",
    "The Levenshtein distance is a metric used to measure the difference between two sequences (usually strings). \n",
    "It's defined as the minimum number of single-character edits (insertions, deletions, or substitutions) required to change one word into another. \n",
    "For example, the Levenshtein distance between \"kitten\" and \"sitting\" is 3, as it takes three edits to transform one into the other.\n",
    "DeepDiff's Deep Distance differs from Levenshtein distance in a few key ways:\n",
    "\n",
    "- It works on any Python objects, not just strings.\n",
    "- It's based on the number of operations needed to convert one object to another, not necessarily the minimum number.\n",
    "- The result is normalized to a value between 0 and 1.\n",
    "- The calculation is highly dependent on the granularity of the diff results, which can be controlled by parameters passed to DeepDiff. One element of the granularity is, for example, how the algorithm deals with the comparison of iterables such as list (e.g., if the order is ignored or not).\n",
    "```"
   ]
  },
  {
   "cell_type": "markdown",
   "metadata": {},
   "source": [
    "```{admonition} The Kuhn-Munkres algorithm \n",
    ":class: note dropdown\n",
    "\n",
    "The [Kuhn-Munkres algorithm](https://en.wikipedia.org/wiki/Hungarian_algorithm) is used to solve the assignment problem, which is about finding the optimal way to assign $n$ items to $n$ other items (e.g., tasks to workers) in a way that minimizes the total cost or maximizes the total profit.\n",
    "Key points about the Kuhn-Munkres algorithm:\n",
    "\n",
    "- Purpose: It finds a perfect matching in a weighted bipartite graph that minimizes the total weight of the matching.\n",
    "- Input: A cost matrix where each element represents the cost of assigning one item to another.\n",
    "- Output: An optimal assignment that minimizes the total cost.\n",
    "- Time Complexity: $\\mathcal{O}(n^3)$, where $n$ is the number of vertices in one partition of the bipartite graph.\n",
    "- Optimality: It guarantees finding the optimal solution.\n",
    "\n",
    "### Process:\n",
    "Imagine you're planning a party game where you need to pair up kids with party hats. Each kid has a preference score for each hat, and you want to make everyone as happy as possible.\n",
    "Here's how the Hungarian algorithm would solve this:\n",
    "\n",
    "1. Setup:\n",
    "\n",
    "    Make a grid (matrix) where rows are kids and columns are hats.\n",
    "    Each cell has a \"sadness score\" - how sad a kid would be wearing that hat (lower is better).\n",
    "\n",
    "\n",
    "2. Find the Cheapest Hats:\n",
    "\n",
    "    For each kid, find their favorite hat (lowest sadness score).\n",
    "    Write down how sad they'd be with that hat.\n",
    "\n",
    "\n",
    "3. Try Matching:\n",
    "\n",
    "    Try to give each kid their favorite hat.\n",
    "    If every kid gets a unique hat, you're done! If not, move to step 4.\n",
    "\n",
    "\n",
    "4. Detective Work:\n",
    "\n",
    "    Start with a kid who didn't get a hat.\n",
    "    Look for a path to swap hats so this kid gets one:\n",
    "\n",
    "    Can they take someone else's favorite hat?\n",
    "    Can that someone take another hat they like?\n",
    "    Keep going until you find an unused hat.\n",
    "\n",
    "\n",
    "    If you find such a path, do the swaps and go back to step 3.\n",
    "    If not, move to step 5.\n",
    "\n",
    "\n",
    "5. Adjust Expectations:\n",
    "\n",
    "    If you can't find a swapping path, slightly increase everyone's sadness tolerance.\n",
    "    This makes more hat options available.\n",
    "    Go back to step 4 and try again.\n",
    "\n",
    "\n",
    "6. Repeat:\n",
    "\n",
    "    Keep doing steps 4 and 5 until everyone has a hat.\n",
    "\n",
    "\n",
    "In programming language: \n",
    "\n",
    "- The \"sadness scores\" form the cost matrix.\n",
    "- The \"favorite hats\" step is creating initial feasible labeling.\n",
    "- The \"swapping path\" is an augmenting path in graph theory.\n",
    "- \"Adjusting expectations\" is the label update step.\n",
    "- The algorithm always finds the optimal solution in polynomial time ($\\mathcal{O}(n^3)$).\n",
    "\n",
    "You'd implement this with matrices and graph algorithms.\n",
    "Use data structures like priority queues for efficiency.\n",
    "The core loop involves depth-first search (for augmenting paths) and matrix operations.\n",
    "\n",
    "This algorithm is powerful because it always finds the best overall matching, not just good individual matches. \n",
    "```"
   ]
  },
  {
   "cell_type": "code",
   "execution_count": 8,
   "metadata": {},
   "outputs": [],
   "source": [
    "from deepdiff import DeepDiff\n",
    "\n",
    "recalls = []\n",
    "precisions = []\n",
    "\n",
    "# Here we use a 2d matrix to store the distance between each ground truth and prediction\n",
    "# as distance, we use DeepDiff to calculate the distance\n",
    "scores = []\n",
    "for i, truth in enumerate(truths):\n",
    "    scores_ = []\n",
    "    for prediction in predictions:\n",
    "        scores_.append(\n",
    "            DeepDiff(\n",
    "                truth,\n",
    "                prediction,\n",
    "                ignore_order=True,\n",
    "                get_deep_distance=True,\n",
    "                ignore_numeric_type_changes=True,\n",
    "                cache_size=5000,\n",
    "                cutoff_intersection_for_pairs=1,\n",
    "            )[\"deep_distance\"]\n",
    "        )\n",
    "\n",
    "    scores.append(scores_)"
   ]
  },
  {
   "cell_type": "markdown",
   "metadata": {},
   "source": [
    "The scores matrix is a 2d matrix of size (`len(truths)`, `len(predictions)`) and tells us how similar each truth is to each prediction."
   ]
  },
  {
   "cell_type": "code",
   "execution_count": 9,
   "metadata": {},
   "outputs": [
    {
     "data": {
      "text/plain": [
       "<matplotlib.image.AxesImage at 0x1227ff8e0>"
      ]
     },
     "execution_count": 9,
     "metadata": {},
     "output_type": "execute_result"
    },
    {
     "data": {
      "image/png": "[encoded data removed]",
      "text/plain": [
       "<Figure size 400x400 with 1 Axes>"
      ]
     },
     "metadata": {},
     "output_type": "display_data"
    }
   ],
   "source": [
    "import matplotlib.pyplot as plt\n",
    "\n",
    "\n",
    "plt.matshow(scores, cmap=\"hot\", interpolation=\"nearest\")"
   ]
  },
  {
   "cell_type": "markdown",
   "metadata": {},
   "source": [
    "If the items were perfectly matched, we would get a diagonal matrix."
   ]
  },
  {
   "cell_type": "code",
   "execution_count": 10,
   "metadata": {},
   "outputs": [],
   "source": [
    "from munkres import Munkres\n",
    "\n",
    "m = Munkres()  # We will use the Kuhn-Munkres algorithm for our matching\n",
    "indexes = m.compute(scores)  # We find the best matching scores for each key"
   ]
  },
  {
   "cell_type": "markdown",
   "metadata": {},
   "source": [
    "The indices returned by the Kuhn-Munkres algorithm tell us the best assignment ground truth and prediction."
   ]
  },
  {
   "cell_type": "code",
   "execution_count": 11,
   "metadata": {},
   "outputs": [
    {
     "data": {
      "text/plain": [
       "[(0, 91),\n",
       " (1, 1),\n",
       " (2, 2),\n",
       " (3, 60),\n",
       " (4, 4),\n",
       " (5, 5),\n",
       " (6, 6),\n",
       " (7, 7),\n",
       " (8, 8),\n",
       " (9, 9),\n",
       " (10, 77),\n",
       " (11, 11),\n",
       " (12, 12),\n",
       " (13, 13),\n",
       " (14, 66),\n",
       " (15, 15),\n",
       " (16, 16),\n",
       " (17, 17),\n",
       " (18, 18),\n",
       " (19, 0),\n",
       " (20, 20),\n",
       " (21, 21),\n",
       " (22, 19),\n",
       " (23, 23),\n",
       " (24, 68),\n",
       " (25, 25),\n",
       " (26, 47),\n",
       " (27, 27),\n",
       " (28, 28),\n",
       " (29, 29),\n",
       " (30, 30),\n",
       " (31, 31),\n",
       " (32, 24),\n",
       " (33, 33),\n",
       " (34, 38),\n",
       " (35, 35),\n",
       " (36, 52),\n",
       " (37, 37),\n",
       " (38, 34),\n",
       " (39, 39),\n",
       " (40, 40),\n",
       " (41, 41),\n",
       " (42, 42),\n",
       " (43, 43),\n",
       " (44, 44),\n",
       " (45, 45),\n",
       " (46, 46),\n",
       " (47, 36),\n",
       " (48, 48),\n",
       " (49, 49),\n",
       " (50, 50),\n",
       " (51, 51),\n",
       " (52, 84),\n",
       " (53, 53),\n",
       " (54, 54),\n",
       " (55, 55),\n",
       " (56, 56),\n",
       " (57, 57),\n",
       " (58, 58),\n",
       " (59, 59),\n",
       " (60, 3),\n",
       " (61, 61),\n",
       " (62, 22),\n",
       " (63, 63),\n",
       " (64, 64),\n",
       " (65, 65),\n",
       " (66, 72),\n",
       " (67, 67),\n",
       " (68, 14),\n",
       " (69, 69),\n",
       " (70, 70),\n",
       " (71, 71),\n",
       " (72, 93),\n",
       " (73, 73),\n",
       " (74, 74),\n",
       " (75, 75),\n",
       " (76, 76),\n",
       " (77, 10),\n",
       " (78, 32),\n",
       " (79, 79),\n",
       " (80, 80),\n",
       " (81, 81),\n",
       " (82, 82),\n",
       " (83, 83),\n",
       " (84, 78),\n",
       " (85, 85),\n",
       " (86, 86),\n",
       " (87, 98),\n",
       " (88, 88),\n",
       " (89, 89),\n",
       " (90, 90),\n",
       " (91, 62),\n",
       " (92, 92),\n",
       " (93, 26),\n",
       " (94, 94),\n",
       " (95, 95),\n",
       " (96, 96),\n",
       " (97, 97),\n",
       " (98, 87),\n",
       " (99, 99)]"
      ]
     },
     "execution_count": 11,
     "metadata": {},
     "output_type": "execute_result"
    }
   ],
   "source": [
    "indexes"
   ]
  },
  {
   "cell_type": "markdown",
   "metadata": {},
   "source": [
    "With those, we can now recompute the recall and precision."
   ]
  },
  {
   "cell_type": "code",
   "execution_count": 12,
   "metadata": {},
   "outputs": [
    {
     "name": "stdout",
     "output_type": "stream",
     "text": [
      "Recall: 0.31\n",
      "Precision: 0.30\n"
     ]
    }
   ],
   "source": [
    "# Once we have the indexes of the matches, we collect the pairs in one list object\n",
    "recalls = []\n",
    "precisions = []\n",
    "\n",
    "for i, j in indexes:\n",
    "    truth = truths[i]\n",
    "    prediction = predictions[j]\n",
    "\n",
    "    num_correct_items = count_correct_items(truth, prediction)\n",
    "    recalls.append(num_correct_items / count_leaf_keys(truth))\n",
    "    precisions.append(num_correct_items / count_leaf_keys(prediction))\n",
    "\n",
    "recall = mean(recalls)\n",
    "precision = mean(precisions)\n",
    "print(f\"Recall: {recall:.2f}\\nPrecision: {precision:.2f}\")"
   ]
  },
  {
   "cell_type": "markdown",
   "metadata": {},
   "source": [
    "### Data normalization\n",
    "\n",
    "Sometimes the data you have in the ground truth could be normalized to a certain format. For example, all units could be converted to SI units. The original text might have them in different units. In such a situation, it is essential to convert the prediction from the model to our required units before checking those keys.\n",
    "\n",
    "Let's take a **truth** and **prediction** consisting of values and units:"
   ]
  },
  {
   "cell_type": "code",
   "execution_count": 13,
   "metadata": {},
   "outputs": [],
   "source": [
    "truth = {\"mass\": {\"value\": 22.0, \"unit\": \"g\"}}\n",
    "\n",
    "prediction = {\"mass\": {\"value\": 22000.0, \"unit\": \"mg\"}}"
   ]
  },
  {
   "cell_type": "markdown",
   "metadata": {},
   "source": [
    "Now, we can parse the prediction with **pint** and normalize the values to SI units."
   ]
  },
  {
   "cell_type": "code",
   "execution_count": 14,
   "metadata": {},
   "outputs": [
    {
     "name": "stdout",
     "output_type": "stream",
     "text": [
      "Converting 22000.0 mg\n",
      "to 22.0 gram\n"
     ]
    }
   ],
   "source": [
    "ureg = UnitRegistry()\n",
    "text_representation_of_value = (\n",
    "    str(prediction[\"mass\"][\"value\"]) + \" \" + prediction[\"mass\"][\"unit\"]\n",
    ")\n",
    "print(\"Converting\", text_representation_of_value)\n",
    "normalized_pint_quantity = ureg(text_representation_of_value).to(\"g\")\n",
    "print(\"to\", normalized_pint_quantity)"
   ]
  },
  {
   "cell_type": "markdown",
   "metadata": {},
   "source": [
    "Now we can check the magnitudes of our truth value and our normalized predicted value."
   ]
  },
  {
   "cell_type": "code",
   "execution_count": 15,
   "metadata": {},
   "outputs": [
    {
     "name": "stdout",
     "output_type": "stream",
     "text": [
      "Predicted value is correct.\n"
     ]
    }
   ],
   "source": [
    "if truth[\"mass\"][\"value\"] == normalized_pint_quantity.magnitude:\n",
    "    print(\"Predicted value is correct.\")"
   ]
  },
  {
   "cell_type": "markdown",
   "metadata": {},
   "source": [
    "#### Chemically informed normalization\n",
    "\n",
    "When we extract chemical or materials science data, the entities can often be representation in many equivalent forms. \n",
    "To address this, one most normalized the representations prior to performing any evaluation.\n",
    "\n",
    "\n",
    "##### Organics\n",
    "When we are trying to extract chemical formulas (as the reagents in our example), they could be reported in various forms. \n",
    "To make sure we got the expected value regardless of what form it's represented in, we can convert them to their SMILES representation. This is important to make sure we have the right information and not score incorrectly.\n",
    "\n",
    "Here, we set up example extractions from a model and show how to get their SMILES before validation. Note that this is essential because a string distance (that we used above) between common names and SMILES would make no sense. Here we must normalize the entries before we can compute any meaningful score."
   ]
  },
  {
   "cell_type": "code",
   "execution_count": 16,
   "metadata": {},
   "outputs": [
    {
     "name": "stderr",
     "output_type": "stream",
     "text": [
      "/Users/kevinmaikjablonka/miniconda3/envs/dataextract2/lib/python3.9/site-packages/tqdm/auto.py:21: TqdmWarning: IProgress not found. Please update jupyter and ipywidgets. See https://ipywidgets.readthedocs.io/en/stable/user_install.html\n",
      "  from .autonotebook import tqdm as notebook_tqdm\n"
     ]
    },
    {
     "name": "stdout",
     "output_type": "stream",
     "text": [
      "Recall: 0.80\n",
      "Precision: 1.00\n"
     ]
    }
   ],
   "source": [
    "from matextract.utils import name_to_smiles\n",
    "from rdkit import Chem\n",
    "\n",
    "\n",
    "def canonical_smiles(smiles):\n",
    "    return Chem.MolToSmiles(Chem.MolFromSmiles(smiles))\n",
    "\n",
    "\n",
    "truth = {\"solvents\": [\"CCCO\", \"CC(C)O\", \"CC(C)=O\", \"CC(=O)O\", \"C=O\"]}\n",
    "\n",
    "prediction = {\"solvents\": [\"propanol\", \"isopropanol\", \"Propanone\", \"Ethanoic acid\"]}\n",
    "\n",
    "predictions_as_smiles = {\n",
    "    \"solvents\": [name_to_smiles(solvent) for solvent in prediction[\"solvents\"]]\n",
    "}\n",
    "\n",
    "truth_canonical = [canonical_smiles(solvent) for solvent in truth[\"solvents\"]]\n",
    "predictions_as_smiles_canonical = [\n",
    "    canonical_smiles(solvent) for solvent in predictions_as_smiles[\"solvents\"]\n",
    "]\n",
    "\n",
    "\n",
    "number_of_values_correct = set(truth_canonical) & set(predictions_as_smiles_canonical)\n",
    "\n",
    "number_of_values_correct = len(number_of_values_correct)\n",
    "\n",
    "precision = number_of_values_correct / len(predictions_as_smiles[\"solvents\"])\n",
    "recall = number_of_values_correct / len(truth[\"solvents\"])\n",
    "print(f\"Recall: {recall:.2f}\\nPrecision: {precision:.2f}\")"
   ]
  },
  {
   "cell_type": "markdown",
   "metadata": {},
   "source": [
    "##### Inorganics\n",
    "\n",
    "Also for inorganic materials there is a need for normalization. For example, formulas might be reported in the Hill or IUPAC system, or just as a reduced empirical formula."
   ]
  },
  {
   "cell_type": "code",
   "execution_count": 18,
   "metadata": {},
   "outputs": [
    {
     "name": "stdout",
     "output_type": "stream",
     "text": [
      "Recall: 0.60\n",
      "Precision: 0.75\n"
     ]
    }
   ],
   "source": [
    "from pymatgen.core import Composition\n",
    "\n",
    "truth = {\"inorganics\": [\"SiC2\", \"CaCO3\", \"NaCN\", \"CO\", \"HCL\"]}\n",
    "\n",
    "prediction = {\"inorganics\": [\"C2 Si\", \"C Ca O3\", \"Na1 C1 N1\", \"C1 O6\"]}\n",
    "\n",
    "predictions_as_reduced_formula = {\n",
    "    \"inorganics\": [\n",
    "        Composition(inorganic).reduced_formula for inorganic in prediction[\"inorganics\"]\n",
    "    ]\n",
    "}\n",
    "\n",
    "number_of_values_correct = len(\n",
    "    [\n",
    "        inorganic\n",
    "        for inorganic in truth[\"inorganics\"]\n",
    "        if inorganic in predictions_as_reduced_formula[\"inorganics\"]\n",
    "    ]\n",
    ")\n",
    "\n",
    "precision = number_of_values_correct / len(predictions_as_reduced_formula[\"inorganics\"])\n",
    "recall = number_of_values_correct / len(truth[\"inorganics\"])\n",
    "print(f\"Recall: {recall:.2f}\\nPrecision: {precision:.2f}\")"
   ]
  }
 ],
 "metadata": {
  "kernelspec": {
   "display_name": "Python 3 (ipykernel)",
   "language": "python",
   "name": "python3"
  },
  "language_info": {
   "codemirror_mode": {
    "name": "ipython",
    "version": 3
   },
   "file_extension": ".py",
   "mimetype": "text/x-python",
   "name": "python",
   "nbconvert_exporter": "python",
   "pygments_lexer": "ipython3",
   "version": "3.9.19"
  }
 },
 "nbformat": 4,
 "nbformat_minor": 4
}
