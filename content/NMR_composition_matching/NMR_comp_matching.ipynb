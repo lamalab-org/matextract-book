{
 "cells": [
  {
   "cell_type": "markdown",
   "id": "f24071c48e59823",
   "metadata": {},
   "source": [
    "# Validation case study: Matching NMR spectra to composition of the molecule"
   ]
  },
  {
   "cell_type": "markdown",
   "id": "fb63fce30f50260c",
   "metadata": {},
   "source": [
    "Following data extraction, it is crucial to implement automated checks to ensure the validity of the extracted data. One effective validation method involves matching the extracted NMR spectra to the corresponding analyzed molecule. This process compares the number of protons and peaks in the molecule's theoretical NMR spectra with those in the extracted NMR spectra. This approach is similar to that employed by {cite:t}`Patiny_2023`.\n",
    "\n",
    "In this notebook, we demonstrate an example of how to perform this automated validation check. By implementing such checks, researchers can significantly enhance the reliability and accuracy of their extracted spectroscopic data, thereby improving the overall quality of their analyses. "
   ]
  },
  {
   "cell_type": "markdown",
   "id": "4d44a326cf54b62d",
   "metadata": {},
   "source": [
    "### Data extraction\n",
    "\n",
    "The first step in our process involves extracting the NMR spectra and the analyzed molecule using a Large Language Model (LLM). To accomplish this, we developed a basic prompt that includes the desired information and the content of the article. As a result, we obtain the names of the molecules and the NMR spectra of all included molecules in a structured JSON format.\n",
    "\n",
    "We will start using data from an article that we obtained from the API of a publisher in XML format."
   ]
  },
  {
   "cell_type": "markdown",
   "id": "dbfcbd62",
   "metadata": {},
   "source": [
    "We first define some logic to call the LLM."
   ]
  },
  {
   "cell_type": "code",
   "execution_count": 1,
   "id": "175ee4a23a80d965",
   "metadata": {
    "ExecuteTime": {
     "end_time": "2024-07-03T12:28:26.761384Z",
     "start_time": "2024-07-03T12:28:18.755128Z"
    }
   },
   "outputs": [],
   "source": [
    "import matextract  # noqa: F401\n",
    "from litellm import completion\n",
    "import json\n",
    "\n",
    "\n",
    "# Add the content of the XML file to the prompt\n",
    "def format_prompt(template: str, data: dict) -> str:\n",
    "    return template.format(**data)\n",
    "\n",
    "\n",
    "# Define the function to call the LiteLLM API\n",
    "def call_litellm(\n",
    "    prompt: str, model: str = \"gpt-4o\", temperature: float = 0.0, **kwargs\n",
    ") -> tuple:\n",
    "    \"\"\"Call LiteLLM model\n",
    "\n",
    "    Args:\n",
    "        prompt (str): Prompt to send to model\n",
    "        model (str, optional): Name of the API. Defaults to \"gpt-4o\".\n",
    "        temperature (float, optional): Inference temperature. Defaults to 0.\n",
    "        kwargs (dict, optional): Additional arguments to pass to the API.\n",
    "\n",
    "    Returns:\n",
    "        tuple: message content and token usage (message_content, input_tokens, output_tokens)\n",
    "    \"\"\"\n",
    "    messages = [\n",
    "        {\n",
    "            \"role\": \"system\",\n",
    "            \"content\": (\n",
    "                \"You are a scientific assistant, extracting NMR spectra and the analyzed molecule \"\n",
    "                \"out of XML documents in valid JSON format. Extract just data which you are 100% confident about the \"\n",
    "                \"accuracy. Keep the entries short without details. Be careful with numbers.\"\n",
    "            ),\n",
    "        },\n",
    "        {\"role\": \"user\", \"content\": prompt},\n",
    "    ]\n",
    "\n",
    "    response = completion(\n",
    "        model=model,\n",
    "        messages=messages,\n",
    "        temperature=temperature,\n",
    "        response_format={\"type\": \"json_object\"},\n",
    "        **kwargs,\n",
    "    )\n",
    "\n",
    "    # Extract and return the message content and token usage\n",
    "    message_content = response[\"choices\"][0][\"message\"][\"content\"]\n",
    "    input_tokens = response[\"usage\"][\"prompt_tokens\"]\n",
    "    output_tokens = response[\"usage\"][\"completion_tokens\"]\n",
    "    return message_content, input_tokens, output_tokens"
   ]
  },
  {
   "cell_type": "code",
   "execution_count": 2,
   "id": "4df3f36e",
   "metadata": {},
   "outputs": [],
   "source": [
    "# Define the prompt template\n",
    "prompt_template = \"\"\"Extract all 1H-NMR-spectra and the related analyzed molecule out of this XML file: {data}. \n",
    "Extract the complete 1-H-NMR-spectra as text. Extract the full IUPAC name of the molecules without abbreviations and details.\n",
    "Extract the data in the following JSON format:\"\n",
    "    {{\"molecules\": [\n",
    "        {{\n",
    "            \"molecule\":\n",
    "            \"nmr_spectra\":\n",
    "        }},\n",
    "        {{\n",
    "            \"molecule\":\n",
    "            \"nmr_spectra\":\n",
    "        }}\n",
    "        ]\n",
    "    }}\"\"\"\n",
    "\n",
    "with open(\"XML_content.json\", \"r\", encoding=\"utf-8\") as file:\n",
    "    data = json.load(file)\n",
    "\n",
    "# Add the XML data to the promp\n",
    "prompt = format_prompt(prompt_template, {\"data\": data})"
   ]
  },
  {
   "cell_type": "markdown",
   "id": "448e4be6",
   "metadata": {},
   "source": [
    "Now we can perform the actual call to the LLM."
   ]
  },
  {
   "cell_type": "code",
   "execution_count": 3,
   "id": "00fe7da0",
   "metadata": {},
   "outputs": [
    {
     "name": "stdout",
     "output_type": "stream",
     "text": [
      "Output:  {'molecules': [{'molecule': '1-(N,N-diphenylamino)pyrene', 'nmr_spectra': 'δ H (CDCl3) 6.92–7.23 (10H, m, Ar-H) and 7.90–8.37 (9H, m, Py-H)'}, {'molecule': '1-[N,N-di(4-methylphenyl)amino]pyrene', 'nmr_spectra': 'δ H (CDCl3) 2.28 (6H, s, Me), 6.94 (4H, d, J =8.7Hz, Ar-H), 7.00 (4H, d, J =8.7Hz, Ar-H) and 7.78–8.16 (9H, m, Py-H)'}, {'molecule': 'isomer of 1,6- and 1,8-bis-(N,N-diphenylamino)pyrene', 'nmr_spectra': 'δ H (CDCl3) 6.89–7.24 (20H, m, Ar-H) and 7.79–8.16 (8H, m, Py-H)'}, {'molecule': 'isomer of 1,6- and 1,8-bis-[N,N-di(4-methylphenyl)amino]pyrene', 'nmr_spectra': 'δ H (CDCl3) 2.26, 2.28 (12H, s, Me), 6.88–7.02 (16H, m, Ar-H) and 7.74–8.12 (8H, m, Py-H)'}, {'molecule': '1,3,6,8-tetrakis-(N,N-diphenylamino)pyrene', 'nmr_spectra': 'δ H (CDCl3) 6.89–7.17 (40H, m, Ar-H), 7.66 (2H, s, Py-H a) and 7.97 (4H, s, Py-H b)'}, {'molecule': '1,3,6,8-tetrakis-[N,N-di(4-methylphenyl)amino]pyrene', 'nmr_spectra': 'δ H (CDCl3) 2.35 (24H, s, Me), 6.85 (16H, d, J =8.7Hz, Ar-H), 6.93 (16H, d, J =8.7Hz, Ar-H), 7.57 (2H, s, Py-H a) and 7.93 (4H, s, Py-H b)'}]}\n",
      "Input tokens used: 7434 Output tokens used: 627\n"
     ]
    }
   ],
   "source": [
    "# Call the LiteLLM API and print the output and token usage\n",
    "output, input_tokens, output_tokens = call_litellm(prompt=prompt)\n",
    "output = json.loads(output)\n",
    "print(\"Output: \", output)\n",
    "print(\"Input tokens used:\", input_tokens, \"Output tokens used:\", output_tokens)\n",
    "\n",
    "with open(\"NMR_data.json\", \"w\", encoding=\"utf-8\") as json_file:\n",
    "    json.dump(output, json_file, indent=4)"
   ]
  },
  {
   "cell_type": "markdown",
   "id": "62b2a8ee98321889",
   "metadata": {},
   "source": [
    "### Validity check with NMR spectra and SMILES\n",
    "\n",
    "Next, we count and compare the hydrogen atoms in the extracted NMR spectra and molecule. We also calculate and compare the number of peaks in the NMR spectra and diastereotopic protons in the molecule. If the numbers do not match, we can assume an error in the extraction."
   ]
  },
  {
   "cell_type": "markdown",
   "id": "bf8c7a1b",
   "metadata": {},
   "source": [
    "For doing so, we will need to define a few helper functions. The first one will compute the number of symmetry equivalent hydrogen atoms."
   ]
  },
  {
   "cell_type": "code",
   "execution_count": 4,
   "id": "5f9cfbc4",
   "metadata": {},
   "outputs": [],
   "source": [
    "import rdkit\n",
    "from rdkit import Chem\n",
    "import numpy as np"
   ]
  },
  {
   "cell_type": "code",
   "execution_count": 5,
   "id": "ce582557",
   "metadata": {},
   "outputs": [],
   "source": [
    "def get_number_of_topologically_distinct_atoms(molecule, atomic_number: int = 1):\n",
    "    \"\"\"Return the number of unique `element` environments based on environmental topology.\n",
    "\n",
    "    Args:\n",
    "        molecule (rdkit.Chem.rdchem.Mol): Molecular instance.\n",
    "        atomic_number (int, optional): Atomic number. Defaults to 1.\n",
    "\n",
    "    Returns:\n",
    "        int: Number of unique environments.\n",
    "    \"\"\"\n",
    "    if atomic_number == 1:\n",
    "        # add hydrogen\n",
    "        mol = Chem.AddHs(molecule)\n",
    "    else:\n",
    "        mol = molecule\n",
    "\n",
    "    # Get unique canonical atom rankings\n",
    "    atom_ranks = list(rdkit.Chem.rdmolfiles.CanonicalRankAtoms(mol, breakTies=False))\n",
    "\n",
    "    # Select the unique element environments\n",
    "    atom_ranks = np.array(atom_ranks)\n",
    "\n",
    "    # Atom indices\n",
    "    atom_indices = [\n",
    "        atom.GetIdx() for atom in mol.GetAtoms() if atom.GetAtomicNum() == atomic_number\n",
    "    ]\n",
    "    # Count them\n",
    "    return len(set(atom_ranks[atom_indices]))"
   ]
  },
  {
   "cell_type": "markdown",
   "id": "103d356b",
   "metadata": {},
   "source": [
    "If we look at an example, e.g., for benzene `c1ccccc1`, we can see that the number of topologically distinct hydrogen atoms is 1.\n",
    "In contrast, if we look at ethanol, `CCO`, we can see that the number of topologically distinct hydrogen atoms is 3."
   ]
  },
  {
   "cell_type": "code",
   "execution_count": 6,
   "id": "35818d8c",
   "metadata": {},
   "outputs": [
    {
     "data": {
      "text/plain": [
       "1"
      ]
     },
     "execution_count": 6,
     "metadata": {},
     "output_type": "execute_result"
    }
   ],
   "source": [
    "get_number_of_topologically_distinct_atoms(\n",
    "    Chem.MolFromSmiles(\"c1ccccc1\"), atomic_number=1\n",
    ")"
   ]
  },
  {
   "cell_type": "code",
   "execution_count": 7,
   "id": "ef9c219b",
   "metadata": {},
   "outputs": [
    {
     "data": {
      "text/plain": [
       "3"
      ]
     },
     "execution_count": 7,
     "metadata": {},
     "output_type": "execute_result"
    }
   ],
   "source": [
    "get_number_of_topologically_distinct_atoms(Chem.MolFromSmiles(\"CCO\"), atomic_number=1)"
   ]
  },
  {
   "cell_type": "markdown",
   "id": "d45e178b",
   "metadata": {},
   "source": [
    "In addition, we need to find the number of peaks in NMR spectra. For this we will use a regular expression."
   ]
  },
  {
   "cell_type": "code",
   "execution_count": 8,
   "id": "cde9c145",
   "metadata": {},
   "outputs": [],
   "source": [
    "import re\n",
    "\n",
    "\n",
    "def count_hydrogens_from_nmr(nmr_spectra: str) -> int:\n",
    "    pattern2 = r\"\\b(\\d+)H\\b\"\n",
    "    matches = re.findall(pattern2, nmr_spectra)\n",
    "    return sum(int(match) for match in matches)"
   ]
  },
  {
   "cell_type": "markdown",
   "id": "94a3a3bf",
   "metadata": {},
   "source": [
    "Using those two functions, we can calculate how often the extraction matches our expectation."
   ]
  },
  {
   "cell_type": "code",
   "execution_count": 9,
   "id": "f7dd9a7a0a90c6a",
   "metadata": {
    "ExecuteTime": {
     "end_time": "2024-07-03T12:48:55.269231Z",
     "start_time": "2024-07-03T12:48:55.243642Z"
    }
   },
   "outputs": [
    {
     "name": "stdout",
     "output_type": "stream",
     "text": [
      "Processing molecule: 1-(N,N-diphenylamino)pyrene\n",
      "Processing molecule: 1-[N,N-di(4-methylphenyl)amino]pyrene\n",
      "Processing molecule: isomer of 1,6- and 1,8-bis-(N,N-diphenylamino)pyrene\n",
      "Failed to convert isomer of 1,6- and 1,8-bis-(N,N-diphenylamino)pyrene to SMILES\n",
      "Processing molecule: isomer of 1,6- and 1,8-bis-[N,N-di(4-methylphenyl)amino]pyrene\n",
      "Failed to convert isomer of 1,6- and 1,8-bis-[N,N-di(4-methylphenyl)amino]pyrene to SMILES\n",
      "Processing molecule: 1,3,6,8-tetrakis-(N,N-diphenylamino)pyrene\n",
      "Processing molecule: 1,3,6,8-tetrakis-[N,N-di(4-methylphenyl)amino]pyrene\n"
     ]
    }
   ],
   "source": [
    "import json\n",
    "import pandas as pd\n",
    "import matextract.utils as utils\n",
    "\n",
    "results = []\n",
    "pattern = re.compile(r\"\\d+\\.\\d+\\s*\\([^)]*\\)\")\n",
    "\n",
    "# Load JSON NMR data\n",
    "with open(\"NMR_data.json\", \"r\") as file:\n",
    "    data = json.load(file)\n",
    "\n",
    "\n",
    "# Loop over all molecules in data\n",
    "for molecule_data in data[\"molecules\"]:\n",
    "    molecule_name = molecule_data[\"molecule\"]\n",
    "    nmr_spectra = molecule_data[\"nmr_spectra\"]\n",
    "\n",
    "    print(f\"Processing molecule: {molecule_name}\")\n",
    "\n",
    "    # Calculate number of hydrogen atoms in NMR data\n",
    "    H_number_nmr = count_hydrogens_from_nmr(nmr_spectra)\n",
    "\n",
    "    # Count the number of peaks in the NMR spectra\n",
    "    peaks = pattern.findall(nmr_spectra)\n",
    "    found_number_of_peaks = len(peaks)\n",
    "\n",
    "    # Convert molecules into SMILES\n",
    "    mol_smiles = utils.name_to_smiles(molecule_name)\n",
    "    if mol_smiles:\n",
    "        # Convert SMILES into RDKit objects\n",
    "        mol = Chem.MolFromSmiles(mol_smiles)\n",
    "        if mol:\n",
    "            expected_number_of_peaks = get_number_of_topologically_distinct_atoms(mol)\n",
    "\n",
    "        else:\n",
    "            print(\n",
    "                f\"Failed to create RDKit molecule object from SMILES for {molecule_name}\"\n",
    "            )\n",
    "            H_number = None\n",
    "            mol = None\n",
    "    else:\n",
    "        print(f\"Failed to convert {molecule_name} to SMILES\")\n",
    "        H_number = None\n",
    "        mol = None\n",
    "\n",
    "    results.append(\n",
    "        {\n",
    "            \"peaks\": peaks,\n",
    "            \"molecule\": molecule_name,\n",
    "            \"H_number_nmr\": H_number_nmr,\n",
    "            \"rdkit_mol\": mol,\n",
    "            \"mol_smiles\": mol_smiles,\n",
    "            \"found_number_of_peaks\": found_number_of_peaks,\n",
    "            \"expected_number_of_peaks\": expected_number_of_peaks,\n",
    "        }\n",
    "    )"
   ]
  },
  {
   "cell_type": "code",
   "execution_count": 10,
   "id": "ebc4a6ce",
   "metadata": {},
   "outputs": [],
   "source": [
    "df = pd.DataFrame(results)"
   ]
  },
  {
   "cell_type": "markdown",
   "id": "0e5901fe",
   "metadata": {},
   "source": [
    "We can now also use some utility form `rdkit` to visualize the molecules in the dataframe."
   ]
  },
  {
   "cell_type": "code",
   "execution_count": 11,
   "id": "54087ed0",
   "metadata": {},
   "outputs": [],
   "source": [
    "df.dropna(subset=[\"rdkit_mol\"], inplace=True)"
   ]
  },
  {
   "cell_type": "code",
   "execution_count": 12,
   "id": "899a6a66",
   "metadata": {},
   "outputs": [],
   "source": [
    "from rdkit.Chem import PandasTools\n",
    "\n",
    "PandasTools.AddMoleculeColumnToFrame(df, molCol=\"rdkit_mol\", smilesCol=\"mol_smiles\")"
   ]
  },
  {
   "cell_type": "code",
   "execution_count": 13,
   "id": "c9fc0b9f",
   "metadata": {},
   "outputs": [
    {
     "data": {
      "text/html": [
       "<div>\n",
       "<style scoped>\n",
       "    .dataframe tbody tr th:only-of-type {\n",
       "        vertical-align: middle;\n",
       "    }\n",
       "\n",
       "    .dataframe tbody tr th {\n",
       "        vertical-align: top;\n",
       "    }\n",
       "\n",
       "    .dataframe thead th {\n",
       "        text-align: right;\n",
       "    }\n",
       "</style>\n",
       "<table border=\"1\" class=\"dataframe\">\n",
       "  <thead>\n",
       "    <tr style=\"text-align: right;\">\n",
       "      <th></th>\n",
       "      <th>peaks</th>\n",
       "      <th>molecule</th>\n",
       "      <th>H_number_nmr</th>\n",
       "      <th>rdkit_mol</th>\n",
       "      <th>mol_smiles</th>\n",
       "      <th>found_number_of_peaks</th>\n",
       "      <th>expected_number_of_peaks</th>\n",
       "    </tr>\n",
       "  </thead>\n",
       "  <tbody>\n",
       "    <tr>\n",
       "      <th>0</th>\n",
       "      <td>[7.23 (10H, m, Ar-H), 8.37 (9H, m, Py-H)]</td>\n",
       "      <td>1-(N,N-diphenylamino)pyrene</td>\n",
       "      <td>19</td>\n",
       "      <td style=\"text-align: center;\"><div style=\"width: 200px; height: 200px\" data-content=\"rdkit/molecule\"><img src=\"data:image/png;base64,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\" alt=\"Mol\"/></div></td>\n",
       "      <td>c1ccc(N(c2ccccc2)c2ccc3ccc4cccc5ccc2c3c45)cc1</td>\n",
       "      <td>2</td>\n",
       "      <td>12</td>\n",
       "    </tr>\n",
       "    <tr>\n",
       "      <th>1</th>\n",
       "      <td>[2.28 (6H, s, Me), 6.94 (4H, d, J =8.7Hz, Ar-H...</td>\n",
       "      <td>1-[N,N-di(4-methylphenyl)amino]pyrene</td>\n",
       "      <td>23</td>\n",
       "      <td style=\"text-align: center;\"><div style=\"width: 200px; height: 200px\" data-content=\"rdkit/molecule\"><img src=\"data:image/png;base64,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\" alt=\"Mol\"/></div></td>\n",
       "      <td>Cc1ccc(N(c2ccc(C)cc2)c2ccc3ccc4cccc5ccc2c3c45)cc1</td>\n",
       "      <td>4</td>\n",
       "      <td>12</td>\n",
       "    </tr>\n",
       "    <tr>\n",
       "      <th>4</th>\n",
       "      <td>[7.17 (40H, m, Ar-H), 7.66 (2H, s, Py-H a), 7....</td>\n",
       "      <td>1,3,6,8-tetrakis-(N,N-diphenylamino)pyrene</td>\n",
       "      <td>46</td>\n",
       "      <td style=\"text-align: center;\"><div style=\"width: 200px; height: 200px\" data-content=\"rdkit/molecule\"><img src=\"data:image/png;base64,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\" alt=\"Mol\"/></div></td>\n",
       "      <td>c1ccc(N(c2ccccc2)c2cc(N(c3ccccc3)c3ccccc3)c3cc...</td>\n",
       "      <td>3</td>\n",
       "      <td>5</td>\n",
       "    </tr>\n",
       "    <tr>\n",
       "      <th>5</th>\n",
       "      <td>[2.35 (24H, s, Me), 6.85 (16H, d, J =8.7Hz, Ar...</td>\n",
       "      <td>1,3,6,8-tetrakis-[N,N-di(4-methylphenyl)amino]...</td>\n",
       "      <td>62</td>\n",
       "      <td style=\"text-align: center;\"><div style=\"width: 200px; height: 200px\" data-content=\"rdkit/molecule\"><img src=\"data:image/png;base64,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\" alt=\"Mol\"/></div></td>\n",
       "      <td>Cc1ccc(N(c2ccc(C)cc2)c2cc(N(c3ccc(C)cc3)c3ccc(...</td>\n",
       "      <td>5</td>\n",
       "      <td>5</td>\n",
       "    </tr>\n",
       "  </tbody>\n",
       "</table>\n",
       "</div>"
      ],
      "text/plain": [
       "                                               peaks   \n",
       "0          [7.23 (10H, m, Ar-H), 8.37 (9H, m, Py-H)]  \\\n",
       "1  [2.28 (6H, s, Me), 6.94 (4H, d, J =8.7Hz, Ar-H...   \n",
       "4  [7.17 (40H, m, Ar-H), 7.66 (2H, s, Py-H a), 7....   \n",
       "5  [2.35 (24H, s, Me), 6.85 (16H, d, J =8.7Hz, Ar...   \n",
       "\n",
       "                                            molecule  H_number_nmr   \n",
       "0                        1-(N,N-diphenylamino)pyrene            19  \\\n",
       "1              1-[N,N-di(4-methylphenyl)amino]pyrene            23   \n",
       "4         1,3,6,8-tetrakis-(N,N-diphenylamino)pyrene            46   \n",
       "5  1,3,6,8-tetrakis-[N,N-di(4-methylphenyl)amino]...            62   \n",
       "\n",
       "                                          rdkit_mol   \n",
       "0  <rdkit.Chem.rdchem.Mol object at 0x15459bb33e60>  \\\n",
       "1  <rdkit.Chem.rdchem.Mol object at 0x15459bac2b90>   \n",
       "4  <rdkit.Chem.rdchem.Mol object at 0x15459b1545f0>   \n",
       "5  <rdkit.Chem.rdchem.Mol object at 0x15459b154660>   \n",
       "\n",
       "                                          mol_smiles  found_number_of_peaks   \n",
       "0      c1ccc(N(c2ccccc2)c2ccc3ccc4cccc5ccc2c3c45)cc1                      2  \\\n",
       "1  Cc1ccc(N(c2ccc(C)cc2)c2ccc3ccc4cccc5ccc2c3c45)cc1                      4   \n",
       "4  c1ccc(N(c2ccccc2)c2cc(N(c3ccccc3)c3ccccc3)c3cc...                      3   \n",
       "5  Cc1ccc(N(c2ccc(C)cc2)c2cc(N(c3ccc(C)cc3)c3ccc(...                      5   \n",
       "\n",
       "   expected_number_of_peaks  \n",
       "0                        12  \n",
       "1                        12  \n",
       "4                         5  \n",
       "5                         5  "
      ]
     },
     "execution_count": 13,
     "metadata": {},
     "output_type": "execute_result"
    }
   ],
   "source": [
    "df"
   ]
  },
  {
   "cell_type": "markdown",
   "id": "ff85a1b7",
   "metadata": {},
   "source": [
    "We see that in only one case the number of expected peaks matches the number of observed peaks."
   ]
  },
  {
   "cell_type": "markdown",
   "id": "c9ba45d2918bf3e6",
   "metadata": {},
   "source": [
    "Since hydrogen atoms with a very similar environment could appear in an NMR spectra as one overlapped peak, the calculated number of peaks could deviate from the observed one. To meet this challenge, one could instead of only considering the symmetry equivalent environments, perform a basic simulation of the NMR spectrum. "
   ]
  },
  {
   "cell_type": "markdown",
   "id": "0b2e7032",
   "metadata": {},
   "source": [
    "## Bibliography\n",
    "\n",
    "```{bibliography}\n",
    ":filter: docname in docnames\n",
    "```"
   ]
  },
  {
   "cell_type": "markdown",
   "id": "3eba72d4",
   "metadata": {},
   "source": []
  }
 ],
 "metadata": {
  "kernelspec": {
   "display_name": "Python 3 (ipykernel)",
   "language": "python",
   "name": "python3"
  },
  "language_info": {
   "codemirror_mode": {
    "name": "ipython",
    "version": 3
   },
   "file_extension": ".py",
   "mimetype": "text/x-python",
   "name": "python",
   "nbconvert_exporter": "python",
   "pygments_lexer": "ipython3",
   "version": "3.11.5"
  }
 },
 "nbformat": 4,
 "nbformat_minor": 5
}
