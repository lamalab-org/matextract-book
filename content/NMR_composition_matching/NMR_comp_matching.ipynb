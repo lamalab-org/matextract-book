{
 "cells": [
  {
   "cell_type": "markdown",
   "id": "f24071c48e59823",
   "metadata": {},
   "source": [
    "# Validation case study: Matching NMR spectra to composition of the molecule"
   ]
  },
  {
   "cell_type": "markdown",
   "id": "fb63fce30f50260c",
   "metadata": {},
   "source": [
    "After the data extraction one should have automated checks to asure the validity of the data. One possible validation check could be to match the extracted NMR spectra to the extracted analyzed molecule. Therefore, one could compare the number of protons and peaks in NMR spectra of the molecule and in the extracted NMR spectra. In this notebook we show an example of how one could do this automated check. "
   ]
  },
  {
   "cell_type": "markdown",
   "id": "4d44a326cf54b62d",
   "metadata": {},
   "source": [
    "### Data extraction\n",
    "\n",
    "As first step we extract the NMR spectra and the analyzed molecule using a LLM. \n",
    "Therefore, we created a basic prompt including the desired information and the content of the article. We receive the name of the molecules and the NMR spectra of all included molecules in a JSON format."
   ]
  },
  {
   "cell_type": "code",
   "execution_count": 10,
   "id": "175ee4a23a80d965",
   "metadata": {
    "ExecuteTime": {
     "end_time": "2024-07-03T12:28:26.761384Z",
     "start_time": "2024-07-03T12:28:18.755128Z"
    }
   },
   "outputs": [
    {
     "name": "stdout",
     "output_type": "stream",
     "text": [
      "Output:  {'molecules': [{'molecule': '1-(N,N-diphenylamino)pyrene', 'nmr_spectra': 'δ H (CDCl3) 6.92–7.23 (10H, m, Ar-H) and 7.90–8.37 (9H, m, Py-H)'}, {'molecule': '1-[N,N-di(4-methylphenyl)amino]pyrene', 'nmr_spectra': 'δ H (CDCl3) 2.28 (6H, s, Me), 6.94 (4H, d, J =8.7Hz, Ar-H), 7.00 (4H, d, J =8.7Hz, Ar-H) and 7.78–8.16 (9H, m, Py-H)'}, {'molecule': '1,3,6,8-tetrakis-(N,N-diphenylamino)pyrene', 'nmr_spectra': 'δ H (CDCl3) 6.89–7.17 (40H, m, Ar-H), 7.66 (2H, s, Py-H a) and 7.97 (4H, s, Py-H b)'}, {'molecule': '1,3,6,8-tetrakis-[N,N-di(4-methylphenyl)amino]pyrene', 'nmr_spectra': 'δ H (CDCl3) 2.35 (24H, s, Me), 6.85 (16H, d, J =8.7Hz, Ar-H), 6.93 (16H, d, J =8.7Hz, Ar-H), 7.57 (2H, s, Py-H a) and 7.93 (4H, s, Py-H b)'}]}\n",
      "Input tokens used: 7432 Output tokens used: 428\n"
     ]
    }
   ],
   "source": [
    "import os\n",
    "from litellm import completion\n",
    "from bs4 import BeautifulSoup\n",
    "import json\n",
    "\n",
    "# Add the content of the XML file to the prompt\n",
    "def format_prompt(template: str, data: dict) -> str:\n",
    "    return template.format(**data)\n",
    "\n",
    "# Define the function to call the LiteLLM API\n",
    "def call_litellm(prompt, model=\"gpt-4o\", temperature: float = 0.0, **kwargs):\n",
    "    \"\"\"Call LiteLLM model\n",
    "\n",
    "    Args:\n",
    "        prompt (str): Prompt to send to model\n",
    "        model (str, optional): Name of the API. Defaults to \"gpt-4o\".\n",
    "        temperature (float, optional): Inference temperature. Defaults to 0.\n",
    "\n",
    "    Returns:\n",
    "        dict: New data\n",
    "    \"\"\"\n",
    "    messages = [\n",
    "        {\n",
    "            \"role\": \"system\",\n",
    "            \"content\": (\n",
    "                \"You are a scientific assistant, extracting NMR spectra and the analyzed molecule \"\n",
    "                \"out of XML documents in valid JSON format. Extract just data which you are 100% confident about the \"\n",
    "                \"accuracy. Keep the entries short without details. Be careful with numbers.\"\n",
    "            ),\n",
    "        },\n",
    "        {\"role\": \"user\", \"content\": prompt},\n",
    "    ]\n",
    "\n",
    "    response = completion(\n",
    "        model=model,\n",
    "        messages=messages,\n",
    "        temperature=temperature,\n",
    "        response_format={\"type\": \"json_object\"},\n",
    "        **kwargs,\n",
    "    )\n",
    "\n",
    "    # Extract and return the message content and token usage\n",
    "    message_content = response[\"choices\"][0][\"message\"][\"content\"]\n",
    "    input_tokens = response[\"usage\"][\"prompt_tokens\"]\n",
    "    output_tokens = response[\"usage\"][\"completion_tokens\"]\n",
    "    return message_content, input_tokens, output_tokens\n",
    "\n",
    "# Define the prompt template\n",
    "prompt_template = (\"\"\"Extract all 1H-NMR-spectra and the related analyzed molecule out of this XML file: {data}. \n",
    "Extract the complete 1-H-NMR-spectra as text. Extract the full IUPAC name of the molecules without abbreviations and details.\n",
    "Extract the data in the following json format:\"\n",
    "    {{\"molecules\": [\n",
    "        {{\n",
    "            \"molecule\":\n",
    "            \"nmr_spectra\":\n",
    "        }},\n",
    "        {{\n",
    "            \"molecule\":\n",
    "            \"nmr_spectra\":\n",
    "        }}\n",
    "        ]\n",
    "    }}\"\"\")\n",
    "\n",
    "\n",
    "# Load the OpenAI API key from environment variables\n",
    "api_key = os.getenv(\"OPENAI_API_KEY\")\n",
    "\n",
    "# Set the API key for LiteLLM\n",
    "os.environ[\"OPENAI_API_KEY\"] = api_key\n",
    "\n",
    "with open(\"XML_content.json\", 'r', encoding='utf-8') as file:\n",
    "    data = json.load(file)\n",
    "\n",
    "# Add the XML data to the prompt\n",
    "prompt = format_prompt(prompt_template, {\"data\": data})\n",
    "\n",
    "# Call the LiteLLM API and print the output and token usage\n",
    "output, input_tokens, output_tokens = call_litellm(prompt=prompt)\n",
    "output = json.loads(output)\n",
    "print(\"Output: \", output)\n",
    "print(\"Input tokens used:\", input_tokens, \"Output tokens used:\", output_tokens)\n",
    "\n",
    "with open(\"NMR_data.json\", \"w\", encoding='utf-8') as json_file:\n",
    "    json.dump(output, json_file, indent=4)"
   ]
  },
  {
   "cell_type": "markdown",
   "id": "62b2a8ee98321889",
   "metadata": {},
   "source": [
    "### Valididty check with NMR spectra and SMILES\n",
    "\n",
    "As a next step the Hydrogen atoms in the extracted NMR spectra and the extracted molecule were counted and compared. Additionally, the number of peaks in the NMR spectra and the number of diastereotopic protons in the molecule get calculated and compered. If the hydrogen atom number or the number of peaks doesn't match an error in the extraction can be assumed."
   ]
  },
  {
   "cell_type": "code",
   "execution_count": 15,
   "id": "f7dd9a7a0a90c6a",
   "metadata": {
    "ExecuteTime": {
     "end_time": "2024-07-03T12:48:55.269231Z",
     "start_time": "2024-07-03T12:48:55.243642Z"
    }
   },
   "outputs": [
    {
     "name": "stdout",
     "output_type": "stream",
     "text": [
      "Processing molecule: 1-(N,N-diphenylamino)pyrene\n",
      "Number of hydrogen atoms in the NMR spectra: 19\n",
      "Number of H atoms in the molecule 1-(N,N-diphenylamino)pyrene: 19\n",
      "The number of peaks in the NMR spectra is 2, the calculated peak number from the SMILES is 12.\n",
      "Processing molecule: 1-[N,N-di(4-methylphenyl)amino]pyrene\n",
      "Number of hydrogen atoms in the NMR spectra: 23\n",
      "Number of H atoms in the molecule 1-[N,N-di(4-methylphenyl)amino]pyrene: 23\n",
      "The number of peaks in the NMR spectra is 4, the calculated peak number from the SMILES is 12.\n",
      "Processing molecule: 1,3,6,8-tetrakis-(N,N-diphenylamino)pyrene\n",
      "Number of hydrogen atoms in the NMR spectra: 46\n",
      "Number of H atoms in the molecule 1,3,6,8-tetrakis-(N,N-diphenylamino)pyrene: 46\n",
      "The number of peaks in the NMR spectra is 3, the calculated peak number from the SMILES is 5.\n",
      "Processing molecule: 1,3,6,8-tetrakis-[N,N-di(4-methylphenyl)amino]pyrene\n",
      "Number of hydrogen atoms in the NMR spectra: 62\n",
      "Number of H atoms in the molecule 1,3,6,8-tetrakis-[N,N-di(4-methylphenyl)amino]pyrene: 62\n",
      "The number of peaks in the NMR spectra is 5, the calculated peak number from the SMILES is 5.\n",
      "Out of 4 molecules, 4 molecules had a matching hydrogen atom number to the extracted NMR spectra.\n",
      "Out of 4 molecules, 1 molecules had a matching number of NMR peaks to the extracted NMR spectra.\n"
     ]
    }
   ],
   "source": [
    "import json\n",
    "import re\n",
    "from rdkit import Chem\n",
    "import package.llmstructdata.utils as utils\n",
    "\n",
    "correct_H_number = 0\n",
    "incorrect_H_number = 0\n",
    "correct_peak_number = 0\n",
    "incorrect_peak_number = 0\n",
    "pattern = re.compile(r'\\d+\\.\\d+\\s*\\([^)]*\\)')\n",
    "\n",
    "# Load JSON NMR data\n",
    "with open('NMR_data.json', 'r') as file:\n",
    "    data = json.load(file)\n",
    "\n",
    "def get_num_hydrogen_symmetry_classes(m):\n",
    "    orders = Chem.CanonicalRankAtoms(m, breakTies=False)\n",
    "    h_classes = set()\n",
    "    for atom, sym_class in zip(m.GetAtoms(), orders):\n",
    "        if atom.GetAtomicNum() == 1:\n",
    "           h_classes.add(sym_class)\n",
    "    return len(h_classes)\n",
    "\n",
    "# Calculate the number of hydrogen atoms\n",
    "def count_hydrogens_from_nmr(nmr_spectra: str) -> int:\n",
    "    pattern2 = r'\\b(\\d+)H\\b'\n",
    "    matches = re.findall(pattern2, nmr_spectra)\n",
    "    return sum(int(match) for match in matches)\n",
    "\n",
    "# Loop over all molecules in data\n",
    "for molecule_data in data['molecules']:\n",
    "    molecule_name = molecule_data['molecule']\n",
    "    nmr_spectra = molecule_data['nmr_spectra']\n",
    "    \n",
    "    print(f\"Processing molecule: {molecule_name}\")\n",
    "    \n",
    "    # Calculate number of hydrogen atoms in NMR data\n",
    "    H_number_nmr = count_hydrogens_from_nmr(nmr_spectra)\n",
    "    print(f\"Number of hydrogen atoms in the NMR spectra: {H_number_nmr}\")\n",
    "    \n",
    "    # Count the number of peaks in the NMR spectra\n",
    "    peaks = pattern.findall(nmr_spectra)\n",
    "    number_of_peaks = len(peaks)\n",
    "    \n",
    "    # Convert molecules into SMILES\n",
    "    mol_smiles = utils.name_to_smiles(molecule_name)\n",
    "    if mol_smiles:\n",
    "        # Convert SMILES into RDKit objects\n",
    "        mol = Chem.MolFromSmiles(mol_smiles)\n",
    "        if mol:\n",
    "            # Calculate the number of hydrogen atoms from formula\n",
    "            my_mol_with_explicit_h = Chem.AddHs(mol)\n",
    "            H_number = my_mol_with_explicit_h.GetNumAtoms() - my_mol_with_explicit_h.GetNumHeavyAtoms()\n",
    "            print(f\"Number of H atoms in the molecule {molecule_name}: {H_number}\")\n",
    "            \n",
    "            # Calculate the number of peaks in the NMR spectra of the molecule\n",
    "            peak_number = get_num_hydrogen_symmetry_classes(my_mol_with_explicit_h)\n",
    "            print(f\"The number of peaks in the NMR spectra is {number_of_peaks}, the calculated peak number from the SMILES is {peak_number}.\")\n",
    "        else:\n",
    "            print(f\"Failed to create RDKit molecule object from SMILES for {molecule_name}\")\n",
    "            H_number = None\n",
    "    else:\n",
    "        print(f\"Failed to convert {molecule_name} to SMILES\")\n",
    "        H_number = None\n",
    "    \n",
    "    if H_number is not None and H_number_nmr == H_number:\n",
    "        correct_H_number += 1\n",
    "    else: \n",
    "        incorrect_H_number += 1\n",
    "    if peak_number == number_of_peaks:\n",
    "        correct_peak_number += 1\n",
    "    else: \n",
    "        incorrect_peak_number += 1\n",
    "\n",
    "print(f\"Out of {correct_H_number+incorrect_H_number} molecules, {correct_H_number} molecules had a matching hydrogen atom number to the extracted NMR spectra.\")\n",
    "print(f\"Out of {correct_peak_number+incorrect_peak_number} molecules, {correct_peak_number} molecules had a matching number of NMR peaks to the extracted NMR spectra.\")"
   ]
  },
  {
   "cell_type": "markdown",
   "id": "c9ba45d2918bf3e6",
   "metadata": {},
   "source": [
    "One could use the matching of hydrogen atoms and number of peaks as a validation of the extracted data. Since Hydrogen atoms with a very similar environment could appear in an NMR spectra as one overlapped peak the calculated number of peaks could deviate from the observed one. To meet this challenge one could score the extracted datapoints based on their deviation from the calculated values. For example if one molecule does not have a matching peak number and hydrogen number one could delete the datapoint. If just one value mismatches one could give these datapoint a lower weight for model training. "
   ]
  }
 ],
 "metadata": {
  "kernelspec": {
   "display_name": "Python 3 (ipykernel)",
   "language": "python",
   "name": "python3"
  },
  "language_info": {
   "codemirror_mode": {
    "name": "ipython",
    "version": 3
   },
   "file_extension": ".py",
   "mimetype": "text/x-python",
   "name": "python",
   "nbconvert_exporter": "python",
   "pygments_lexer": "ipython3",
   "version": "3.12.0"
  }
 },
 "nbformat": 4,
 "nbformat_minor": 5
}
