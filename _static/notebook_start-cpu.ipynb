{
 "cells": [
  {
   "cell_type": "markdown",
   "metadata": {
    "vscode": {
     "languageId": "plaintext"
    }
   },
   "source": [
    "# Welcome to MatExtract!"
   ]
  },
  {
   "cell_type": "markdown",
   "metadata": {},
   "source": [
    "We are happy that you are here! \n",
    "\n",
    "MatExtract aims to teach the basics of structured data extraction using LLMs. \n",
    "When you see this, you most likely run the notebooks in a JupyterHub environment with only access to CPUs and limited hard drive storage. \n",
    "\n",
    "That implies that parts of some notebooks (e.g. the finetuning of LLMs or the use of local models pulled from HuggingFace) will not be feasible to run in this environment. (We hope to provide a solution for this in the future.)\n",
    "\n",
    "However, you will be able to run almost all other parts, especially those that call models that are deployed by some model provider such as OpenAI, Anthropic, or Groq. \n",
    "\n",
    "For this, however, you will need to export your API key as an environment variable. To do so, you only need to update the dictionary below with your API keys and run the subsequent cell. \n",
    "If you want to export additional API keys, you can do so by adding them to the dictionary below. If you do not have an API key for a certain model provider, you can leave the value empty (`\"\"`)."
   ]
  },
  {
   "cell_type": "code",
   "execution_count": null,
   "metadata": {},
   "outputs": [],
   "source": [
    "API_KEYS = {\n",
    "    \"OPENAI_API_KEY\": \"\",  # your OpenAI key starting with sk-, which you can obtain from https://platform.openai.com/\n",
    "    \"GROQ_API_KEY\": \"\",  # your Groq API key which you can obtain from https://console.groq.com/keys\n",
    "    \"ANTHROPIC_API_KEY\": \"\",  # your Anthropic API key which you can obtain from https://console.anthropic.com/\n",
    "}"
   ]
  },
  {
   "cell_type": "code",
   "execution_count": null,
   "metadata": {},
   "outputs": [],
   "source": [
    "with open(\".env\", \"w\") as f:\n",
    "    for key, value in API_KEYS.items():\n",
    "        f.write(f\"{key}={value}\\n\")"
   ]
  },
  {
   "cell_type": "markdown",
   "metadata": {},
   "source": [
    "Once you did this, you can run the notebooks, which you can find in `content/` in the file browser on the left. \n",
    "There you have subfolders, and you can open the `.ipynb` files that you are interested in.\n",
    "\n",
    "![Filebrowser](_static/images/filebrowser.png)"
   ]
  },
  {
   "cell_type": "markdown",
   "metadata": {},
   "source": [
    "If you have any questions or problems do not hesitate to [open an issue](https://github.com/lamalab-org/matextract-book/issues?q=sort%3Aupdated-desc+is%3Aissue+is%3Aopen) or to [contact us via email](mailto:mail@kjablonka.com)"
   ]
  },
  {
   "cell_type": "markdown",
   "metadata": {},
   "source": []
  }
 ],
 "metadata": {
  "language_info": {
   "name": "python"
  }
 },
 "nbformat": 4,
 "nbformat_minor": 2
}
