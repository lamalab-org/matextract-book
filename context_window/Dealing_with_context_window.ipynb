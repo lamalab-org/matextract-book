{
  "nbformat": 4,
  "nbformat_minor": 0,
  "metadata": {
    "colab": {
      "provenance": []
    },
    "kernelspec": {
      "name": "python3",
      "display_name": "Python 3"
    },
    "language_info": {
      "name": "python"
    }
  },
  "cells": [
    {
      "cell_type": "code",
      "execution_count": 1,
      "metadata": {
        "id": "oX9O0gIl0sQI"
      },
      "outputs": [],
      "source": [
        "text = \"Lorem ipsum dolor sit amet, consectetur adipiscing elit, sed do eiusmod tempor incididunt ut labore et dolore magna aliqua. Ut enim ad minim veniam, quis nostrud exercitation ullamco laboris nisi ut aliquip ex ea commodo consequat. Duis aute irure dolor in reprehenderit in voluptate velit esse cillum dolore eu fugiat nulla pariatur. Excepteur sint occaecat cupidatat non proident, s\n",
        "unt in culpa qui officia deserunt mollit anim id est laborum.\""
      ]
    },
    {
      "cell_type": "markdown",
      "source": [
        "# Fixed size chunking"
      ],
      "metadata": {
        "id": "6SHJvzVP0y6m"
      }
    },
    {
      "cell_type": "code",
      "source": [
        "chunk_size = 20\n",
        "[text[i: i + chunk_size] for i in range(0, len(text), chunk_size)]"
      ],
      "metadata": {
        "colab": {
          "base_uri": "https://localhost:8080/"
        },
        "id": "rUKdalek0xeI",
        "outputId": "ec1ca91f-e8a5-4343-d4b7-669585190535"
      },
      "execution_count": 2,
      "outputs": [
        {
          "output_type": "execute_result",
          "data": {
            "text/plain": [
              "['Lorem ipsum dolor si',\n",
              " 't amet, consectetur ',\n",
              " 'adipiscing elit, sed',\n",
              " ' do eiusmod tempor i',\n",
              " 'ncididunt ut labore ',\n",
              " 'et dolore magna aliq',\n",
              " 'ua. Ut enim ad minim',\n",
              " ' veniam, quis nostru',\n",
              " 'd exercitation ullam',\n",
              " 'co laboris nisi ut a',\n",
              " 'liquip ex ea commodo',\n",
              " ' consequat. Duis aut',\n",
              " 'e irure dolor in rep',\n",
              " 'rehenderit in volupt',\n",
              " 'ate velit esse cillu',\n",
              " 'm dolore eu fugiat n',\n",
              " 'ulla pariatur. Excep',\n",
              " 'teur sint occaecat c',\n",
              " 'upidatat non proiden',\n",
              " 't, sunt in culpa qui',\n",
              " ' officia deserunt mo',\n",
              " 'llit anim id est lab',\n",
              " 'orum.']"
            ]
          },
          "metadata": {},
          "execution_count": 2
        }
      ]
    },
    {
      "cell_type": "markdown",
      "source": [
        "# Splitting based on special characters"
      ],
      "metadata": {
        "id": "jfehDVe606pl"
      }
    },
    {
      "cell_type": "code",
      "source": [
        "text.split(\".\")"
      ],
      "metadata": {
        "colab": {
          "base_uri": "https://localhost:8080/"
        },
        "id": "HVoP1JK308M9",
        "outputId": "ab080da7-486a-4477-a499-d5e271c9fbf4"
      },
      "execution_count": 3,
      "outputs": [
        {
          "output_type": "execute_result",
          "data": {
            "text/plain": [
              "['Lorem ipsum dolor sit amet, consectetur adipiscing elit, sed do eiusmod tempor incididunt ut labore et dolore magna aliqua',\n",
              " ' Ut enim ad minim veniam, quis nostrud exercitation ullamco laboris nisi ut aliquip ex ea commodo consequat',\n",
              " ' Duis aute irure dolor in reprehenderit in voluptate velit esse cillum dolore eu fugiat nulla pariatur',\n",
              " ' Excepteur sint occaecat cupidatat non proident, sunt in culpa qui officia deserunt mollit anim id est laborum',\n",
              " '']"
            ]
          },
          "metadata": {},
          "execution_count": 3
        }
      ]
    },
    {
      "cell_type": "markdown",
      "source": [
        "# Overlap between chunks"
      ],
      "metadata": {
        "id": "usn4EwjU0-37"
      }
    },
    {
      "cell_type": "code",
      "source": [
        "chunk_size = 20\n",
        "overlap = 5\n",
        "[text[i: i + chunk_size] for i in range(0, len(text), chunk_size-overlap)]"
      ],
      "metadata": {
        "colab": {
          "base_uri": "https://localhost:8080/"
        },
        "id": "2ehupwNZ0_rB",
        "outputId": "d55bc221-35a9-446c-be2e-e74cc72a134f"
      },
      "execution_count": 4,
      "outputs": [
        {
          "output_type": "execute_result",
          "data": {
            "text/plain": [
              "['Lorem ipsum dolor si',\n",
              " 'or sit amet, consect',\n",
              " 'nsectetur adipiscing',\n",
              " 'scing elit, sed do e',\n",
              " ' do eiusmod tempor i',\n",
              " 'por incididunt ut la',\n",
              " 'ut labore et dolore ',\n",
              " 'lore magna aliqua. U',\n",
              " 'ua. Ut enim ad minim',\n",
              " 'minim veniam, quis n',\n",
              " 'uis nostrud exercita',\n",
              " 'rcitation ullamco la',\n",
              " 'co laboris nisi ut a',\n",
              " ' ut aliquip ex ea co',\n",
              " 'ea commodo consequat',\n",
              " 'equat. Duis aute iru',\n",
              " 'e irure dolor in rep',\n",
              " 'n reprehenderit in v',\n",
              " ' in voluptate velit ',\n",
              " 'elit esse cillum dol',\n",
              " 'm dolore eu fugiat n',\n",
              " 'iat nulla pariatur. ',\n",
              " 'tur. Excepteur sint ',\n",
              " 'sint occaecat cupida',\n",
              " 'upidatat non proiden',\n",
              " 'oident, sunt in culp',\n",
              " ' culpa qui officia d',\n",
              " 'cia deserunt mollit ',\n",
              " 'llit anim id est lab',\n",
              " 't laborum.']"
            ]
          },
          "metadata": {},
          "execution_count": 4
        }
      ]
    },
    {
      "cell_type": "markdown",
      "source": [
        "# Embeddings, Vectors, RAG"
      ],
      "metadata": {
        "id": "34-D1WID1E4o"
      }
    },
    {
      "cell_type": "code",
      "source": [
        "!pip install sentence-transformers chromadb"
      ],
      "metadata": {
        "id": "HjFKpE3p1MRk"
      },
      "execution_count": null,
      "outputs": []
    },
    {
      "cell_type": "code",
      "source": [
        "from sentence_transformers import SentenceTransformer"
      ],
      "metadata": {
        "id": "S0wcB0ZN2Wjh"
      },
      "execution_count": 7,
      "outputs": []
    },
    {
      "cell_type": "markdown",
      "source": [
        "You can use an embedding model to find suitable vectors to represent your vocabulary whether it is words or sentences."
      ],
      "metadata": {
        "id": "8MQ1mgVp3DDC"
      }
    },
    {
      "cell_type": "code",
      "source": [
        "model = SentenceTransformer(\"all-MiniLM-L6-v2\")\n",
        "sentences = text.split(\".\")\n",
        "\n",
        "text_embeddings = model.encode(sentences)\n",
        "print(text_embeddings.shape)"
      ],
      "metadata": {
        "colab": {
          "base_uri": "https://localhost:8080/"
        },
        "id": "KG9jzPrJ1N-8",
        "outputId": "c83e6fd5-974b-4c27-f7a9-00ffb9771d53"
      },
      "execution_count": 10,
      "outputs": [
        {
          "output_type": "stream",
          "name": "stdout",
          "text": [
            "(5, 384)\n"
          ]
        }
      ]
    },
    {
      "cell_type": "markdown",
      "source": [
        "ChromaDB is an Open Source Vector Database that we can use for our RAG application to query before the request is sent to the LLM. ChromaDB as default uses the same Sentence Embedding model we used above, \"all-MiniLM-L6-v2\"."
      ],
      "metadata": {
        "id": "ou2osWA9-8FS"
      }
    },
    {
      "cell_type": "code",
      "source": [
        "import chromadb\n",
        "client = chromadb.Client()\n",
        "collection = client.create_collection(name=\"MySentenceStore\")\n",
        "collection.add(documents=sentences, ids=[str(id) for id in range(0, len(sentences))])"
      ],
      "metadata": {
        "colab": {
          "base_uri": "https://localhost:8080/"
        },
        "id": "Hg9ApDhO2BZj",
        "outputId": "415905e8-5b91-4fc7-fd26-5a65109285bb"
      },
      "execution_count": 24,
      "outputs": [
        {
          "output_type": "stream",
          "name": "stderr",
          "text": [
            "/root/.cache/chroma/onnx_models/all-MiniLM-L6-v2/onnx.tar.gz: 100%|██████████| 79.3M/79.3M [00:03<00:00, 27.3MiB/s]\n"
          ]
        }
      ]
    },
    {
      "cell_type": "code",
      "source": [
        "query_results = collection.query(query_texts=[\"What is deserunt mollit est labt laborum?\"], n_results=1)"
      ],
      "metadata": {
        "id": "D0zUNATh6Uh9"
      },
      "execution_count": 27,
      "outputs": []
    },
    {
      "cell_type": "code",
      "source": [
        "print(query_results[\"documents\"])"
      ],
      "metadata": {
        "colab": {
          "base_uri": "https://localhost:8080/"
        },
        "id": "-9fISosS7RdL",
        "outputId": "9a9ad016-dbe2-4ee3-a2b7-a1cbb202ff78"
      },
      "execution_count": 29,
      "outputs": [
        {
          "output_type": "stream",
          "name": "stdout",
          "text": [
            "[[' Excepteur sint occaecat cupidatat non proident, sunt in culpa qui officia deserunt mollit anim id est laborum']]\n"
          ]
        }
      ]
    },
    {
      "cell_type": "code",
      "source": [],
      "metadata": {
        "id": "m8fQPfii_496"
      },
      "execution_count": null,
      "outputs": []
    }
  ]
}