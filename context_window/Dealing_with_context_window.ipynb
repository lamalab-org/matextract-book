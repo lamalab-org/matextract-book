{
  "nbformat": 4,
  "nbformat_minor": 0,
  "metadata": {
    "colab": {
      "provenance": []
    },
    "kernelspec": {
      "name": "python3",
      "display_name": "Python 3"
    },
    "language_info": {
      "name": "python"
    }
  },
  "cells": [
    {
      "cell_type": "markdown",
      "source": [
        "# Strategies to tackle context window limitations\n",
        "Models always have a context window i.e. the length of words, actually **tokens**, it can process at a given time. This is an issue when we want to process any text that doesn't fit in this context window. We can break the text into chunks that can fit. In this notebook we demonstrate a number of techniques to tackle this issue."
      ],
      "metadata": {
        "id": "J35hKZIjRgUv"
      }
    },
    {
      "cell_type": "code",
      "execution_count": 1,
      "metadata": {
        "id": "oX9O0gIl0sQI"
      },
      "outputs": [],
      "source": [
        "text = \"As a fundamental problem in organic chemistry, synthesis planning aims at designing energy and cost-efficient reaction pathways for target compounds. In synthesis planning, it is crucial to understand regioselectivity, or the preference of a reaction over competing reaction sites. Precisely predicting regioselectivity enables early exclusion of unproductive reactions and paves the way to designing high-yielding synthetic routes with minimal separation and material costs. However, it is still at emerging state to combine chemical knowledge and data-driven methods to make practical predictions for regioselectivity. At the same time, metal-catalyzed cross-coupling reactions have profoundly transformed medicinal chemistry, and thus become one of the most frequently encountered types of reactions in synthesis planning. In this work, we for the first time introduce a chemical knowledge informed message passing neural network(MPNN) framework that directly identifies the intrinsic major products for metal-catalyzed cross-coupling reactions with regioselective ambiguity. Integrating both first principle methods and data-driven methods, our model achieves an overall accuracy of 95.24\\\\% on the test set of eight typical metal-catalyzed cross-coupling reaction types, including Suzuki-Miyaura, Stille, Sonogashira, Buchwald-Hartwig, Hiyama, Kumada, Negishi, and Heck reactions, outperforming other commonly used model types. To integrate electronic effects with steric effects in regioselectivity prediction, we propose a quantitative method to measure the steric hindrance effect. Our steric hindrance checker can successfully identify regioselectivity induced solely by steric hindrance. Notably under practical scenarios, our model outperforms 6 experimental organic chemists with an average working experience of over 10 years in the organic synthesis industry in terms of predicting major products in regioselective cases. We have also exemplified the practical usage of our model by fixing routes designed by open-access synthesis planning software and improving reactions by identifying low-cost starting materials. To assist general chemists in making prompt decisions about regioselectivity, we have developed a free web-based AI-empowered tool.\""
      ]
    },
    {
      "cell_type": "markdown",
      "source": [
        "### Fixed size chunking\n",
        "\n",
        "The simplest approach is to make chunks that fit in your context window without worrying about where it cuts the text. This, as you can see in the example below, is not ideal. Some words get chopped and when the LLM will see these chunks separately, it won't be able to infer information correctly."
      ],
      "metadata": {
        "id": "6SHJvzVP0y6m"
      }
    },
    {
      "cell_type": "code",
      "source": [
        "chunk_size = 20\n",
        "[text[i: i + chunk_size] for i in range(0, len(text), chunk_size)]"
      ],
      "metadata": {
        "colab": {
          "base_uri": "https://localhost:8080/"
        },
        "id": "rUKdalek0xeI",
        "outputId": "f7e403e1-2947-44c9-c0af-0162da968bde"
      },
      "execution_count": 2,
      "outputs": [
        {
          "output_type": "execute_result",
          "data": {
            "text/plain": [
              "['As a fundamental pro',\n",
              " 'blem in organic chem',\n",
              " 'istry, synthesis pla',\n",
              " 'nning aims at design',\n",
              " 'ing energy and cost-',\n",
              " 'efficient reaction p',\n",
              " 'athways for target c',\n",
              " 'ompounds. In synthes',\n",
              " 'is planning, it is c',\n",
              " 'rucial to understand',\n",
              " ' regioselectivity, o',\n",
              " 'r the preference of ',\n",
              " 'a reaction over comp',\n",
              " 'eting reaction sites',\n",
              " '. Precisely predicti',\n",
              " 'ng regioselectivity ',\n",
              " 'enables early exclus',\n",
              " 'ion of unproductive ',\n",
              " 'reactions and paves ',\n",
              " 'the way to designing',\n",
              " ' high-yielding synth',\n",
              " 'etic routes with min',\n",
              " 'imal separation and ',\n",
              " 'material costs. Howe',\n",
              " 'ver, it is still at ',\n",
              " 'emerging state to co',\n",
              " 'mbine chemical knowl',\n",
              " 'edge and data-driven',\n",
              " ' methods to make pra',\n",
              " 'ctical predictions f',\n",
              " 'or regioselectivity.',\n",
              " ' At the same time, m',\n",
              " 'etal-catalyzed cross',\n",
              " '-coupling reactions ',\n",
              " 'have profoundly tran',\n",
              " 'sformed medicinal ch',\n",
              " 'emistry, and thus be',\n",
              " 'come one of the most',\n",
              " ' frequently encounte',\n",
              " 'red types of reactio',\n",
              " 'ns in synthesis plan',\n",
              " 'ning. In this work, ',\n",
              " 'we for the first tim',\n",
              " 'e introduce a chemic',\n",
              " 'al knowledge informe',\n",
              " 'd message passing ne',\n",
              " 'ural network(MPNN) f',\n",
              " 'ramework that direct',\n",
              " 'ly identifies the in',\n",
              " 'trinsic major produc',\n",
              " 'ts for metal-catalyz',\n",
              " 'ed cross-coupling re',\n",
              " 'actions with regiose',\n",
              " 'lective ambiguity. I',\n",
              " 'ntegrating both firs',\n",
              " 't principle methods ',\n",
              " 'and data-driven meth',\n",
              " 'ods, our model achie',\n",
              " 'ves an overall accur',\n",
              " 'acy of 95.24\\\\% on th',\n",
              " 'e test set of eight ',\n",
              " 'typical metal-cataly',\n",
              " 'zed cross-coupling r',\n",
              " 'eaction types, inclu',\n",
              " 'ding Suzuki-Miyaura,',\n",
              " ' Stille, Sonogashira',\n",
              " ', Buchwald-Hartwig, ',\n",
              " 'Hiyama, Kumada, Negi',\n",
              " 'shi, and Heck reacti',\n",
              " 'ons, outperforming o',\n",
              " 'ther commonly used m',\n",
              " 'odel types. To integ',\n",
              " 'rate electronic effe',\n",
              " 'cts with steric effe',\n",
              " 'cts in regioselectiv',\n",
              " 'ity prediction, we p',\n",
              " 'ropose a quantitativ',\n",
              " 'e method to measure ',\n",
              " 'the steric hindrance',\n",
              " ' effect. Our steric ',\n",
              " 'hindrance checker ca',\n",
              " 'n successfully ident',\n",
              " 'ify regioselectivity',\n",
              " ' induced solely by s',\n",
              " 'teric hindrance. Not',\n",
              " 'ably under practical',\n",
              " ' scenarios, our mode',\n",
              " 'l outperforms 6 expe',\n",
              " 'rimental organic che',\n",
              " 'mists with an averag',\n",
              " 'e working experience',\n",
              " ' of over 10 years in',\n",
              " ' the organic synthes',\n",
              " 'is industry in terms',\n",
              " ' of predicting major',\n",
              " ' products in regiose',\n",
              " 'lective cases. We ha',\n",
              " 've also exemplified ',\n",
              " 'the practical usage ',\n",
              " 'of our model by fixi',\n",
              " 'ng routes designed b',\n",
              " 'y open-access synthe',\n",
              " 'sis planning softwar',\n",
              " 'e and improving reac',\n",
              " 'tions by identifying',\n",
              " ' low-cost starting m',\n",
              " 'aterials. To assist ',\n",
              " 'general chemists in ',\n",
              " 'making prompt decisi',\n",
              " 'ons about regioselec',\n",
              " 'tivity, we have deve',\n",
              " 'loped a free web-bas',\n",
              " 'ed AI-empowered tool',\n",
              " '.']"
            ]
          },
          "metadata": {},
          "execution_count": 2
        }
      ]
    },
    {
      "cell_type": "markdown",
      "source": [
        "### Splitting based on special characters\n",
        "\n",
        "We can improve on this and start splitting by special characters such as \".\" or \"\\n\". This keeps most semantic information in the same chunk. But of course, there can be cases where some information is lost in a previous chunk, sentence when we split by \".\"."
      ],
      "metadata": {
        "id": "jfehDVe606pl"
      }
    },
    {
      "cell_type": "code",
      "source": [
        "text.split(\".\")"
      ],
      "metadata": {
        "colab": {
          "base_uri": "https://localhost:8080/"
        },
        "id": "HVoP1JK308M9",
        "outputId": "0558d6ed-b9ba-46a1-e218-1f6cd2932b63"
      },
      "execution_count": 4,
      "outputs": [
        {
          "output_type": "execute_result",
          "data": {
            "text/plain": [
              "['As a fundamental problem in organic chemistry, synthesis planning aims at designing energy and cost-efficient reaction pathways for target compounds',\n",
              " ' In synthesis planning, it is crucial to understand regioselectivity, or the preference of a reaction over competing reaction sites',\n",
              " ' Precisely predicting regioselectivity enables early exclusion of unproductive reactions and paves the way to designing high-yielding synthetic routes with minimal separation and material costs',\n",
              " ' However, it is still at emerging state to combine chemical knowledge and data-driven methods to make practical predictions for regioselectivity',\n",
              " ' At the same time, metal-catalyzed cross-coupling reactions have profoundly transformed medicinal chemistry, and thus become one of the most frequently encountered types of reactions in synthesis planning',\n",
              " ' In this work, we for the first time introduce a chemical knowledge informed message passing neural network(MPNN) framework that directly identifies the intrinsic major products for metal-catalyzed cross-coupling reactions with regioselective ambiguity',\n",
              " ' Integrating both first principle methods and data-driven methods, our model achieves an overall accuracy of 95',\n",
              " '24\\\\% on the test set of eight typical metal-catalyzed cross-coupling reaction types, including Suzuki-Miyaura, Stille, Sonogashira, Buchwald-Hartwig, Hiyama, Kumada, Negishi, and Heck reactions, outperforming other commonly used model types',\n",
              " ' To integrate electronic effects with steric effects in regioselectivity prediction, we propose a quantitative method to measure the steric hindrance effect',\n",
              " ' Our steric hindrance checker can successfully identify regioselectivity induced solely by steric hindrance',\n",
              " ' Notably under practical scenarios, our model outperforms 6 experimental organic chemists with an average working experience of over 10 years in the organic synthesis industry in terms of predicting major products in regioselective cases',\n",
              " ' We have also exemplified the practical usage of our model by fixing routes designed by open-access synthesis planning software and improving reactions by identifying low-cost starting materials',\n",
              " ' To assist general chemists in making prompt decisions about regioselectivity, we have developed a free web-based AI-empowered tool',\n",
              " '']"
            ]
          },
          "metadata": {},
          "execution_count": 4
        }
      ]
    },
    {
      "cell_type": "markdown",
      "source": [
        "### Overlap between chunks\n",
        "\n",
        "To try to not lose this semantic information too much, we can add some overlap between chunks. This way some information is trickled in from the previous chunk and some from the next. Imagine this as reading the last two lines of the last paragraph and the first two of the next alongside the current paragraph you are reading."
      ],
      "metadata": {
        "id": "usn4EwjU0-37"
      }
    },
    {
      "cell_type": "code",
      "source": [
        "sentences = text.split(\".\")\n",
        "overlap = 15\n",
        "[sentences[i-1][-overlap:] + sentences[i] + sentences[i+1][:5]  for i in range(0, len(sentences)-1)]"
      ],
      "metadata": {
        "colab": {
          "base_uri": "https://localhost:8080/"
        },
        "id": "2ehupwNZ0_rB",
        "outputId": "4c39d3b9-f9c9-4a61-fe66-5ab6d89c3160"
      },
      "execution_count": 5,
      "outputs": [
        {
          "output_type": "execute_result",
          "data": {
            "text/plain": [
              "['As a fundamental problem in organic chemistry, synthesis planning aims at designing energy and cost-efficient reaction pathways for target compounds In s',\n",
              " 'arget compounds In synthesis planning, it is crucial to understand regioselectivity, or the preference of a reaction over competing reaction sites Prec',\n",
              " ' reaction sites Precisely predicting regioselectivity enables early exclusion of unproductive reactions and paves the way to designing high-yielding synthetic routes with minimal separation and material costs Howe',\n",
              " ' material costs However, it is still at emerging state to combine chemical knowledge and data-driven methods to make practical predictions for regioselectivity At t',\n",
              " 'egioselectivity At the same time, metal-catalyzed cross-coupling reactions have profoundly transformed medicinal chemistry, and thus become one of the most frequently encountered types of reactions in synthesis planning In t',\n",
              " 'thesis planning In this work, we for the first time introduce a chemical knowledge informed message passing neural network(MPNN) framework that directly identifies the intrinsic major products for metal-catalyzed cross-coupling reactions with regioselective ambiguity Inte',\n",
              " 'ctive ambiguity Integrating both first principle methods and data-driven methods, our model achieves an overall accuracy of 9524\\\\% ',\n",
              " ' accuracy of 9524\\\\% on the test set of eight typical metal-catalyzed cross-coupling reaction types, including Suzuki-Miyaura, Stille, Sonogashira, Buchwald-Hartwig, Hiyama, Kumada, Negishi, and Heck reactions, outperforming other commonly used model types To i',\n",
              " 'sed model types To integrate electronic effects with steric effects in regioselectivity prediction, we propose a quantitative method to measure the steric hindrance effect Our ',\n",
              " 'indrance effect Our steric hindrance checker can successfully identify regioselectivity induced solely by steric hindrance Nota',\n",
              " 'teric hindrance Notably under practical scenarios, our model outperforms 6 experimental organic chemists with an average working experience of over 10 years in the organic synthesis industry in terms of predicting major products in regioselective cases We h',\n",
              " 'selective cases We have also exemplified the practical usage of our model by fixing routes designed by open-access synthesis planning software and improving reactions by identifying low-cost starting materials To a',\n",
              " 'rting materials To assist general chemists in making prompt decisions about regioselectivity, we have developed a free web-based AI-empowered tool']"
            ]
          },
          "metadata": {},
          "execution_count": 5
        }
      ]
    },
    {
      "cell_type": "markdown",
      "source": [
        "### Embeddings, Vectors, RAG\n",
        "\n",
        "If there are too many chunks to process all of them every time a query is made, a RAG, Retrieval Augmented Generation, approach can be used. This is usually used with a vector database to do a similarity search to find relevant chunks before querying the LLM."
      ],
      "metadata": {
        "id": "34-D1WID1E4o"
      }
    },
    {
      "cell_type": "code",
      "source": [
        "!pip install sentence-transformers chromadb"
      ],
      "metadata": {
        "id": "HjFKpE3p1MRk"
      },
      "execution_count": null,
      "outputs": []
    },
    {
      "cell_type": "code",
      "source": [
        "from sentence_transformers import SentenceTransformer"
      ],
      "metadata": {
        "id": "S0wcB0ZN2Wjh"
      },
      "execution_count": 7,
      "outputs": []
    },
    {
      "cell_type": "markdown",
      "source": [
        "We can use an embedding model to find suitable vectors to represent our vocabulary whether it is words or sentences. These vectors are then stored in a vector database for retrieval later."
      ],
      "metadata": {
        "id": "8MQ1mgVp3DDC"
      }
    },
    {
      "cell_type": "code",
      "source": [
        "model = SentenceTransformer(\"all-MiniLM-L6-v2\")\n",
        "sentences = text.split(\".\")\n",
        "\n",
        "text_embeddings = model.encode(sentences)\n",
        "print(text_embeddings.shape)"
      ],
      "metadata": {
        "id": "KG9jzPrJ1N-8"
      },
      "execution_count": null,
      "outputs": []
    },
    {
      "cell_type": "markdown",
      "source": [
        "ChromaDB is an Open Source Vector Database that we can use for our RAG application to query before the request is sent to the LLM. ChromaDB as default uses the same Sentence Embedding model we used above, \"all-MiniLM-L6-v2\"."
      ],
      "metadata": {
        "id": "ou2osWA9-8FS"
      }
    },
    {
      "cell_type": "code",
      "source": [
        "import chromadb\n",
        "client = chromadb.Client()\n",
        "collection = client.create_collection(name=\"MySentenceStore\")\n",
        "collection.add(documents=sentences, ids=[str(id) for id in range(0, len(sentences))])"
      ],
      "metadata": {
        "id": "Hg9ApDhO2BZj"
      },
      "execution_count": null,
      "outputs": []
    },
    {
      "cell_type": "markdown",
      "source": [
        "Before we send our query to the LLM, we find a relevant chunk from our vector database. In this example, it will give us the sentence most relevant to our question."
      ],
      "metadata": {
        "id": "im0r4ltVgR1T"
      }
    },
    {
      "cell_type": "code",
      "source": [
        "query_results = collection.query(query_texts=[\"What has transformed medicinal chemistry?\"], n_results=1)"
      ],
      "metadata": {
        "id": "D0zUNATh6Uh9"
      },
      "execution_count": 10,
      "outputs": []
    },
    {
      "cell_type": "code",
      "source": [
        "print(query_results[\"documents\"])"
      ],
      "metadata": {
        "colab": {
          "base_uri": "https://localhost:8080/"
        },
        "id": "-9fISosS7RdL",
        "outputId": "a0b267b7-c5f8-4661-c402-b81421e1db4d"
      },
      "execution_count": 11,
      "outputs": [
        {
          "output_type": "stream",
          "name": "stdout",
          "text": [
            "[[' At the same time, metal-catalyzed cross-coupling reactions have profoundly transformed medicinal chemistry, and thus become one of the most frequently encountered types of reactions in synthesis planning']]\n"
          ]
        }
      ]
    }
  ]
}